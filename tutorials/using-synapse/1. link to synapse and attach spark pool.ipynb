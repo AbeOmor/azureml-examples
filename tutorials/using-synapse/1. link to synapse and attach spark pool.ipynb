{
 "cells": [
  {
   "cell_type": "markdown",
   "metadata": {},
   "source": [
    "Copyright (c) Microsoft Corporation. All rights reserved. Licensed under the MIT License."
   ]
  },
  {
   "cell_type": "markdown",
   "metadata": {},
   "source": [
    "# Azure Machine Learning and Synapse integration (Private preview)\n",
    "### Tutorial: Unified experience of big data prep and taxi fare ML prediction\n",
    "\n",
    "In this tutorial, you use Apache Spark pools backed by Synapse to explore and transform NYC Green dataset (~1M rows per month, [details](https://azure.microsoft.com/en-us/services/open-datasets/catalog/nyc-taxi-limousine-commission-green-taxi-trip-records/) for the open dataset) and leverage automated machine learning in Azure Machine Learning to create a regression model to predict NYC taxi fare prices in one single notebook. \n",
    "\n",
    "In this notebook, you learn the following tasks: \n",
    "* Link to Synapse workspace to Azure ML\n",
    "* Attach Synapse Apache Spark pools to Azure ML\n",
    "* Launch spark sessions and prepare big data with PySpark  \n",
    "* Train an automated machine learning regression model on AML compute\n",
    "* Register and deploy the best model \n",
    "\n",
    "\n",
    "**Contents**:\n",
    "* Prerequisites\n",
    "* Setup\n",
    "* Link to Synapse workspace and attach Spark pools\n",
    "* Run machine learning flow from end to end, including data exploration and preparation, traning and model deployment.\n"
   ]
  },
  {
   "cell_type": "markdown",
   "metadata": {},
   "source": [
    "### Prerequisites\n",
    "1. **Get ready in Azure Machine Learning**: \n",
    "    * Create Azure Machine Learing in Azure Portal by following the instructions [here](https://docs.microsoft.com/en-us/azure/machine-learning/how-to-manage-workspace). If you already have Azure ML workspace, skip this step.\n",
    "    * Initiate Azure ML Compute instance (previously called Notebook VM) in order to run sample notebooks by following the [instructions](https://docs.microsoft.com/en-us/azure/machine-learning/concept-compute-instance). If you already have running compute instance, skip this step.\n",
    "\n",
    "\n",
    "2. **Get ready in Azure Synapse**: \n",
    "    * Create a Synapse workspace in Azure Portal by following the instruction [here](https://docs.microsoft.com/azure/synapse-analytics/quickstart-create-workspace). When using Azure Synapse, you only pay for the capabilities you opt in to use. During Synapse public preview, there will not be a cost for provisioning an Azure Synapse workspace. Detailed pricing information can be found in this [site](https://azure.microsoft.com/en-us/pricing/details/synapse-analytics/).\n",
    "    * If you already have Synapse workspace, create Apache Spark pool using Azure Portal, web tools or Synapse Studio. Intructions can be found [ here](https://docs.microsoft.com/en-us/azure/synapse-analytics/quickstart-create-apache-spark-pool-portal). \n",
    "  \n",
    "\n",
    "\n",
    "Note: in private preview, managed system identity is used to submit pipeline/experiment run. However, user credentials are used for notebook execution (interactively launch Spark session in notebook). Please ensure to grant users permission in Synapse if you are trying out cell execution (sample notebook below): in Synapse Studio, go to Manage tab and then Access Control subtab to add user credentials.   \n",
    "   "
   ]
  },
  {
   "cell_type": "markdown",
   "metadata": {},
   "source": [
    "### Setup: packages installation\n",
    "#### Step1: Install Azure ML packages used in this feature\n",
    "\n",
    "Note: please ignore the version error. In private preivew. you need to install azureml-core<0.1.10 . In public preview, the step will be removed."
   ]
  },
  {
   "cell_type": "code",
   "execution_count": null,
   "metadata": {},
   "outputs": [],
   "source": [
    "pip install -U \"azureml-core<0.1.10\" --index-url https://azuremlsdktestpypi.azureedge.net/SynapseInAml/ --extra-index-url https://pypi.python.org/simple"
   ]
  },
  {
   "cell_type": "code",
   "execution_count": null,
   "metadata": {},
   "outputs": [],
   "source": [
    "!pip install -U azureml-synapse --extra-index-url=https://azuremlsdktestpypi.azureedge.net/SynapseInAml"
   ]
  },
  {
   "cell_type": "markdown",
   "metadata": {},
   "source": [
    "For JupyterLab, run the additional installation:"
   ]
  },
  {
   "cell_type": "code",
   "execution_count": null,
   "metadata": {},
   "outputs": [],
   "source": [
    "!jupyter lab build --minimize=False"
   ]
  },
  {
   "cell_type": "markdown",
   "metadata": {},
   "source": [
    "#### Step2: Restart the kernel once you complete pip installaction."
   ]
  },
  {
   "cell_type": "markdown",
   "metadata": {},
   "source": [
    "### Link to Synapse assets\n",
    "#### Step1: Attach User Assigned Identity (resource id of UAI can be found in Azure Portal)\n",
    "To link to Synapse workspace succussfully, grant User Assigned Identity synapse admin role in Synapse Studio "
   ]
  },
  {
   "cell_type": "code",
   "execution_count": null,
   "metadata": {},
   "outputs": [],
   "source": [
    "import datetime  \n",
    "from azureml.core import Workspace, Experiment, Dataset, Environment,Datastore, LinkedWorkspace\n",
    "\n",
    "# The Azure ML workspace information to be used when launching spark session \n",
    "ws = Workspace.from_config()\n",
    "ws\n",
    "\n"
   ]
  },
  {
   "cell_type": "markdown",
   "metadata": {},
   "source": [
    "#### Step2: Register Synaspe worksapce in Azure ML"
   ]
  },
  {
   "cell_type": "code",
   "execution_count": null,
   "metadata": {},
   "outputs": [],
   "source": [
    "linked_workspace = LinkedWorkspace.register(\n",
    "    workspace = ws,              \n",
    "    name = '<Synapse workspace alias in Azure ML>',    \n",
    "    linked_workspace_resource_id = '<Synapse workspace resource ID>', # Synapse workspace resource ID can be found in Synapse Studio\n",
    "\n",
    "\n",
    "# Optional: use unregister() to delink synapse workspace: linked_workspace.unregister()\n",
    "# Optional: use ws.linked_workspaces['synapse workspace alais'] to get linked workspace content "
   ]
  },
 {
   "cell_type": "markdown",
   "metadata": {},
   "source": [
    "####  View all the linked services\n",
    "There is a MSI (system_assigned_identity_principal_id) created for each linked service. Make sure you grant spark admin role of the synapse workspace to MSI in synapse studio before you submit job. "
   ]
  },  
  {
   "cell_type": "code",
   "execution_count": null,
   "metadata": {},
   "outputs": [],
   "source": [
    "LinkedService.list(ws)"
   ]
  },
  
  {
   "cell_type": "markdown",
   "metadata": {},
   "source": [
    "#### Step3: Attach Synapse Apache Spark pools as compute target in Azure ML (one-time set up)\n",
    "Once attached, you can use Spark pools either in notebook or pipeline/experiment run "
   ]
  },
  {
   "cell_type": "code",
   "execution_count": null,
   "metadata": {},
   "outputs": [],
   "source": [
    "from azureml.core.compute import SynapseCompute, ComputeTarget\n",
    "\n",
    "attach_config = SynapseCompute.attach_configuration(\n",
    "        linked_workspace,             #Linked synapse workspace alias\n",
    "        type=\"SynapseSpark\",          #Type of assets to attach. For private preview, only Apache Spark pools are enabled.\n",
    "        pool_name=\"<Synapse Spark pool name>\")       #Name of Synapse spark pool \n",
    "\n",
    "synapse_compute =ComputeTarget.attach(\n",
    "        workspace=ws,                \n",
    "        name='<Synapse pool alias in Azure ML>',         #Alias of attached Synapse Apache Spark pools in Azure ML\n",
    "        attach_configuration=attach_config)\n",
    "\n",
    "synapse_compute.wait_for_completion()\n",
    "\n",
    "# Optional: use ws.compute_targets['Spark pool alias'] to get Spark pool "
   ]
  }
  }
