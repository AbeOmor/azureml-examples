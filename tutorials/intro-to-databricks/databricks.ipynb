{
 "cells": [
  {
   "cell_type": "markdown",
   "metadata": {},
   "source": [
    "## Track Azure Databricks run using MLflow in Azure Machine Learning\n",
    "\n",
    "This is an end to end example on how to train azure databrick run using MLflow in Azure ML and deploy the model to an endpoint in Azure ML for inference\n",
    "\n",
    "   <br />\n",
    "\n",
    "\n",
    "### Connect to Azure ML workspace"
   ]
  },
  {
   "cell_type": "code",
   "execution_count": null,
   "metadata": {},
   "outputs": [],
   "source": [
    "import mlflow\n",
    "import azureml.mlflow\n",
    "import azureml.core\n",
    "\n",
    "from azureml.core import Workspace\n",
    "\n",
    "subscription_id = \"\"\n",
    "\n",
    "# Azure Machine Learning resource group\n",
    "resource_group = \"\"\n",
    "\n",
    "# Azure Machine Learning workspace name\n",
    "workspace_name = \"\"\n",
    "\n",
    "# Instantiate Azure Machine Learning workspace\n",
    "ws = Workspace.get(\n",
    "    name=workspace_name,\n",
    "    subscription_id=subscription_id,\n",
    "    resource_group=resource_group,\n",
    ")\n",
    "ws"
   ]
  },
  {
   "cell_type": "markdown",
   "metadata": {},
   "source": [
    "# Set Mlflow experiment"
   ]
  },
  {
   "cell_type": "code",
   "execution_count": null,
   "metadata": {},
   "outputs": [],
   "source": [
    "import mlflow\n",
    "import azureml.mlflow\n",
    "\n",
    "# Create MLflow experiment.\n",
    "experiment_name = \"/Users/{adb_user_name}/mlflowexp\"\n",
    "\n",
    "from mlflow.exceptions import RestException\n",
    "\n",
    "try:\n",
    "    mlflow.create_experiment(experiment_name)\n",
    "except RestException:\n",
    "    print(f\"{experiment_name} already exists\")"
   ]
  },
  {
   "cell_type": "markdown",
   "metadata": {},
   "source": [
    "## Configure MLFlow tracking URL"
   ]
  },
  {
   "cell_type": "code",
   "execution_count": null,
   "metadata": {},
   "outputs": [],
   "source": [
    "uri = ws.get_mlflow_tracking_uri()\n",
    "mlflow.set_tracking_uri(uri)\n",
    "print(uri)"
   ]
  },
  {
   "cell_type": "code",
   "execution_count": null,
   "metadata": {},
   "outputs": [],
   "source": [
    "# Import the dataset from scikit-learn and create the training and test datasets.\n",
    "from sklearn.model_selection import train_test_split\n",
    "from sklearn.datasets import load_diabetes\n",
    "\n",
    "db = load_diabetes()\n",
    "X = db.data\n",
    "y = db.target\n",
    "X_train, X_test, y_train, y_test = train_test_split(X, y)"
   ]
  },
  {
   "cell_type": "code",
   "execution_count": null,
   "metadata": {},
   "outputs": [],
   "source": [
    "import os\n",
    "import joblib\n",
    "import mlflow\n",
    "import mlflow.sklearn\n",
    "from sklearn.ensemble import RandomForestRegressor\n",
    "from sklearn.metrics import mean_squared_error\n",
    "\n",
    "model_save_path = \"model\"\n",
    "experiment_name = \"experiment-with-mlflow-projects\"\n",
    "mlflow.set_experiment(experiment_name)\n",
    "\n",
    "with mlflow.start_run():\n",
    "    n_estimators = 100\n",
    "    max_depth = 6\n",
    "    max_features = 3\n",
    "    # Create and train model\n",
    "    rf = RandomForestRegressor(\n",
    "        n_estimators=n_estimators,\n",
    "        max_depth=max_depth,\n",
    "        max_features=max_features,\n",
    "    )\n",
    "    rf.fit(X_train, y_train)\n",
    "    # Make predictions\n",
    "    predictions = rf.predict(X_test)\n",
    "\n",
    "    # Log parameters\n",
    "    mlflow.log_param(\"num_trees\", n_estimators)\n",
    "    mlflow.log_param(\"maxdepth\", max_depth)\n",
    "    mlflow.log_param(\"max_feat\", max_features)\n",
    "\n",
    "    # Log model\n",
    "    mlflow.sklearn.log_model(rf, \"random-forest-model\")\n",
    "\n",
    "    # Create metrics\n",
    "    mse = mean_squared_error(y_test, predictions)\n",
    "\n",
    "    # Log metrics\n",
    "    mlflow.log_metric(\"mse\", mse)\n",
    "\n",
    "    # Save the model to the outputs directory for capture\n",
    "    mlflow.sklearn.log_model(rf, model_save_path)"
   ]
  },
  {
   "cell_type": "markdown",
   "metadata": {},
   "source": [
    "## Create AKS cluster\n",
    "\n",
    " Documentation below can be used to use the other options such as ACI or attaching existing cluster.\n",
    "\n",
    "https://docs.microsoft.com/en-us/azure/databricks/_static/notebooks/mlflow/mlflow-quick-start-deployment-azure.html"
   ]
  },
  {
   "cell_type": "code",
   "execution_count": null,
   "metadata": {},
   "outputs": [],
   "source": [
    "from azureml.core.compute import AksCompute, ComputeTarget\n",
    "from azureml.exceptions import ComputeTargetException\n",
    "\n",
    "# Use the default configuration (you can also provide parameters to customize this)\n",
    "prov_config = AksCompute.provisioning_configuration()\n",
    "\n",
    "aks_cluster_name = \"aks-cluster\"\n",
    "\n",
    "try:\n",
    "    aks_target = ComputeTarget(workspace=ws, name=aks_cluster_name)\n",
    "    print(\"Found existing cluster, use it.\")\n",
    "except ComputeTargetException:\n",
    "    # Create the cluster\n",
    "    aks_target = ComputeTarget.create(\n",
    "        workspace=ws,\n",
    "        name=aks_cluster_name,\n",
    "        provisioning_configuration=prov_config,\n",
    "    )\n",
    "\n",
    "    # Wait for the create process to complete\n",
    "    aks_target.wait_for_completion(show_output=True)\n",
    "\n",
    "\n",
    "print(aks_target.provisioning_state)\n",
    "print(aks_target.provisioning_errors)"
   ]
  },
  {
   "cell_type": "markdown",
   "metadata": {},
   "source": [
    "## Retreive Azure ML run ID"
   ]
  },
  {
   "cell_type": "code",
   "execution_count": null,
   "metadata": {},
   "outputs": [],
   "source": [
    "exp = ws.experiments[experiment_name]\n",
    "runs = list(exp.get_runs())\n",
    "print(runs)\n",
    "\n",
    "runid = runs[0].id"
   ]
  },
  {
   "cell_type": "markdown",
   "metadata": {},
   "source": [
    "## Deploy the model to AKS cluster"
   ]
  },
  {
   "cell_type": "code",
   "execution_count": null,
   "metadata": {},
   "outputs": [],
   "source": [
    "from azureml.core.webservice import Webservice, AksWebservice\n",
    "import mlflow.azureml\n",
    "\n",
    "# Set configuration and service name\n",
    "prod_webservice_name = \"model-prod\"\n",
    "prod_webservice_deployment_config = AksWebservice.deploy_configuration(\n",
    "    compute_target_name=\"aks-cluster\"\n",
    ")\n",
    "\n",
    "web_service, azure_model = mlflow.azureml.deploy(\n",
    "    model_uri=\"runs:/{}/{}\".format(runid, model_save_path),\n",
    "    service_name=prod_webservice_name,\n",
    "    deployment_config=prod_webservice_deployment_config,\n",
    "    workspace=ws,\n",
    "    synchronous=True,\n",
    ")"
   ]
  },
  {
   "cell_type": "markdown",
   "metadata": {},
   "source": [
    "## Invoke Webservice"
   ]
  },
  {
   "cell_type": "code",
   "execution_count": null,
   "metadata": {},
   "outputs": [],
   "source": [
    "test_rows = [\n",
    "    [\n",
    "        0.01991321,\n",
    "        0.05068012,\n",
    "        0.10480869,\n",
    "        0.07007254,\n",
    "        -0.03596778,\n",
    "        -0.0266789,\n",
    "        -0.02499266,\n",
    "        -0.00259226,\n",
    "        0.00371174,\n",
    "        0.04034337,\n",
    "    ],\n",
    "    [\n",
    "        -0.01277963,\n",
    "        -0.04464164,\n",
    "        0.06061839,\n",
    "        0.05285819,\n",
    "        0.04796534,\n",
    "        0.02937467,\n",
    "        -0.01762938,\n",
    "        0.03430886,\n",
    "        0.0702113,\n",
    "        0.00720652,\n",
    "    ],\n",
    "    [\n",
    "        0.03807591,\n",
    "        0.05068012,\n",
    "        0.00888341,\n",
    "        0.04252958,\n",
    "        -0.04284755,\n",
    "        -0.02104223,\n",
    "        -0.03971921,\n",
    "        -0.00259226,\n",
    "        -0.01811827,\n",
    "        0.00720652,\n",
    "    ],\n",
    "]\n",
    "\n",
    "import json\n",
    "import pandas as pd\n",
    "\n",
    "test_rows_as_json = pd.DataFrame(test_rows).to_json(orient=\"split\")\n",
    "\n",
    "predictions = web_service.run(test_rows_as_json)\n",
    "print(predictions)"
   ]
  },
  {
   "cell_type": "code",
   "execution_count": null,
   "metadata": {},
   "outputs": [],
   "source": [
    "# Delete mlflow experiment\n",
    "mlflow_exp = mlflow.get_experiment_by_name(experiment_name)\n",
    "mlflow.delete_experiment(mlflow_exp.experiment_id)\n",
    "\n",
    "# Delete webservice\n",
    "web_service.delete()"
   ]
  }
 ],
 "metadata": {
  "name": "mlflow_azureml",
  "notebookId": 4039477032853995
 },
 "nbformat": 4,
 "nbformat_minor": 0
}
