{
 "cells": [
  {
   "cell_type": "markdown",
   "metadata": {},
   "source": [
    "# Distributed XGBoost (CPU)\n",
    "\n",
    "Scaling out on AmlCompute is simple! The code from the previous notebook has been modified and adapted in [src/run.py](src/run.py). In particular, changes include:\n",
    "\n",
    "- import and initialize dask_mpi\n",
    "- use argparse to allow for command line argument inputs\n",
    "- mlflow logging \n",
    "\n",
    "The [environment.yml](environment.yml) contains the conda environment specification."
   ]
  },
  {
   "cell_type": "markdown",
   "metadata": {},
   "source": [
    "## Get Workspace"
   ]
  },
  {
   "cell_type": "code",
   "execution_count": 1,
   "metadata": {},
   "outputs": [
    {
     "name": "stderr",
     "output_type": "stream",
     "text": [
      "Warning: Falling back to use azure cli login credentials.\n",
      "If you run your code in unattended mode, i.e., where you can't give a user input, then we recommend to use ServicePrincipalAuthentication or MsiAuthentication.\n",
      "Please refer to aka.ms/aml-notebook-auth for different authentication mechanisms in azureml-sdk.\n"
     ]
    },
    {
     "data": {
      "text/plain": "Workspace.create(name='default', subscription_id='6560575d-fa06-4e7d-95fb-f962e74efd7a', resource_group='azureml-examples')"
     },
     "execution_count": 1,
     "metadata": {},
     "output_type": "execute_result"
    }
   ],
   "source": [
    "from azureml.core import Workspace\n",
    "\n",
    "ws = Workspace.from_config()\n",
    "ws"
   ]
  },
  {
   "cell_type": "markdown",
   "metadata": {},
   "source": [
    "## Distributed Remotely\n",
    "\n",
    "Simply use ``MpiConfiguration`` with the desired node count."
   ]
  },
  {
   "cell_type": "code",
   "execution_count": 2,
   "metadata": {},
   "outputs": [],
   "source": [
    "from azureml.core import ScriptRunConfig, Experiment, Environment\n",
    "from azureml.core.runconfig import MpiConfiguration\n",
    "\n",
    "arguments = [\"--num_boost_round\", 100, \"--learning_rate\", 0.2, \"--gamma\", 0]\n",
    "env = Environment.from_conda_specification(\"xgboost-cpu-tutorial\", \"environment.yml\")\n",
    "\n",
    "for nodes in range(10, 40+1):\n",
    "    mpi_config = MpiConfiguration(node_count=nodes)\n",
    "    src = ScriptRunConfig(\n",
    "        source_directory=\"src\",\n",
    "        script=\"run.py\",\n",
    "        arguments=arguments,\n",
    "        compute_target=\"cpu-cluster\",\n",
    "        environment=env,\n",
    "        distributed_job_config=mpi_config,\n",
    "    )\n",
    "    run = Experiment(ws, \"dask-xgboost-cpu-benchmark-malware\").submit(src)"
   ]
  }
 ],
 "metadata": {
  "kernelspec": {
   "display_name": "Python 3.8",
   "language": "python",
   "name": "python3.8"
  },
  "language_info": {
   "codemirror_mode": {
    "name": "ipython",
    "version": 3
   },
   "file_extension": ".py",
   "mimetype": "text/x-python",
   "name": "python",
   "nbconvert_exporter": "python",
   "pygments_lexer": "ipython3",
   "version": "3.8.5-final"
  }
 },
 "nbformat": 4,
 "nbformat_minor": 4
}