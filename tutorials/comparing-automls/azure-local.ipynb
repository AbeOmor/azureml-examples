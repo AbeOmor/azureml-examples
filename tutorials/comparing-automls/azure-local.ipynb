{
 "cells": [
  {
   "cell_type": "code",
   "execution_count": 5,
   "metadata": {
    "tags": [
     "outputPrepend"
    ]
   },
   "outputs": [
    {
     "output_type": "stream",
     "name": "stdout",
     "text": [
      "ges (from azureml-core) (2.25.0)\n",
      "Requirement already satisfied, skipping upgrade: jsonpickle in /Users/cody/miniconda3/envs/aautoml/lib/python3.6/site-packages (from azureml-core) (1.4.1)\n",
      "Requirement already satisfied, skipping upgrade: docker in /Users/cody/miniconda3/envs/aautoml/lib/python3.6/site-packages (from azureml-core) (4.3.1)\n",
      "Requirement already satisfied, skipping upgrade: werkzeug<=1.0.1,>=0.16.1 in /Users/cody/miniconda3/envs/aautoml/lib/python3.6/site-packages (from azureml-defaults) (1.0.1)\n",
      "Requirement already satisfied, skipping upgrade: azureml-dataset-runtime[fuse]~=1.18.0 in /Users/cody/miniconda3/envs/aautoml/lib/python3.6/site-packages (from azureml-defaults) (1.18.0)\n",
      "Requirement already satisfied, skipping upgrade: configparser==3.7.4 in /Users/cody/miniconda3/envs/aautoml/lib/python3.6/site-packages (from azureml-defaults) (3.7.4)\n",
      "Requirement already satisfied, skipping upgrade: applicationinsights>=0.11.7 in /Users/cody/miniconda3/envs/aautoml/lib/python3.6/site-packages (from azureml-defaults) (0.11.9)\n",
      "Requirement already satisfied, skipping upgrade: azureml-model-management-sdk==1.0.1b6.post1 in /Users/cody/miniconda3/envs/aautoml/lib/python3.6/site-packages (from azureml-defaults) (1.0.1b6.post1)\n",
      "Collecting gunicorn==19.9.0\n",
      "  Downloading gunicorn-19.9.0-py2.py3-none-any.whl (112 kB)\n",
      "\u001b[K     |████████████████████████████████| 112 kB 4.2 MB/s \n",
      "\u001b[?25hRequirement already satisfied, skipping upgrade: json-logging-py==0.2 in /Users/cody/miniconda3/envs/aautoml/lib/python3.6/site-packages (from azureml-defaults) (0.2)\n",
      "Collecting flask==1.0.3\n",
      "  Downloading Flask-1.0.3-py2.py3-none-any.whl (92 kB)\n",
      "\u001b[K     |████████████████████████████████| 92 kB 13.4 MB/s \n",
      "\u001b[?25hRequirement already satisfied, skipping upgrade: cloudpickle<2.0.0,>=1.1.0 in /Users/cody/miniconda3/envs/aautoml/lib/python3.6/site-packages (from azureml-dataprep) (1.6.0)\n",
      "Requirement already satisfied, skipping upgrade: azure-identity<1.5.0,>=1.2.0 in /Users/cody/miniconda3/envs/aautoml/lib/python3.6/site-packages (from azureml-dataprep) (1.4.1)\n",
      "Requirement already satisfied, skipping upgrade: azureml-dataprep-rslex<1.5.0a,>=1.4.0dev0 in /Users/cody/miniconda3/envs/aautoml/lib/python3.6/site-packages (from azureml-dataprep) (1.4.0)\n",
      "Requirement already satisfied, skipping upgrade: dotnetcore2<3.0.0,>=2.1.14 in /Users/cody/miniconda3/envs/aautoml/lib/python3.6/site-packages (from azureml-dataprep) (2.1.19)\n",
      "Requirement already satisfied, skipping upgrade: azureml-dataprep-native<27.0.0,>=26.0.0 in /Users/cody/miniconda3/envs/aautoml/lib/python3.6/site-packages (from azureml-dataprep) (26.0.0)\n",
      "Requirement already satisfied, skipping upgrade: mlflow>=1.0.0 in /Users/cody/miniconda3/envs/aautoml/lib/python3.6/site-packages (from azureml-mlflow) (1.12.1)\n",
      "Requirement already satisfied, skipping upgrade: azureml-train-automl-runtime~=1.18.0 in /Users/cody/miniconda3/envs/aautoml/lib/python3.6/site-packages (from azureml-train-automl) (1.18.0.post1)\n",
      "Requirement already satisfied, skipping upgrade: azureml-automl-core~=1.18.0 in /Users/cody/miniconda3/envs/aautoml/lib/python3.6/site-packages (from azureml-train-automl) (1.18.0.post1)\n",
      "Requirement already satisfied, skipping upgrade: azureml-train-automl-client~=1.18.0 in /Users/cody/miniconda3/envs/aautoml/lib/python3.6/site-packages (from azureml-train-automl) (1.18.0)\n",
      "Requirement already satisfied, skipping upgrade: gensim<3.9.0 in /Users/cody/miniconda3/envs/aautoml/lib/python3.6/site-packages (from azureml-automl-runtime) (3.8.3)\n",
      "Requirement already satisfied, skipping upgrade: onnxconverter-common<=1.6.0,>=1.4.2 in /Users/cody/miniconda3/envs/aautoml/lib/python3.6/site-packages (from azureml-automl-runtime) (1.6.0)\n",
      "Requirement already satisfied, skipping upgrade: smart-open<=1.9.0 in /Users/cody/miniconda3/envs/aautoml/lib/python3.6/site-packages (from azureml-automl-runtime) (1.9.0)\n",
      "Requirement already satisfied, skipping upgrade: onnxmltools==1.4.1 in /Users/cody/miniconda3/envs/aautoml/lib/python3.6/site-packages (from azureml-automl-runtime) (1.4.1)\n",
      "Requirement already satisfied, skipping upgrade: psutil<6.0.0,>=5.2.2 in /Users/cody/miniconda3/envs/aautoml/lib/python3.6/site-packages (from azureml-automl-runtime) (5.7.3)\n",
      "Requirement already satisfied, skipping upgrade: boto3<=1.15.18 in /Users/cody/miniconda3/envs/aautoml/lib/python3.6/site-packages (from azureml-automl-runtime) (1.15.18)\n",
      "Requirement already satisfied, skipping upgrade: keras2onnx<=1.6.0,>=1.4.0 in /Users/cody/miniconda3/envs/aautoml/lib/python3.6/site-packages (from azureml-automl-runtime) (1.6.0)\n",
      "Requirement already satisfied, skipping upgrade: onnxruntime==1.3.0 in /Users/cody/miniconda3/envs/aautoml/lib/python3.6/site-packages (from azureml-automl-runtime) (1.3.0)\n",
      "Requirement already satisfied, skipping upgrade: statsmodels<=0.10.2,>=0.9.0 in /Users/cody/miniconda3/envs/aautoml/lib/python3.6/site-packages (from azureml-automl-runtime) (0.10.2)\n",
      "Requirement already satisfied, skipping upgrade: skl2onnx==1.4.9 in /Users/cody/miniconda3/envs/aautoml/lib/python3.6/site-packages (from azureml-automl-runtime) (1.4.9)\n",
      "Requirement already satisfied, skipping upgrade: onnx<=1.7.0,>=1.5.0 in /Users/cody/miniconda3/envs/aautoml/lib/python3.6/site-packages (from azureml-automl-runtime) (1.7.0)\n",
      "Requirement already satisfied, skipping upgrade: botocore<=1.18.18 in /Users/cody/miniconda3/envs/aautoml/lib/python3.6/site-packages (from azureml-automl-runtime) (1.18.18)\n",
      "Requirement already satisfied, skipping upgrade: pandas<1.0.0,>=0.21.0 in /Users/cody/miniconda3/envs/aautoml/lib/python3.6/site-packages (from azureml-automl-runtime) (0.25.3)\n",
      "Requirement already satisfied, skipping upgrade: sklearn-pandas<=1.7.0,>=1.4.0 in /Users/cody/miniconda3/envs/aautoml/lib/python3.6/site-packages (from azureml-automl-runtime) (1.7.0)\n",
      "Requirement already satisfied, skipping upgrade: scipy<=1.5.2,>=1.0.0 in /Users/cody/miniconda3/envs/aautoml/lib/python3.6/site-packages (from azureml-automl-runtime) (1.5.2)\n",
      "Requirement already satisfied, skipping upgrade: lightgbm<=2.3.0,>=2.0.11 in /Users/cody/miniconda3/envs/aautoml/lib/python3.6/site-packages (from azureml-automl-runtime) (2.3.0)\n",
      "Requirement already satisfied, skipping upgrade: pmdarima==1.1.1 in /Users/cody/miniconda3/envs/aautoml/lib/python3.6/site-packages (from azureml-automl-runtime) (1.1.1)\n",
      "Requirement already satisfied, skipping upgrade: py-cpuinfo==5.0.0 in /Users/cody/miniconda3/envs/aautoml/lib/python3.6/site-packages (from azureml-automl-runtime) (5.0.0)\n",
      "Requirement already satisfied, skipping upgrade: nimbusml<=1.8.0,>=1.7.1 in /Users/cody/miniconda3/envs/aautoml/lib/python3.6/site-packages (from azureml-automl-runtime) (1.8.0)\n",
      "Requirement already satisfied, skipping upgrade: numpy<1.19.0,>=1.16.0 in /Users/cody/miniconda3/envs/aautoml/lib/python3.6/site-packages (from azureml-automl-runtime) (1.18.5)\n",
      "Requirement already satisfied, skipping upgrade: dill<0.4.0,>=0.2.8 in /Users/cody/miniconda3/envs/aautoml/lib/python3.6/site-packages (from azureml-automl-runtime) (0.3.3)\n",
      "Requirement already satisfied, skipping upgrade: scikit-learn<0.23.0,>=0.19.0 in /Users/cody/miniconda3/envs/aautoml/lib/python3.6/site-packages (from azureml-automl-runtime) (0.22.2.post1)\n",
      "Requirement already satisfied, skipping upgrade: joblib==0.14.1 in /Users/cody/miniconda3/envs/aautoml/lib/python3.6/site-packages (from azureml-automl-runtime) (0.14.1)\n",
      "Requirement already satisfied, skipping upgrade: six>=1.5.2 in /Users/cody/miniconda3/envs/aautoml/lib/python3.6/site-packages (from pyopenssl<20.0.0->azureml-core) (1.15.0)\n",
      "Requirement already satisfied, skipping upgrade: backports.weakref in /Users/cody/miniconda3/envs/aautoml/lib/python3.6/site-packages (from backports.tempfile->azureml-core) (1.0.post1)\n",
      "Requirement already satisfied, skipping upgrade: ruamel.yaml.clib>=0.1.2; platform_python_implementation == \"CPython\" and python_version < \"3.9\" in /Users/cody/miniconda3/envs/aautoml/lib/python3.6/site-packages (from ruamel.yaml>=0.15.35->azureml-core) (0.2.2)\n",
      "Requirement already satisfied, skipping upgrade: cffi!=1.11.3,>=1.8 in /Users/cody/miniconda3/envs/aautoml/lib/python3.6/site-packages (from cryptography!=1.9,!=2.0.*,!=2.1.*,!=2.2.*->azureml-core) (1.14.3)\n",
      "Requirement already satisfied, skipping upgrade: jeepney>=0.4.2 in /Users/cody/miniconda3/envs/aautoml/lib/python3.6/site-packages (from SecretStorage->azureml-core) (0.6.0)\n",
      "Requirement already satisfied, skipping upgrade: isodate>=0.6.0 in /Users/cody/miniconda3/envs/aautoml/lib/python3.6/site-packages (from msrest>=0.5.1->azureml-core) (0.6.0)\n",
      "Requirement already satisfied, skipping upgrade: certifi>=2017.4.17 in /Users/cody/miniconda3/envs/aautoml/lib/python3.6/site-packages (from msrest>=0.5.1->azureml-core) (2020.6.20)\n",
      "Requirement already satisfied, skipping upgrade: requests-oauthlib>=0.5.0 in /Users/cody/miniconda3/envs/aautoml/lib/python3.6/site-packages (from msrest>=0.5.1->azureml-core) (1.3.0)\n",
      "Requirement already satisfied, skipping upgrade: pyasn1>=0.1.1 in /Users/cody/miniconda3/envs/aautoml/lib/python3.6/site-packages (from ndg-httpsclient->azureml-core) (0.4.8)\n",
      "Requirement already satisfied, skipping upgrade: chardet<4,>=3.0.2 in /Users/cody/miniconda3/envs/aautoml/lib/python3.6/site-packages (from requests>=2.19.1->azureml-core) (3.0.4)\n",
      "Requirement already satisfied, skipping upgrade: idna<3,>=2.5 in /Users/cody/miniconda3/envs/aautoml/lib/python3.6/site-packages (from requests>=2.19.1->azureml-core) (2.10)\n",
      "Requirement already satisfied, skipping upgrade: importlib-metadata in /Users/cody/miniconda3/envs/aautoml/lib/python3.6/site-packages (from jsonpickle->azureml-core) (2.0.0)\n",
      "Requirement already satisfied, skipping upgrade: websocket-client>=0.32.0 in /Users/cody/miniconda3/envs/aautoml/lib/python3.6/site-packages (from docker->azureml-core) (0.57.0)\n",
      "Requirement already satisfied, skipping upgrade: pyarrow<2.0.0,>=0.17.0 in /Users/cody/miniconda3/envs/aautoml/lib/python3.6/site-packages (from azureml-dataset-runtime[fuse]~=1.18.0->azureml-defaults) (1.0.1)\n",
      "Requirement already satisfied, skipping upgrade: fusepy<4.0.0,>=3.0.1; extra == \"fuse\" in /Users/cody/miniconda3/envs/aautoml/lib/python3.6/site-packages (from azureml-dataset-runtime[fuse]~=1.18.0->azureml-defaults) (3.0.1)\n",
      "Requirement already satisfied, skipping upgrade: liac-arff>=2.1.1 in /Users/cody/miniconda3/envs/aautoml/lib/python3.6/site-packages (from azureml-model-management-sdk==1.0.1b6.post1->azureml-defaults) (2.5.0)\n",
      "Requirement already satisfied, skipping upgrade: Jinja2>=2.10 in /Users/cody/miniconda3/envs/aautoml/lib/python3.6/site-packages (from flask==1.0.3->azureml-defaults) (2.11.2)\n",
      "Requirement already satisfied, skipping upgrade: itsdangerous>=0.24 in /Users/cody/miniconda3/envs/aautoml/lib/python3.6/site-packages (from flask==1.0.3->azureml-defaults) (1.1.0)\n",
      "Requirement already satisfied, skipping upgrade: click>=5.1 in /Users/cody/miniconda3/envs/aautoml/lib/python3.6/site-packages (from flask==1.0.3->azureml-defaults) (7.1.2)\n",
      "Requirement already satisfied, skipping upgrade: msal<2.0.0,>=1.3.0 in /Users/cody/miniconda3/envs/aautoml/lib/python3.6/site-packages (from azure-identity<1.5.0,>=1.2.0->azureml-dataprep) (1.6.0)\n",
      "Requirement already satisfied, skipping upgrade: msal-extensions~=0.2.2 in /Users/cody/miniconda3/envs/aautoml/lib/python3.6/site-packages (from azure-identity<1.5.0,>=1.2.0->azureml-dataprep) (0.2.2)\n",
      "Requirement already satisfied, skipping upgrade: azure-core<2.0.0,>=1.0.0 in /Users/cody/miniconda3/envs/aautoml/lib/python3.6/site-packages (from azure-identity<1.5.0,>=1.2.0->azureml-dataprep) (1.9.0)\n",
      "Requirement already satisfied, skipping upgrade: distro>=1.2.0 in /Users/cody/miniconda3/envs/aautoml/lib/python3.6/site-packages (from dotnetcore2<3.0.0,>=2.1.14->azureml-dataprep) (1.5.0)\n",
      "Requirement already satisfied, skipping upgrade: gitpython>=2.1.0 in /Users/cody/miniconda3/envs/aautoml/lib/python3.6/site-packages (from mlflow>=1.0.0->azureml-mlflow) (3.1.11)\n",
      "Requirement already satisfied, skipping upgrade: pyyaml in /Users/cody/miniconda3/envs/aautoml/lib/python3.6/site-packages (from mlflow>=1.0.0->azureml-mlflow) (5.3.1)\n",
      "Requirement already satisfied, skipping upgrade: protobuf>=3.6.0 in /Users/cody/miniconda3/envs/aautoml/lib/python3.6/site-packages (from mlflow>=1.0.0->azureml-mlflow) (3.14.0)\n",
      "Requirement already satisfied, skipping upgrade: databricks-cli>=0.8.7 in /Users/cody/miniconda3/envs/aautoml/lib/python3.6/site-packages (from mlflow>=1.0.0->azureml-mlflow) (0.14.0)\n",
      "Requirement already satisfied, skipping upgrade: sqlparse>=0.3.1 in /Users/cody/miniconda3/envs/aautoml/lib/python3.6/site-packages (from mlflow>=1.0.0->azureml-mlflow) (0.4.1)\n",
      "Requirement already satisfied, skipping upgrade: entrypoints in /Users/cody/miniconda3/envs/aautoml/lib/python3.6/site-packages (from mlflow>=1.0.0->azureml-mlflow) (0.3)\n",
      "Requirement already satisfied, skipping upgrade: sqlalchemy in /Users/cody/miniconda3/envs/aautoml/lib/python3.6/site-packages (from mlflow>=1.0.0->azureml-mlflow) (1.3.20)\n",
      "Requirement already satisfied, skipping upgrade: azure-storage-blob in /Users/cody/miniconda3/envs/aautoml/lib/python3.6/site-packages (from mlflow>=1.0.0->azureml-mlflow) (12.6.0)\n",
      "Requirement already satisfied, skipping upgrade: querystring-parser in /Users/cody/miniconda3/envs/aautoml/lib/python3.6/site-packages (from mlflow>=1.0.0->azureml-mlflow) (1.2.4)\n",
      "Requirement already satisfied, skipping upgrade: alembic<=1.4.1 in /Users/cody/miniconda3/envs/aautoml/lib/python3.6/site-packages (from mlflow>=1.0.0->azureml-mlflow) (1.4.1)\n",
      "Requirement already satisfied, skipping upgrade: prometheus-flask-exporter in /Users/cody/miniconda3/envs/aautoml/lib/python3.6/site-packages (from mlflow>=1.0.0->azureml-mlflow) (0.18.1)\n",
      "Requirement already satisfied, skipping upgrade: azure-storage-queue~=12.1 in /Users/cody/miniconda3/envs/aautoml/lib/python3.6/site-packages (from azureml-train-automl-runtime~=1.18.0->azureml-train-automl) (12.1.4)\n",
      "Requirement already satisfied, skipping upgrade: azureml-interpret~=1.18.0 in /Users/cody/miniconda3/envs/aautoml/lib/python3.6/site-packages (from azureml-train-automl-runtime~=1.18.0->azureml-train-automl) (1.18.0)\n",
      "Requirement already satisfied, skipping upgrade: azureml-telemetry~=1.18.0 in /Users/cody/miniconda3/envs/aautoml/lib/python3.6/site-packages (from azureml-train-automl-runtime~=1.18.0->azureml-train-automl) (1.18.0)\n",
      "Requirement already satisfied, skipping upgrade: boto>=2.32 in /Users/cody/miniconda3/envs/aautoml/lib/python3.6/site-packages (from smart-open<=1.9.0->azureml-automl-runtime) (2.49.0)\n",
      "Requirement already satisfied, skipping upgrade: s3transfer<0.4.0,>=0.3.0 in /Users/cody/miniconda3/envs/aautoml/lib/python3.6/site-packages (from boto3<=1.15.18->azureml-automl-runtime) (0.3.3)\n",
      "Requirement already satisfied, skipping upgrade: fire in /Users/cody/miniconda3/envs/aautoml/lib/python3.6/site-packages (from keras2onnx<=1.6.0,>=1.4.0->azureml-automl-runtime) (0.3.1)\n",
      "Requirement already satisfied, skipping upgrade: patsy>=0.4.0 in /Users/cody/miniconda3/envs/aautoml/lib/python3.6/site-packages (from statsmodels<=0.10.2,>=0.9.0->azureml-automl-runtime) (0.5.1)\n",
      "Requirement already satisfied, skipping upgrade: typing-extensions>=3.6.2.1 in /Users/cody/miniconda3/envs/aautoml/lib/python3.6/site-packages (from onnx<=1.7.0,>=1.5.0->azureml-automl-runtime) (3.7.4.3)\n",
      "Requirement already satisfied, skipping upgrade: Cython>=0.29 in /Users/cody/miniconda3/envs/aautoml/lib/python3.6/site-packages (from pmdarima==1.1.1->azureml-automl-runtime) (0.29.21)\n",
      "Requirement already satisfied, skipping upgrade: pycparser in /Users/cody/miniconda3/envs/aautoml/lib/python3.6/site-packages (from cffi!=1.11.3,>=1.8->cryptography!=1.9,!=2.0.*,!=2.1.*,!=2.2.*->azureml-core) (2.20)\n",
      "Requirement already satisfied, skipping upgrade: oauthlib>=3.0.0 in /Users/cody/miniconda3/envs/aautoml/lib/python3.6/site-packages (from requests-oauthlib>=0.5.0->msrest>=0.5.1->azureml-core) (3.1.0)\n",
      "Requirement already satisfied, skipping upgrade: zipp>=0.5 in /Users/cody/miniconda3/envs/aautoml/lib/python3.6/site-packages (from importlib-metadata->jsonpickle->azureml-core) (3.4.0)\n",
      "Requirement already satisfied, skipping upgrade: MarkupSafe>=0.23 in /Users/cody/miniconda3/envs/aautoml/lib/python3.6/site-packages (from Jinja2>=2.10->flask==1.0.3->azureml-defaults) (1.1.1)\n",
      "Requirement already satisfied, skipping upgrade: portalocker~=1.0; platform_system != \"Windows\" in /Users/cody/miniconda3/envs/aautoml/lib/python3.6/site-packages (from msal-extensions~=0.2.2->azure-identity<1.5.0,>=1.2.0->azureml-dataprep) (1.7.1)\n",
      "Requirement already satisfied, skipping upgrade: gitdb<5,>=4.0.1 in /Users/cody/miniconda3/envs/aautoml/lib/python3.6/site-packages (from gitpython>=2.1.0->mlflow>=1.0.0->azureml-mlflow) (4.0.5)\n",
      "Requirement already satisfied, skipping upgrade: tabulate>=0.7.7 in /Users/cody/miniconda3/envs/aautoml/lib/python3.6/site-packages (from databricks-cli>=0.8.7->mlflow>=1.0.0->azureml-mlflow) (0.8.7)\n",
      "Requirement already satisfied, skipping upgrade: python-editor>=0.3 in /Users/cody/miniconda3/envs/aautoml/lib/python3.6/site-packages (from alembic<=1.4.1->mlflow>=1.0.0->azureml-mlflow) (1.0.4)\n",
      "Requirement already satisfied, skipping upgrade: Mako in /Users/cody/miniconda3/envs/aautoml/lib/python3.6/site-packages (from alembic<=1.4.1->mlflow>=1.0.0->azureml-mlflow) (1.1.3)\n",
      "Requirement already satisfied, skipping upgrade: prometheus-client in /Users/cody/miniconda3/envs/aautoml/lib/python3.6/site-packages (from prometheus-flask-exporter->mlflow>=1.0.0->azureml-mlflow) (0.9.0)\n",
      "Requirement already satisfied, skipping upgrade: interpret-community==0.15.* in /Users/cody/miniconda3/envs/aautoml/lib/python3.6/site-packages (from azureml-interpret~=1.18.0->azureml-train-automl-runtime~=1.18.0->azureml-train-automl) (0.15.3)\n",
      "Requirement already satisfied, skipping upgrade: termcolor in /Users/cody/miniconda3/envs/aautoml/lib/python3.6/site-packages (from fire->keras2onnx<=1.6.0,>=1.4.0->azureml-automl-runtime) (1.1.0)\n",
      "Requirement already satisfied, skipping upgrade: smmap<4,>=3.0.1 in /Users/cody/miniconda3/envs/aautoml/lib/python3.6/site-packages (from gitdb<5,>=4.0.1->gitpython>=2.1.0->mlflow>=1.0.0->azureml-mlflow) (3.0.4)\n",
      "Requirement already satisfied, skipping upgrade: interpret-core[required]<=0.2.1,>=0.1.20 in /Users/cody/miniconda3/envs/aautoml/lib/python3.6/site-packages (from interpret-community==0.15.*->azureml-interpret~=1.18.0->azureml-train-automl-runtime~=1.18.0->azureml-train-automl) (0.2.1)\n",
      "Requirement already satisfied, skipping upgrade: shap<=0.34.0,>=0.20.0 in /Users/cody/miniconda3/envs/aautoml/lib/python3.6/site-packages (from interpret-community==0.15.*->azureml-interpret~=1.18.0->azureml-train-automl-runtime~=1.18.0->azureml-train-automl) (0.34.0)\n",
      "Requirement already satisfied, skipping upgrade: packaging in /Users/cody/miniconda3/envs/aautoml/lib/python3.6/site-packages (from interpret-community==0.15.*->azureml-interpret~=1.18.0->azureml-train-automl-runtime~=1.18.0->azureml-train-automl) (20.4)\n",
      "Requirement already satisfied, skipping upgrade: tqdm>4.25.0 in /Users/cody/miniconda3/envs/aautoml/lib/python3.6/site-packages (from shap<=0.34.0,>=0.20.0->interpret-community==0.15.*->azureml-interpret~=1.18.0->azureml-train-automl-runtime~=1.18.0->azureml-train-automl) (4.52.0)\n",
      "Requirement already satisfied, skipping upgrade: pyparsing>=2.0.2 in /Users/cody/miniconda3/envs/aautoml/lib/python3.6/site-packages (from packaging->interpret-community==0.15.*->azureml-interpret~=1.18.0->azureml-train-automl-runtime~=1.18.0->azureml-train-automl) (2.4.7)\n",
      "Installing collected packages: gunicorn, flask\n",
      "  Attempting uninstall: gunicorn\n",
      "    Found existing installation: gunicorn 20.0.4\n",
      "    Uninstalling gunicorn-20.0.4:\n",
      "      Successfully uninstalled gunicorn-20.0.4\n",
      "  Attempting uninstall: flask\n",
      "    Found existing installation: Flask 1.1.2\n",
      "    Uninstalling Flask-1.1.2:\n",
      "      Successfully uninstalled Flask-1.1.2\n",
      "Successfully installed flask-1.0.3 gunicorn-19.9.0\n"
     ]
    }
   ],
   "source": [
    "!pip install --upgrade azureml-core azureml-defaults azureml-dataprep azureml-mlflow azureml-train-automl azureml-automl-runtime"
   ]
  },
  {
   "source": [
    "## Azure AutoML local"
   ],
   "cell_type": "markdown",
   "metadata": {}
  },
  {
   "cell_type": "code",
   "execution_count": 6,
   "metadata": {},
   "outputs": [
    {
     "output_type": "execute_result",
     "data": {
      "text/plain": [
       "Workspace.create(name='default', subscription_id='6560575d-fa06-4e7d-95fb-f962e74efd7a', resource_group='azureml-examples')"
      ]
     },
     "metadata": {},
     "execution_count": 6
    }
   ],
   "source": [
    "from azureml.core import Workspace\n",
    "\n",
    "ws = Workspace.from_config()\n",
    "ws"
   ]
  },
  {
   "cell_type": "code",
   "execution_count": 7,
   "metadata": {},
   "outputs": [
    {
     "output_type": "execute_result",
     "data": {
      "text/plain": [
       "{\n",
       "  \"source\": [\n",
       "    \"https://azuremlexamples.blob.core.windows.net/datasets/iris.csv\"\n",
       "  ],\n",
       "  \"definition\": [\n",
       "    \"GetFiles\",\n",
       "    \"ParseDelimited\",\n",
       "    \"DropColumns\",\n",
       "    \"SetColumnTypes\"\n",
       "  ]\n",
       "}"
      ]
     },
     "metadata": {},
     "execution_count": 7
    }
   ],
   "source": [
    "from azureml.core import Dataset \n",
    "\n",
    "tab = Dataset.Tabular.from_delimited_files([\"https://azuremlexamples.blob.core.windows.net/datasets/iris.csv\"])\n",
    "tab"
   ]
  },
  {
   "cell_type": "code",
   "execution_count": 15,
   "metadata": {},
   "outputs": [
    {
     "output_type": "stream",
     "name": "stdout",
     "text": [
      "Found existing installation: Flask 1.0.3\n",
      "Uninstalling Flask-1.0.3:\n",
      "  Successfully uninstalled Flask-1.0.3\n",
      "Found existing installation: gunicorn 19.9.0\n",
      "Uninstalling gunicorn-19.9.0:\n",
      "  Successfully uninstalled gunicorn-19.9.0\n",
      "Found existing installation: azureml-defaults 1.18.0\n",
      "Uninstalling azureml-defaults-1.18.0:\n",
      "  Successfully uninstalled azureml-defaults-1.18.0\n",
      "Collecting flask==1.0.3\n",
      "  Using cached Flask-1.0.3-py2.py3-none-any.whl (92 kB)\n",
      "Collecting gunicorn==19.9.0\n",
      "  Using cached gunicorn-19.9.0-py2.py3-none-any.whl (112 kB)\n",
      "Requirement already satisfied: Werkzeug>=0.14 in /Users/cody/miniconda3/envs/aautoml/lib/python3.6/site-packages (from flask==1.0.3) (1.0.1)\n",
      "Requirement already satisfied: click>=5.1 in /Users/cody/miniconda3/envs/aautoml/lib/python3.6/site-packages (from flask==1.0.3) (7.1.2)\n",
      "Requirement already satisfied: Jinja2>=2.10 in /Users/cody/miniconda3/envs/aautoml/lib/python3.6/site-packages (from flask==1.0.3) (2.11.2)\n",
      "Requirement already satisfied: itsdangerous>=0.24 in /Users/cody/miniconda3/envs/aautoml/lib/python3.6/site-packages (from flask==1.0.3) (1.1.0)\n",
      "Requirement already satisfied: MarkupSafe>=0.23 in /Users/cody/miniconda3/envs/aautoml/lib/python3.6/site-packages (from Jinja2>=2.10->flask==1.0.3) (1.1.1)\n",
      "Installing collected packages: flask, gunicorn\n",
      "Successfully installed flask-1.0.3 gunicorn-19.9.0\n"
     ]
    }
   ],
   "source": [
    "!pip uninstall -y flask gunicorn azureml-defaults\n",
    "!pip install \"flask==1.0.3\" \"gunicorn==19.9.0\""
   ]
  },
  {
   "cell_type": "code",
   "execution_count": 16,
   "metadata": {},
   "outputs": [
    {
     "output_type": "error",
     "ename": "ValidationException",
     "evalue": "ValidationException:\n\tMessage: Install the required versions of packages using the requirements file. Requirements file location: /Users/cody/miniconda3/envs/aautoml/lib/python3.6/site-packages/azureml/automl/core/validated_darwin_requirements.txt. Alternatively, use remote target to avoid dependency management. \nPackage name/Required version/Installed version\nazureml-defaults/flask==1.0.3/Flask 1.1.2\nazureml-defaults/gunicorn==19.9.0/gunicorn 20.0.4\n\tInnerException: None\n\tErrorResponse \n{\n    \"error\": {\n        \"code\": \"UserError\",\n        \"message\": \"Install the required versions of packages using the requirements file. Requirements file location: /Users/cody/miniconda3/envs/aautoml/lib/python3.6/site-packages/azureml/automl/core/validated_darwin_requirements.txt. Alternatively, use remote target to avoid dependency management. \\nPackage name/Required version/Installed version\\nazureml-defaults/flask==1.0.3/Flask 1.1.2\\nazureml-defaults/gunicorn==19.9.0/gunicorn 20.0.4\",\n        \"target\": \"azureml-defaults\",\n        \"inner_error\": {\n            \"code\": \"NotSupported\",\n            \"inner_error\": {\n                \"code\": \"IncompatibleOrMissingDependency\"\n            }\n        },\n        \"reference_code\": \"435ab938-fd87-49bc-932e-6eec0d6aee4f\"\n    }\n}",
     "traceback": [
      "\u001b[0;31m---------------------------------------------------------------------------\u001b[0m",
      "\u001b[0;31mValidationException\u001b[0m                       Traceback (most recent call last)",
      "\u001b[0;32m<timed exec>\u001b[0m in \u001b[0;36m<module>\u001b[0;34m\u001b[0m\n",
      "\u001b[0;32m~/miniconda3/envs/aautoml/lib/python3.6/site-packages/azureml/core/experiment.py\u001b[0m in \u001b[0;36msubmit\u001b[0;34m(self, config, tags, **kwargs)\u001b[0m\n\u001b[1;32m    217\u001b[0m         \u001b[0msubmit_func\u001b[0m \u001b[0;34m=\u001b[0m \u001b[0mget_experiment_submit\u001b[0m\u001b[0;34m(\u001b[0m\u001b[0mconfig\u001b[0m\u001b[0;34m)\u001b[0m\u001b[0;34m\u001b[0m\u001b[0;34m\u001b[0m\u001b[0m\n\u001b[1;32m    218\u001b[0m         \u001b[0;32mwith\u001b[0m \u001b[0mself\u001b[0m\u001b[0;34m.\u001b[0m\u001b[0m_log_context\u001b[0m\u001b[0;34m(\u001b[0m\u001b[0;34m\"submit config {}\"\u001b[0m\u001b[0;34m.\u001b[0m\u001b[0mformat\u001b[0m\u001b[0;34m(\u001b[0m\u001b[0mconfig\u001b[0m\u001b[0;34m.\u001b[0m\u001b[0m__class__\u001b[0m\u001b[0;34m.\u001b[0m\u001b[0m__name__\u001b[0m\u001b[0;34m)\u001b[0m\u001b[0;34m)\u001b[0m\u001b[0;34m:\u001b[0m\u001b[0;34m\u001b[0m\u001b[0;34m\u001b[0m\u001b[0m\n\u001b[0;32m--> 219\u001b[0;31m             \u001b[0mrun\u001b[0m \u001b[0;34m=\u001b[0m \u001b[0msubmit_func\u001b[0m\u001b[0;34m(\u001b[0m\u001b[0mconfig\u001b[0m\u001b[0;34m,\u001b[0m \u001b[0mself\u001b[0m\u001b[0;34m.\u001b[0m\u001b[0mworkspace\u001b[0m\u001b[0;34m,\u001b[0m \u001b[0mself\u001b[0m\u001b[0;34m.\u001b[0m\u001b[0mname\u001b[0m\u001b[0;34m,\u001b[0m \u001b[0;34m**\u001b[0m\u001b[0mkwargs\u001b[0m\u001b[0;34m)\u001b[0m\u001b[0;34m\u001b[0m\u001b[0;34m\u001b[0m\u001b[0m\n\u001b[0m\u001b[1;32m    220\u001b[0m         \u001b[0;32mif\u001b[0m \u001b[0mtags\u001b[0m \u001b[0;32mis\u001b[0m \u001b[0;32mnot\u001b[0m \u001b[0;32mNone\u001b[0m\u001b[0;34m:\u001b[0m\u001b[0;34m\u001b[0m\u001b[0;34m\u001b[0m\u001b[0m\n\u001b[1;32m    221\u001b[0m             \u001b[0mrun\u001b[0m\u001b[0;34m.\u001b[0m\u001b[0mset_tags\u001b[0m\u001b[0;34m(\u001b[0m\u001b[0mtags\u001b[0m\u001b[0;34m)\u001b[0m\u001b[0;34m\u001b[0m\u001b[0;34m\u001b[0m\u001b[0m\n",
      "\u001b[0;32m~/miniconda3/envs/aautoml/lib/python3.6/site-packages/azureml/train/automl/automlconfig.py\u001b[0m in \u001b[0;36m_automl_static_submit\u001b[0;34m(automl_config_object, workspace, experiment_name, **kwargs)\u001b[0m\n\u001b[1;32m    106\u001b[0m             \u001b[0mcompute_target\u001b[0m\u001b[0;34m,\u001b[0m\u001b[0;34m\u001b[0m\u001b[0;34m\u001b[0m\u001b[0m\n\u001b[1;32m    107\u001b[0m             \u001b[0mparent_run_id\u001b[0m\u001b[0;34m,\u001b[0m\u001b[0;34m\u001b[0m\u001b[0;34m\u001b[0m\u001b[0m\n\u001b[0;32m--> 108\u001b[0;31m             show_output)\n\u001b[0m\u001b[1;32m    109\u001b[0m \u001b[0;34m\u001b[0m\u001b[0m\n\u001b[1;32m    110\u001b[0m         \u001b[0mautoml_run\u001b[0m\u001b[0;34m.\u001b[0m\u001b[0madd_properties\u001b[0m\u001b[0;34m(\u001b[0m\u001b[0mglobal_tracking_info_registry\u001b[0m\u001b[0;34m.\u001b[0m\u001b[0mgather_all\u001b[0m\u001b[0;34m(\u001b[0m\u001b[0msettings\u001b[0m\u001b[0;34m.\u001b[0m\u001b[0mpath\u001b[0m\u001b[0;34m)\u001b[0m\u001b[0;34m)\u001b[0m\u001b[0;34m\u001b[0m\u001b[0;34m\u001b[0m\u001b[0m\n",
      "\u001b[0;32m~/miniconda3/envs/aautoml/lib/python3.6/site-packages/azureml/train/automl/automlconfig.py\u001b[0m in \u001b[0;36m_start_execution\u001b[0;34m(experiment, settings_obj, fit_params, run_config, compute_target, parent_run_id, show_output)\u001b[0m\n\u001b[1;32m    261\u001b[0m             package_utilities._get_package_incompatibilities(\n\u001b[1;32m    262\u001b[0m                 \u001b[0mpackages\u001b[0m\u001b[0;34m=\u001b[0m\u001b[0mpackage_utilities\u001b[0m\u001b[0;34m.\u001b[0m\u001b[0mAUTOML_PACKAGES\u001b[0m\u001b[0;34m,\u001b[0m\u001b[0;34m\u001b[0m\u001b[0;34m\u001b[0m\u001b[0m\n\u001b[0;32m--> 263\u001b[0;31m                 \u001b[0mignored_dependencies\u001b[0m\u001b[0;34m=\u001b[0m\u001b[0mpackage_utilities\u001b[0m\u001b[0;34m.\u001b[0m\u001b[0m_PACKAGES_TO_IGNORE_VERSIONS\u001b[0m\u001b[0;34m\u001b[0m\u001b[0;34m\u001b[0m\u001b[0m\n\u001b[0m\u001b[1;32m    264\u001b[0m             )\n\u001b[1;32m    265\u001b[0m         \u001b[0mautoml_run\u001b[0m \u001b[0;34m=\u001b[0m \u001b[0m_default_execution\u001b[0m\u001b[0;34m(\u001b[0m\u001b[0mexperiment\u001b[0m\u001b[0;34m,\u001b[0m \u001b[0msettings_obj\u001b[0m\u001b[0;34m,\u001b[0m \u001b[0mfit_params\u001b[0m\u001b[0;34m,\u001b[0m \u001b[0;32mTrue\u001b[0m\u001b[0;34m,\u001b[0m \u001b[0mshow_output\u001b[0m\u001b[0;34m,\u001b[0m \u001b[0mparent_run_id\u001b[0m\u001b[0;34m)\u001b[0m\u001b[0;34m\u001b[0m\u001b[0;34m\u001b[0m\u001b[0m\n",
      "\u001b[0;32m~/miniconda3/envs/aautoml/lib/python3.6/site-packages/azureml/automl/core/package_utilities.py\u001b[0m in \u001b[0;36m_get_package_incompatibilities\u001b[0;34m(packages, ignored_dependencies, is_databricks_run)\u001b[0m\n\u001b[1;32m    392\u001b[0m                         \u001b[0mmissing_packages_message\u001b[0m\u001b[0;34m=\u001b[0m\u001b[0;34m'\\n'\u001b[0m\u001b[0;34m.\u001b[0m\u001b[0mjoin\u001b[0m\u001b[0;34m(\u001b[0m\u001b[0mmessages\u001b[0m\u001b[0;34m)\u001b[0m\u001b[0;34m,\u001b[0m\u001b[0;34m\u001b[0m\u001b[0;34m\u001b[0m\u001b[0m\n\u001b[1;32m    393\u001b[0m                         \u001b[0mreference_code\u001b[0m\u001b[0;34m=\u001b[0m\u001b[0mReferenceCodes\u001b[0m\u001b[0;34m.\u001b[0m\u001b[0m_PACKAGE_INCOMPATIBILITIES_FOUND\u001b[0m\u001b[0;34m,\u001b[0m\u001b[0;34m\u001b[0m\u001b[0;34m\u001b[0m\u001b[0m\n\u001b[0;32m--> 394\u001b[0;31m                         \u001b[0mvalidated_requirements_file_path\u001b[0m\u001b[0;34m=\u001b[0m\u001b[0mVALIDATED_REQ_FILE_PATH\u001b[0m\u001b[0;34m\u001b[0m\u001b[0;34m\u001b[0m\u001b[0m\n\u001b[0m\u001b[1;32m    395\u001b[0m                     )\n\u001b[1;32m    396\u001b[0m                 )\n",
      "\u001b[0;31mValidationException\u001b[0m: ValidationException:\n\tMessage: Install the required versions of packages using the requirements file. Requirements file location: /Users/cody/miniconda3/envs/aautoml/lib/python3.6/site-packages/azureml/automl/core/validated_darwin_requirements.txt. Alternatively, use remote target to avoid dependency management. \nPackage name/Required version/Installed version\nazureml-defaults/flask==1.0.3/Flask 1.1.2\nazureml-defaults/gunicorn==19.9.0/gunicorn 20.0.4\n\tInnerException: None\n\tErrorResponse \n{\n    \"error\": {\n        \"code\": \"UserError\",\n        \"message\": \"Install the required versions of packages using the requirements file. Requirements file location: /Users/cody/miniconda3/envs/aautoml/lib/python3.6/site-packages/azureml/automl/core/validated_darwin_requirements.txt. Alternatively, use remote target to avoid dependency management. \\nPackage name/Required version/Installed version\\nazureml-defaults/flask==1.0.3/Flask 1.1.2\\nazureml-defaults/gunicorn==19.9.0/gunicorn 20.0.4\",\n        \"target\": \"azureml-defaults\",\n        \"inner_error\": {\n            \"code\": \"NotSupported\",\n            \"inner_error\": {\n                \"code\": \"IncompatibleOrMissingDependency\"\n            }\n        },\n        \"reference_code\": \"435ab938-fd87-49bc-932e-6eec0d6aee4f\"\n    }\n}"
     ]
    }
   ],
   "source": [
    "%%time\n",
    "\n",
    "from azureml.train.automl import AutoMLConfig\n",
    "\n",
    "config = AutoMLConfig(\n",
    "    task=\"classification\",\n",
    "    compute_target=\"local\",\n",
    "    training_data=tab,\n",
    "    label_column_name=\"species\"\n",
    ")\n",
    "\n",
    "from azureml.core import Experiment\n",
    "\n",
    "run = Experiment(ws, \"automl-unittled\").submit(config, show_output=True)\n",
    "run"
   ]
  },
  {
   "cell_type": "code",
   "execution_count": null,
   "metadata": {},
   "outputs": [],
   "source": []
  }
 ],
 "metadata": {
  "kernelspec": {
   "name": "python3",
   "display_name": "Python 3.6.12 64-bit ('aautoml': conda)",
   "metadata": {
    "interpreter": {
     "hash": "96c813090c1e1553edf84cea39dc699a1ed2d8fc5654566b4e2da5d0743fce33"
    }
   }
  },
  "language_info": {
   "codemirror_mode": {
    "name": "ipython",
    "version": 3
   },
   "file_extension": ".py",
   "mimetype": "text/x-python",
   "name": "python",
   "nbconvert_exporter": "python",
   "pygments_lexer": "ipython3",
   "version": "3.6.12-final"
  }
 },
 "nbformat": 4,
 "nbformat_minor": 2
}