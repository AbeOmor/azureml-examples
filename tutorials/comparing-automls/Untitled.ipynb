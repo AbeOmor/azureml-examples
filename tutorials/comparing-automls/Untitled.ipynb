{
 "cells": [
  {
   "cell_type": "markdown",
   "metadata": {},
   "source": [
    "## Install required packages"
   ]
  },
  {
   "cell_type": "code",
   "execution_count": 5,
   "metadata": {
    "tags": [
     "outputPrepend"
    ]
   },
   "outputs": [
    {
     "output_type": "stream",
     "name": "stderr",
     "text": [
      "packages (from azureml-automl-runtime~=1.18.0->azureml-train-automl) (1.6.0)\n",
      "Requirement already satisfied, skipping upgrade: skl2onnx==1.4.9 in /Users/cody/miniconda3/envs/automl/lib/python3.7/site-packages (from azureml-automl-runtime~=1.18.0->azureml-train-automl) (1.4.9)\n",
      "Requirement already satisfied, skipping upgrade: sklearn-pandas<=1.7.0,>=1.4.0 in /Users/cody/miniconda3/envs/automl/lib/python3.7/site-packages (from azureml-automl-runtime~=1.18.0->azureml-train-automl) (1.7.0)\n",
      "Requirement already satisfied, skipping upgrade: dill<0.4.0,>=0.2.8 in /Users/cody/miniconda3/envs/automl/lib/python3.7/site-packages (from azureml-automl-runtime~=1.18.0->azureml-train-automl) (0.3.3)\n",
      "Requirement already satisfied, skipping upgrade: keras2onnx<=1.6.0,>=1.4.0 in /Users/cody/miniconda3/envs/automl/lib/python3.7/site-packages (from azureml-automl-runtime~=1.18.0->azureml-train-automl) (1.6.0)\n",
      "Requirement already satisfied, skipping upgrade: azureml-interpret~=1.18.0 in /Users/cody/miniconda3/envs/automl/lib/python3.7/site-packages (from azureml-train-automl-runtime~=1.18.0->azureml-train-automl) (1.18.0)\n",
      "Requirement already satisfied, skipping upgrade: azure-storage-queue~=12.1 in /Users/cody/miniconda3/envs/automl/lib/python3.7/site-packages (from azureml-train-automl-runtime~=1.18.0->azureml-train-automl) (12.1.4)\n",
      "Requirement already satisfied, skipping upgrade: azureml-defaults~=1.18.0 in /Users/cody/miniconda3/envs/automl/lib/python3.7/site-packages (from azureml-train-automl-runtime~=1.18.0->azureml-train-automl) (1.18.0)\n",
      "Requirement already satisfied, skipping upgrade: pyarrow<2.0.0,>=0.17.0 in /Users/cody/miniconda3/envs/automl/lib/python3.7/site-packages (from azureml-dataset-runtime[fuse,pandas]~=1.18.0->azureml-train-automl) (1.0.1)\n",
      "Requirement already satisfied, skipping upgrade: fusepy<4.0.0,>=3.0.1; extra == \"fuse\" in /Users/cody/miniconda3/envs/automl/lib/python3.7/site-packages (from azureml-dataset-runtime[fuse,pandas]~=1.18.0->azureml-train-automl) (3.0.1)\n",
      "Requirement already satisfied, skipping upgrade: importlib-metadata in /Users/cody/miniconda3/envs/automl/lib/python3.7/site-packages (from jsonpickle->azureml-mlflow) (2.0.0)\n",
      "Requirement already satisfied, skipping upgrade: jeepney>=0.4.2 in /Users/cody/miniconda3/envs/automl/lib/python3.7/site-packages (from SecretStorage->azureml-core) (0.6.0)\n",
      "Requirement already satisfied, skipping upgrade: pyasn1>=0.1.1 in /Users/cody/miniconda3/envs/automl/lib/python3.7/site-packages (from ndg-httpsclient->azureml-core) (0.4.8)\n",
      "Requirement already satisfied, skipping upgrade: cffi!=1.11.3,>=1.8 in /Users/cody/miniconda3/envs/automl/lib/python3.7/site-packages (from cryptography!=1.9,!=2.0.*,!=2.1.*,!=2.2.*->azureml-core) (1.14.3)\n",
      "Requirement already satisfied, skipping upgrade: ruamel.yaml.clib>=0.1.2; platform_python_implementation == \"CPython\" and python_version < \"3.9\" in /Users/cody/miniconda3/envs/automl/lib/python3.7/site-packages (from ruamel.yaml>=0.15.35->azureml-core) (0.2.2)\n",
      "Requirement already satisfied, skipping upgrade: websocket-client>=0.32.0 in /Users/cody/miniconda3/envs/automl/lib/python3.7/site-packages (from docker->azureml-core) (0.57.0)\n",
      "Requirement already satisfied, skipping upgrade: certifi>=2017.4.17 in /Users/cody/miniconda3/envs/automl/lib/python3.7/site-packages (from msrest>=0.5.1->azureml-core) (2020.6.20)\n",
      "Requirement already satisfied, skipping upgrade: requests-oauthlib>=0.5.0 in /Users/cody/miniconda3/envs/automl/lib/python3.7/site-packages (from msrest>=0.5.1->azureml-core) (1.3.0)\n",
      "Requirement already satisfied, skipping upgrade: isodate>=0.6.0 in /Users/cody/miniconda3/envs/automl/lib/python3.7/site-packages (from msrest>=0.5.1->azureml-core) (0.6.0)\n",
      "Requirement already satisfied, skipping upgrade: backports.weakref in /Users/cody/miniconda3/envs/automl/lib/python3.7/site-packages (from backports.tempfile->azureml-core) (1.0.post1)\n",
      "Requirement already satisfied, skipping upgrade: idna<3,>=2.5 in /Users/cody/miniconda3/envs/automl/lib/python3.7/site-packages (from requests>=2.19.1->azureml-core) (2.10)\n",
      "Requirement already satisfied, skipping upgrade: chardet<4,>=3.0.2 in /Users/cody/miniconda3/envs/automl/lib/python3.7/site-packages (from requests>=2.19.1->azureml-core) (3.0.4)\n",
      "Requirement already satisfied, skipping upgrade: msal-extensions~=0.2.2 in /Users/cody/miniconda3/envs/automl/lib/python3.7/site-packages (from azure-identity<1.5.0,>=1.2.0->azureml-dataprep) (0.2.2)\n",
      "Requirement already satisfied, skipping upgrade: azure-core<2.0.0,>=1.0.0 in /Users/cody/miniconda3/envs/automl/lib/python3.7/site-packages (from azure-identity<1.5.0,>=1.2.0->azureml-dataprep) (1.9.0)\n",
      "Requirement already satisfied, skipping upgrade: msal<2.0.0,>=1.3.0 in /Users/cody/miniconda3/envs/automl/lib/python3.7/site-packages (from azure-identity<1.5.0,>=1.2.0->azureml-dataprep) (1.6.0)\n",
      "Requirement already satisfied, skipping upgrade: distro>=1.2.0 in /Users/cody/miniconda3/envs/automl/lib/python3.7/site-packages (from dotnetcore2<3.0.0,>=2.1.14->azureml-dataprep) (1.5.0)\n",
      "Requirement already satisfied, skipping upgrade: applicationinsights in /Users/cody/miniconda3/envs/automl/lib/python3.7/site-packages (from azureml-telemetry~=1.18.0->azureml-widgets) (0.11.9)\n",
      "Requirement already satisfied, skipping upgrade: jupyter-core in /Users/cody/miniconda3/envs/automl/lib/python3.7/site-packages (from nbformat>=4.2.0->ipywidgets->pycaret) (4.7.0)\n",
      "Requirement already satisfied, skipping upgrade: jsonschema!=2.5.0,>=2.4 in /Users/cody/miniconda3/envs/automl/lib/python3.7/site-packages (from nbformat>=4.2.0->ipywidgets->pycaret) (3.2.0)\n",
      "Requirement already satisfied, skipping upgrade: ipython-genutils in /Users/cody/miniconda3/envs/automl/lib/python3.7/site-packages (from nbformat>=4.2.0->ipywidgets->pycaret) (0.2.0)\n",
      "Requirement already satisfied, skipping upgrade: notebook>=4.4.1 in /Users/cody/miniconda3/envs/automl/lib/python3.7/site-packages (from widgetsnbextension~=3.5.0->ipywidgets->pycaret) (6.1.5)\n",
      "Requirement already satisfied, skipping upgrade: tornado>=4.2 in /Users/cody/miniconda3/envs/automl/lib/python3.7/site-packages (from ipykernel>=4.5.1->ipywidgets->pycaret) (6.1)\n",
      "Requirement already satisfied, skipping upgrade: jupyter-client in /Users/cody/miniconda3/envs/automl/lib/python3.7/site-packages (from ipykernel>=4.5.1->ipywidgets->pycaret) (6.1.7)\n",
      "Requirement already satisfied, skipping upgrade: MarkupSafe>=0.23 in /Users/cody/miniconda3/envs/automl/lib/python3.7/site-packages (from jinja2>=2.11.1->pandas-profiling>=2.8.0->pycaret) (1.1.1)\n",
      "Requirement already satisfied, skipping upgrade: networkx>=2.4 in /Users/cody/miniconda3/envs/automl/lib/python3.7/site-packages (from visions[type_image_path]==0.5.0->pandas-profiling>=2.8.0->pycaret) (2.5)\n",
      "Requirement already satisfied, skipping upgrade: imagehash; extra == \"type_image_path\" in /Users/cody/miniconda3/envs/automl/lib/python3.7/site-packages (from visions[type_image_path]==0.5.0->pandas-profiling>=2.8.0->pycaret) (4.2.0)\n",
      "Requirement already satisfied, skipping upgrade: parso<0.8.0,>=0.7.0 in /Users/cody/miniconda3/envs/automl/lib/python3.7/site-packages (from jedi>=0.10->IPython->pycaret) (0.7.1)\n",
      "Requirement already satisfied, skipping upgrade: wcwidth in /Users/cody/miniconda3/envs/automl/lib/python3.7/site-packages (from prompt-toolkit!=3.0.0,!=3.0.1,<3.1.0,>=2.0.0->IPython->pycaret) (0.2.5)\n",
      "Requirement already satisfied, skipping upgrade: ptyprocess>=0.5 in /Users/cody/miniconda3/envs/automl/lib/python3.7/site-packages (from pexpect>4.3; sys_platform != \"win32\"->IPython->pycaret) (0.6.0)\n",
      "Requirement already satisfied, skipping upgrade: patsy>=0.5 in /Users/cody/miniconda3/envs/automl/lib/python3.7/site-packages (from statsmodels->pyod->pycaret) (0.5.1)\n",
      "Requirement already satisfied, skipping upgrade: llvmlite<0.35,>=0.34.0.dev0 in /Users/cody/miniconda3/envs/automl/lib/python3.7/site-packages (from numba>=0.35->pyod->pycaret) (0.34.0)\n",
      "Requirement already satisfied, skipping upgrade: prometheus-client in /Users/cody/miniconda3/envs/automl/lib/python3.7/site-packages (from prometheus-flask-exporter->mlflow->pycaret) (0.9.0)\n",
      "Requirement already satisfied, skipping upgrade: gitdb<5,>=4.0.1 in /Users/cody/miniconda3/envs/automl/lib/python3.7/site-packages (from gitpython>=2.1.0->mlflow->pycaret) (4.0.5)\n",
      "Requirement already satisfied, skipping upgrade: tabulate>=0.7.7 in /Users/cody/miniconda3/envs/automl/lib/python3.7/site-packages (from databricks-cli>=0.8.7->mlflow->pycaret) (0.8.7)\n",
      "Requirement already satisfied, skipping upgrade: python-editor>=0.3 in /Users/cody/miniconda3/envs/automl/lib/python3.7/site-packages (from alembic<=1.4.1->mlflow->pycaret) (1.0.4)\n",
      "Requirement already satisfied, skipping upgrade: Mako in /Users/cody/miniconda3/envs/automl/lib/python3.7/site-packages (from alembic<=1.4.1->mlflow->pycaret) (1.1.3)\n",
      "Requirement already satisfied, skipping upgrade: itsdangerous>=0.24 in /Users/cody/miniconda3/envs/automl/lib/python3.7/site-packages (from Flask->mlflow->pycaret) (1.1.0)\n",
      "Requirement already satisfied, skipping upgrade: Werkzeug>=0.15 in /Users/cody/miniconda3/envs/automl/lib/python3.7/site-packages (from Flask->mlflow->pycaret) (1.0.1)\n",
      "Requirement already satisfied, skipping upgrade: iniconfig in /Users/cody/miniconda3/envs/automl/lib/python3.7/site-packages (from pytest->pyLDAvis->pycaret) (1.1.1)\n",
      "Requirement already satisfied, skipping upgrade: toml in /Users/cody/miniconda3/envs/automl/lib/python3.7/site-packages (from pytest->pyLDAvis->pycaret) (0.10.2)\n",
      "Requirement already satisfied, skipping upgrade: py>=1.8.2 in /Users/cody/miniconda3/envs/automl/lib/python3.7/site-packages (from pytest->pyLDAvis->pycaret) (1.9.0)\n",
      "Requirement already satisfied, skipping upgrade: packaging in /Users/cody/miniconda3/envs/automl/lib/python3.7/site-packages (from pytest->pyLDAvis->pycaret) (20.4)\n",
      "Requirement already satisfied, skipping upgrade: pluggy<1.0,>=0.12 in /Users/cody/miniconda3/envs/automl/lib/python3.7/site-packages (from pytest->pyLDAvis->pycaret) (0.13.1)\n",
      "Requirement already satisfied, skipping upgrade: s3transfer<0.4.0,>=0.3.0 in /Users/cody/miniconda3/envs/automl/lib/python3.7/site-packages (from boto3<=1.15.18->azureml-automl-runtime~=1.18.0->azureml-train-automl) (0.3.3)\n",
      "Requirement already satisfied, skipping upgrade: typing-extensions>=3.6.2.1 in /Users/cody/miniconda3/envs/automl/lib/python3.7/site-packages (from onnx<=1.7.0,>=1.5.0->azureml-automl-runtime~=1.18.0->azureml-train-automl) (3.7.4.3)\n",
      "Requirement already satisfied, skipping upgrade: Cython>=0.29 in /Users/cody/miniconda3/envs/automl/lib/python3.7/site-packages (from pmdarima==1.1.1->azureml-automl-runtime~=1.18.0->azureml-train-automl) (0.29.21)\n",
      "Requirement already satisfied, skipping upgrade: fire in /Users/cody/miniconda3/envs/automl/lib/python3.7/site-packages (from keras2onnx<=1.6.0,>=1.4.0->azureml-automl-runtime~=1.18.0->azureml-train-automl) (0.3.1)\n",
      "Requirement already satisfied, skipping upgrade: interpret-community==0.15.* in /Users/cody/miniconda3/envs/automl/lib/python3.7/site-packages (from azureml-interpret~=1.18.0->azureml-train-automl-runtime~=1.18.0->azureml-train-automl) (0.15.3)\n",
      "Requirement already satisfied, skipping upgrade: json-logging-py==0.2 in /Users/cody/miniconda3/envs/automl/lib/python3.7/site-packages (from azureml-defaults~=1.18.0->azureml-train-automl-runtime~=1.18.0->azureml-train-automl) (0.2)\n",
      "Requirement already satisfied, skipping upgrade: azureml-model-management-sdk==1.0.1b6.post1 in /Users/cody/miniconda3/envs/automl/lib/python3.7/site-packages (from azureml-defaults~=1.18.0->azureml-train-automl-runtime~=1.18.0->azureml-train-automl) (1.0.1b6.post1)\n",
      "Requirement already satisfied, skipping upgrade: configparser==3.7.4 in /Users/cody/miniconda3/envs/automl/lib/python3.7/site-packages (from azureml-defaults~=1.18.0->azureml-train-automl-runtime~=1.18.0->azureml-train-automl) (3.7.4)\n",
      "Requirement already satisfied, skipping upgrade: zipp>=0.5 in /Users/cody/miniconda3/envs/automl/lib/python3.7/site-packages (from importlib-metadata->jsonpickle->azureml-mlflow) (3.4.0)\n",
      "Requirement already satisfied, skipping upgrade: pycparser in /Users/cody/miniconda3/envs/automl/lib/python3.7/site-packages (from cffi!=1.11.3,>=1.8->cryptography!=1.9,!=2.0.*,!=2.1.*,!=2.2.*->azureml-core) (2.20)\n",
      "Requirement already satisfied, skipping upgrade: oauthlib>=3.0.0 in /Users/cody/miniconda3/envs/automl/lib/python3.7/site-packages (from requests-oauthlib>=0.5.0->msrest>=0.5.1->azureml-core) (3.1.0)\n",
      "Requirement already satisfied, skipping upgrade: portalocker~=1.0; platform_system != \"Windows\" in /Users/cody/miniconda3/envs/automl/lib/python3.7/site-packages (from msal-extensions~=0.2.2->azure-identity<1.5.0,>=1.2.0->azureml-dataprep) (1.7.1)\n",
      "Requirement already satisfied, skipping upgrade: pyrsistent>=0.14.0 in /Users/cody/miniconda3/envs/automl/lib/python3.7/site-packages (from jsonschema!=2.5.0,>=2.4->nbformat>=4.2.0->ipywidgets->pycaret) (0.17.3)\n",
      "Requirement already satisfied, skipping upgrade: terminado>=0.8.3 in /Users/cody/miniconda3/envs/automl/lib/python3.7/site-packages (from notebook>=4.4.1->widgetsnbextension~=3.5.0->ipywidgets->pycaret) (0.9.1)\n",
      "Requirement already satisfied, skipping upgrade: nbconvert in /Users/cody/miniconda3/envs/automl/lib/python3.7/site-packages (from notebook>=4.4.1->widgetsnbextension~=3.5.0->ipywidgets->pycaret) (6.0.7)\n",
      "Requirement already satisfied, skipping upgrade: pyzmq>=17 in /Users/cody/miniconda3/envs/automl/lib/python3.7/site-packages (from notebook>=4.4.1->widgetsnbextension~=3.5.0->ipywidgets->pycaret) (20.0.0)\n",
      "Requirement already satisfied, skipping upgrade: Send2Trash in /Users/cody/miniconda3/envs/automl/lib/python3.7/site-packages (from notebook>=4.4.1->widgetsnbextension~=3.5.0->ipywidgets->pycaret) (1.5.0)\n",
      "Requirement already satisfied, skipping upgrade: argon2-cffi in /Users/cody/miniconda3/envs/automl/lib/python3.7/site-packages (from notebook>=4.4.1->widgetsnbextension~=3.5.0->ipywidgets->pycaret) (20.1.0)\n",
      "Requirement already satisfied, skipping upgrade: PyWavelets in /Users/cody/miniconda3/envs/automl/lib/python3.7/site-packages (from imagehash; extra == \"type_image_path\"->visions[type_image_path]==0.5.0->pandas-profiling>=2.8.0->pycaret) (1.1.1)\n",
      "Requirement already satisfied, skipping upgrade: smmap<4,>=3.0.1 in /Users/cody/miniconda3/envs/automl/lib/python3.7/site-packages (from gitdb<5,>=4.0.1->gitpython>=2.1.0->mlflow->pycaret) (3.0.4)\n",
      "Requirement already satisfied, skipping upgrade: termcolor in /Users/cody/miniconda3/envs/automl/lib/python3.7/site-packages (from fire->keras2onnx<=1.6.0,>=1.4.0->azureml-automl-runtime~=1.18.0->azureml-train-automl) (1.1.0)\n",
      "Requirement already satisfied, skipping upgrade: shap<=0.34.0,>=0.20.0 in /Users/cody/miniconda3/envs/automl/lib/python3.7/site-packages (from interpret-community==0.15.*->azureml-interpret~=1.18.0->azureml-train-automl-runtime~=1.18.0->azureml-train-automl) (0.34.0)\n",
      "Requirement already satisfied, skipping upgrade: interpret-core[required]<=0.2.1,>=0.1.20 in /Users/cody/miniconda3/envs/automl/lib/python3.7/site-packages (from interpret-community==0.15.*->azureml-interpret~=1.18.0->azureml-train-automl-runtime~=1.18.0->azureml-train-automl) (0.2.1)\n",
      "Requirement already satisfied, skipping upgrade: liac-arff>=2.1.1 in /Users/cody/miniconda3/envs/automl/lib/python3.7/site-packages (from azureml-model-management-sdk==1.0.1b6.post1->azureml-defaults~=1.18.0->azureml-train-automl-runtime~=1.18.0->azureml-train-automl) (2.5.0)\n",
      "Requirement already satisfied, skipping upgrade: pandocfilters>=1.4.1 in /Users/cody/miniconda3/envs/automl/lib/python3.7/site-packages (from nbconvert->notebook>=4.4.1->widgetsnbextension~=3.5.0->ipywidgets->pycaret) (1.4.3)\n",
      "Requirement already satisfied, skipping upgrade: mistune<2,>=0.8.1 in /Users/cody/miniconda3/envs/automl/lib/python3.7/site-packages (from nbconvert->notebook>=4.4.1->widgetsnbextension~=3.5.0->ipywidgets->pycaret) (0.8.4)\n",
      "Requirement already satisfied, skipping upgrade: bleach in /Users/cody/miniconda3/envs/automl/lib/python3.7/site-packages (from nbconvert->notebook>=4.4.1->widgetsnbextension~=3.5.0->ipywidgets->pycaret) (3.2.1)\n",
      "Requirement already satisfied, skipping upgrade: nbclient<0.6.0,>=0.5.0 in /Users/cody/miniconda3/envs/automl/lib/python3.7/site-packages (from nbconvert->notebook>=4.4.1->widgetsnbextension~=3.5.0->ipywidgets->pycaret) (0.5.1)\n",
      "Requirement already satisfied, skipping upgrade: testpath in /Users/cody/miniconda3/envs/automl/lib/python3.7/site-packages (from nbconvert->notebook>=4.4.1->widgetsnbextension~=3.5.0->ipywidgets->pycaret) (0.4.4)\n",
      "Requirement already satisfied, skipping upgrade: jupyterlab-pygments in /Users/cody/miniconda3/envs/automl/lib/python3.7/site-packages (from nbconvert->notebook>=4.4.1->widgetsnbextension~=3.5.0->ipywidgets->pycaret) (0.1.2)\n",
      "Requirement already satisfied, skipping upgrade: defusedxml in /Users/cody/miniconda3/envs/automl/lib/python3.7/site-packages (from nbconvert->notebook>=4.4.1->widgetsnbextension~=3.5.0->ipywidgets->pycaret) (0.6.0)\n",
      "Requirement already satisfied, skipping upgrade: webencodings in /Users/cody/miniconda3/envs/automl/lib/python3.7/site-packages (from bleach->nbconvert->notebook>=4.4.1->widgetsnbextension~=3.5.0->ipywidgets->pycaret) (0.5.1)\n",
      "Requirement already satisfied, skipping upgrade: nest-asyncio in /Users/cody/miniconda3/envs/automl/lib/python3.7/site-packages (from nbclient<0.6.0,>=0.5.0->nbconvert->notebook>=4.4.1->widgetsnbextension~=3.5.0->ipywidgets->pycaret) (1.4.3)\n",
      "Requirement already satisfied, skipping upgrade: async-generator in /Users/cody/miniconda3/envs/automl/lib/python3.7/site-packages (from nbclient<0.6.0,>=0.5.0->nbconvert->notebook>=4.4.1->widgetsnbextension~=3.5.0->ipywidgets->pycaret) (1.10)\n",
      "Installing collected packages: azureml-dataprep-rslex, azureml-dataprep-native, azureml-dataprep, azureml-widgets\n",
      "  Attempting uninstall: azureml-dataprep-rslex\n",
      "    Found existing installation: azureml-dataprep-rslex 1.2.3\n",
      "    Uninstalling azureml-dataprep-rslex-1.2.3:\n",
      "      Successfully uninstalled azureml-dataprep-rslex-1.2.3\n",
      "  Attempting uninstall: azureml-dataprep-native\n",
      "    Found existing installation: azureml-dataprep-native 24.0.0\n",
      "    Uninstalling azureml-dataprep-native-24.0.0:\n",
      "      Successfully uninstalled azureml-dataprep-native-24.0.0\n",
      "  Attempting uninstall: azureml-dataprep\n",
      "    Found existing installation: azureml-dataprep 2.4.4\n",
      "    Uninstalling azureml-dataprep-2.4.4:\n",
      "      Successfully uninstalled azureml-dataprep-2.4.4\n",
      "\u001b[31mERROR: After October 2020 you may experience errors when installing or updating packages. This is because pip will change the way that it resolves dependency conflicts.\n",
      "\n",
      "We recommend you use --use-feature=2020-resolver to test your packages with the new resolver before it becomes the default.\n",
      "\n",
      "azureml-dataset-runtime 1.18.0 requires azureml-dataprep<2.5.0a,>=2.4.0a, but you'll have azureml-dataprep 2.6.0 which is incompatible.\n",
      "azureml-automl-runtime 1.18.0.post1 requires joblib==0.14.1, but you'll have joblib 0.17.0 which is incompatible.\n",
      "azureml-automl-runtime 1.18.0.post1 requires lightgbm<=2.3.0,>=2.0.11, but you'll have lightgbm 3.1.0 which is incompatible.\n",
      "azureml-automl-runtime 1.18.0.post1 requires numpy<1.19.0,>=1.16.0, but you'll have numpy 1.19.4 which is incompatible.\n",
      "azureml-automl-runtime 1.18.0.post1 requires pandas<1.0.0,>=0.21.0, but you'll have pandas 1.1.4 which is incompatible.\n",
      "azureml-automl-runtime 1.18.0.post1 requires scikit-learn<0.23.0,>=0.19.0, but you'll have scikit-learn 0.23.2 which is incompatible.\n",
      "azureml-automl-runtime 1.18.0.post1 requires scipy<=1.5.2,>=1.0.0, but you'll have scipy 1.5.4 which is incompatible.\n",
      "azureml-automl-runtime 1.18.0.post1 requires smart-open<=1.9.0, but you'll have smart-open 3.0.0 which is incompatible.\n",
      "azureml-automl-runtime 1.18.0.post1 requires statsmodels<=0.10.2,>=0.9.0, but you'll have statsmodels 0.12.1 which is incompatible.\u001b[0m\n",
      "Successfully installed azureml-dataprep-2.6.0 azureml-dataprep-native-26.0.0 azureml-dataprep-rslex-1.4.0 azureml-widgets-1.18.0\n"
     ]
    }
   ],
   "source": [
    "!pip install --upgrade pycaret scikit-plot azureml-train-automl azureml-mlflow azureml-core azureml-dataprep azureml-widgets"
   ]
  },
  {
   "source": [
    "## PyCaret local"
   ],
   "cell_type": "markdown",
   "metadata": {}
  },
  {
   "cell_type": "code",
   "execution_count": 6,
   "metadata": {},
   "outputs": [
    {
     "output_type": "stream",
     "name": "stderr",
     "text": [
      "/Users/cody/miniconda3/envs/automl/lib/python3.7/site-packages/urllib3/util/retry.py:439: DeprecationWarning: Using 'method_whitelist' with Retry is deprecated and will be removed in v2.0. Use 'allowed_methods' instead\n  DeprecationWarning,\n"
     ]
    }
   ],
   "source": [
    "import mlflow\n",
    "from azureml.core import Workspace\n",
    "\n",
    "ws = Workspace.from_config()\n",
    "mlflow.set_tracking_uri(ws.get_mlflow_tracking_uri())"
   ]
  },
  {
   "cell_type": "code",
   "execution_count": 7,
   "metadata": {},
   "outputs": [
    {
     "output_type": "stream",
     "name": "stderr",
     "text": [
      "/Users/cody/miniconda3/envs/automl/lib/python3.7/site-packages/ipykernel/ipkernel.py:287: DeprecationWarning: `should_run_async` will not call `transform_cell` automatically in the future. Please pass the result to `transformed_cell` argument and any exception that happen during thetransform in `preprocessing_exc_tuple` in IPython 7.17 and above.\n  and should_run_async(code)\n"
     ]
    },
    {
     "output_type": "execute_result",
     "data": {
      "text/plain": [
       "   sepal_length  sepal_width  petal_length  petal_width      species\n",
       "0           5.1          3.5           1.4          0.2  Iris-setosa\n",
       "1           4.9          3.0           1.4          0.2  Iris-setosa\n",
       "2           4.7          3.2           1.3          0.2  Iris-setosa\n",
       "3           4.6          3.1           1.5          0.2  Iris-setosa\n",
       "4           5.0          3.6           1.4          0.2  Iris-setosa"
      ],
      "text/html": "<div>\n<style scoped>\n    .dataframe tbody tr th:only-of-type {\n        vertical-align: middle;\n    }\n\n    .dataframe tbody tr th {\n        vertical-align: top;\n    }\n\n    .dataframe thead th {\n        text-align: right;\n    }\n</style>\n<table border=\"1\" class=\"dataframe\">\n  <thead>\n    <tr style=\"text-align: right;\">\n      <th></th>\n      <th>sepal_length</th>\n      <th>sepal_width</th>\n      <th>petal_length</th>\n      <th>petal_width</th>\n      <th>species</th>\n    </tr>\n  </thead>\n  <tbody>\n    <tr>\n      <th>0</th>\n      <td>5.1</td>\n      <td>3.5</td>\n      <td>1.4</td>\n      <td>0.2</td>\n      <td>Iris-setosa</td>\n    </tr>\n    <tr>\n      <th>1</th>\n      <td>4.9</td>\n      <td>3.0</td>\n      <td>1.4</td>\n      <td>0.2</td>\n      <td>Iris-setosa</td>\n    </tr>\n    <tr>\n      <th>2</th>\n      <td>4.7</td>\n      <td>3.2</td>\n      <td>1.3</td>\n      <td>0.2</td>\n      <td>Iris-setosa</td>\n    </tr>\n    <tr>\n      <th>3</th>\n      <td>4.6</td>\n      <td>3.1</td>\n      <td>1.5</td>\n      <td>0.2</td>\n      <td>Iris-setosa</td>\n    </tr>\n    <tr>\n      <th>4</th>\n      <td>5.0</td>\n      <td>3.6</td>\n      <td>1.4</td>\n      <td>0.2</td>\n      <td>Iris-setosa</td>\n    </tr>\n  </tbody>\n</table>\n</div>"
     },
     "metadata": {},
     "execution_count": 7
    }
   ],
   "source": [
    "import pandas as pd \n",
    "\n",
    "df = pd.read_csv(\"https://azuremlexamples.blob.core.windows.net/datasets/iris.csv\")\n",
    "df.head()"
   ]
  },
  {
   "cell_type": "code",
   "execution_count": 8,
   "metadata": {},
   "outputs": [
    {
     "output_type": "stream",
     "name": "stderr",
     "text": [
      "/Users/cody/miniconda3/envs/automl/lib/python3.7/site-packages/ipykernel/ipkernel.py:287: DeprecationWarning: `should_run_async` will not call `transform_cell` automatically in the future. Please pass the result to `transformed_cell` argument and any exception that happen during thetransform in `preprocessing_exc_tuple` in IPython 7.17 and above.\n  and should_run_async(code)\n"
     ]
    },
    {
     "output_type": "execute_result",
     "data": {
      "text/plain": [
       "(150, 5)"
      ]
     },
     "metadata": {},
     "execution_count": 8
    }
   ],
   "source": [
    "df.shape"
   ]
  },
  {
   "cell_type": "code",
   "execution_count": 9,
   "metadata": {},
   "outputs": [
    {
     "output_type": "stream",
     "name": "stdout",
     "text": [
      "Data for modeling: (142, 5)\nUnseen data for predictions: (8, 5)\n"
     ]
    }
   ],
   "source": [
    "data = df.sample(frac=0.95, random_state=42)\n",
    "data_unseen = df.drop(data.index)\n",
    "data.reset_index(inplace=True, drop=True)\n",
    "data_unseen.reset_index(inplace=True, drop=True)\n",
    "print(\"Data for modeling: \" + str(data.shape))\n",
    "print(\"Unseen data for predictions: \" + str(data_unseen.shape))"
   ]
  },
  {
   "cell_type": "code",
   "execution_count": 21,
   "metadata": {},
   "outputs": [
    {
     "output_type": "display_data",
     "data": {
      "text/plain": "<pandas.io.formats.style.Styler at 0x7f9c3ab98750>",
      "text/html": "<style  type=\"text/css\" >\n#T_ddda6d68_2aa0_11eb_be2b_149d997c8401row19_col1{\n            background-color:  lightgreen;\n        }</style><table id=\"T_ddda6d68_2aa0_11eb_be2b_149d997c8401\" ><thead>    <tr>        <th class=\"blank level0\" ></th>        <th class=\"col_heading level0 col0\" >Description</th>        <th class=\"col_heading level0 col1\" >Value</th>    </tr></thead><tbody>\n                <tr>\n                        <th id=\"T_ddda6d68_2aa0_11eb_be2b_149d997c8401level0_row0\" class=\"row_heading level0 row0\" >0</th>\n                        <td id=\"T_ddda6d68_2aa0_11eb_be2b_149d997c8401row0_col0\" class=\"data row0 col0\" >session_id</td>\n                        <td id=\"T_ddda6d68_2aa0_11eb_be2b_149d997c8401row0_col1\" class=\"data row0 col1\" >2943</td>\n            </tr>\n            <tr>\n                        <th id=\"T_ddda6d68_2aa0_11eb_be2b_149d997c8401level0_row1\" class=\"row_heading level0 row1\" >1</th>\n                        <td id=\"T_ddda6d68_2aa0_11eb_be2b_149d997c8401row1_col0\" class=\"data row1 col0\" >Target</td>\n                        <td id=\"T_ddda6d68_2aa0_11eb_be2b_149d997c8401row1_col1\" class=\"data row1 col1\" >species</td>\n            </tr>\n            <tr>\n                        <th id=\"T_ddda6d68_2aa0_11eb_be2b_149d997c8401level0_row2\" class=\"row_heading level0 row2\" >2</th>\n                        <td id=\"T_ddda6d68_2aa0_11eb_be2b_149d997c8401row2_col0\" class=\"data row2 col0\" >Target Type</td>\n                        <td id=\"T_ddda6d68_2aa0_11eb_be2b_149d997c8401row2_col1\" class=\"data row2 col1\" >Multiclass</td>\n            </tr>\n            <tr>\n                        <th id=\"T_ddda6d68_2aa0_11eb_be2b_149d997c8401level0_row3\" class=\"row_heading level0 row3\" >3</th>\n                        <td id=\"T_ddda6d68_2aa0_11eb_be2b_149d997c8401row3_col0\" class=\"data row3 col0\" >Label Encoded</td>\n                        <td id=\"T_ddda6d68_2aa0_11eb_be2b_149d997c8401row3_col1\" class=\"data row3 col1\" >Iris-setosa: 0, Iris-versicolor: 1, Iris-virginica: 2</td>\n            </tr>\n            <tr>\n                        <th id=\"T_ddda6d68_2aa0_11eb_be2b_149d997c8401level0_row4\" class=\"row_heading level0 row4\" >4</th>\n                        <td id=\"T_ddda6d68_2aa0_11eb_be2b_149d997c8401row4_col0\" class=\"data row4 col0\" >Original Data</td>\n                        <td id=\"T_ddda6d68_2aa0_11eb_be2b_149d997c8401row4_col1\" class=\"data row4 col1\" >(142, 5)</td>\n            </tr>\n            <tr>\n                        <th id=\"T_ddda6d68_2aa0_11eb_be2b_149d997c8401level0_row5\" class=\"row_heading level0 row5\" >5</th>\n                        <td id=\"T_ddda6d68_2aa0_11eb_be2b_149d997c8401row5_col0\" class=\"data row5 col0\" >Missing Values</td>\n                        <td id=\"T_ddda6d68_2aa0_11eb_be2b_149d997c8401row5_col1\" class=\"data row5 col1\" >False</td>\n            </tr>\n            <tr>\n                        <th id=\"T_ddda6d68_2aa0_11eb_be2b_149d997c8401level0_row6\" class=\"row_heading level0 row6\" >6</th>\n                        <td id=\"T_ddda6d68_2aa0_11eb_be2b_149d997c8401row6_col0\" class=\"data row6 col0\" >Numeric Features</td>\n                        <td id=\"T_ddda6d68_2aa0_11eb_be2b_149d997c8401row6_col1\" class=\"data row6 col1\" >4</td>\n            </tr>\n            <tr>\n                        <th id=\"T_ddda6d68_2aa0_11eb_be2b_149d997c8401level0_row7\" class=\"row_heading level0 row7\" >7</th>\n                        <td id=\"T_ddda6d68_2aa0_11eb_be2b_149d997c8401row7_col0\" class=\"data row7 col0\" >Categorical Features</td>\n                        <td id=\"T_ddda6d68_2aa0_11eb_be2b_149d997c8401row7_col1\" class=\"data row7 col1\" >0</td>\n            </tr>\n            <tr>\n                        <th id=\"T_ddda6d68_2aa0_11eb_be2b_149d997c8401level0_row8\" class=\"row_heading level0 row8\" >8</th>\n                        <td id=\"T_ddda6d68_2aa0_11eb_be2b_149d997c8401row8_col0\" class=\"data row8 col0\" >Ordinal Features</td>\n                        <td id=\"T_ddda6d68_2aa0_11eb_be2b_149d997c8401row8_col1\" class=\"data row8 col1\" >False</td>\n            </tr>\n            <tr>\n                        <th id=\"T_ddda6d68_2aa0_11eb_be2b_149d997c8401level0_row9\" class=\"row_heading level0 row9\" >9</th>\n                        <td id=\"T_ddda6d68_2aa0_11eb_be2b_149d997c8401row9_col0\" class=\"data row9 col0\" >High Cardinality Features</td>\n                        <td id=\"T_ddda6d68_2aa0_11eb_be2b_149d997c8401row9_col1\" class=\"data row9 col1\" >False</td>\n            </tr>\n            <tr>\n                        <th id=\"T_ddda6d68_2aa0_11eb_be2b_149d997c8401level0_row10\" class=\"row_heading level0 row10\" >10</th>\n                        <td id=\"T_ddda6d68_2aa0_11eb_be2b_149d997c8401row10_col0\" class=\"data row10 col0\" >High Cardinality Method</td>\n                        <td id=\"T_ddda6d68_2aa0_11eb_be2b_149d997c8401row10_col1\" class=\"data row10 col1\" >None</td>\n            </tr>\n            <tr>\n                        <th id=\"T_ddda6d68_2aa0_11eb_be2b_149d997c8401level0_row11\" class=\"row_heading level0 row11\" >11</th>\n                        <td id=\"T_ddda6d68_2aa0_11eb_be2b_149d997c8401row11_col0\" class=\"data row11 col0\" >Transformed Train Set</td>\n                        <td id=\"T_ddda6d68_2aa0_11eb_be2b_149d997c8401row11_col1\" class=\"data row11 col1\" >(99, 4)</td>\n            </tr>\n            <tr>\n                        <th id=\"T_ddda6d68_2aa0_11eb_be2b_149d997c8401level0_row12\" class=\"row_heading level0 row12\" >12</th>\n                        <td id=\"T_ddda6d68_2aa0_11eb_be2b_149d997c8401row12_col0\" class=\"data row12 col0\" >Transformed Test Set</td>\n                        <td id=\"T_ddda6d68_2aa0_11eb_be2b_149d997c8401row12_col1\" class=\"data row12 col1\" >(43, 4)</td>\n            </tr>\n            <tr>\n                        <th id=\"T_ddda6d68_2aa0_11eb_be2b_149d997c8401level0_row13\" class=\"row_heading level0 row13\" >13</th>\n                        <td id=\"T_ddda6d68_2aa0_11eb_be2b_149d997c8401row13_col0\" class=\"data row13 col0\" >Shuffle Train-Test</td>\n                        <td id=\"T_ddda6d68_2aa0_11eb_be2b_149d997c8401row13_col1\" class=\"data row13 col1\" >True</td>\n            </tr>\n            <tr>\n                        <th id=\"T_ddda6d68_2aa0_11eb_be2b_149d997c8401level0_row14\" class=\"row_heading level0 row14\" >14</th>\n                        <td id=\"T_ddda6d68_2aa0_11eb_be2b_149d997c8401row14_col0\" class=\"data row14 col0\" >Stratify Train-Test</td>\n                        <td id=\"T_ddda6d68_2aa0_11eb_be2b_149d997c8401row14_col1\" class=\"data row14 col1\" >False</td>\n            </tr>\n            <tr>\n                        <th id=\"T_ddda6d68_2aa0_11eb_be2b_149d997c8401level0_row15\" class=\"row_heading level0 row15\" >15</th>\n                        <td id=\"T_ddda6d68_2aa0_11eb_be2b_149d997c8401row15_col0\" class=\"data row15 col0\" >Fold Generator</td>\n                        <td id=\"T_ddda6d68_2aa0_11eb_be2b_149d997c8401row15_col1\" class=\"data row15 col1\" >StratifiedKFold</td>\n            </tr>\n            <tr>\n                        <th id=\"T_ddda6d68_2aa0_11eb_be2b_149d997c8401level0_row16\" class=\"row_heading level0 row16\" >16</th>\n                        <td id=\"T_ddda6d68_2aa0_11eb_be2b_149d997c8401row16_col0\" class=\"data row16 col0\" >Fold Number</td>\n                        <td id=\"T_ddda6d68_2aa0_11eb_be2b_149d997c8401row16_col1\" class=\"data row16 col1\" >10</td>\n            </tr>\n            <tr>\n                        <th id=\"T_ddda6d68_2aa0_11eb_be2b_149d997c8401level0_row17\" class=\"row_heading level0 row17\" >17</th>\n                        <td id=\"T_ddda6d68_2aa0_11eb_be2b_149d997c8401row17_col0\" class=\"data row17 col0\" >CPU Jobs</td>\n                        <td id=\"T_ddda6d68_2aa0_11eb_be2b_149d997c8401row17_col1\" class=\"data row17 col1\" >-1</td>\n            </tr>\n            <tr>\n                        <th id=\"T_ddda6d68_2aa0_11eb_be2b_149d997c8401level0_row18\" class=\"row_heading level0 row18\" >18</th>\n                        <td id=\"T_ddda6d68_2aa0_11eb_be2b_149d997c8401row18_col0\" class=\"data row18 col0\" >Use GPU</td>\n                        <td id=\"T_ddda6d68_2aa0_11eb_be2b_149d997c8401row18_col1\" class=\"data row18 col1\" >False</td>\n            </tr>\n            <tr>\n                        <th id=\"T_ddda6d68_2aa0_11eb_be2b_149d997c8401level0_row19\" class=\"row_heading level0 row19\" >19</th>\n                        <td id=\"T_ddda6d68_2aa0_11eb_be2b_149d997c8401row19_col0\" class=\"data row19 col0\" >Log Experiment</td>\n                        <td id=\"T_ddda6d68_2aa0_11eb_be2b_149d997c8401row19_col1\" class=\"data row19 col1\" >True</td>\n            </tr>\n            <tr>\n                        <th id=\"T_ddda6d68_2aa0_11eb_be2b_149d997c8401level0_row20\" class=\"row_heading level0 row20\" >20</th>\n                        <td id=\"T_ddda6d68_2aa0_11eb_be2b_149d997c8401row20_col0\" class=\"data row20 col0\" >Experiment Name</td>\n                        <td id=\"T_ddda6d68_2aa0_11eb_be2b_149d997c8401row20_col1\" class=\"data row20 col1\" >pycaret-untitled</td>\n            </tr>\n            <tr>\n                        <th id=\"T_ddda6d68_2aa0_11eb_be2b_149d997c8401level0_row21\" class=\"row_heading level0 row21\" >21</th>\n                        <td id=\"T_ddda6d68_2aa0_11eb_be2b_149d997c8401row21_col0\" class=\"data row21 col0\" >USI</td>\n                        <td id=\"T_ddda6d68_2aa0_11eb_be2b_149d997c8401row21_col1\" class=\"data row21 col1\" >6633</td>\n            </tr>\n            <tr>\n                        <th id=\"T_ddda6d68_2aa0_11eb_be2b_149d997c8401level0_row22\" class=\"row_heading level0 row22\" >22</th>\n                        <td id=\"T_ddda6d68_2aa0_11eb_be2b_149d997c8401row22_col0\" class=\"data row22 col0\" >Imputation Type</td>\n                        <td id=\"T_ddda6d68_2aa0_11eb_be2b_149d997c8401row22_col1\" class=\"data row22 col1\" >simple</td>\n            </tr>\n            <tr>\n                        <th id=\"T_ddda6d68_2aa0_11eb_be2b_149d997c8401level0_row23\" class=\"row_heading level0 row23\" >23</th>\n                        <td id=\"T_ddda6d68_2aa0_11eb_be2b_149d997c8401row23_col0\" class=\"data row23 col0\" >Iterative Imputation Iteration</td>\n                        <td id=\"T_ddda6d68_2aa0_11eb_be2b_149d997c8401row23_col1\" class=\"data row23 col1\" >None</td>\n            </tr>\n            <tr>\n                        <th id=\"T_ddda6d68_2aa0_11eb_be2b_149d997c8401level0_row24\" class=\"row_heading level0 row24\" >24</th>\n                        <td id=\"T_ddda6d68_2aa0_11eb_be2b_149d997c8401row24_col0\" class=\"data row24 col0\" >Numeric Imputer</td>\n                        <td id=\"T_ddda6d68_2aa0_11eb_be2b_149d997c8401row24_col1\" class=\"data row24 col1\" >mean</td>\n            </tr>\n            <tr>\n                        <th id=\"T_ddda6d68_2aa0_11eb_be2b_149d997c8401level0_row25\" class=\"row_heading level0 row25\" >25</th>\n                        <td id=\"T_ddda6d68_2aa0_11eb_be2b_149d997c8401row25_col0\" class=\"data row25 col0\" >Iterative Imputation Numeric Model</td>\n                        <td id=\"T_ddda6d68_2aa0_11eb_be2b_149d997c8401row25_col1\" class=\"data row25 col1\" >None</td>\n            </tr>\n            <tr>\n                        <th id=\"T_ddda6d68_2aa0_11eb_be2b_149d997c8401level0_row26\" class=\"row_heading level0 row26\" >26</th>\n                        <td id=\"T_ddda6d68_2aa0_11eb_be2b_149d997c8401row26_col0\" class=\"data row26 col0\" >Categorical Imputer</td>\n                        <td id=\"T_ddda6d68_2aa0_11eb_be2b_149d997c8401row26_col1\" class=\"data row26 col1\" >constant</td>\n            </tr>\n            <tr>\n                        <th id=\"T_ddda6d68_2aa0_11eb_be2b_149d997c8401level0_row27\" class=\"row_heading level0 row27\" >27</th>\n                        <td id=\"T_ddda6d68_2aa0_11eb_be2b_149d997c8401row27_col0\" class=\"data row27 col0\" >Iterative Imputation Categorical Model</td>\n                        <td id=\"T_ddda6d68_2aa0_11eb_be2b_149d997c8401row27_col1\" class=\"data row27 col1\" >None</td>\n            </tr>\n            <tr>\n                        <th id=\"T_ddda6d68_2aa0_11eb_be2b_149d997c8401level0_row28\" class=\"row_heading level0 row28\" >28</th>\n                        <td id=\"T_ddda6d68_2aa0_11eb_be2b_149d997c8401row28_col0\" class=\"data row28 col0\" >Unknown Categoricals Handling</td>\n                        <td id=\"T_ddda6d68_2aa0_11eb_be2b_149d997c8401row28_col1\" class=\"data row28 col1\" >least_frequent</td>\n            </tr>\n            <tr>\n                        <th id=\"T_ddda6d68_2aa0_11eb_be2b_149d997c8401level0_row29\" class=\"row_heading level0 row29\" >29</th>\n                        <td id=\"T_ddda6d68_2aa0_11eb_be2b_149d997c8401row29_col0\" class=\"data row29 col0\" >Normalize</td>\n                        <td id=\"T_ddda6d68_2aa0_11eb_be2b_149d997c8401row29_col1\" class=\"data row29 col1\" >False</td>\n            </tr>\n            <tr>\n                        <th id=\"T_ddda6d68_2aa0_11eb_be2b_149d997c8401level0_row30\" class=\"row_heading level0 row30\" >30</th>\n                        <td id=\"T_ddda6d68_2aa0_11eb_be2b_149d997c8401row30_col0\" class=\"data row30 col0\" >Normalize Method</td>\n                        <td id=\"T_ddda6d68_2aa0_11eb_be2b_149d997c8401row30_col1\" class=\"data row30 col1\" >None</td>\n            </tr>\n            <tr>\n                        <th id=\"T_ddda6d68_2aa0_11eb_be2b_149d997c8401level0_row31\" class=\"row_heading level0 row31\" >31</th>\n                        <td id=\"T_ddda6d68_2aa0_11eb_be2b_149d997c8401row31_col0\" class=\"data row31 col0\" >Transformation</td>\n                        <td id=\"T_ddda6d68_2aa0_11eb_be2b_149d997c8401row31_col1\" class=\"data row31 col1\" >False</td>\n            </tr>\n            <tr>\n                        <th id=\"T_ddda6d68_2aa0_11eb_be2b_149d997c8401level0_row32\" class=\"row_heading level0 row32\" >32</th>\n                        <td id=\"T_ddda6d68_2aa0_11eb_be2b_149d997c8401row32_col0\" class=\"data row32 col0\" >Transformation Method</td>\n                        <td id=\"T_ddda6d68_2aa0_11eb_be2b_149d997c8401row32_col1\" class=\"data row32 col1\" >None</td>\n            </tr>\n            <tr>\n                        <th id=\"T_ddda6d68_2aa0_11eb_be2b_149d997c8401level0_row33\" class=\"row_heading level0 row33\" >33</th>\n                        <td id=\"T_ddda6d68_2aa0_11eb_be2b_149d997c8401row33_col0\" class=\"data row33 col0\" >PCA</td>\n                        <td id=\"T_ddda6d68_2aa0_11eb_be2b_149d997c8401row33_col1\" class=\"data row33 col1\" >False</td>\n            </tr>\n            <tr>\n                        <th id=\"T_ddda6d68_2aa0_11eb_be2b_149d997c8401level0_row34\" class=\"row_heading level0 row34\" >34</th>\n                        <td id=\"T_ddda6d68_2aa0_11eb_be2b_149d997c8401row34_col0\" class=\"data row34 col0\" >PCA Method</td>\n                        <td id=\"T_ddda6d68_2aa0_11eb_be2b_149d997c8401row34_col1\" class=\"data row34 col1\" >None</td>\n            </tr>\n            <tr>\n                        <th id=\"T_ddda6d68_2aa0_11eb_be2b_149d997c8401level0_row35\" class=\"row_heading level0 row35\" >35</th>\n                        <td id=\"T_ddda6d68_2aa0_11eb_be2b_149d997c8401row35_col0\" class=\"data row35 col0\" >PCA Components</td>\n                        <td id=\"T_ddda6d68_2aa0_11eb_be2b_149d997c8401row35_col1\" class=\"data row35 col1\" >None</td>\n            </tr>\n            <tr>\n                        <th id=\"T_ddda6d68_2aa0_11eb_be2b_149d997c8401level0_row36\" class=\"row_heading level0 row36\" >36</th>\n                        <td id=\"T_ddda6d68_2aa0_11eb_be2b_149d997c8401row36_col0\" class=\"data row36 col0\" >Ignore Low Variance</td>\n                        <td id=\"T_ddda6d68_2aa0_11eb_be2b_149d997c8401row36_col1\" class=\"data row36 col1\" >False</td>\n            </tr>\n            <tr>\n                        <th id=\"T_ddda6d68_2aa0_11eb_be2b_149d997c8401level0_row37\" class=\"row_heading level0 row37\" >37</th>\n                        <td id=\"T_ddda6d68_2aa0_11eb_be2b_149d997c8401row37_col0\" class=\"data row37 col0\" >Combine Rare Levels</td>\n                        <td id=\"T_ddda6d68_2aa0_11eb_be2b_149d997c8401row37_col1\" class=\"data row37 col1\" >False</td>\n            </tr>\n            <tr>\n                        <th id=\"T_ddda6d68_2aa0_11eb_be2b_149d997c8401level0_row38\" class=\"row_heading level0 row38\" >38</th>\n                        <td id=\"T_ddda6d68_2aa0_11eb_be2b_149d997c8401row38_col0\" class=\"data row38 col0\" >Rare Level Threshold</td>\n                        <td id=\"T_ddda6d68_2aa0_11eb_be2b_149d997c8401row38_col1\" class=\"data row38 col1\" >None</td>\n            </tr>\n            <tr>\n                        <th id=\"T_ddda6d68_2aa0_11eb_be2b_149d997c8401level0_row39\" class=\"row_heading level0 row39\" >39</th>\n                        <td id=\"T_ddda6d68_2aa0_11eb_be2b_149d997c8401row39_col0\" class=\"data row39 col0\" >Numeric Binning</td>\n                        <td id=\"T_ddda6d68_2aa0_11eb_be2b_149d997c8401row39_col1\" class=\"data row39 col1\" >False</td>\n            </tr>\n            <tr>\n                        <th id=\"T_ddda6d68_2aa0_11eb_be2b_149d997c8401level0_row40\" class=\"row_heading level0 row40\" >40</th>\n                        <td id=\"T_ddda6d68_2aa0_11eb_be2b_149d997c8401row40_col0\" class=\"data row40 col0\" >Remove Outliers</td>\n                        <td id=\"T_ddda6d68_2aa0_11eb_be2b_149d997c8401row40_col1\" class=\"data row40 col1\" >False</td>\n            </tr>\n            <tr>\n                        <th id=\"T_ddda6d68_2aa0_11eb_be2b_149d997c8401level0_row41\" class=\"row_heading level0 row41\" >41</th>\n                        <td id=\"T_ddda6d68_2aa0_11eb_be2b_149d997c8401row41_col0\" class=\"data row41 col0\" >Outliers Threshold</td>\n                        <td id=\"T_ddda6d68_2aa0_11eb_be2b_149d997c8401row41_col1\" class=\"data row41 col1\" >None</td>\n            </tr>\n            <tr>\n                        <th id=\"T_ddda6d68_2aa0_11eb_be2b_149d997c8401level0_row42\" class=\"row_heading level0 row42\" >42</th>\n                        <td id=\"T_ddda6d68_2aa0_11eb_be2b_149d997c8401row42_col0\" class=\"data row42 col0\" >Remove Multicollinearity</td>\n                        <td id=\"T_ddda6d68_2aa0_11eb_be2b_149d997c8401row42_col1\" class=\"data row42 col1\" >False</td>\n            </tr>\n            <tr>\n                        <th id=\"T_ddda6d68_2aa0_11eb_be2b_149d997c8401level0_row43\" class=\"row_heading level0 row43\" >43</th>\n                        <td id=\"T_ddda6d68_2aa0_11eb_be2b_149d997c8401row43_col0\" class=\"data row43 col0\" >Multicollinearity Threshold</td>\n                        <td id=\"T_ddda6d68_2aa0_11eb_be2b_149d997c8401row43_col1\" class=\"data row43 col1\" >None</td>\n            </tr>\n            <tr>\n                        <th id=\"T_ddda6d68_2aa0_11eb_be2b_149d997c8401level0_row44\" class=\"row_heading level0 row44\" >44</th>\n                        <td id=\"T_ddda6d68_2aa0_11eb_be2b_149d997c8401row44_col0\" class=\"data row44 col0\" >Clustering</td>\n                        <td id=\"T_ddda6d68_2aa0_11eb_be2b_149d997c8401row44_col1\" class=\"data row44 col1\" >False</td>\n            </tr>\n            <tr>\n                        <th id=\"T_ddda6d68_2aa0_11eb_be2b_149d997c8401level0_row45\" class=\"row_heading level0 row45\" >45</th>\n                        <td id=\"T_ddda6d68_2aa0_11eb_be2b_149d997c8401row45_col0\" class=\"data row45 col0\" >Clustering Iteration</td>\n                        <td id=\"T_ddda6d68_2aa0_11eb_be2b_149d997c8401row45_col1\" class=\"data row45 col1\" >None</td>\n            </tr>\n            <tr>\n                        <th id=\"T_ddda6d68_2aa0_11eb_be2b_149d997c8401level0_row46\" class=\"row_heading level0 row46\" >46</th>\n                        <td id=\"T_ddda6d68_2aa0_11eb_be2b_149d997c8401row46_col0\" class=\"data row46 col0\" >Polynomial Features</td>\n                        <td id=\"T_ddda6d68_2aa0_11eb_be2b_149d997c8401row46_col1\" class=\"data row46 col1\" >False</td>\n            </tr>\n            <tr>\n                        <th id=\"T_ddda6d68_2aa0_11eb_be2b_149d997c8401level0_row47\" class=\"row_heading level0 row47\" >47</th>\n                        <td id=\"T_ddda6d68_2aa0_11eb_be2b_149d997c8401row47_col0\" class=\"data row47 col0\" >Polynomial Degree</td>\n                        <td id=\"T_ddda6d68_2aa0_11eb_be2b_149d997c8401row47_col1\" class=\"data row47 col1\" >None</td>\n            </tr>\n            <tr>\n                        <th id=\"T_ddda6d68_2aa0_11eb_be2b_149d997c8401level0_row48\" class=\"row_heading level0 row48\" >48</th>\n                        <td id=\"T_ddda6d68_2aa0_11eb_be2b_149d997c8401row48_col0\" class=\"data row48 col0\" >Trignometry Features</td>\n                        <td id=\"T_ddda6d68_2aa0_11eb_be2b_149d997c8401row48_col1\" class=\"data row48 col1\" >False</td>\n            </tr>\n            <tr>\n                        <th id=\"T_ddda6d68_2aa0_11eb_be2b_149d997c8401level0_row49\" class=\"row_heading level0 row49\" >49</th>\n                        <td id=\"T_ddda6d68_2aa0_11eb_be2b_149d997c8401row49_col0\" class=\"data row49 col0\" >Polynomial Threshold</td>\n                        <td id=\"T_ddda6d68_2aa0_11eb_be2b_149d997c8401row49_col1\" class=\"data row49 col1\" >None</td>\n            </tr>\n            <tr>\n                        <th id=\"T_ddda6d68_2aa0_11eb_be2b_149d997c8401level0_row50\" class=\"row_heading level0 row50\" >50</th>\n                        <td id=\"T_ddda6d68_2aa0_11eb_be2b_149d997c8401row50_col0\" class=\"data row50 col0\" >Group Features</td>\n                        <td id=\"T_ddda6d68_2aa0_11eb_be2b_149d997c8401row50_col1\" class=\"data row50 col1\" >False</td>\n            </tr>\n            <tr>\n                        <th id=\"T_ddda6d68_2aa0_11eb_be2b_149d997c8401level0_row51\" class=\"row_heading level0 row51\" >51</th>\n                        <td id=\"T_ddda6d68_2aa0_11eb_be2b_149d997c8401row51_col0\" class=\"data row51 col0\" >Feature Selection</td>\n                        <td id=\"T_ddda6d68_2aa0_11eb_be2b_149d997c8401row51_col1\" class=\"data row51 col1\" >False</td>\n            </tr>\n            <tr>\n                        <th id=\"T_ddda6d68_2aa0_11eb_be2b_149d997c8401level0_row52\" class=\"row_heading level0 row52\" >52</th>\n                        <td id=\"T_ddda6d68_2aa0_11eb_be2b_149d997c8401row52_col0\" class=\"data row52 col0\" >Features Selection Threshold</td>\n                        <td id=\"T_ddda6d68_2aa0_11eb_be2b_149d997c8401row52_col1\" class=\"data row52 col1\" >None</td>\n            </tr>\n            <tr>\n                        <th id=\"T_ddda6d68_2aa0_11eb_be2b_149d997c8401level0_row53\" class=\"row_heading level0 row53\" >53</th>\n                        <td id=\"T_ddda6d68_2aa0_11eb_be2b_149d997c8401row53_col0\" class=\"data row53 col0\" >Feature Interaction</td>\n                        <td id=\"T_ddda6d68_2aa0_11eb_be2b_149d997c8401row53_col1\" class=\"data row53 col1\" >False</td>\n            </tr>\n            <tr>\n                        <th id=\"T_ddda6d68_2aa0_11eb_be2b_149d997c8401level0_row54\" class=\"row_heading level0 row54\" >54</th>\n                        <td id=\"T_ddda6d68_2aa0_11eb_be2b_149d997c8401row54_col0\" class=\"data row54 col0\" >Feature Ratio</td>\n                        <td id=\"T_ddda6d68_2aa0_11eb_be2b_149d997c8401row54_col1\" class=\"data row54 col1\" >False</td>\n            </tr>\n            <tr>\n                        <th id=\"T_ddda6d68_2aa0_11eb_be2b_149d997c8401level0_row55\" class=\"row_heading level0 row55\" >55</th>\n                        <td id=\"T_ddda6d68_2aa0_11eb_be2b_149d997c8401row55_col0\" class=\"data row55 col0\" >Interaction Threshold</td>\n                        <td id=\"T_ddda6d68_2aa0_11eb_be2b_149d997c8401row55_col1\" class=\"data row55 col1\" >None</td>\n            </tr>\n            <tr>\n                        <th id=\"T_ddda6d68_2aa0_11eb_be2b_149d997c8401level0_row56\" class=\"row_heading level0 row56\" >56</th>\n                        <td id=\"T_ddda6d68_2aa0_11eb_be2b_149d997c8401row56_col0\" class=\"data row56 col0\" >Fix Imbalance</td>\n                        <td id=\"T_ddda6d68_2aa0_11eb_be2b_149d997c8401row56_col1\" class=\"data row56 col1\" >False</td>\n            </tr>\n            <tr>\n                        <th id=\"T_ddda6d68_2aa0_11eb_be2b_149d997c8401level0_row57\" class=\"row_heading level0 row57\" >57</th>\n                        <td id=\"T_ddda6d68_2aa0_11eb_be2b_149d997c8401row57_col0\" class=\"data row57 col0\" >Fix Imbalance Method</td>\n                        <td id=\"T_ddda6d68_2aa0_11eb_be2b_149d997c8401row57_col1\" class=\"data row57 col1\" >SMOTE</td>\n            </tr>\n    </tbody></table>"
     },
     "metadata": {}
    },
    {
     "output_type": "error",
     "ename": "UnsupportedModelRegistryStoreURIException",
     "evalue": " Model registry functionality is unavailable; got unsupported URI 'azureml://eastus.experiments.azureml.net/mlflow/v1.0/subscriptions/6560575d-fa06-4e7d-95fb-f962e74efd7a/resourceGroups/azureml-examples/providers/Microsoft.MachineLearningServices/workspaces/default?' for model registry data storage. Supported URI schemes are: ['', 'file', 'databricks', 'http', 'https', 'postgresql', 'mysql', 'sqlite', 'mssql']. See https://www.mlflow.org/docs/latest/tracking.html#storage for how to run an MLflow server against one of the supported backend storage locations.",
     "traceback": [
      "\u001b[0;31m---------------------------------------------------------------------------\u001b[0m",
      "\u001b[0;31mKeyError\u001b[0m                                  Traceback (most recent call last)",
      "\u001b[0;32m~/miniconda3/envs/automl/lib/python3.7/site-packages/mlflow/tracking/registry.py\u001b[0m in \u001b[0;36mget_store_builder\u001b[0;34m(self, store_uri)\u001b[0m\n\u001b[1;32m     75\u001b[0m         \u001b[0;32mtry\u001b[0m\u001b[0;34m:\u001b[0m\u001b[0;34m\u001b[0m\u001b[0;34m\u001b[0m\u001b[0m\n\u001b[0;32m---> 76\u001b[0;31m             \u001b[0mstore_builder\u001b[0m \u001b[0;34m=\u001b[0m \u001b[0mself\u001b[0m\u001b[0;34m.\u001b[0m\u001b[0m_registry\u001b[0m\u001b[0;34m[\u001b[0m\u001b[0mscheme\u001b[0m\u001b[0;34m]\u001b[0m\u001b[0;34m\u001b[0m\u001b[0;34m\u001b[0m\u001b[0m\n\u001b[0m\u001b[1;32m     77\u001b[0m         \u001b[0;32mexcept\u001b[0m \u001b[0mKeyError\u001b[0m\u001b[0;34m:\u001b[0m\u001b[0;34m\u001b[0m\u001b[0;34m\u001b[0m\u001b[0m\n",
      "\u001b[0;31mKeyError\u001b[0m: 'azureml'",
      "\nDuring handling of the above exception, another exception occurred:\n",
      "\u001b[0;31mUnsupportedModelRegistryStoreURIException\u001b[0m Traceback (most recent call last)",
      "\u001b[0;32m<ipython-input-21-6fdc8d473ccd>\u001b[0m in \u001b[0;36m<module>\u001b[0;34m\u001b[0m\n\u001b[1;32m      8\u001b[0m     \u001b[0mlog_plots\u001b[0m\u001b[0;34m=\u001b[0m\u001b[0;32mTrue\u001b[0m\u001b[0;34m,\u001b[0m\u001b[0;34m\u001b[0m\u001b[0;34m\u001b[0m\u001b[0m\n\u001b[1;32m      9\u001b[0m     \u001b[0mlog_profile\u001b[0m\u001b[0;34m=\u001b[0m\u001b[0;32mTrue\u001b[0m\u001b[0;34m,\u001b[0m\u001b[0;34m\u001b[0m\u001b[0;34m\u001b[0m\u001b[0m\n\u001b[0;32m---> 10\u001b[0;31m     \u001b[0msilent\u001b[0m\u001b[0;34m=\u001b[0m\u001b[0;32mFalse\u001b[0m\u001b[0;34m,\u001b[0m  \u001b[0;31m# set to False for interactively setting data types\u001b[0m\u001b[0;34m\u001b[0m\u001b[0;34m\u001b[0m\u001b[0m\n\u001b[0m\u001b[1;32m     11\u001b[0m )\n",
      "\u001b[0;32m~/miniconda3/envs/automl/lib/python3.7/site-packages/pycaret/classification.py\u001b[0m in \u001b[0;36msetup\u001b[0;34m(data, target, train_size, test_data, preprocess, imputation_type, iterative_imputation_iters, categorical_features, categorical_imputation, categorical_iterative_imputer, ordinal_features, high_cardinality_features, high_cardinality_method, numeric_features, numeric_imputation, numeric_iterative_imputer, date_features, ignore_features, normalize, normalize_method, transformation, transformation_method, handle_unknown_categorical, unknown_categorical_method, pca, pca_method, pca_components, ignore_low_variance, combine_rare_levels, rare_level_threshold, bin_numeric_features, remove_outliers, outliers_threshold, remove_multicollinearity, multicollinearity_threshold, remove_perfect_collinearity, create_clusters, cluster_iter, polynomial_features, polynomial_degree, trigonometry_features, polynomial_threshold, group_features, group_names, feature_selection, feature_selection_threshold, feature_selection_method, feature_interaction, feature_ratio, interaction_threshold, fix_imbalance, fix_imbalance_method, data_split_shuffle, data_split_stratify, fold_strategy, fold, fold_shuffle, fold_groups, n_jobs, use_gpu, custom_pipeline, html, session_id, log_experiment, experiment_name, log_plots, log_profile, log_data, silent, verbose, profile, profile_kwargs)\u001b[0m\n\u001b[1;32m    652\u001b[0m         \u001b[0mverbose\u001b[0m\u001b[0;34m=\u001b[0m\u001b[0mverbose\u001b[0m\u001b[0;34m,\u001b[0m\u001b[0;34m\u001b[0m\u001b[0;34m\u001b[0m\u001b[0m\n\u001b[1;32m    653\u001b[0m         \u001b[0mprofile\u001b[0m\u001b[0;34m=\u001b[0m\u001b[0mprofile\u001b[0m\u001b[0;34m,\u001b[0m\u001b[0;34m\u001b[0m\u001b[0;34m\u001b[0m\u001b[0m\n\u001b[0;32m--> 654\u001b[0;31m         \u001b[0mprofile_kwargs\u001b[0m\u001b[0;34m=\u001b[0m\u001b[0mprofile_kwargs\u001b[0m\u001b[0;34m,\u001b[0m\u001b[0;34m\u001b[0m\u001b[0;34m\u001b[0m\u001b[0m\n\u001b[0m\u001b[1;32m    655\u001b[0m     )\n\u001b[1;32m    656\u001b[0m \u001b[0;34m\u001b[0m\u001b[0m\n",
      "\u001b[0;32m~/miniconda3/envs/automl/lib/python3.7/site-packages/pycaret/internal/tabular.py\u001b[0m in \u001b[0;36msetup\u001b[0;34m(data, target, ml_usecase, available_plots, train_size, test_data, preprocess, imputation_type, iterative_imputation_iters, categorical_features, categorical_imputation, categorical_iterative_imputer, ordinal_features, high_cardinality_features, high_cardinality_method, numeric_features, numeric_imputation, numeric_iterative_imputer, date_features, ignore_features, normalize, normalize_method, transformation, transformation_method, handle_unknown_categorical, unknown_categorical_method, pca, pca_method, pca_components, ignore_low_variance, combine_rare_levels, rare_level_threshold, bin_numeric_features, remove_outliers, outliers_threshold, remove_multicollinearity, multicollinearity_threshold, remove_perfect_collinearity, create_clusters, cluster_iter, polynomial_features, polynomial_degree, trigonometry_features, polynomial_threshold, group_features, group_names, feature_selection, feature_selection_threshold, feature_selection_method, feature_interaction, feature_ratio, interaction_threshold, fix_imbalance, fix_imbalance_method, transform_target, transform_target_method, data_split_shuffle, data_split_stratify, fold_strategy, fold, fold_shuffle, fold_groups, n_jobs, use_gpu, custom_pipeline, html, session_id, log_experiment, experiment_name, log_plots, log_profile, log_data, silent, verbose, profile, profile_kwargs, display)\u001b[0m\n\u001b[1;32m   1676\u001b[0m \u001b[0;34m\u001b[0m\u001b[0m\n\u001b[1;32m   1677\u001b[0m         \u001b[0;31m# mlflow logging\u001b[0m\u001b[0;34m\u001b[0m\u001b[0;34m\u001b[0m\u001b[0;34m\u001b[0m\u001b[0m\n\u001b[0;32m-> 1678\u001b[0;31m         \u001b[0mmlflow\u001b[0m\u001b[0;34m.\u001b[0m\u001b[0mset_experiment\u001b[0m\u001b[0;34m(\u001b[0m\u001b[0mexp_name_log\u001b[0m\u001b[0;34m)\u001b[0m\u001b[0;34m\u001b[0m\u001b[0;34m\u001b[0m\u001b[0m\n\u001b[0m\u001b[1;32m   1679\u001b[0m \u001b[0;34m\u001b[0m\u001b[0m\n\u001b[1;32m   1680\u001b[0m         \u001b[0mrun_name_\u001b[0m \u001b[0;34m=\u001b[0m \u001b[0;34mf\"Session Initialized {USI}\"\u001b[0m\u001b[0;34m\u001b[0m\u001b[0;34m\u001b[0m\u001b[0m\n",
      "\u001b[0;32m~/miniconda3/envs/automl/lib/python3.7/site-packages/mlflow/tracking/fluent.py\u001b[0m in \u001b[0;36mset_experiment\u001b[0;34m(experiment_name)\u001b[0m\n\u001b[1;32m     69\u001b[0m         \u001b[0mLifecycle_stage\u001b[0m\u001b[0;34m:\u001b[0m \u001b[0mactive\u001b[0m\u001b[0;34m\u001b[0m\u001b[0;34m\u001b[0m\u001b[0m\n\u001b[1;32m     70\u001b[0m     \"\"\"\n\u001b[0;32m---> 71\u001b[0;31m     \u001b[0mclient\u001b[0m \u001b[0;34m=\u001b[0m \u001b[0mMlflowClient\u001b[0m\u001b[0;34m(\u001b[0m\u001b[0;34m)\u001b[0m\u001b[0;34m\u001b[0m\u001b[0;34m\u001b[0m\u001b[0m\n\u001b[0m\u001b[1;32m     72\u001b[0m     \u001b[0mexperiment\u001b[0m \u001b[0;34m=\u001b[0m \u001b[0mclient\u001b[0m\u001b[0;34m.\u001b[0m\u001b[0mget_experiment_by_name\u001b[0m\u001b[0;34m(\u001b[0m\u001b[0mexperiment_name\u001b[0m\u001b[0;34m)\u001b[0m\u001b[0;34m\u001b[0m\u001b[0;34m\u001b[0m\u001b[0m\n\u001b[1;32m     73\u001b[0m     \u001b[0mexp_id\u001b[0m \u001b[0;34m=\u001b[0m \u001b[0mexperiment\u001b[0m\u001b[0;34m.\u001b[0m\u001b[0mexperiment_id\u001b[0m \u001b[0;32mif\u001b[0m \u001b[0mexperiment\u001b[0m \u001b[0;32melse\u001b[0m \u001b[0;32mNone\u001b[0m\u001b[0;34m\u001b[0m\u001b[0;34m\u001b[0m\u001b[0m\n",
      "\u001b[0;32m~/miniconda3/envs/automl/lib/python3.7/site-packages/mlflow/tracking/client.py\u001b[0m in \u001b[0;36m__init__\u001b[0;34m(self, tracking_uri, registry_uri)\u001b[0m\n\u001b[1;32m     52\u001b[0m         \u001b[0mfinal_tracking_uri\u001b[0m \u001b[0;34m=\u001b[0m \u001b[0mutils\u001b[0m\u001b[0;34m.\u001b[0m\u001b[0m_resolve_tracking_uri\u001b[0m\u001b[0;34m(\u001b[0m\u001b[0mtracking_uri\u001b[0m\u001b[0;34m)\u001b[0m\u001b[0;34m\u001b[0m\u001b[0;34m\u001b[0m\u001b[0m\n\u001b[1;32m     53\u001b[0m         \u001b[0mself\u001b[0m\u001b[0;34m.\u001b[0m\u001b[0m_registry_uri\u001b[0m \u001b[0;34m=\u001b[0m \u001b[0mregistry_utils\u001b[0m\u001b[0;34m.\u001b[0m\u001b[0m_resolve_registry_uri\u001b[0m\u001b[0;34m(\u001b[0m\u001b[0mregistry_uri\u001b[0m\u001b[0;34m,\u001b[0m \u001b[0mtracking_uri\u001b[0m\u001b[0;34m)\u001b[0m\u001b[0;34m\u001b[0m\u001b[0;34m\u001b[0m\u001b[0m\n\u001b[0;32m---> 54\u001b[0;31m         \u001b[0mself\u001b[0m\u001b[0;34m.\u001b[0m\u001b[0m_tracking_client\u001b[0m \u001b[0;34m=\u001b[0m \u001b[0mTrackingServiceClient\u001b[0m\u001b[0;34m(\u001b[0m\u001b[0mfinal_tracking_uri\u001b[0m\u001b[0;34m)\u001b[0m\u001b[0;34m\u001b[0m\u001b[0;34m\u001b[0m\u001b[0m\n\u001b[0m\u001b[1;32m     55\u001b[0m         \u001b[0;31m# `MlflowClient` also references a `ModelRegistryClient` instance that is provided by the\u001b[0m\u001b[0;34m\u001b[0m\u001b[0;34m\u001b[0m\u001b[0;34m\u001b[0m\u001b[0m\n\u001b[1;32m     56\u001b[0m         \u001b[0;31m# `MlflowClient._get_registry_client()` method. This `ModelRegistryClient` is not explicitly\u001b[0m\u001b[0;34m\u001b[0m\u001b[0;34m\u001b[0m\u001b[0;34m\u001b[0m\u001b[0m\n",
      "\u001b[0;32m~/miniconda3/envs/automl/lib/python3.7/site-packages/mlflow/tracking/_tracking_service/client.py\u001b[0m in \u001b[0;36m__init__\u001b[0;34m(self, tracking_uri)\u001b[0m\n\u001b[1;32m     36\u001b[0m         \"\"\"\n\u001b[1;32m     37\u001b[0m         \u001b[0mself\u001b[0m\u001b[0;34m.\u001b[0m\u001b[0mtracking_uri\u001b[0m \u001b[0;34m=\u001b[0m \u001b[0mtracking_uri\u001b[0m\u001b[0;34m\u001b[0m\u001b[0;34m\u001b[0m\u001b[0m\n\u001b[0;32m---> 38\u001b[0;31m         \u001b[0mself\u001b[0m\u001b[0;34m.\u001b[0m\u001b[0mstore\u001b[0m \u001b[0;34m=\u001b[0m \u001b[0mutils\u001b[0m\u001b[0;34m.\u001b[0m\u001b[0m_get_store\u001b[0m\u001b[0;34m(\u001b[0m\u001b[0mself\u001b[0m\u001b[0;34m.\u001b[0m\u001b[0mtracking_uri\u001b[0m\u001b[0;34m)\u001b[0m\u001b[0;34m\u001b[0m\u001b[0;34m\u001b[0m\u001b[0m\n\u001b[0m\u001b[1;32m     39\u001b[0m \u001b[0;34m\u001b[0m\u001b[0m\n\u001b[1;32m     40\u001b[0m     \u001b[0;32mdef\u001b[0m \u001b[0mget_run\u001b[0m\u001b[0;34m(\u001b[0m\u001b[0mself\u001b[0m\u001b[0;34m,\u001b[0m \u001b[0mrun_id\u001b[0m\u001b[0;34m)\u001b[0m\u001b[0;34m:\u001b[0m\u001b[0;34m\u001b[0m\u001b[0;34m\u001b[0m\u001b[0m\n",
      "\u001b[0;32m~/miniconda3/envs/automl/lib/python3.7/site-packages/mlflow/tracking/_tracking_service/utils.py\u001b[0m in \u001b[0;36m_get_store\u001b[0;34m(store_uri, artifact_uri)\u001b[0m\n\u001b[1;32m    153\u001b[0m \u001b[0;34m\u001b[0m\u001b[0m\n\u001b[1;32m    154\u001b[0m \u001b[0;32mdef\u001b[0m \u001b[0m_get_store\u001b[0m\u001b[0;34m(\u001b[0m\u001b[0mstore_uri\u001b[0m\u001b[0;34m=\u001b[0m\u001b[0;32mNone\u001b[0m\u001b[0;34m,\u001b[0m \u001b[0martifact_uri\u001b[0m\u001b[0;34m=\u001b[0m\u001b[0;32mNone\u001b[0m\u001b[0;34m)\u001b[0m\u001b[0;34m:\u001b[0m\u001b[0;34m\u001b[0m\u001b[0;34m\u001b[0m\u001b[0m\n\u001b[0;32m--> 155\u001b[0;31m     \u001b[0;32mreturn\u001b[0m \u001b[0m_tracking_store_registry\u001b[0m\u001b[0;34m.\u001b[0m\u001b[0mget_store\u001b[0m\u001b[0;34m(\u001b[0m\u001b[0mstore_uri\u001b[0m\u001b[0;34m,\u001b[0m \u001b[0martifact_uri\u001b[0m\u001b[0;34m)\u001b[0m\u001b[0;34m\u001b[0m\u001b[0;34m\u001b[0m\u001b[0m\n\u001b[0m\u001b[1;32m    156\u001b[0m \u001b[0;34m\u001b[0m\u001b[0m\n\u001b[1;32m    157\u001b[0m \u001b[0;34m\u001b[0m\u001b[0m\n",
      "\u001b[0;32m~/miniconda3/envs/automl/lib/python3.7/site-packages/mlflow/tracking/_tracking_service/registry.py\u001b[0m in \u001b[0;36mget_store\u001b[0;34m(self, store_uri, artifact_uri)\u001b[0m\n\u001b[1;32m     35\u001b[0m \u001b[0;34m\u001b[0m\u001b[0m\n\u001b[1;32m     36\u001b[0m         \u001b[0mstore_uri\u001b[0m \u001b[0;34m=\u001b[0m \u001b[0mutils\u001b[0m\u001b[0;34m.\u001b[0m\u001b[0m_resolve_tracking_uri\u001b[0m\u001b[0;34m(\u001b[0m\u001b[0mstore_uri\u001b[0m\u001b[0;34m)\u001b[0m\u001b[0;34m\u001b[0m\u001b[0;34m\u001b[0m\u001b[0m\n\u001b[0;32m---> 37\u001b[0;31m         \u001b[0mbuilder\u001b[0m \u001b[0;34m=\u001b[0m \u001b[0mself\u001b[0m\u001b[0;34m.\u001b[0m\u001b[0mget_store_builder\u001b[0m\u001b[0;34m(\u001b[0m\u001b[0mstore_uri\u001b[0m\u001b[0;34m)\u001b[0m\u001b[0;34m\u001b[0m\u001b[0;34m\u001b[0m\u001b[0m\n\u001b[0m\u001b[1;32m     38\u001b[0m         \u001b[0;32mreturn\u001b[0m \u001b[0mbuilder\u001b[0m\u001b[0;34m(\u001b[0m\u001b[0mstore_uri\u001b[0m\u001b[0;34m=\u001b[0m\u001b[0mstore_uri\u001b[0m\u001b[0;34m,\u001b[0m \u001b[0martifact_uri\u001b[0m\u001b[0;34m=\u001b[0m\u001b[0martifact_uri\u001b[0m\u001b[0;34m)\u001b[0m\u001b[0;34m\u001b[0m\u001b[0;34m\u001b[0m\u001b[0m\n",
      "\u001b[0;32m~/miniconda3/envs/automl/lib/python3.7/site-packages/mlflow/tracking/registry.py\u001b[0m in \u001b[0;36mget_store_builder\u001b[0;34m(self, store_uri)\u001b[0m\n\u001b[1;32m     77\u001b[0m         \u001b[0;32mexcept\u001b[0m \u001b[0mKeyError\u001b[0m\u001b[0;34m:\u001b[0m\u001b[0;34m\u001b[0m\u001b[0;34m\u001b[0m\u001b[0m\n\u001b[1;32m     78\u001b[0m             raise UnsupportedModelRegistryStoreURIException(\n\u001b[0;32m---> 79\u001b[0;31m                 \u001b[0munsupported_uri\u001b[0m\u001b[0;34m=\u001b[0m\u001b[0mstore_uri\u001b[0m\u001b[0;34m,\u001b[0m \u001b[0msupported_uri_schemes\u001b[0m\u001b[0;34m=\u001b[0m\u001b[0mlist\u001b[0m\u001b[0;34m(\u001b[0m\u001b[0mself\u001b[0m\u001b[0;34m.\u001b[0m\u001b[0m_registry\u001b[0m\u001b[0;34m.\u001b[0m\u001b[0mkeys\u001b[0m\u001b[0;34m(\u001b[0m\u001b[0;34m)\u001b[0m\u001b[0;34m)\u001b[0m\u001b[0;34m\u001b[0m\u001b[0;34m\u001b[0m\u001b[0m\n\u001b[0m\u001b[1;32m     80\u001b[0m             )\n\u001b[1;32m     81\u001b[0m         \u001b[0;32mreturn\u001b[0m \u001b[0mstore_builder\u001b[0m\u001b[0;34m\u001b[0m\u001b[0;34m\u001b[0m\u001b[0m\n",
      "\u001b[0;31mUnsupportedModelRegistryStoreURIException\u001b[0m:  Model registry functionality is unavailable; got unsupported URI 'azureml://eastus.experiments.azureml.net/mlflow/v1.0/subscriptions/6560575d-fa06-4e7d-95fb-f962e74efd7a/resourceGroups/azureml-examples/providers/Microsoft.MachineLearningServices/workspaces/default?' for model registry data storage. Supported URI schemes are: ['', 'file', 'databricks', 'http', 'https', 'postgresql', 'mysql', 'sqlite', 'mssql']. See https://www.mlflow.org/docs/latest/tracking.html#storage for how to run an MLflow server against one of the supported backend storage locations."
     ]
    }
   ],
   "source": [
    "from pycaret.classification import *\n",
    "\n",
    "exp = setup(\n",
    "    data=data,\n",
    "    target=\"species\",\n",
    "    log_experiment=True,\n",
    "    experiment_name=\"pycaret-untitled\",\n",
    "    log_plots=True,\n",
    "    log_profile=True,\n",
    "    silent=False,  # set to False for interactively setting data types\n",
    ")"
   ]
  },
  {
   "cell_type": "code",
   "execution_count": 22,
   "metadata": {},
   "outputs": [
    {
     "output_type": "execute_result",
     "data": {
      "text/plain": [
       "                                     Name  \\\n",
       "ID                                          \n",
       "lr                    Logistic Regression   \n",
       "knn                K Neighbors Classifier   \n",
       "nb                            Naive Bayes   \n",
       "dt               Decision Tree Classifier   \n",
       "svm                   SVM - Linear Kernel   \n",
       "rbfsvm                SVM - Radial Kernel   \n",
       "gpc           Gaussian Process Classifier   \n",
       "mlp                        MLP Classifier   \n",
       "ridge                    Ridge Classifier   \n",
       "rf               Random Forest Classifier   \n",
       "qda       Quadratic Discriminant Analysis   \n",
       "ada                  Ada Boost Classifier   \n",
       "gbc          Gradient Boosting Classifier   \n",
       "lda          Linear Discriminant Analysis   \n",
       "et                 Extra Trees Classifier   \n",
       "xgboost         Extreme Gradient Boosting   \n",
       "lightgbm  Light Gradient Boosting Machine   \n",
       "catboost              CatBoost Classifier   \n",
       "\n",
       "                                                  Reference  Turbo  \n",
       "ID                                                                  \n",
       "lr        sklearn.linear_model._logistic.LogisticRegression   True  \n",
       "knn       sklearn.neighbors._classification.KNeighborsCl...   True  \n",
       "nb                           sklearn.naive_bayes.GaussianNB   True  \n",
       "dt             sklearn.tree._classes.DecisionTreeClassifier   True  \n",
       "svm       sklearn.linear_model._stochastic_gradient.SGDC...   True  \n",
       "rbfsvm                             sklearn.svm._classes.SVC  False  \n",
       "gpc       sklearn.gaussian_process._gpc.GaussianProcessC...  False  \n",
       "mlp           pycaret.internal.tunable.TunableMLPClassifier  False  \n",
       "ridge           sklearn.linear_model._ridge.RidgeClassifier   True  \n",
       "rf          sklearn.ensemble._forest.RandomForestClassifier   True  \n",
       "qda       sklearn.discriminant_analysis.QuadraticDiscrim...   True  \n",
       "ada       sklearn.ensemble._weight_boosting.AdaBoostClas...   True  \n",
       "gbc         sklearn.ensemble._gb.GradientBoostingClassifier   True  \n",
       "lda       sklearn.discriminant_analysis.LinearDiscrimina...   True  \n",
       "et            sklearn.ensemble._forest.ExtraTreesClassifier   True  \n",
       "xgboost                       xgboost.sklearn.XGBClassifier   True  \n",
       "lightgbm                    lightgbm.sklearn.LGBMClassifier   True  \n",
       "catboost                   catboost.core.CatBoostClassifier   True  "
      ],
      "text/html": "<div>\n<style scoped>\n    .dataframe tbody tr th:only-of-type {\n        vertical-align: middle;\n    }\n\n    .dataframe tbody tr th {\n        vertical-align: top;\n    }\n\n    .dataframe thead th {\n        text-align: right;\n    }\n</style>\n<table border=\"1\" class=\"dataframe\">\n  <thead>\n    <tr style=\"text-align: right;\">\n      <th></th>\n      <th>Name</th>\n      <th>Reference</th>\n      <th>Turbo</th>\n    </tr>\n    <tr>\n      <th>ID</th>\n      <th></th>\n      <th></th>\n      <th></th>\n    </tr>\n  </thead>\n  <tbody>\n    <tr>\n      <th>lr</th>\n      <td>Logistic Regression</td>\n      <td>sklearn.linear_model._logistic.LogisticRegression</td>\n      <td>True</td>\n    </tr>\n    <tr>\n      <th>knn</th>\n      <td>K Neighbors Classifier</td>\n      <td>sklearn.neighbors._classification.KNeighborsCl...</td>\n      <td>True</td>\n    </tr>\n    <tr>\n      <th>nb</th>\n      <td>Naive Bayes</td>\n      <td>sklearn.naive_bayes.GaussianNB</td>\n      <td>True</td>\n    </tr>\n    <tr>\n      <th>dt</th>\n      <td>Decision Tree Classifier</td>\n      <td>sklearn.tree._classes.DecisionTreeClassifier</td>\n      <td>True</td>\n    </tr>\n    <tr>\n      <th>svm</th>\n      <td>SVM - Linear Kernel</td>\n      <td>sklearn.linear_model._stochastic_gradient.SGDC...</td>\n      <td>True</td>\n    </tr>\n    <tr>\n      <th>rbfsvm</th>\n      <td>SVM - Radial Kernel</td>\n      <td>sklearn.svm._classes.SVC</td>\n      <td>False</td>\n    </tr>\n    <tr>\n      <th>gpc</th>\n      <td>Gaussian Process Classifier</td>\n      <td>sklearn.gaussian_process._gpc.GaussianProcessC...</td>\n      <td>False</td>\n    </tr>\n    <tr>\n      <th>mlp</th>\n      <td>MLP Classifier</td>\n      <td>pycaret.internal.tunable.TunableMLPClassifier</td>\n      <td>False</td>\n    </tr>\n    <tr>\n      <th>ridge</th>\n      <td>Ridge Classifier</td>\n      <td>sklearn.linear_model._ridge.RidgeClassifier</td>\n      <td>True</td>\n    </tr>\n    <tr>\n      <th>rf</th>\n      <td>Random Forest Classifier</td>\n      <td>sklearn.ensemble._forest.RandomForestClassifier</td>\n      <td>True</td>\n    </tr>\n    <tr>\n      <th>qda</th>\n      <td>Quadratic Discriminant Analysis</td>\n      <td>sklearn.discriminant_analysis.QuadraticDiscrim...</td>\n      <td>True</td>\n    </tr>\n    <tr>\n      <th>ada</th>\n      <td>Ada Boost Classifier</td>\n      <td>sklearn.ensemble._weight_boosting.AdaBoostClas...</td>\n      <td>True</td>\n    </tr>\n    <tr>\n      <th>gbc</th>\n      <td>Gradient Boosting Classifier</td>\n      <td>sklearn.ensemble._gb.GradientBoostingClassifier</td>\n      <td>True</td>\n    </tr>\n    <tr>\n      <th>lda</th>\n      <td>Linear Discriminant Analysis</td>\n      <td>sklearn.discriminant_analysis.LinearDiscrimina...</td>\n      <td>True</td>\n    </tr>\n    <tr>\n      <th>et</th>\n      <td>Extra Trees Classifier</td>\n      <td>sklearn.ensemble._forest.ExtraTreesClassifier</td>\n      <td>True</td>\n    </tr>\n    <tr>\n      <th>xgboost</th>\n      <td>Extreme Gradient Boosting</td>\n      <td>xgboost.sklearn.XGBClassifier</td>\n      <td>True</td>\n    </tr>\n    <tr>\n      <th>lightgbm</th>\n      <td>Light Gradient Boosting Machine</td>\n      <td>lightgbm.sklearn.LGBMClassifier</td>\n      <td>True</td>\n    </tr>\n    <tr>\n      <th>catboost</th>\n      <td>CatBoost Classifier</td>\n      <td>catboost.core.CatBoostClassifier</td>\n      <td>True</td>\n    </tr>\n  </tbody>\n</table>\n</div>"
     },
     "metadata": {},
     "execution_count": 22
    }
   ],
   "source": [
    "models()"
   ]
  },
  {
   "cell_type": "code",
   "execution_count": 23,
   "metadata": {},
   "outputs": [
    {
     "output_type": "display_data",
     "data": {
      "text/plain": "<pandas.io.formats.style.Styler at 0x7f9c224c6110>",
      "text/html": "<style  type=\"text/css\" >\n    #T_ec23e6ec_2aa0_11eb_be2b_149d997c8401 th {\n          text-align: left;\n    }#T_ec23e6ec_2aa0_11eb_be2b_149d997c8401row0_col0,#T_ec23e6ec_2aa0_11eb_be2b_149d997c8401row1_col0,#T_ec23e6ec_2aa0_11eb_be2b_149d997c8401row1_col1,#T_ec23e6ec_2aa0_11eb_be2b_149d997c8401row1_col3,#T_ec23e6ec_2aa0_11eb_be2b_149d997c8401row1_col4,#T_ec23e6ec_2aa0_11eb_be2b_149d997c8401row1_col5,#T_ec23e6ec_2aa0_11eb_be2b_149d997c8401row1_col6,#T_ec23e6ec_2aa0_11eb_be2b_149d997c8401row1_col7,#T_ec23e6ec_2aa0_11eb_be2b_149d997c8401row2_col0,#T_ec23e6ec_2aa0_11eb_be2b_149d997c8401row2_col1,#T_ec23e6ec_2aa0_11eb_be2b_149d997c8401row2_col3,#T_ec23e6ec_2aa0_11eb_be2b_149d997c8401row2_col4,#T_ec23e6ec_2aa0_11eb_be2b_149d997c8401row2_col5,#T_ec23e6ec_2aa0_11eb_be2b_149d997c8401row2_col6,#T_ec23e6ec_2aa0_11eb_be2b_149d997c8401row2_col7,#T_ec23e6ec_2aa0_11eb_be2b_149d997c8401row3_col0,#T_ec23e6ec_2aa0_11eb_be2b_149d997c8401row3_col1,#T_ec23e6ec_2aa0_11eb_be2b_149d997c8401row3_col3,#T_ec23e6ec_2aa0_11eb_be2b_149d997c8401row3_col4,#T_ec23e6ec_2aa0_11eb_be2b_149d997c8401row3_col5,#T_ec23e6ec_2aa0_11eb_be2b_149d997c8401row3_col6,#T_ec23e6ec_2aa0_11eb_be2b_149d997c8401row3_col7,#T_ec23e6ec_2aa0_11eb_be2b_149d997c8401row4_col0,#T_ec23e6ec_2aa0_11eb_be2b_149d997c8401row4_col1,#T_ec23e6ec_2aa0_11eb_be2b_149d997c8401row4_col3,#T_ec23e6ec_2aa0_11eb_be2b_149d997c8401row4_col4,#T_ec23e6ec_2aa0_11eb_be2b_149d997c8401row4_col5,#T_ec23e6ec_2aa0_11eb_be2b_149d997c8401row4_col6,#T_ec23e6ec_2aa0_11eb_be2b_149d997c8401row4_col7,#T_ec23e6ec_2aa0_11eb_be2b_149d997c8401row5_col0,#T_ec23e6ec_2aa0_11eb_be2b_149d997c8401row5_col1,#T_ec23e6ec_2aa0_11eb_be2b_149d997c8401row5_col2,#T_ec23e6ec_2aa0_11eb_be2b_149d997c8401row5_col3,#T_ec23e6ec_2aa0_11eb_be2b_149d997c8401row5_col4,#T_ec23e6ec_2aa0_11eb_be2b_149d997c8401row5_col5,#T_ec23e6ec_2aa0_11eb_be2b_149d997c8401row5_col6,#T_ec23e6ec_2aa0_11eb_be2b_149d997c8401row5_col7,#T_ec23e6ec_2aa0_11eb_be2b_149d997c8401row6_col0,#T_ec23e6ec_2aa0_11eb_be2b_149d997c8401row6_col1,#T_ec23e6ec_2aa0_11eb_be2b_149d997c8401row6_col3,#T_ec23e6ec_2aa0_11eb_be2b_149d997c8401row6_col4,#T_ec23e6ec_2aa0_11eb_be2b_149d997c8401row6_col5,#T_ec23e6ec_2aa0_11eb_be2b_149d997c8401row6_col6,#T_ec23e6ec_2aa0_11eb_be2b_149d997c8401row6_col7,#T_ec23e6ec_2aa0_11eb_be2b_149d997c8401row7_col0,#T_ec23e6ec_2aa0_11eb_be2b_149d997c8401row7_col1,#T_ec23e6ec_2aa0_11eb_be2b_149d997c8401row7_col2,#T_ec23e6ec_2aa0_11eb_be2b_149d997c8401row7_col3,#T_ec23e6ec_2aa0_11eb_be2b_149d997c8401row7_col4,#T_ec23e6ec_2aa0_11eb_be2b_149d997c8401row7_col5,#T_ec23e6ec_2aa0_11eb_be2b_149d997c8401row7_col6,#T_ec23e6ec_2aa0_11eb_be2b_149d997c8401row7_col7,#T_ec23e6ec_2aa0_11eb_be2b_149d997c8401row8_col0,#T_ec23e6ec_2aa0_11eb_be2b_149d997c8401row8_col1,#T_ec23e6ec_2aa0_11eb_be2b_149d997c8401row8_col2,#T_ec23e6ec_2aa0_11eb_be2b_149d997c8401row8_col3,#T_ec23e6ec_2aa0_11eb_be2b_149d997c8401row8_col4,#T_ec23e6ec_2aa0_11eb_be2b_149d997c8401row8_col5,#T_ec23e6ec_2aa0_11eb_be2b_149d997c8401row8_col6,#T_ec23e6ec_2aa0_11eb_be2b_149d997c8401row8_col7,#T_ec23e6ec_2aa0_11eb_be2b_149d997c8401row9_col0,#T_ec23e6ec_2aa0_11eb_be2b_149d997c8401row9_col1,#T_ec23e6ec_2aa0_11eb_be2b_149d997c8401row9_col2,#T_ec23e6ec_2aa0_11eb_be2b_149d997c8401row9_col3,#T_ec23e6ec_2aa0_11eb_be2b_149d997c8401row9_col4,#T_ec23e6ec_2aa0_11eb_be2b_149d997c8401row9_col5,#T_ec23e6ec_2aa0_11eb_be2b_149d997c8401row9_col6,#T_ec23e6ec_2aa0_11eb_be2b_149d997c8401row9_col7,#T_ec23e6ec_2aa0_11eb_be2b_149d997c8401row10_col0,#T_ec23e6ec_2aa0_11eb_be2b_149d997c8401row10_col1,#T_ec23e6ec_2aa0_11eb_be2b_149d997c8401row10_col2,#T_ec23e6ec_2aa0_11eb_be2b_149d997c8401row10_col3,#T_ec23e6ec_2aa0_11eb_be2b_149d997c8401row10_col4,#T_ec23e6ec_2aa0_11eb_be2b_149d997c8401row10_col5,#T_ec23e6ec_2aa0_11eb_be2b_149d997c8401row10_col6,#T_ec23e6ec_2aa0_11eb_be2b_149d997c8401row10_col7,#T_ec23e6ec_2aa0_11eb_be2b_149d997c8401row11_col0,#T_ec23e6ec_2aa0_11eb_be2b_149d997c8401row11_col1,#T_ec23e6ec_2aa0_11eb_be2b_149d997c8401row11_col2,#T_ec23e6ec_2aa0_11eb_be2b_149d997c8401row11_col3,#T_ec23e6ec_2aa0_11eb_be2b_149d997c8401row11_col4,#T_ec23e6ec_2aa0_11eb_be2b_149d997c8401row11_col5,#T_ec23e6ec_2aa0_11eb_be2b_149d997c8401row11_col6,#T_ec23e6ec_2aa0_11eb_be2b_149d997c8401row11_col7,#T_ec23e6ec_2aa0_11eb_be2b_149d997c8401row12_col0,#T_ec23e6ec_2aa0_11eb_be2b_149d997c8401row12_col1,#T_ec23e6ec_2aa0_11eb_be2b_149d997c8401row12_col2,#T_ec23e6ec_2aa0_11eb_be2b_149d997c8401row12_col3,#T_ec23e6ec_2aa0_11eb_be2b_149d997c8401row12_col4,#T_ec23e6ec_2aa0_11eb_be2b_149d997c8401row12_col5,#T_ec23e6ec_2aa0_11eb_be2b_149d997c8401row12_col6,#T_ec23e6ec_2aa0_11eb_be2b_149d997c8401row12_col7,#T_ec23e6ec_2aa0_11eb_be2b_149d997c8401row13_col0,#T_ec23e6ec_2aa0_11eb_be2b_149d997c8401row13_col1,#T_ec23e6ec_2aa0_11eb_be2b_149d997c8401row13_col2,#T_ec23e6ec_2aa0_11eb_be2b_149d997c8401row13_col3,#T_ec23e6ec_2aa0_11eb_be2b_149d997c8401row13_col4,#T_ec23e6ec_2aa0_11eb_be2b_149d997c8401row13_col5,#T_ec23e6ec_2aa0_11eb_be2b_149d997c8401row13_col6,#T_ec23e6ec_2aa0_11eb_be2b_149d997c8401row13_col7,#T_ec23e6ec_2aa0_11eb_be2b_149d997c8401row14_col0,#T_ec23e6ec_2aa0_11eb_be2b_149d997c8401row14_col1,#T_ec23e6ec_2aa0_11eb_be2b_149d997c8401row14_col2,#T_ec23e6ec_2aa0_11eb_be2b_149d997c8401row14_col3,#T_ec23e6ec_2aa0_11eb_be2b_149d997c8401row14_col4,#T_ec23e6ec_2aa0_11eb_be2b_149d997c8401row14_col5,#T_ec23e6ec_2aa0_11eb_be2b_149d997c8401row14_col6,#T_ec23e6ec_2aa0_11eb_be2b_149d997c8401row14_col7{\n            text-align:  left;\n            text-align:  left;\n        }#T_ec23e6ec_2aa0_11eb_be2b_149d997c8401row0_col1,#T_ec23e6ec_2aa0_11eb_be2b_149d997c8401row0_col2,#T_ec23e6ec_2aa0_11eb_be2b_149d997c8401row0_col3,#T_ec23e6ec_2aa0_11eb_be2b_149d997c8401row0_col4,#T_ec23e6ec_2aa0_11eb_be2b_149d997c8401row0_col5,#T_ec23e6ec_2aa0_11eb_be2b_149d997c8401row0_col6,#T_ec23e6ec_2aa0_11eb_be2b_149d997c8401row0_col7,#T_ec23e6ec_2aa0_11eb_be2b_149d997c8401row1_col2,#T_ec23e6ec_2aa0_11eb_be2b_149d997c8401row2_col2,#T_ec23e6ec_2aa0_11eb_be2b_149d997c8401row3_col2,#T_ec23e6ec_2aa0_11eb_be2b_149d997c8401row4_col2,#T_ec23e6ec_2aa0_11eb_be2b_149d997c8401row6_col2{\n            text-align:  left;\n            text-align:  left;\n            background-color:  yellow;\n        }#T_ec23e6ec_2aa0_11eb_be2b_149d997c8401row0_col8,#T_ec23e6ec_2aa0_11eb_be2b_149d997c8401row1_col8,#T_ec23e6ec_2aa0_11eb_be2b_149d997c8401row2_col8,#T_ec23e6ec_2aa0_11eb_be2b_149d997c8401row3_col8,#T_ec23e6ec_2aa0_11eb_be2b_149d997c8401row5_col8,#T_ec23e6ec_2aa0_11eb_be2b_149d997c8401row6_col8,#T_ec23e6ec_2aa0_11eb_be2b_149d997c8401row7_col8,#T_ec23e6ec_2aa0_11eb_be2b_149d997c8401row8_col8,#T_ec23e6ec_2aa0_11eb_be2b_149d997c8401row9_col8,#T_ec23e6ec_2aa0_11eb_be2b_149d997c8401row10_col8,#T_ec23e6ec_2aa0_11eb_be2b_149d997c8401row11_col8,#T_ec23e6ec_2aa0_11eb_be2b_149d997c8401row12_col8,#T_ec23e6ec_2aa0_11eb_be2b_149d997c8401row14_col8{\n            text-align:  left;\n            text-align:  left;\n            background-color:  lightgrey;\n        }#T_ec23e6ec_2aa0_11eb_be2b_149d997c8401row4_col8,#T_ec23e6ec_2aa0_11eb_be2b_149d997c8401row13_col8{\n            text-align:  left;\n            text-align:  left;\n            background-color:  yellow;\n            background-color:  lightgrey;\n        }</style><table id=\"T_ec23e6ec_2aa0_11eb_be2b_149d997c8401\" ><thead>    <tr>        <th class=\"blank level0\" ></th>        <th class=\"col_heading level0 col0\" >Model</th>        <th class=\"col_heading level0 col1\" >Accuracy</th>        <th class=\"col_heading level0 col2\" >AUC</th>        <th class=\"col_heading level0 col3\" >Recall</th>        <th class=\"col_heading level0 col4\" >Prec.</th>        <th class=\"col_heading level0 col5\" >F1</th>        <th class=\"col_heading level0 col6\" >Kappa</th>        <th class=\"col_heading level0 col7\" >MCC</th>        <th class=\"col_heading level0 col8\" >TT (Sec)</th>    </tr></thead><tbody>\n                <tr>\n                        <th id=\"T_ec23e6ec_2aa0_11eb_be2b_149d997c8401level0_row0\" class=\"row_heading level0 row0\" >lda</th>\n                        <td id=\"T_ec23e6ec_2aa0_11eb_be2b_149d997c8401row0_col0\" class=\"data row0 col0\" >Linear Discriminant Analysis</td>\n                        <td id=\"T_ec23e6ec_2aa0_11eb_be2b_149d997c8401row0_col1\" class=\"data row0 col1\" >0.9900</td>\n                        <td id=\"T_ec23e6ec_2aa0_11eb_be2b_149d997c8401row0_col2\" class=\"data row0 col2\" >1.0000</td>\n                        <td id=\"T_ec23e6ec_2aa0_11eb_be2b_149d997c8401row0_col3\" class=\"data row0 col3\" >0.9889</td>\n                        <td id=\"T_ec23e6ec_2aa0_11eb_be2b_149d997c8401row0_col4\" class=\"data row0 col4\" >0.9920</td>\n                        <td id=\"T_ec23e6ec_2aa0_11eb_be2b_149d997c8401row0_col5\" class=\"data row0 col5\" >0.9896</td>\n                        <td id=\"T_ec23e6ec_2aa0_11eb_be2b_149d997c8401row0_col6\" class=\"data row0 col6\" >0.9846</td>\n                        <td id=\"T_ec23e6ec_2aa0_11eb_be2b_149d997c8401row0_col7\" class=\"data row0 col7\" >0.9860</td>\n                        <td id=\"T_ec23e6ec_2aa0_11eb_be2b_149d997c8401row0_col8\" class=\"data row0 col8\" >0.0080</td>\n            </tr>\n            <tr>\n                        <th id=\"T_ec23e6ec_2aa0_11eb_be2b_149d997c8401level0_row1\" class=\"row_heading level0 row1\" >qda</th>\n                        <td id=\"T_ec23e6ec_2aa0_11eb_be2b_149d997c8401row1_col0\" class=\"data row1 col0\" >Quadratic Discriminant Analysis</td>\n                        <td id=\"T_ec23e6ec_2aa0_11eb_be2b_149d997c8401row1_col1\" class=\"data row1 col1\" >0.9800</td>\n                        <td id=\"T_ec23e6ec_2aa0_11eb_be2b_149d997c8401row1_col2\" class=\"data row1 col2\" >1.0000</td>\n                        <td id=\"T_ec23e6ec_2aa0_11eb_be2b_149d997c8401row1_col3\" class=\"data row1 col3\" >0.9806</td>\n                        <td id=\"T_ec23e6ec_2aa0_11eb_be2b_149d997c8401row1_col4\" class=\"data row1 col4\" >0.9845</td>\n                        <td id=\"T_ec23e6ec_2aa0_11eb_be2b_149d997c8401row1_col5\" class=\"data row1 col5\" >0.9796</td>\n                        <td id=\"T_ec23e6ec_2aa0_11eb_be2b_149d997c8401row1_col6\" class=\"data row1 col6\" >0.9697</td>\n                        <td id=\"T_ec23e6ec_2aa0_11eb_be2b_149d997c8401row1_col7\" class=\"data row1 col7\" >0.9723</td>\n                        <td id=\"T_ec23e6ec_2aa0_11eb_be2b_149d997c8401row1_col8\" class=\"data row1 col8\" >0.0080</td>\n            </tr>\n            <tr>\n                        <th id=\"T_ec23e6ec_2aa0_11eb_be2b_149d997c8401level0_row2\" class=\"row_heading level0 row2\" >lr</th>\n                        <td id=\"T_ec23e6ec_2aa0_11eb_be2b_149d997c8401row2_col0\" class=\"data row2 col0\" >Logistic Regression</td>\n                        <td id=\"T_ec23e6ec_2aa0_11eb_be2b_149d997c8401row2_col1\" class=\"data row2 col1\" >0.9700</td>\n                        <td id=\"T_ec23e6ec_2aa0_11eb_be2b_149d997c8401row2_col2\" class=\"data row2 col2\" >1.0000</td>\n                        <td id=\"T_ec23e6ec_2aa0_11eb_be2b_149d997c8401row2_col3\" class=\"data row2 col3\" >0.9694</td>\n                        <td id=\"T_ec23e6ec_2aa0_11eb_be2b_149d997c8401row2_col4\" class=\"data row2 col4\" >0.9792</td>\n                        <td id=\"T_ec23e6ec_2aa0_11eb_be2b_149d997c8401row2_col5\" class=\"data row2 col5\" >0.9670</td>\n                        <td id=\"T_ec23e6ec_2aa0_11eb_be2b_149d997c8401row2_col6\" class=\"data row2 col6\" >0.9538</td>\n                        <td id=\"T_ec23e6ec_2aa0_11eb_be2b_149d997c8401row2_col7\" class=\"data row2 col7\" >0.9601</td>\n                        <td id=\"T_ec23e6ec_2aa0_11eb_be2b_149d997c8401row2_col8\" class=\"data row2 col8\" >0.2010</td>\n            </tr>\n            <tr>\n                        <th id=\"T_ec23e6ec_2aa0_11eb_be2b_149d997c8401level0_row3\" class=\"row_heading level0 row3\" >knn</th>\n                        <td id=\"T_ec23e6ec_2aa0_11eb_be2b_149d997c8401row3_col0\" class=\"data row3 col0\" >K Neighbors Classifier</td>\n                        <td id=\"T_ec23e6ec_2aa0_11eb_be2b_149d997c8401row3_col1\" class=\"data row3 col1\" >0.9700</td>\n                        <td id=\"T_ec23e6ec_2aa0_11eb_be2b_149d997c8401row3_col2\" class=\"data row3 col2\" >1.0000</td>\n                        <td id=\"T_ec23e6ec_2aa0_11eb_be2b_149d997c8401row3_col3\" class=\"data row3 col3\" >0.9694</td>\n                        <td id=\"T_ec23e6ec_2aa0_11eb_be2b_149d997c8401row3_col4\" class=\"data row3 col4\" >0.9792</td>\n                        <td id=\"T_ec23e6ec_2aa0_11eb_be2b_149d997c8401row3_col5\" class=\"data row3 col5\" >0.9670</td>\n                        <td id=\"T_ec23e6ec_2aa0_11eb_be2b_149d997c8401row3_col6\" class=\"data row3 col6\" >0.9538</td>\n                        <td id=\"T_ec23e6ec_2aa0_11eb_be2b_149d997c8401row3_col7\" class=\"data row3 col7\" >0.9601</td>\n                        <td id=\"T_ec23e6ec_2aa0_11eb_be2b_149d997c8401row3_col8\" class=\"data row3 col8\" >0.0480</td>\n            </tr>\n            <tr>\n                        <th id=\"T_ec23e6ec_2aa0_11eb_be2b_149d997c8401level0_row4\" class=\"row_heading level0 row4\" >nb</th>\n                        <td id=\"T_ec23e6ec_2aa0_11eb_be2b_149d997c8401row4_col0\" class=\"data row4 col0\" >Naive Bayes</td>\n                        <td id=\"T_ec23e6ec_2aa0_11eb_be2b_149d997c8401row4_col1\" class=\"data row4 col1\" >0.9700</td>\n                        <td id=\"T_ec23e6ec_2aa0_11eb_be2b_149d997c8401row4_col2\" class=\"data row4 col2\" >1.0000</td>\n                        <td id=\"T_ec23e6ec_2aa0_11eb_be2b_149d997c8401row4_col3\" class=\"data row4 col3\" >0.9694</td>\n                        <td id=\"T_ec23e6ec_2aa0_11eb_be2b_149d997c8401row4_col4\" class=\"data row4 col4\" >0.9765</td>\n                        <td id=\"T_ec23e6ec_2aa0_11eb_be2b_149d997c8401row4_col5\" class=\"data row4 col5\" >0.9691</td>\n                        <td id=\"T_ec23e6ec_2aa0_11eb_be2b_149d997c8401row4_col6\" class=\"data row4 col6\" >0.9543</td>\n                        <td id=\"T_ec23e6ec_2aa0_11eb_be2b_149d997c8401row4_col7\" class=\"data row4 col7\" >0.9583</td>\n                        <td id=\"T_ec23e6ec_2aa0_11eb_be2b_149d997c8401row4_col8\" class=\"data row4 col8\" >0.0070</td>\n            </tr>\n            <tr>\n                        <th id=\"T_ec23e6ec_2aa0_11eb_be2b_149d997c8401level0_row5\" class=\"row_heading level0 row5\" >gbc</th>\n                        <td id=\"T_ec23e6ec_2aa0_11eb_be2b_149d997c8401row5_col0\" class=\"data row5 col0\" >Gradient Boosting Classifier</td>\n                        <td id=\"T_ec23e6ec_2aa0_11eb_be2b_149d997c8401row5_col1\" class=\"data row5 col1\" >0.9700</td>\n                        <td id=\"T_ec23e6ec_2aa0_11eb_be2b_149d997c8401row5_col2\" class=\"data row5 col2\" >0.9690</td>\n                        <td id=\"T_ec23e6ec_2aa0_11eb_be2b_149d997c8401row5_col3\" class=\"data row5 col3\" >0.9694</td>\n                        <td id=\"T_ec23e6ec_2aa0_11eb_be2b_149d997c8401row5_col4\" class=\"data row5 col4\" >0.9792</td>\n                        <td id=\"T_ec23e6ec_2aa0_11eb_be2b_149d997c8401row5_col5\" class=\"data row5 col5\" >0.9670</td>\n                        <td id=\"T_ec23e6ec_2aa0_11eb_be2b_149d997c8401row5_col6\" class=\"data row5 col6\" >0.9538</td>\n                        <td id=\"T_ec23e6ec_2aa0_11eb_be2b_149d997c8401row5_col7\" class=\"data row5 col7\" >0.9601</td>\n                        <td id=\"T_ec23e6ec_2aa0_11eb_be2b_149d997c8401row5_col8\" class=\"data row5 col8\" >0.0550</td>\n            </tr>\n            <tr>\n                        <th id=\"T_ec23e6ec_2aa0_11eb_be2b_149d997c8401level0_row6\" class=\"row_heading level0 row6\" >et</th>\n                        <td id=\"T_ec23e6ec_2aa0_11eb_be2b_149d997c8401row6_col0\" class=\"data row6 col0\" >Extra Trees Classifier</td>\n                        <td id=\"T_ec23e6ec_2aa0_11eb_be2b_149d997c8401row6_col1\" class=\"data row6 col1\" >0.9700</td>\n                        <td id=\"T_ec23e6ec_2aa0_11eb_be2b_149d997c8401row6_col2\" class=\"data row6 col2\" >1.0000</td>\n                        <td id=\"T_ec23e6ec_2aa0_11eb_be2b_149d997c8401row6_col3\" class=\"data row6 col3\" >0.9694</td>\n                        <td id=\"T_ec23e6ec_2aa0_11eb_be2b_149d997c8401row6_col4\" class=\"data row6 col4\" >0.9792</td>\n                        <td id=\"T_ec23e6ec_2aa0_11eb_be2b_149d997c8401row6_col5\" class=\"data row6 col5\" >0.9670</td>\n                        <td id=\"T_ec23e6ec_2aa0_11eb_be2b_149d997c8401row6_col6\" class=\"data row6 col6\" >0.9538</td>\n                        <td id=\"T_ec23e6ec_2aa0_11eb_be2b_149d997c8401row6_col7\" class=\"data row6 col7\" >0.9601</td>\n                        <td id=\"T_ec23e6ec_2aa0_11eb_be2b_149d997c8401row6_col8\" class=\"data row6 col8\" >0.1650</td>\n            </tr>\n            <tr>\n                        <th id=\"T_ec23e6ec_2aa0_11eb_be2b_149d997c8401level0_row7\" class=\"row_heading level0 row7\" >xgboost</th>\n                        <td id=\"T_ec23e6ec_2aa0_11eb_be2b_149d997c8401row7_col0\" class=\"data row7 col0\" >Extreme Gradient Boosting</td>\n                        <td id=\"T_ec23e6ec_2aa0_11eb_be2b_149d997c8401row7_col1\" class=\"data row7 col1\" >0.9700</td>\n                        <td id=\"T_ec23e6ec_2aa0_11eb_be2b_149d997c8401row7_col2\" class=\"data row7 col2\" >0.9985</td>\n                        <td id=\"T_ec23e6ec_2aa0_11eb_be2b_149d997c8401row7_col3\" class=\"data row7 col3\" >0.9694</td>\n                        <td id=\"T_ec23e6ec_2aa0_11eb_be2b_149d997c8401row7_col4\" class=\"data row7 col4\" >0.9792</td>\n                        <td id=\"T_ec23e6ec_2aa0_11eb_be2b_149d997c8401row7_col5\" class=\"data row7 col5\" >0.9670</td>\n                        <td id=\"T_ec23e6ec_2aa0_11eb_be2b_149d997c8401row7_col6\" class=\"data row7 col6\" >0.9538</td>\n                        <td id=\"T_ec23e6ec_2aa0_11eb_be2b_149d997c8401row7_col7\" class=\"data row7 col7\" >0.9601</td>\n                        <td id=\"T_ec23e6ec_2aa0_11eb_be2b_149d997c8401row7_col8\" class=\"data row7 col8\" >0.0240</td>\n            </tr>\n            <tr>\n                        <th id=\"T_ec23e6ec_2aa0_11eb_be2b_149d997c8401level0_row8\" class=\"row_heading level0 row8\" >dt</th>\n                        <td id=\"T_ec23e6ec_2aa0_11eb_be2b_149d997c8401row8_col0\" class=\"data row8 col0\" >Decision Tree Classifier</td>\n                        <td id=\"T_ec23e6ec_2aa0_11eb_be2b_149d997c8401row8_col1\" class=\"data row8 col1\" >0.9600</td>\n                        <td id=\"T_ec23e6ec_2aa0_11eb_be2b_149d997c8401row8_col2\" class=\"data row8 col2\" >0.9679</td>\n                        <td id=\"T_ec23e6ec_2aa0_11eb_be2b_149d997c8401row8_col3\" class=\"data row8 col3\" >0.9583</td>\n                        <td id=\"T_ec23e6ec_2aa0_11eb_be2b_149d997c8401row8_col4\" class=\"data row8 col4\" >0.9712</td>\n                        <td id=\"T_ec23e6ec_2aa0_11eb_be2b_149d997c8401row8_col5\" class=\"data row8 col5\" >0.9566</td>\n                        <td id=\"T_ec23e6ec_2aa0_11eb_be2b_149d997c8401row8_col6\" class=\"data row8 col6\" >0.9384</td>\n                        <td id=\"T_ec23e6ec_2aa0_11eb_be2b_149d997c8401row8_col7\" class=\"data row8 col7\" >0.9460</td>\n                        <td id=\"T_ec23e6ec_2aa0_11eb_be2b_149d997c8401row8_col8\" class=\"data row8 col8\" >0.0080</td>\n            </tr>\n            <tr>\n                        <th id=\"T_ec23e6ec_2aa0_11eb_be2b_149d997c8401level0_row9\" class=\"row_heading level0 row9\" >rf</th>\n                        <td id=\"T_ec23e6ec_2aa0_11eb_be2b_149d997c8401row9_col0\" class=\"data row9 col0\" >Random Forest Classifier</td>\n                        <td id=\"T_ec23e6ec_2aa0_11eb_be2b_149d997c8401row9_col1\" class=\"data row9 col1\" >0.9600</td>\n                        <td id=\"T_ec23e6ec_2aa0_11eb_be2b_149d997c8401row9_col2\" class=\"data row9 col2\" >0.9986</td>\n                        <td id=\"T_ec23e6ec_2aa0_11eb_be2b_149d997c8401row9_col3\" class=\"data row9 col3\" >0.9583</td>\n                        <td id=\"T_ec23e6ec_2aa0_11eb_be2b_149d997c8401row9_col4\" class=\"data row9 col4\" >0.9712</td>\n                        <td id=\"T_ec23e6ec_2aa0_11eb_be2b_149d997c8401row9_col5\" class=\"data row9 col5\" >0.9566</td>\n                        <td id=\"T_ec23e6ec_2aa0_11eb_be2b_149d997c8401row9_col6\" class=\"data row9 col6\" >0.9384</td>\n                        <td id=\"T_ec23e6ec_2aa0_11eb_be2b_149d997c8401row9_col7\" class=\"data row9 col7\" >0.9460</td>\n                        <td id=\"T_ec23e6ec_2aa0_11eb_be2b_149d997c8401row9_col8\" class=\"data row9 col8\" >0.1630</td>\n            </tr>\n            <tr>\n                        <th id=\"T_ec23e6ec_2aa0_11eb_be2b_149d997c8401level0_row10\" class=\"row_heading level0 row10\" >catboost</th>\n                        <td id=\"T_ec23e6ec_2aa0_11eb_be2b_149d997c8401row10_col0\" class=\"data row10 col0\" >CatBoost Classifier</td>\n                        <td id=\"T_ec23e6ec_2aa0_11eb_be2b_149d997c8401row10_col1\" class=\"data row10 col1\" >0.9600</td>\n                        <td id=\"T_ec23e6ec_2aa0_11eb_be2b_149d997c8401row10_col2\" class=\"data row10 col2\" >0.9986</td>\n                        <td id=\"T_ec23e6ec_2aa0_11eb_be2b_149d997c8401row10_col3\" class=\"data row10 col3\" >0.9611</td>\n                        <td id=\"T_ec23e6ec_2aa0_11eb_be2b_149d997c8401row10_col4\" class=\"data row10 col4\" >0.9747</td>\n                        <td id=\"T_ec23e6ec_2aa0_11eb_be2b_149d997c8401row10_col5\" class=\"data row10 col5\" >0.9562</td>\n                        <td id=\"T_ec23e6ec_2aa0_11eb_be2b_149d997c8401row10_col6\" class=\"data row10 col6\" >0.9393</td>\n                        <td id=\"T_ec23e6ec_2aa0_11eb_be2b_149d997c8401row10_col7\" class=\"data row10 col7\" >0.9487</td>\n                        <td id=\"T_ec23e6ec_2aa0_11eb_be2b_149d997c8401row10_col8\" class=\"data row10 col8\" >0.4200</td>\n            </tr>\n            <tr>\n                        <th id=\"T_ec23e6ec_2aa0_11eb_be2b_149d997c8401level0_row11\" class=\"row_heading level0 row11\" >lightgbm</th>\n                        <td id=\"T_ec23e6ec_2aa0_11eb_be2b_149d997c8401row11_col0\" class=\"data row11 col0\" >Light Gradient Boosting Machine</td>\n                        <td id=\"T_ec23e6ec_2aa0_11eb_be2b_149d997c8401row11_col1\" class=\"data row11 col1\" >0.9500</td>\n                        <td id=\"T_ec23e6ec_2aa0_11eb_be2b_149d997c8401row11_col2\" class=\"data row11 col2\" >0.9893</td>\n                        <td id=\"T_ec23e6ec_2aa0_11eb_be2b_149d997c8401row11_col3\" class=\"data row11 col3\" >0.9472</td>\n                        <td id=\"T_ec23e6ec_2aa0_11eb_be2b_149d997c8401row11_col4\" class=\"data row11 col4\" >0.9374</td>\n                        <td id=\"T_ec23e6ec_2aa0_11eb_be2b_149d997c8401row11_col5\" class=\"data row11 col5\" >0.9386</td>\n                        <td id=\"T_ec23e6ec_2aa0_11eb_be2b_149d997c8401row11_col6\" class=\"data row11 col6\" >0.9221</td>\n                        <td id=\"T_ec23e6ec_2aa0_11eb_be2b_149d997c8401row11_col7\" class=\"data row11 col7\" >0.9350</td>\n                        <td id=\"T_ec23e6ec_2aa0_11eb_be2b_149d997c8401row11_col8\" class=\"data row11 col8\" >0.0150</td>\n            </tr>\n            <tr>\n                        <th id=\"T_ec23e6ec_2aa0_11eb_be2b_149d997c8401level0_row12\" class=\"row_heading level0 row12\" >ada</th>\n                        <td id=\"T_ec23e6ec_2aa0_11eb_be2b_149d997c8401row12_col0\" class=\"data row12 col0\" >Ada Boost Classifier</td>\n                        <td id=\"T_ec23e6ec_2aa0_11eb_be2b_149d997c8401row12_col1\" class=\"data row12 col1\" >0.9300</td>\n                        <td id=\"T_ec23e6ec_2aa0_11eb_be2b_149d997c8401row12_col2\" class=\"data row12 col2\" >0.9830</td>\n                        <td id=\"T_ec23e6ec_2aa0_11eb_be2b_149d997c8401row12_col3\" class=\"data row12 col3\" >0.9250</td>\n                        <td id=\"T_ec23e6ec_2aa0_11eb_be2b_149d997c8401row12_col4\" class=\"data row12 col4\" >0.9240</td>\n                        <td id=\"T_ec23e6ec_2aa0_11eb_be2b_149d997c8401row12_col5\" class=\"data row12 col5\" >0.9156</td>\n                        <td id=\"T_ec23e6ec_2aa0_11eb_be2b_149d997c8401row12_col6\" class=\"data row12 col6\" >0.8908</td>\n                        <td id=\"T_ec23e6ec_2aa0_11eb_be2b_149d997c8401row12_col7\" class=\"data row12 col7\" >0.9087</td>\n                        <td id=\"T_ec23e6ec_2aa0_11eb_be2b_149d997c8401row12_col8\" class=\"data row12 col8\" >0.0270</td>\n            </tr>\n            <tr>\n                        <th id=\"T_ec23e6ec_2aa0_11eb_be2b_149d997c8401level0_row13\" class=\"row_heading level0 row13\" >ridge</th>\n                        <td id=\"T_ec23e6ec_2aa0_11eb_be2b_149d997c8401row13_col0\" class=\"data row13 col0\" >Ridge Classifier</td>\n                        <td id=\"T_ec23e6ec_2aa0_11eb_be2b_149d997c8401row13_col1\" class=\"data row13 col1\" >0.8400</td>\n                        <td id=\"T_ec23e6ec_2aa0_11eb_be2b_149d997c8401row13_col2\" class=\"data row13 col2\" >0.0000</td>\n                        <td id=\"T_ec23e6ec_2aa0_11eb_be2b_149d997c8401row13_col3\" class=\"data row13 col3\" >0.8361</td>\n                        <td id=\"T_ec23e6ec_2aa0_11eb_be2b_149d997c8401row13_col4\" class=\"data row13 col4\" >0.8622</td>\n                        <td id=\"T_ec23e6ec_2aa0_11eb_be2b_149d997c8401row13_col5\" class=\"data row13 col5\" >0.8343</td>\n                        <td id=\"T_ec23e6ec_2aa0_11eb_be2b_149d997c8401row13_col6\" class=\"data row13 col6\" >0.7579</td>\n                        <td id=\"T_ec23e6ec_2aa0_11eb_be2b_149d997c8401row13_col7\" class=\"data row13 col7\" >0.7726</td>\n                        <td id=\"T_ec23e6ec_2aa0_11eb_be2b_149d997c8401row13_col8\" class=\"data row13 col8\" >0.0070</td>\n            </tr>\n            <tr>\n                        <th id=\"T_ec23e6ec_2aa0_11eb_be2b_149d997c8401level0_row14\" class=\"row_heading level0 row14\" >svm</th>\n                        <td id=\"T_ec23e6ec_2aa0_11eb_be2b_149d997c8401row14_col0\" class=\"data row14 col0\" >SVM - Linear Kernel</td>\n                        <td id=\"T_ec23e6ec_2aa0_11eb_be2b_149d997c8401row14_col1\" class=\"data row14 col1\" >0.8078</td>\n                        <td id=\"T_ec23e6ec_2aa0_11eb_be2b_149d997c8401row14_col2\" class=\"data row14 col2\" >0.0000</td>\n                        <td id=\"T_ec23e6ec_2aa0_11eb_be2b_149d997c8401row14_col3\" class=\"data row14 col3\" >0.8111</td>\n                        <td id=\"T_ec23e6ec_2aa0_11eb_be2b_149d997c8401row14_col4\" class=\"data row14 col4\" >0.8294</td>\n                        <td id=\"T_ec23e6ec_2aa0_11eb_be2b_149d997c8401row14_col5\" class=\"data row14 col5\" >0.7794</td>\n                        <td id=\"T_ec23e6ec_2aa0_11eb_be2b_149d997c8401row14_col6\" class=\"data row14 col6\" >0.7109</td>\n                        <td id=\"T_ec23e6ec_2aa0_11eb_be2b_149d997c8401row14_col7\" class=\"data row14 col7\" >0.7595</td>\n                        <td id=\"T_ec23e6ec_2aa0_11eb_be2b_149d997c8401row14_col8\" class=\"data row14 col8\" >0.0260</td>\n            </tr>\n    </tbody></table>"
     },
     "metadata": {}
    },
    {
     "output_type": "stream",
     "name": "stdout",
     "text": [
      "CPU times: user 7.45 s, sys: 202 ms, total: 7.65 s\nWall time: 18.5 s\n"
     ]
    }
   ],
   "source": [
    "%%time\n",
    "best_model = compare_models()"
   ]
  },
  {
   "cell_type": "code",
   "execution_count": 24,
   "metadata": {},
   "outputs": [
    {
     "output_type": "stream",
     "name": "stdout",
     "text": [
      "LinearDiscriminantAnalysis(n_components=None, priors=None, shrinkage=None,\n                           solver='svd', store_covariance=False, tol=0.0001)\n"
     ]
    }
   ],
   "source": [
    "print(best_model)"
   ]
  },
  {
   "cell_type": "code",
   "execution_count": 25,
   "metadata": {},
   "outputs": [
    {
     "output_type": "display_data",
     "data": {
      "text/plain": "interactive(children=(ToggleButtons(description='Plot Type:', icons=('',), options=(('Hyperparameters', 'param…",
      "application/vnd.jupyter.widget-view+json": {
       "version_major": 2,
       "version_minor": 0,
       "model_id": "6264c22b2e32457b9ebf66b2f33b2eab"
      }
     },
     "metadata": {}
    }
   ],
   "source": [
    "evaluate_model(best_model)"
   ]
  },
  {
   "cell_type": "code",
   "execution_count": 26,
   "metadata": {},
   "outputs": [
    {
     "output_type": "execute_result",
     "data": {
      "text/plain": [
       "   sepal_length  sepal_width  petal_length  petal_width          species  \\\n",
       "0           5.8          4.0           1.2          0.2      Iris-setosa   \n",
       "1           5.4          3.4           1.7          0.2      Iris-setosa   \n",
       "2           6.1          2.8           4.0          1.3  Iris-versicolor   \n",
       "3           5.8          2.6           4.0          1.2  Iris-versicolor   \n",
       "4           7.1          3.0           5.9          2.1   Iris-virginica   \n",
       "\n",
       "             Label  Score  \n",
       "0      Iris-setosa    1.0  \n",
       "1      Iris-setosa    1.0  \n",
       "2  Iris-versicolor    1.0  \n",
       "3  Iris-versicolor    1.0  \n",
       "4   Iris-virginica    1.0  "
      ],
      "text/html": "<div>\n<style scoped>\n    .dataframe tbody tr th:only-of-type {\n        vertical-align: middle;\n    }\n\n    .dataframe tbody tr th {\n        vertical-align: top;\n    }\n\n    .dataframe thead th {\n        text-align: right;\n    }\n</style>\n<table border=\"1\" class=\"dataframe\">\n  <thead>\n    <tr style=\"text-align: right;\">\n      <th></th>\n      <th>sepal_length</th>\n      <th>sepal_width</th>\n      <th>petal_length</th>\n      <th>petal_width</th>\n      <th>species</th>\n      <th>Label</th>\n      <th>Score</th>\n    </tr>\n  </thead>\n  <tbody>\n    <tr>\n      <th>0</th>\n      <td>5.8</td>\n      <td>4.0</td>\n      <td>1.2</td>\n      <td>0.2</td>\n      <td>Iris-setosa</td>\n      <td>Iris-setosa</td>\n      <td>1.0</td>\n    </tr>\n    <tr>\n      <th>1</th>\n      <td>5.4</td>\n      <td>3.4</td>\n      <td>1.7</td>\n      <td>0.2</td>\n      <td>Iris-setosa</td>\n      <td>Iris-setosa</td>\n      <td>1.0</td>\n    </tr>\n    <tr>\n      <th>2</th>\n      <td>6.1</td>\n      <td>2.8</td>\n      <td>4.0</td>\n      <td>1.3</td>\n      <td>Iris-versicolor</td>\n      <td>Iris-versicolor</td>\n      <td>1.0</td>\n    </tr>\n    <tr>\n      <th>3</th>\n      <td>5.8</td>\n      <td>2.6</td>\n      <td>4.0</td>\n      <td>1.2</td>\n      <td>Iris-versicolor</td>\n      <td>Iris-versicolor</td>\n      <td>1.0</td>\n    </tr>\n    <tr>\n      <th>4</th>\n      <td>7.1</td>\n      <td>3.0</td>\n      <td>5.9</td>\n      <td>2.1</td>\n      <td>Iris-virginica</td>\n      <td>Iris-virginica</td>\n      <td>1.0</td>\n    </tr>\n  </tbody>\n</table>\n</div>"
     },
     "metadata": {},
     "execution_count": 26
    }
   ],
   "source": [
    "unseen_predictions = predict_model(best_model, data=data_unseen)\n",
    "unseen_predictions.head()"
   ]
  },
  {
   "cell_type": "code",
   "execution_count": 27,
   "metadata": {},
   "outputs": [
    {
     "output_type": "execute_result",
     "data": {
      "text/plain": [
       "1.0"
      ]
     },
     "metadata": {},
     "execution_count": 27
    }
   ],
   "source": [
    "from pycaret.utils import check_metric\n",
    "\n",
    "check_metric(\n",
    "    unseen_predictions.species,\n",
    "    unseen_predictions.Label.astype(str),\n",
    "    \"Accuracy\",\n",
    ")"
   ]
  },
  {
   "source": [
    "## Azure AutoML local"
   ],
   "cell_type": "markdown",
   "metadata": {}
  },
  {
   "cell_type": "code",
   "execution_count": 28,
   "metadata": {},
   "outputs": [
    {
     "output_type": "execute_result",
     "data": {
      "text/plain": [
       "Workspace.create(name='default', subscription_id='6560575d-fa06-4e7d-95fb-f962e74efd7a', resource_group='azureml-examples')"
      ]
     },
     "metadata": {},
     "execution_count": 28
    }
   ],
   "source": [
    "from azureml.core import Workspace\n",
    "\n",
    "ws = Workspace.from_config()\n",
    "ws"
   ]
  },
  {
   "cell_type": "code",
   "execution_count": 30,
   "metadata": {},
   "outputs": [
    {
     "output_type": "execute_result",
     "data": {
      "text/plain": [
       "{\n",
       "  \"source\": [\n",
       "    \"https://azuremlexamples.blob.core.windows.net/datasets/iris.csv\"\n",
       "  ],\n",
       "  \"definition\": [\n",
       "    \"GetFiles\",\n",
       "    \"ParseDelimited\",\n",
       "    \"DropColumns\",\n",
       "    \"SetColumnTypes\"\n",
       "  ]\n",
       "}"
      ]
     },
     "metadata": {},
     "execution_count": 30
    }
   ],
   "source": [
    "from azureml.core import Dataset \n",
    "\n",
    "tab = Dataset.Tabular.from_delimited_files([\"https://azuremlexamples.blob.core.windows.net/datasets/iris.csv\"])\n",
    "tab"
   ]
  },
  {
   "source": [
    "## Downgrade various pip packages"
   ],
   "cell_type": "markdown",
   "metadata": {}
  },
  {
   "cell_type": "code",
   "execution_count": 32,
   "metadata": {
    "tags": [
     "outputPrepend"
    ]
   },
   "outputs": [
    {
     "output_type": "stream",
     "name": "stdout",
     "text": [
      "me[fuse,pandas]~=1.18.0 in /Users/cody/miniconda3/envs/automl/lib/python3.7/site-packages (from azureml-automl-runtime) (1.18.0)\n",
      "Collecting lightgbm<=2.3.0,>=2.0.11\n",
      "  Downloading lightgbm-2.3.0-py2.py3-none-macosx_10_8_x86_64.macosx_10_9_x86_64.macosx_10_10_x86_64.macosx_10_11_x86_64.macosx_10_12_x86_64.macosx_10_13_x86_64.macosx_10_14_x86_64.whl (678 kB)\n",
      "\u001b[K     |████████████████████████████████| 678 kB 18.8 MB/s \n",
      "\u001b[?25hRequirement already satisfied: dill<0.4.0,>=0.2.8 in /Users/cody/miniconda3/envs/automl/lib/python3.7/site-packages (from azureml-automl-runtime) (0.3.3)\n",
      "Requirement already satisfied: onnxruntime==1.3.0 in /Users/cody/miniconda3/envs/automl/lib/python3.7/site-packages (from azureml-automl-runtime) (1.3.0)\n",
      "Requirement already satisfied: psutil<6.0.0,>=5.2.2 in /Users/cody/miniconda3/envs/automl/lib/python3.7/site-packages (from azureml-automl-runtime) (5.7.3)\n",
      "Requirement already satisfied: onnxmltools==1.4.1 in /Users/cody/miniconda3/envs/automl/lib/python3.7/site-packages (from azureml-automl-runtime) (1.4.1)\n",
      "Collecting joblib==0.14.1\n",
      "  Using cached joblib-0.14.1-py2.py3-none-any.whl (294 kB)\n",
      "Requirement already satisfied: azureml-automl-core~=1.18.0 in /Users/cody/miniconda3/envs/automl/lib/python3.7/site-packages (from azureml-automl-runtime) (1.18.0.post1)\n",
      "Collecting pandas<1.0.0,>=0.21.0\n",
      "  Downloading pandas-0.25.3-cp37-cp37m-macosx_10_9_x86_64.whl (10.2 MB)\n",
      "\u001b[K     |████████████████████████████████| 10.2 MB 23.3 MB/s \n",
      "\u001b[?25hRequirement already satisfied: pmdarima==1.1.1 in /Users/cody/miniconda3/envs/automl/lib/python3.7/site-packages (from azureml-automl-runtime) (1.1.1)\n",
      "Requirement already satisfied: sklearn-pandas<=1.7.0,>=1.4.0 in /Users/cody/miniconda3/envs/automl/lib/python3.7/site-packages (from azureml-automl-runtime) (1.7.0)\n",
      "Requirement already satisfied: dotnetcore2>=2.1.2 in /Users/cody/miniconda3/envs/automl/lib/python3.7/site-packages (from nimbusml<=1.8.0,>=1.7.1->azureml-automl-runtime) (2.1.19)\n",
      "Requirement already satisfied: six>=1.5.0 in /Users/cody/miniconda3/envs/automl/lib/python3.7/site-packages (from gensim<3.9.0->azureml-automl-runtime) (1.15.0)\n",
      "Collecting boto>=2.32\n",
      "  Downloading boto-2.49.0-py2.py3-none-any.whl (1.4 MB)\n",
      "\u001b[K     |████████████████████████████████| 1.4 MB 46.1 MB/s \n",
      "\u001b[?25hRequirement already satisfied: requests in /Users/cody/miniconda3/envs/automl/lib/python3.7/site-packages (from smart-open<=1.9.0->azureml-automl-runtime) (2.25.0)\n",
      "Requirement already satisfied: python-dateutil<3.0.0,>=2.1 in /Users/cody/miniconda3/envs/automl/lib/python3.7/site-packages (from botocore<=1.18.18->azureml-automl-runtime) (2.8.1)\n",
      "Collecting urllib3<1.26,>=1.20; python_version != \"3.4\"\n",
      "  Using cached urllib3-1.25.11-py2.py3-none-any.whl (127 kB)\n",
      "Requirement already satisfied: jmespath<1.0.0,>=0.7.1 in /Users/cody/miniconda3/envs/automl/lib/python3.7/site-packages (from botocore<=1.18.18->azureml-automl-runtime) (0.10.0)\n",
      "Requirement already satisfied: s3transfer<0.4.0,>=0.3.0 in /Users/cody/miniconda3/envs/automl/lib/python3.7/site-packages (from boto3<=1.15.18->azureml-automl-runtime) (0.3.3)\n",
      "Requirement already satisfied: protobuf in /Users/cody/miniconda3/envs/automl/lib/python3.7/site-packages (from onnxconverter-common<=1.6.0,>=1.4.2->azureml-automl-runtime) (3.14.0)\n",
      "Requirement already satisfied: fire in /Users/cody/miniconda3/envs/automl/lib/python3.7/site-packages (from keras2onnx<=1.6.0,>=1.4.0->azureml-automl-runtime) (0.3.1)\n",
      "Requirement already satisfied: typing-extensions>=3.6.2.1 in /Users/cody/miniconda3/envs/automl/lib/python3.7/site-packages (from onnx<=1.7.0,>=1.5.0->azureml-automl-runtime) (3.7.4.3)\n",
      "Requirement already satisfied: patsy>=0.4.0 in /Users/cody/miniconda3/envs/automl/lib/python3.7/site-packages (from statsmodels<=0.10.2,>=0.9.0->azureml-automl-runtime) (0.5.1)\n",
      "Collecting azureml-dataprep<2.5.0a,>=2.4.0a\n",
      "  Using cached azureml_dataprep-2.4.4-py3-none-any.whl (28.2 MB)\n",
      "Requirement already satisfied: pyarrow<2.0.0,>=0.17.0 in /Users/cody/miniconda3/envs/automl/lib/python3.7/site-packages (from azureml-dataset-runtime[fuse,pandas]~=1.18.0->azureml-automl-runtime) (1.0.1)\n",
      "Requirement already satisfied: fusepy<4.0.0,>=3.0.1; extra == \"fuse\" in /Users/cody/miniconda3/envs/automl/lib/python3.7/site-packages (from azureml-dataset-runtime[fuse,pandas]~=1.18.0->azureml-automl-runtime) (3.0.1)\n",
      "Requirement already satisfied: azureml-telemetry~=1.18.0 in /Users/cody/miniconda3/envs/automl/lib/python3.7/site-packages (from azureml-automl-core~=1.18.0->azureml-automl-runtime) (1.18.0)\n",
      "Requirement already satisfied: pytz>=2017.2 in /Users/cody/miniconda3/envs/automl/lib/python3.7/site-packages (from pandas<1.0.0,>=0.21.0->azureml-automl-runtime) (2020.4)\n",
      "Requirement already satisfied: Cython>=0.29 in /Users/cody/miniconda3/envs/automl/lib/python3.7/site-packages (from pmdarima==1.1.1->azureml-automl-runtime) (0.29.21)\n",
      "Requirement already satisfied: distro>=1.2.0 in /Users/cody/miniconda3/envs/automl/lib/python3.7/site-packages (from dotnetcore2>=2.1.2->nimbusml<=1.8.0,>=1.7.1->azureml-automl-runtime) (1.5.0)\n",
      "Requirement already satisfied: idna<3,>=2.5 in /Users/cody/miniconda3/envs/automl/lib/python3.7/site-packages (from requests->smart-open<=1.9.0->azureml-automl-runtime) (2.10)\n",
      "Requirement already satisfied: certifi>=2017.4.17 in /Users/cody/miniconda3/envs/automl/lib/python3.7/site-packages (from requests->smart-open<=1.9.0->azureml-automl-runtime) (2020.6.20)\n",
      "Requirement already satisfied: chardet<4,>=3.0.2 in /Users/cody/miniconda3/envs/automl/lib/python3.7/site-packages (from requests->smart-open<=1.9.0->azureml-automl-runtime) (3.0.4)\n",
      "Requirement already satisfied: termcolor in /Users/cody/miniconda3/envs/automl/lib/python3.7/site-packages (from fire->keras2onnx<=1.6.0,>=1.4.0->azureml-automl-runtime) (1.1.0)\n",
      "Requirement already satisfied: azure-identity<1.5.0,>=1.2.0 in /Users/cody/miniconda3/envs/automl/lib/python3.7/site-packages (from azureml-dataprep<2.5.0a,>=2.4.0a->azureml-dataset-runtime[fuse,pandas]~=1.18.0->azureml-automl-runtime) (1.4.1)\n",
      "Requirement already satisfied: cloudpickle<2.0.0,>=1.1.0 in /Users/cody/miniconda3/envs/automl/lib/python3.7/site-packages (from azureml-dataprep<2.5.0a,>=2.4.0a->azureml-dataset-runtime[fuse,pandas]~=1.18.0->azureml-automl-runtime) (1.6.0)\n",
      "Collecting azureml-dataprep-rslex<1.3.0a,>=1.2.0dev0\n",
      "  Using cached azureml_dataprep_rslex-1.2.3-cp37-cp37m-macosx_10_9_x86_64.whl (7.4 MB)\n",
      "Collecting azureml-dataprep-native<25.0.0,>=24.0.0\n",
      "  Using cached azureml_dataprep_native-24.0.0-cp37-cp37m-macosx_10_9_x86_64.whl (145 kB)\n",
      "Requirement already satisfied: azureml-core~=1.18.0 in /Users/cody/miniconda3/envs/automl/lib/python3.7/site-packages (from azureml-telemetry~=1.18.0->azureml-automl-core~=1.18.0->azureml-automl-runtime) (1.18.0.post2)\n",
      "Requirement already satisfied: applicationinsights in /Users/cody/miniconda3/envs/automl/lib/python3.7/site-packages (from azureml-telemetry~=1.18.0->azureml-automl-core~=1.18.0->azureml-automl-runtime) (0.11.9)\n",
      "Requirement already satisfied: cryptography>=2.1.4 in /Users/cody/miniconda3/envs/automl/lib/python3.7/site-packages (from azure-identity<1.5.0,>=1.2.0->azureml-dataprep<2.5.0a,>=2.4.0a->azureml-dataset-runtime[fuse,pandas]~=1.18.0->azureml-automl-runtime) (3.2.1)\n",
      "Requirement already satisfied: msal-extensions~=0.2.2 in /Users/cody/miniconda3/envs/automl/lib/python3.7/site-packages (from azure-identity<1.5.0,>=1.2.0->azureml-dataprep<2.5.0a,>=2.4.0a->azureml-dataset-runtime[fuse,pandas]~=1.18.0->azureml-automl-runtime) (0.2.2)\n",
      "Requirement already satisfied: azure-core<2.0.0,>=1.0.0 in /Users/cody/miniconda3/envs/automl/lib/python3.7/site-packages (from azure-identity<1.5.0,>=1.2.0->azureml-dataprep<2.5.0a,>=2.4.0a->azureml-dataset-runtime[fuse,pandas]~=1.18.0->azureml-automl-runtime) (1.9.0)\n",
      "Requirement already satisfied: msal<2.0.0,>=1.3.0 in /Users/cody/miniconda3/envs/automl/lib/python3.7/site-packages (from azure-identity<1.5.0,>=1.2.0->azureml-dataprep<2.5.0a,>=2.4.0a->azureml-dataset-runtime[fuse,pandas]~=1.18.0->azureml-automl-runtime) (1.6.0)\n",
      "Requirement already satisfied: docker in /Users/cody/miniconda3/envs/automl/lib/python3.7/site-packages (from azureml-core~=1.18.0->azureml-telemetry~=1.18.0->azureml-automl-core~=1.18.0->azureml-automl-runtime) (4.3.1)\n",
      "Requirement already satisfied: azure-graphrbac<1.0.0,>=0.40.0 in /Users/cody/miniconda3/envs/automl/lib/python3.7/site-packages (from azureml-core~=1.18.0->azureml-telemetry~=1.18.0->azureml-automl-core~=1.18.0->azureml-automl-runtime) (0.61.1)\n",
      "Requirement already satisfied: ruamel.yaml>=0.15.35 in /Users/cody/miniconda3/envs/automl/lib/python3.7/site-packages (from azureml-core~=1.18.0->azureml-telemetry~=1.18.0->azureml-automl-core~=1.18.0->azureml-automl-runtime) (0.16.12)\n",
      "Requirement already satisfied: contextlib2 in /Users/cody/miniconda3/envs/automl/lib/python3.7/site-packages (from azureml-core~=1.18.0->azureml-telemetry~=1.18.0->azureml-automl-core~=1.18.0->azureml-automl-runtime) (0.6.0.post1)\n",
      "Requirement already satisfied: adal>=1.2.0 in /Users/cody/miniconda3/envs/automl/lib/python3.7/site-packages (from azureml-core~=1.18.0->azureml-telemetry~=1.18.0->azureml-automl-core~=1.18.0->azureml-automl-runtime) (1.2.5)\n",
      "Requirement already satisfied: azure-mgmt-resource<15.0.0,>=1.2.1 in /Users/cody/miniconda3/envs/automl/lib/python3.7/site-packages (from azureml-core~=1.18.0->azureml-telemetry~=1.18.0->azureml-automl-core~=1.18.0->azureml-automl-runtime) (10.3.0)\n",
      "Requirement already satisfied: msrest>=0.5.1 in /Users/cody/miniconda3/envs/automl/lib/python3.7/site-packages (from azureml-core~=1.18.0->azureml-telemetry~=1.18.0->azureml-automl-core~=1.18.0->azureml-automl-runtime) (0.6.19)\n",
      "Requirement already satisfied: azure-mgmt-storage<16.0.0,>=1.5.0 in /Users/cody/miniconda3/envs/automl/lib/python3.7/site-packages (from azureml-core~=1.18.0->azureml-telemetry~=1.18.0->azureml-automl-core~=1.18.0->azureml-automl-runtime) (11.2.0)\n",
      "Requirement already satisfied: azure-common>=1.1.12 in /Users/cody/miniconda3/envs/automl/lib/python3.7/site-packages (from azureml-core~=1.18.0->azureml-telemetry~=1.18.0->azureml-automl-core~=1.18.0->azureml-automl-runtime) (1.1.26)\n",
      "Requirement already satisfied: azure-mgmt-containerregistry>=2.0.0 in /Users/cody/miniconda3/envs/automl/lib/python3.7/site-packages (from azureml-core~=1.18.0->azureml-telemetry~=1.18.0->azureml-automl-core~=1.18.0->azureml-automl-runtime) (2.8.0)\n",
      "Requirement already satisfied: azure-mgmt-keyvault<7.0.0,>=0.40.0 in /Users/cody/miniconda3/envs/automl/lib/python3.7/site-packages (from azureml-core~=1.18.0->azureml-telemetry~=1.18.0->azureml-automl-core~=1.18.0->azureml-automl-runtime) (2.2.0)\n",
      "Requirement already satisfied: azure-mgmt-authorization<1.0.0,>=0.40.0 in /Users/cody/miniconda3/envs/automl/lib/python3.7/site-packages (from azureml-core~=1.18.0->azureml-telemetry~=1.18.0->azureml-automl-core~=1.18.0->azureml-automl-runtime) (0.61.0)\n",
      "Requirement already satisfied: msrestazure>=0.4.33 in /Users/cody/miniconda3/envs/automl/lib/python3.7/site-packages (from azureml-core~=1.18.0->azureml-telemetry~=1.18.0->azureml-automl-core~=1.18.0->azureml-automl-runtime) (0.6.4)\n",
      "Requirement already satisfied: SecretStorage in /Users/cody/miniconda3/envs/automl/lib/python3.7/site-packages (from azureml-core~=1.18.0->azureml-telemetry~=1.18.0->azureml-automl-core~=1.18.0->azureml-automl-runtime) (3.2.0)\n",
      "Requirement already satisfied: jsonpickle in /Users/cody/miniconda3/envs/automl/lib/python3.7/site-packages (from azureml-core~=1.18.0->azureml-telemetry~=1.18.0->azureml-automl-core~=1.18.0->azureml-automl-runtime) (1.4.1)\n",
      "Requirement already satisfied: pyopenssl<20.0.0 in /Users/cody/miniconda3/envs/automl/lib/python3.7/site-packages (from azureml-core~=1.18.0->azureml-telemetry~=1.18.0->azureml-automl-core~=1.18.0->azureml-automl-runtime) (19.1.0)\n",
      "Requirement already satisfied: PyJWT<2.0.0 in /Users/cody/miniconda3/envs/automl/lib/python3.7/site-packages (from azureml-core~=1.18.0->azureml-telemetry~=1.18.0->azureml-automl-core~=1.18.0->azureml-automl-runtime) (1.7.1)\n",
      "Requirement already satisfied: backports.tempfile in /Users/cody/miniconda3/envs/automl/lib/python3.7/site-packages (from azureml-core~=1.18.0->azureml-telemetry~=1.18.0->azureml-automl-core~=1.18.0->azureml-automl-runtime) (1.0)\n",
      "Requirement already satisfied: pathspec in /Users/cody/miniconda3/envs/automl/lib/python3.7/site-packages (from azureml-core~=1.18.0->azureml-telemetry~=1.18.0->azureml-automl-core~=1.18.0->azureml-automl-runtime) (0.8.1)\n",
      "Requirement already satisfied: ndg-httpsclient in /Users/cody/miniconda3/envs/automl/lib/python3.7/site-packages (from azureml-core~=1.18.0->azureml-telemetry~=1.18.0->azureml-automl-core~=1.18.0->azureml-automl-runtime) (0.5.1)\n",
      "Requirement already satisfied: cffi!=1.11.3,>=1.8 in /Users/cody/miniconda3/envs/automl/lib/python3.7/site-packages (from cryptography>=2.1.4->azure-identity<1.5.0,>=1.2.0->azureml-dataprep<2.5.0a,>=2.4.0a->azureml-dataset-runtime[fuse,pandas]~=1.18.0->azureml-automl-runtime) (1.14.3)\n",
      "Requirement already satisfied: portalocker~=1.0; platform_system != \"Windows\" in /Users/cody/miniconda3/envs/automl/lib/python3.7/site-packages (from msal-extensions~=0.2.2->azure-identity<1.5.0,>=1.2.0->azureml-dataprep<2.5.0a,>=2.4.0a->azureml-dataset-runtime[fuse,pandas]~=1.18.0->azureml-automl-runtime) (1.7.1)\n",
      "Requirement already satisfied: websocket-client>=0.32.0 in /Users/cody/miniconda3/envs/automl/lib/python3.7/site-packages (from docker->azureml-core~=1.18.0->azureml-telemetry~=1.18.0->azureml-automl-core~=1.18.0->azureml-automl-runtime) (0.57.0)\n",
      "Requirement already satisfied: ruamel.yaml.clib>=0.1.2; platform_python_implementation == \"CPython\" and python_version < \"3.9\" in /Users/cody/miniconda3/envs/automl/lib/python3.7/site-packages (from ruamel.yaml>=0.15.35->azureml-core~=1.18.0->azureml-telemetry~=1.18.0->azureml-automl-core~=1.18.0->azureml-automl-runtime) (0.2.2)\n",
      "Requirement already satisfied: isodate>=0.6.0 in /Users/cody/miniconda3/envs/automl/lib/python3.7/site-packages (from msrest>=0.5.1->azureml-core~=1.18.0->azureml-telemetry~=1.18.0->azureml-automl-core~=1.18.0->azureml-automl-runtime) (0.6.0)\n",
      "Requirement already satisfied: requests-oauthlib>=0.5.0 in /Users/cody/miniconda3/envs/automl/lib/python3.7/site-packages (from msrest>=0.5.1->azureml-core~=1.18.0->azureml-telemetry~=1.18.0->azureml-automl-core~=1.18.0->azureml-automl-runtime) (1.3.0)\n",
      "Requirement already satisfied: jeepney>=0.4.2 in /Users/cody/miniconda3/envs/automl/lib/python3.7/site-packages (from SecretStorage->azureml-core~=1.18.0->azureml-telemetry~=1.18.0->azureml-automl-core~=1.18.0->azureml-automl-runtime) (0.6.0)\n",
      "Requirement already satisfied: importlib-metadata in /Users/cody/miniconda3/envs/automl/lib/python3.7/site-packages (from jsonpickle->azureml-core~=1.18.0->azureml-telemetry~=1.18.0->azureml-automl-core~=1.18.0->azureml-automl-runtime) (2.0.0)\n",
      "Requirement already satisfied: backports.weakref in /Users/cody/miniconda3/envs/automl/lib/python3.7/site-packages (from backports.tempfile->azureml-core~=1.18.0->azureml-telemetry~=1.18.0->azureml-automl-core~=1.18.0->azureml-automl-runtime) (1.0.post1)\n",
      "Requirement already satisfied: pyasn1>=0.1.1 in /Users/cody/miniconda3/envs/automl/lib/python3.7/site-packages (from ndg-httpsclient->azureml-core~=1.18.0->azureml-telemetry~=1.18.0->azureml-automl-core~=1.18.0->azureml-automl-runtime) (0.4.8)\n",
      "Requirement already satisfied: pycparser in /Users/cody/miniconda3/envs/automl/lib/python3.7/site-packages (from cffi!=1.11.3,>=1.8->cryptography>=2.1.4->azure-identity<1.5.0,>=1.2.0->azureml-dataprep<2.5.0a,>=2.4.0a->azureml-dataset-runtime[fuse,pandas]~=1.18.0->azureml-automl-runtime) (2.20)\n",
      "Requirement already satisfied: oauthlib>=3.0.0 in /Users/cody/miniconda3/envs/automl/lib/python3.7/site-packages (from requests-oauthlib>=0.5.0->msrest>=0.5.1->azureml-core~=1.18.0->azureml-telemetry~=1.18.0->azureml-automl-core~=1.18.0->azureml-automl-runtime) (3.1.0)\n",
      "Requirement already satisfied: zipp>=0.5 in /Users/cody/miniconda3/envs/automl/lib/python3.7/site-packages (from importlib-metadata->jsonpickle->azureml-core~=1.18.0->azureml-telemetry~=1.18.0->azureml-automl-core~=1.18.0->azureml-automl-runtime) (3.4.0)\n",
      "Building wheels for collected packages: smart-open\n",
      "  Building wheel for smart-open (setup.py) ... \u001b[?25ldone\n",
      "\u001b[?25h  Created wheel for smart-open: filename=smart_open-1.9.0-py3-none-any.whl size=73087 sha256=1c412268fba14851fc96386e8ee2dc5e0f4484862a83b421db6a4c784a05947b\n",
      "  Stored in directory: /Users/cody/Library/Caches/pip/wheels/1f/f6/d9/49cfa288fb14de91f127fb6f7a5a29f389c9588a41140107d9\n",
      "Successfully built smart-open\n",
      "Installing collected packages: boto, smart-open, numpy, scipy, pandas, statsmodels, joblib, scikit-learn, lightgbm, urllib3, azureml-dataprep-rslex, azureml-dataprep-native, azureml-dataprep\n",
      "  Attempting uninstall: smart-open\n",
      "    Found existing installation: smart-open 3.0.0\n",
      "    Uninstalling smart-open-3.0.0:\n",
      "      Successfully uninstalled smart-open-3.0.0\n",
      "  Attempting uninstall: numpy\n",
      "    Found existing installation: numpy 1.19.4\n",
      "    Uninstalling numpy-1.19.4:\n",
      "      Successfully uninstalled numpy-1.19.4\n",
      "  Attempting uninstall: scipy\n",
      "    Found existing installation: scipy 1.5.4\n",
      "    Uninstalling scipy-1.5.4:\n",
      "      Successfully uninstalled scipy-1.5.4\n",
      "  Attempting uninstall: pandas\n",
      "    Found existing installation: pandas 1.1.4\n",
      "    Uninstalling pandas-1.1.4:\n",
      "      Successfully uninstalled pandas-1.1.4\n",
      "  Attempting uninstall: statsmodels\n",
      "    Found existing installation: statsmodels 0.12.1\n",
      "    Uninstalling statsmodels-0.12.1:\n",
      "      Successfully uninstalled statsmodels-0.12.1\n",
      "  Attempting uninstall: joblib\n",
      "    Found existing installation: joblib 0.17.0\n",
      "    Uninstalling joblib-0.17.0:\n",
      "      Successfully uninstalled joblib-0.17.0\n",
      "  Attempting uninstall: scikit-learn\n",
      "    Found existing installation: scikit-learn 0.23.2\n",
      "    Uninstalling scikit-learn-0.23.2:\n",
      "      Successfully uninstalled scikit-learn-0.23.2\n",
      "  Attempting uninstall: lightgbm\n",
      "    Found existing installation: lightgbm 3.1.0\n",
      "    Uninstalling lightgbm-3.1.0:\n",
      "      Successfully uninstalled lightgbm-3.1.0\n",
      "  Attempting uninstall: urllib3\n",
      "    Found existing installation: urllib3 1.26.2\n",
      "    Uninstalling urllib3-1.26.2:\n",
      "      Successfully uninstalled urllib3-1.26.2\n",
      "  Attempting uninstall: azureml-dataprep-rslex\n",
      "    Found existing installation: azureml-dataprep-rslex 1.4.0\n",
      "    Uninstalling azureml-dataprep-rslex-1.4.0:\n",
      "      Successfully uninstalled azureml-dataprep-rslex-1.4.0\n",
      "  Attempting uninstall: azureml-dataprep-native\n",
      "    Found existing installation: azureml-dataprep-native 26.0.0\n",
      "    Uninstalling azureml-dataprep-native-26.0.0:\n",
      "      Successfully uninstalled azureml-dataprep-native-26.0.0\n",
      "  Attempting uninstall: azureml-dataprep\n",
      "    Found existing installation: azureml-dataprep 2.6.0\n",
      "    Uninstalling azureml-dataprep-2.6.0:\n",
      "      Successfully uninstalled azureml-dataprep-2.6.0\n",
      "\u001b[31mERROR: After October 2020 you may experience errors when installing or updating packages. This is because pip will change the way that it resolves dependency conflicts.\n",
      "\n",
      "We recommend you use --use-feature=2020-resolver to test your packages with the new resolver before it becomes the default.\n",
      "\n",
      "pycaret 2.2.1 requires lightgbm>=2.3.1, but you'll have lightgbm 2.3.0 which is incompatible.\n",
      "pycaret 2.2.1 requires scikit-learn>=0.23.2, but you'll have scikit-learn 0.22.2.post1 which is incompatible.\n",
      "imbalanced-learn 0.7.0 requires scikit-learn>=0.23, but you'll have scikit-learn 0.22.2.post1 which is incompatible.\n",
      "azureml-defaults 1.18.0 requires flask==1.0.3, but you'll have flask 1.1.2 which is incompatible.\n",
      "azureml-defaults 1.18.0 requires gunicorn==19.9.0, but you'll have gunicorn 20.0.4 which is incompatible.\u001b[0m\n",
      "Successfully installed azureml-dataprep-2.4.4 azureml-dataprep-native-24.0.0 azureml-dataprep-rslex-1.2.3 boto-2.49.0 joblib-0.14.1 lightgbm-2.3.0 numpy-1.18.5 pandas-0.25.3 scikit-learn-0.22.2.post1 scipy-1.5.2 smart-open-1.9.0 statsmodels-0.10.2 urllib3-1.25.11\n"
     ]
    }
   ],
   "source": [
    "!pip install azureml-automl-runtime"
   ]
  },
  {
   "cell_type": "code",
   "execution_count": 34,
   "metadata": {},
   "outputs": [
    {
     "output_type": "error",
     "ename": "ValidationException",
     "evalue": "ValidationException:\n\tMessage: Install the required versions of packages using the requirements file. Requirements file location: /Users/cody/miniconda3/envs/automl/lib/python3.7/site-packages/azureml/automl/core/validated_darwin_requirements.txt. Alternatively, use remote target to avoid dependency management. \nPackage name/Required version/Installed version\nazureml-automl-runtime/smart-open<=1.9.0/smart-open 3.0.0\nazureml-automl-runtime/numpy<1.19.0,>=1.16.0/numpy 1.19.4\nazureml-automl-runtime/statsmodels<=0.10.2,>=0.9.0/statsmodels 0.12.1\nazureml-automl-runtime/pandas<1.0.0,>=0.21.0/pandas 1.1.4\nazureml-automl-runtime/lightgbm<=2.3.0,>=2.0.11/lightgbm 3.1.0\nazureml-automl-runtime/scipy<=1.5.2,>=1.0.0/scipy 1.5.4\nazureml-automl-runtime/scikit-learn<0.23.0,>=0.19.0/scikit-learn 0.23.2\nazureml-automl-runtime/joblib==0.14.1/joblib 0.17.0\nazureml-defaults/gunicorn==19.9.0/gunicorn 20.0.4\nazureml-defaults/flask==1.0.3/Flask 1.1.2\nazureml-train-automl-runtime/smart-open<=1.9.0/smart-open 3.0.0\nazureml-train-automl-runtime/numpy<1.19.0,>=1.16.0/numpy 1.19.4\nazureml-train-automl-runtime/statsmodels<=0.10.2,>=0.9.0/statsmodels 0.12.1\nazureml-train-automl-runtime/pandas<1.0.0,>=0.21.0/pandas 1.1.4\nazureml-train-automl-runtime/lightgbm<=2.3.0,>=2.0.11/lightgbm 3.1.0\nazureml-train-automl-runtime/scipy<=1.5.2,>=1.0.0/scipy 1.5.4\nazureml-train-automl-runtime/scikit-learn<0.23.0,>=0.19.0/scikit-learn 0.23.2\n\tInnerException: None\n\tErrorResponse \n{\n    \"error\": {\n        \"code\": \"UserError\",\n        \"message\": \"Install the required versions of packages using the requirements file. Requirements file location: /Users/cody/miniconda3/envs/automl/lib/python3.7/site-packages/azureml/automl/core/validated_darwin_requirements.txt. Alternatively, use remote target to avoid dependency management. \\nPackage name/Required version/Installed version\\nazureml-automl-runtime/smart-open<=1.9.0/smart-open 3.0.0\\nazureml-automl-runtime/numpy<1.19.0,>=1.16.0/numpy 1.19.4\\nazureml-automl-runtime/statsmodels<=0.10.2,>=0.9.0/statsmodels 0.12.1\\nazureml-automl-runtime/pandas<1.0.0,>=0.21.0/pandas 1.1.4\\nazureml-automl-runtime/lightgbm<=2.3.0,>=2.0.11/lightgbm 3.1.0\\nazureml-automl-runtime/scipy<=1.5.2,>=1.0.0/scipy 1.5.4\\nazureml-automl-runtime/scikit-learn<0.23.0,>=0.19.0/scikit-learn 0.23.2\\nazureml-automl-runtime/joblib==0.14.1/joblib 0.17.0\\nazureml-defaults/gunicorn==19.9.0/gunicorn 20.0.4\\nazureml-defaults/flask==1.0.3/Flask 1.1.2\\nazureml-train-automl-runtime/smart-open<=1.9.0/smart-open 3.0.0\\nazureml-train-automl-runtime/numpy<1.19.0,>=1.16.0/numpy 1.19.4\\nazureml-train-automl-runtime/statsmodels<=0.10.2,>=0.9.0/statsmodels 0.12.1\\nazureml-train-automl-runtime/pandas<1.0.0,>=0.21.0/pandas 1.1.4\\nazureml-train-automl-runtime/lightgbm<=2.3.0,>=2.0.11/lightgbm 3.1.0\\nazureml-train-automl-runtime/scipy<=1.5.2,>=1.0.0/scipy 1.5.4\\nazureml-train-automl-runtime/scikit-learn<0.23.0,>=0.19.0/scikit-learn 0.23.2\",\n        \"target\": \"azureml-automl-runtime,azureml-defaults,azureml-train-automl-runtime\",\n        \"inner_error\": {\n            \"code\": \"NotSupported\",\n            \"inner_error\": {\n                \"code\": \"IncompatibleOrMissingDependency\"\n            }\n        },\n        \"reference_code\": \"435ab938-fd87-49bc-932e-6eec0d6aee4f\"\n    }\n}",
     "traceback": [
      "\u001b[0;31m---------------------------------------------------------------------------\u001b[0m",
      "\u001b[0;31mValidationException\u001b[0m                       Traceback (most recent call last)",
      "\u001b[0;32m<ipython-input-34-8f7f2bf7776f>\u001b[0m in \u001b[0;36m<module>\u001b[0;34m\u001b[0m\n\u001b[1;32m     10\u001b[0m \u001b[0;32mfrom\u001b[0m \u001b[0mazureml\u001b[0m\u001b[0;34m.\u001b[0m\u001b[0mcore\u001b[0m \u001b[0;32mimport\u001b[0m \u001b[0mExperiment\u001b[0m\u001b[0;34m\u001b[0m\u001b[0;34m\u001b[0m\u001b[0m\n\u001b[1;32m     11\u001b[0m \u001b[0;34m\u001b[0m\u001b[0m\n\u001b[0;32m---> 12\u001b[0;31m \u001b[0mrun\u001b[0m \u001b[0;34m=\u001b[0m \u001b[0mExperiment\u001b[0m\u001b[0;34m(\u001b[0m\u001b[0mws\u001b[0m\u001b[0;34m,\u001b[0m \u001b[0;34m\"automl-unittled\"\u001b[0m\u001b[0;34m)\u001b[0m\u001b[0;34m.\u001b[0m\u001b[0msubmit\u001b[0m\u001b[0;34m(\u001b[0m\u001b[0mconfig\u001b[0m\u001b[0;34m,\u001b[0m \u001b[0mshow_output\u001b[0m\u001b[0;34m=\u001b[0m\u001b[0;32mTrue\u001b[0m\u001b[0;34m)\u001b[0m\u001b[0;34m\u001b[0m\u001b[0;34m\u001b[0m\u001b[0m\n\u001b[0m\u001b[1;32m     13\u001b[0m \u001b[0mrun\u001b[0m\u001b[0;34m\u001b[0m\u001b[0;34m\u001b[0m\u001b[0m\n",
      "\u001b[0;32m~/miniconda3/envs/automl/lib/python3.7/site-packages/azureml/core/experiment.py\u001b[0m in \u001b[0;36msubmit\u001b[0;34m(self, config, tags, **kwargs)\u001b[0m\n\u001b[1;32m    217\u001b[0m         \u001b[0msubmit_func\u001b[0m \u001b[0;34m=\u001b[0m \u001b[0mget_experiment_submit\u001b[0m\u001b[0;34m(\u001b[0m\u001b[0mconfig\u001b[0m\u001b[0;34m)\u001b[0m\u001b[0;34m\u001b[0m\u001b[0;34m\u001b[0m\u001b[0m\n\u001b[1;32m    218\u001b[0m         \u001b[0;32mwith\u001b[0m \u001b[0mself\u001b[0m\u001b[0;34m.\u001b[0m\u001b[0m_log_context\u001b[0m\u001b[0;34m(\u001b[0m\u001b[0;34m\"submit config {}\"\u001b[0m\u001b[0;34m.\u001b[0m\u001b[0mformat\u001b[0m\u001b[0;34m(\u001b[0m\u001b[0mconfig\u001b[0m\u001b[0;34m.\u001b[0m\u001b[0m__class__\u001b[0m\u001b[0;34m.\u001b[0m\u001b[0m__name__\u001b[0m\u001b[0;34m)\u001b[0m\u001b[0;34m)\u001b[0m\u001b[0;34m:\u001b[0m\u001b[0;34m\u001b[0m\u001b[0;34m\u001b[0m\u001b[0m\n\u001b[0;32m--> 219\u001b[0;31m             \u001b[0mrun\u001b[0m \u001b[0;34m=\u001b[0m \u001b[0msubmit_func\u001b[0m\u001b[0;34m(\u001b[0m\u001b[0mconfig\u001b[0m\u001b[0;34m,\u001b[0m \u001b[0mself\u001b[0m\u001b[0;34m.\u001b[0m\u001b[0mworkspace\u001b[0m\u001b[0;34m,\u001b[0m \u001b[0mself\u001b[0m\u001b[0;34m.\u001b[0m\u001b[0mname\u001b[0m\u001b[0;34m,\u001b[0m \u001b[0;34m**\u001b[0m\u001b[0mkwargs\u001b[0m\u001b[0;34m)\u001b[0m\u001b[0;34m\u001b[0m\u001b[0;34m\u001b[0m\u001b[0m\n\u001b[0m\u001b[1;32m    220\u001b[0m         \u001b[0;32mif\u001b[0m \u001b[0mtags\u001b[0m \u001b[0;32mis\u001b[0m \u001b[0;32mnot\u001b[0m \u001b[0;32mNone\u001b[0m\u001b[0;34m:\u001b[0m\u001b[0;34m\u001b[0m\u001b[0;34m\u001b[0m\u001b[0m\n\u001b[1;32m    221\u001b[0m             \u001b[0mrun\u001b[0m\u001b[0;34m.\u001b[0m\u001b[0mset_tags\u001b[0m\u001b[0;34m(\u001b[0m\u001b[0mtags\u001b[0m\u001b[0;34m)\u001b[0m\u001b[0;34m\u001b[0m\u001b[0;34m\u001b[0m\u001b[0m\n",
      "\u001b[0;32m~/miniconda3/envs/automl/lib/python3.7/site-packages/azureml/train/automl/automlconfig.py\u001b[0m in \u001b[0;36m_automl_static_submit\u001b[0;34m(automl_config_object, workspace, experiment_name, **kwargs)\u001b[0m\n\u001b[1;32m    106\u001b[0m             \u001b[0mcompute_target\u001b[0m\u001b[0;34m,\u001b[0m\u001b[0;34m\u001b[0m\u001b[0;34m\u001b[0m\u001b[0m\n\u001b[1;32m    107\u001b[0m             \u001b[0mparent_run_id\u001b[0m\u001b[0;34m,\u001b[0m\u001b[0;34m\u001b[0m\u001b[0;34m\u001b[0m\u001b[0m\n\u001b[0;32m--> 108\u001b[0;31m             show_output)\n\u001b[0m\u001b[1;32m    109\u001b[0m \u001b[0;34m\u001b[0m\u001b[0m\n\u001b[1;32m    110\u001b[0m         \u001b[0mautoml_run\u001b[0m\u001b[0;34m.\u001b[0m\u001b[0madd_properties\u001b[0m\u001b[0;34m(\u001b[0m\u001b[0mglobal_tracking_info_registry\u001b[0m\u001b[0;34m.\u001b[0m\u001b[0mgather_all\u001b[0m\u001b[0;34m(\u001b[0m\u001b[0msettings\u001b[0m\u001b[0;34m.\u001b[0m\u001b[0mpath\u001b[0m\u001b[0;34m)\u001b[0m\u001b[0;34m)\u001b[0m\u001b[0;34m\u001b[0m\u001b[0;34m\u001b[0m\u001b[0m\n",
      "\u001b[0;32m~/miniconda3/envs/automl/lib/python3.7/site-packages/azureml/train/automl/automlconfig.py\u001b[0m in \u001b[0;36m_start_execution\u001b[0;34m(experiment, settings_obj, fit_params, run_config, compute_target, parent_run_id, show_output)\u001b[0m\n\u001b[1;32m    261\u001b[0m             package_utilities._get_package_incompatibilities(\n\u001b[1;32m    262\u001b[0m                 \u001b[0mpackages\u001b[0m\u001b[0;34m=\u001b[0m\u001b[0mpackage_utilities\u001b[0m\u001b[0;34m.\u001b[0m\u001b[0mAUTOML_PACKAGES\u001b[0m\u001b[0;34m,\u001b[0m\u001b[0;34m\u001b[0m\u001b[0;34m\u001b[0m\u001b[0m\n\u001b[0;32m--> 263\u001b[0;31m                 \u001b[0mignored_dependencies\u001b[0m\u001b[0;34m=\u001b[0m\u001b[0mpackage_utilities\u001b[0m\u001b[0;34m.\u001b[0m\u001b[0m_PACKAGES_TO_IGNORE_VERSIONS\u001b[0m\u001b[0;34m\u001b[0m\u001b[0;34m\u001b[0m\u001b[0m\n\u001b[0m\u001b[1;32m    264\u001b[0m             )\n\u001b[1;32m    265\u001b[0m         \u001b[0mautoml_run\u001b[0m \u001b[0;34m=\u001b[0m \u001b[0m_default_execution\u001b[0m\u001b[0;34m(\u001b[0m\u001b[0mexperiment\u001b[0m\u001b[0;34m,\u001b[0m \u001b[0msettings_obj\u001b[0m\u001b[0;34m,\u001b[0m \u001b[0mfit_params\u001b[0m\u001b[0;34m,\u001b[0m \u001b[0;32mTrue\u001b[0m\u001b[0;34m,\u001b[0m \u001b[0mshow_output\u001b[0m\u001b[0;34m,\u001b[0m \u001b[0mparent_run_id\u001b[0m\u001b[0;34m)\u001b[0m\u001b[0;34m\u001b[0m\u001b[0;34m\u001b[0m\u001b[0m\n",
      "\u001b[0;32m~/miniconda3/envs/automl/lib/python3.7/site-packages/azureml/automl/core/package_utilities.py\u001b[0m in \u001b[0;36m_get_package_incompatibilities\u001b[0;34m(packages, ignored_dependencies, is_databricks_run)\u001b[0m\n\u001b[1;32m    392\u001b[0m                         \u001b[0mmissing_packages_message\u001b[0m\u001b[0;34m=\u001b[0m\u001b[0;34m'\\n'\u001b[0m\u001b[0;34m.\u001b[0m\u001b[0mjoin\u001b[0m\u001b[0;34m(\u001b[0m\u001b[0mmessages\u001b[0m\u001b[0;34m)\u001b[0m\u001b[0;34m,\u001b[0m\u001b[0;34m\u001b[0m\u001b[0;34m\u001b[0m\u001b[0m\n\u001b[1;32m    393\u001b[0m                         \u001b[0mreference_code\u001b[0m\u001b[0;34m=\u001b[0m\u001b[0mReferenceCodes\u001b[0m\u001b[0;34m.\u001b[0m\u001b[0m_PACKAGE_INCOMPATIBILITIES_FOUND\u001b[0m\u001b[0;34m,\u001b[0m\u001b[0;34m\u001b[0m\u001b[0;34m\u001b[0m\u001b[0m\n\u001b[0;32m--> 394\u001b[0;31m                         \u001b[0mvalidated_requirements_file_path\u001b[0m\u001b[0;34m=\u001b[0m\u001b[0mVALIDATED_REQ_FILE_PATH\u001b[0m\u001b[0;34m\u001b[0m\u001b[0;34m\u001b[0m\u001b[0m\n\u001b[0m\u001b[1;32m    395\u001b[0m                     )\n\u001b[1;32m    396\u001b[0m                 )\n",
      "\u001b[0;31mValidationException\u001b[0m: ValidationException:\n\tMessage: Install the required versions of packages using the requirements file. Requirements file location: /Users/cody/miniconda3/envs/automl/lib/python3.7/site-packages/azureml/automl/core/validated_darwin_requirements.txt. Alternatively, use remote target to avoid dependency management. \nPackage name/Required version/Installed version\nazureml-automl-runtime/smart-open<=1.9.0/smart-open 3.0.0\nazureml-automl-runtime/numpy<1.19.0,>=1.16.0/numpy 1.19.4\nazureml-automl-runtime/statsmodels<=0.10.2,>=0.9.0/statsmodels 0.12.1\nazureml-automl-runtime/pandas<1.0.0,>=0.21.0/pandas 1.1.4\nazureml-automl-runtime/lightgbm<=2.3.0,>=2.0.11/lightgbm 3.1.0\nazureml-automl-runtime/scipy<=1.5.2,>=1.0.0/scipy 1.5.4\nazureml-automl-runtime/scikit-learn<0.23.0,>=0.19.0/scikit-learn 0.23.2\nazureml-automl-runtime/joblib==0.14.1/joblib 0.17.0\nazureml-defaults/gunicorn==19.9.0/gunicorn 20.0.4\nazureml-defaults/flask==1.0.3/Flask 1.1.2\nazureml-train-automl-runtime/smart-open<=1.9.0/smart-open 3.0.0\nazureml-train-automl-runtime/numpy<1.19.0,>=1.16.0/numpy 1.19.4\nazureml-train-automl-runtime/statsmodels<=0.10.2,>=0.9.0/statsmodels 0.12.1\nazureml-train-automl-runtime/pandas<1.0.0,>=0.21.0/pandas 1.1.4\nazureml-train-automl-runtime/lightgbm<=2.3.0,>=2.0.11/lightgbm 3.1.0\nazureml-train-automl-runtime/scipy<=1.5.2,>=1.0.0/scipy 1.5.4\nazureml-train-automl-runtime/scikit-learn<0.23.0,>=0.19.0/scikit-learn 0.23.2\n\tInnerException: None\n\tErrorResponse \n{\n    \"error\": {\n        \"code\": \"UserError\",\n        \"message\": \"Install the required versions of packages using the requirements file. Requirements file location: /Users/cody/miniconda3/envs/automl/lib/python3.7/site-packages/azureml/automl/core/validated_darwin_requirements.txt. Alternatively, use remote target to avoid dependency management. \\nPackage name/Required version/Installed version\\nazureml-automl-runtime/smart-open<=1.9.0/smart-open 3.0.0\\nazureml-automl-runtime/numpy<1.19.0,>=1.16.0/numpy 1.19.4\\nazureml-automl-runtime/statsmodels<=0.10.2,>=0.9.0/statsmodels 0.12.1\\nazureml-automl-runtime/pandas<1.0.0,>=0.21.0/pandas 1.1.4\\nazureml-automl-runtime/lightgbm<=2.3.0,>=2.0.11/lightgbm 3.1.0\\nazureml-automl-runtime/scipy<=1.5.2,>=1.0.0/scipy 1.5.4\\nazureml-automl-runtime/scikit-learn<0.23.0,>=0.19.0/scikit-learn 0.23.2\\nazureml-automl-runtime/joblib==0.14.1/joblib 0.17.0\\nazureml-defaults/gunicorn==19.9.0/gunicorn 20.0.4\\nazureml-defaults/flask==1.0.3/Flask 1.1.2\\nazureml-train-automl-runtime/smart-open<=1.9.0/smart-open 3.0.0\\nazureml-train-automl-runtime/numpy<1.19.0,>=1.16.0/numpy 1.19.4\\nazureml-train-automl-runtime/statsmodels<=0.10.2,>=0.9.0/statsmodels 0.12.1\\nazureml-train-automl-runtime/pandas<1.0.0,>=0.21.0/pandas 1.1.4\\nazureml-train-automl-runtime/lightgbm<=2.3.0,>=2.0.11/lightgbm 3.1.0\\nazureml-train-automl-runtime/scipy<=1.5.2,>=1.0.0/scipy 1.5.4\\nazureml-train-automl-runtime/scikit-learn<0.23.0,>=0.19.0/scikit-learn 0.23.2\",\n        \"target\": \"azureml-automl-runtime,azureml-defaults,azureml-train-automl-runtime\",\n        \"inner_error\": {\n            \"code\": \"NotSupported\",\n            \"inner_error\": {\n                \"code\": \"IncompatibleOrMissingDependency\"\n            }\n        },\n        \"reference_code\": \"435ab938-fd87-49bc-932e-6eec0d6aee4f\"\n    }\n}"
     ]
    }
   ],
   "source": [
    "from azureml.train.automl import AutoMLConfig\n",
    "\n",
    "config = AutoMLConfig(\n",
    "    task=\"classification\",\n",
    "    compute_target=\"local\",\n",
    "    training_data=tab,\n",
    "    label_column_name=\"species\"\n",
    ")\n",
    "\n",
    "from azureml.core import Experiment\n",
    "\n",
    "run = Experiment(ws, \"automl-unittled\").submit(config, show_output=True)\n",
    "run"
   ]
  },
  {
   "cell_type": "code",
   "execution_count": null,
   "metadata": {},
   "outputs": [],
   "source": []
  }
 ],
 "metadata": {
  "kernelspec": {
   "name": "python3",
   "display_name": "Python 3.7.9 64-bit ('automl': conda)",
   "metadata": {
    "interpreter": {
     "hash": "386b7eec74e105155303db24b993050f75a84f3cadd22b213b9325d2af208398"
    }
   }
  },
  "language_info": {
   "codemirror_mode": {
    "name": "ipython",
    "version": 3
   },
   "file_extension": ".py",
   "mimetype": "text/x-python",
   "name": "python",
   "nbconvert_exporter": "python",
   "pygments_lexer": "ipython3",
   "version": "3.7.9-final"
  }
 },
 "nbformat": 4,
 "nbformat_minor": 2
}