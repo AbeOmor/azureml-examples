{
 "cells": [
  {
   "cell_type": "markdown",
   "metadata": {},
   "source": [
    "## Install required packages"
   ]
  },
  {
   "cell_type": "code",
   "execution_count": 1,
   "metadata": {
    "tags": [
     "outputPrepend"
    ]
   },
   "outputs": [
    {
     "output_type": "stream",
     "name": "stdout",
     "text": [
      "d4e6b4ff7f2982e9f2c/prometheus_flask_exporter-0.18.1-py3-none-any.whl\n",
      "Processing /Users/cody/Library/Caches/pip/wheels/13/90/db/290ab3a34f2ef0b5a0f89235dc2d40fea83e77de84ed2dc05c/PyYAML-5.3.1-cp38-cp38-macosx_10_9_x86_64.whl\n",
      "Collecting sqlparse>=0.3.1\n",
      "  Using cached sqlparse-0.4.1-py3-none-any.whl (42 kB)\n",
      "Collecting azure-storage-blob\n",
      "  Using cached azure_storage_blob-12.6.0-py2.py3-none-any.whl (328 kB)\n",
      "Collecting protobuf>=3.6.0\n",
      "  Downloading protobuf-3.14.0-cp38-cp38-macosx_10_9_x86_64.whl (1.0 MB)\n",
      "\u001b[K     |████████████████████████████████| 1.0 MB 2.8 MB/s \n",
      "\u001b[?25hCollecting Flask\n",
      "  Using cached Flask-1.1.2-py2.py3-none-any.whl (94 kB)\n",
      "Collecting click>=7.0\n",
      "  Using cached click-7.1.2-py2.py3-none-any.whl (82 kB)\n",
      "Requirement already satisfied, skipping upgrade: entrypoints in /Users/cody/miniconda3/envs/pycaret/lib/python3.8/site-packages (from mlflow->pycaret) (0.3)\n",
      "Collecting querystring-parser\n",
      "  Using cached querystring_parser-1.2.4-py2.py3-none-any.whl (7.9 kB)\n",
      "Processing /Users/cody/Library/Caches/pip/wheels/9d/de/6d/ca8d461ec29e010b1267d7353d0b058819770f7680bb9360e4/alembic-1.4.1-py2.py3-none-any.whl\n",
      "Collecting gunicorn; platform_system != \"Windows\"\n",
      "  Using cached gunicorn-20.0.4-py2.py3-none-any.whl (77 kB)\n",
      "Collecting pytest\n",
      "  Using cached pytest-6.1.2-py3-none-any.whl (272 kB)\n",
      "Requirement already satisfied, skipping upgrade: wheel>=0.23.0 in /Users/cody/miniconda3/envs/pycaret/lib/python3.8/site-packages (from pyLDAvis->pycaret) (0.35.1)\n",
      "Processing /Users/cody/Library/Caches/pip/wheels/8e/70/28/3d6ccd6e315f65f245da085482a2e1c7d14b90b30f239e2cf4/future-0.18.2-py3-none-any.whl\n",
      "Collecting numexpr\n",
      "  Using cached numexpr-2.7.1-cp38-cp38-macosx_10_9_x86_64.whl (101 kB)\n",
      "Collecting funcy\n",
      "  Using cached funcy-1.15-py2.py3-none-any.whl (32 kB)\n",
      "Requirement already satisfied, skipping upgrade: traitlets>=4.2 in /Users/cody/miniconda3/envs/pycaret/lib/python3.8/site-packages (from IPython->pycaret) (5.0.5)\n",
      "Requirement already satisfied, skipping upgrade: decorator in /Users/cody/miniconda3/envs/pycaret/lib/python3.8/site-packages (from IPython->pycaret) (4.4.2)\n",
      "Requirement already satisfied, skipping upgrade: backcall in /Users/cody/miniconda3/envs/pycaret/lib/python3.8/site-packages (from IPython->pycaret) (0.2.0)\n",
      "Requirement already satisfied, skipping upgrade: pexpect>4.3; sys_platform != \"win32\" in /Users/cody/miniconda3/envs/pycaret/lib/python3.8/site-packages (from IPython->pycaret) (4.8.0)\n",
      "Requirement already satisfied, skipping upgrade: pygments in /Users/cody/miniconda3/envs/pycaret/lib/python3.8/site-packages (from IPython->pycaret) (2.7.2)\n",
      "Requirement already satisfied, skipping upgrade: prompt-toolkit!=3.0.0,!=3.0.1,<3.1.0,>=2.0.0 in /Users/cody/miniconda3/envs/pycaret/lib/python3.8/site-packages (from IPython->pycaret) (3.0.8)\n",
      "Requirement already satisfied, skipping upgrade: pickleshare in /Users/cody/miniconda3/envs/pycaret/lib/python3.8/site-packages (from IPython->pycaret) (0.7.5)\n",
      "Requirement already satisfied, skipping upgrade: jedi>=0.10 in /Users/cody/miniconda3/envs/pycaret/lib/python3.8/site-packages (from IPython->pycaret) (0.17.2)\n",
      "Requirement already satisfied, skipping upgrade: appnope; sys_platform == \"darwin\" in /Users/cody/miniconda3/envs/pycaret/lib/python3.8/site-packages (from IPython->pycaret) (0.1.0)\n",
      "Collecting cycler>=0.10.0\n",
      "  Using cached cycler-0.10.0-py2.py3-none-any.whl (6.5 kB)\n",
      "Requirement already satisfied, skipping upgrade: widgetsnbextension~=3.5.0 in /Users/cody/miniconda3/envs/pycaret/lib/python3.8/site-packages (from ipywidgets->pycaret) (3.5.1)\n",
      "Requirement already satisfied, skipping upgrade: ipykernel>=4.5.1 in /Users/cody/miniconda3/envs/pycaret/lib/python3.8/site-packages (from ipywidgets->pycaret) (5.3.4)\n",
      "Requirement already satisfied, skipping upgrade: nbformat>=4.2.0 in /Users/cody/miniconda3/envs/pycaret/lib/python3.8/site-packages (from ipywidgets->pycaret) (5.0.8)\n",
      "Collecting colorlover>=0.2.1\n",
      "  Using cached colorlover-0.3.0-py3-none-any.whl (8.9 kB)\n",
      "Processing /Users/cody/Library/Caches/pip/wheels/11/73/9a/f91ac1f1816436b16423617c5be5db048697ff152a9c4346f2/smart_open-3.0.0-py3-none-any.whl\n",
      "Collecting graphviz\n",
      "  Using cached graphviz-0.15-py2.py3-none-any.whl (18 kB)\n",
      "Requirement already satisfied, skipping upgrade: pyparsing!=2.0.4,!=2.1.2,!=2.1.6,>=2.0.3 in /Users/cody/miniconda3/envs/pycaret/lib/python3.8/site-packages (from matplotlib->pycaret) (2.4.7)\n",
      "Collecting kiwisolver>=1.0.1\n",
      "  Using cached kiwisolver-1.3.1-cp38-cp38-macosx_10_9_x86_64.whl (61 kB)\n",
      "Collecting threadpoolctl>=2.0.0\n",
      "  Using cached threadpoolctl-2.1.0-py3-none-any.whl (12 kB)\n",
      "Collecting regex\n",
      "  Using cached regex-2020.11.13-cp38-cp38-macosx_10_9_x86_64.whl (284 kB)\n",
      "Collecting importlib-metadata\n",
      "  Using cached importlib_metadata-2.0.0-py2.py3-none-any.whl (31 kB)\n",
      "Requirement already satisfied, skipping upgrade: backports.weakref in /Users/cody/.local/lib/python3.8/site-packages (from backports.tempfile->azureml-core) (1.0.post1)\n",
      "Requirement already satisfied, skipping upgrade: cffi!=1.11.3,>=1.8 in /Users/cody/miniconda3/envs/pycaret/lib/python3.8/site-packages (from cryptography!=1.9,!=2.0.*,!=2.1.*,!=2.2.*->azureml-core) (1.14.3)\n",
      "Collecting websocket-client>=0.32.0\n",
      "  Using cached websocket_client-0.57.0-py2.py3-none-any.whl (200 kB)\n",
      "Requirement already satisfied, skipping upgrade: certifi>=2017.4.17 in /Users/cody/miniconda3/envs/pycaret/lib/python3.8/site-packages (from msrest>=0.5.1->azureml-core) (2020.6.20)\n",
      "Collecting requests-oauthlib>=0.5.0\n",
      "  Using cached requests_oauthlib-1.3.0-py2.py3-none-any.whl (23 kB)\n",
      "Collecting isodate>=0.6.0\n",
      "  Using cached isodate-0.6.0-py2.py3-none-any.whl (45 kB)\n",
      "Requirement already satisfied, skipping upgrade: ruamel.yaml.clib>=0.1.2; platform_python_implementation == \"CPython\" and python_version < \"3.9\" in /Users/cody/.local/lib/python3.8/site-packages (from ruamel.yaml>=0.15.35->azureml-core) (0.2.2)\n",
      "Collecting pyasn1>=0.1.1\n",
      "  Using cached pyasn1-0.4.8-py2.py3-none-any.whl (77 kB)\n",
      "Collecting chardet<4,>=3.0.2\n",
      "  Using cached chardet-3.0.4-py2.py3-none-any.whl (133 kB)\n",
      "Collecting idna<3,>=2.5\n",
      "  Using cached idna-2.10-py2.py3-none-any.whl (58 kB)\n",
      "Collecting jeepney>=0.4.2\n",
      "  Using cached jeepney-0.6.0-py3-none-any.whl (45 kB)\n",
      "Collecting distro>=1.2.0\n",
      "  Using cached distro-1.5.0-py2.py3-none-any.whl (18 kB)\n",
      "Collecting msal-extensions~=0.2.2\n",
      "  Using cached msal_extensions-0.2.2-py2.py3-none-any.whl (15 kB)\n",
      "Collecting azure-core<2.0.0,>=1.0.0\n",
      "  Using cached azure_core-1.9.0-py2.py3-none-any.whl (124 kB)\n",
      "Collecting msal<2.0.0,>=1.3.0\n",
      "  Using cached msal-1.6.0-py2.py3-none-any.whl (50 kB)\n",
      "Collecting applicationinsights\n",
      "  Using cached applicationinsights-0.11.9-py2.py3-none-any.whl (58 kB)\n",
      "Requirement already satisfied, skipping upgrade: MarkupSafe>=0.23 in /Users/cody/miniconda3/envs/pycaret/lib/python3.8/site-packages (from jinja2>=2.11.1->pandas-profiling>=2.8.0->pycaret) (1.1.1)\n",
      "Collecting networkx>=2.4\n",
      "  Using cached networkx-2.5-py3-none-any.whl (1.6 MB)\n",
      "Collecting imagehash; extra == \"type_image_path\"\n",
      "  Using cached ImageHash-4.2.0-py2.py3-none-any.whl (295 kB)\n",
      "Collecting llvmlite<0.35,>=0.34.0.dev0\n",
      "  Downloading llvmlite-0.34.0-cp38-cp38-macosx_10_9_x86_64.whl (18.4 MB)\n",
      "\u001b[K     |████████████████████████████████| 18.4 MB 7.0 MB/s \n",
      "\u001b[?25hCollecting patsy>=0.5\n",
      "  Using cached patsy-0.5.1-py2.py3-none-any.whl (231 kB)\n",
      "Collecting gitdb<5,>=4.0.1\n",
      "  Using cached gitdb-4.0.5-py3-none-any.whl (63 kB)\n",
      "Collecting tabulate>=0.7.7\n",
      "  Using cached tabulate-0.8.7-py3-none-any.whl (24 kB)\n",
      "Requirement already satisfied, skipping upgrade: prometheus-client in /Users/cody/miniconda3/envs/pycaret/lib/python3.8/site-packages (from prometheus-flask-exporter->mlflow->pycaret) (0.9.0)\n",
      "Collecting itsdangerous>=0.24\n",
      "  Using cached itsdangerous-1.1.0-py2.py3-none-any.whl (16 kB)\n",
      "Collecting Werkzeug>=0.15\n",
      "  Using cached Werkzeug-1.0.1-py2.py3-none-any.whl (298 kB)\n",
      "Collecting Mako\n",
      "  Using cached Mako-1.1.3-py2.py3-none-any.whl (75 kB)\n",
      "Collecting python-editor>=0.3\n",
      "  Using cached python_editor-1.0.4-py3-none-any.whl (4.9 kB)\n",
      "Collecting pluggy<1.0,>=0.12\n",
      "  Using cached pluggy-0.13.1-py2.py3-none-any.whl (18 kB)\n",
      "Collecting iniconfig\n",
      "  Using cached iniconfig-1.1.1-py2.py3-none-any.whl (5.0 kB)\n",
      "Requirement already satisfied, skipping upgrade: packaging in /Users/cody/miniconda3/envs/pycaret/lib/python3.8/site-packages (from pytest->pyLDAvis->pycaret) (20.4)\n",
      "Collecting toml\n",
      "  Using cached toml-0.10.2-py2.py3-none-any.whl (16 kB)\n",
      "Collecting py>=1.8.2\n",
      "  Using cached py-1.9.0-py2.py3-none-any.whl (99 kB)\n",
      "Requirement already satisfied, skipping upgrade: ipython-genutils in /Users/cody/miniconda3/envs/pycaret/lib/python3.8/site-packages (from traitlets>=4.2->IPython->pycaret) (0.2.0)\n",
      "Requirement already satisfied, skipping upgrade: ptyprocess>=0.5 in /Users/cody/miniconda3/envs/pycaret/lib/python3.8/site-packages (from pexpect>4.3; sys_platform != \"win32\"->IPython->pycaret) (0.6.0)\n",
      "Requirement already satisfied, skipping upgrade: wcwidth in /Users/cody/miniconda3/envs/pycaret/lib/python3.8/site-packages (from prompt-toolkit!=3.0.0,!=3.0.1,<3.1.0,>=2.0.0->IPython->pycaret) (0.2.5)\n",
      "Requirement already satisfied, skipping upgrade: parso<0.8.0,>=0.7.0 in /Users/cody/miniconda3/envs/pycaret/lib/python3.8/site-packages (from jedi>=0.10->IPython->pycaret) (0.7.1)\n",
      "Requirement already satisfied, skipping upgrade: notebook>=4.4.1 in /Users/cody/miniconda3/envs/pycaret/lib/python3.8/site-packages (from widgetsnbextension~=3.5.0->ipywidgets->pycaret) (6.1.5)\n",
      "Requirement already satisfied, skipping upgrade: tornado>=4.2 in /Users/cody/miniconda3/envs/pycaret/lib/python3.8/site-packages (from ipykernel>=4.5.1->ipywidgets->pycaret) (6.1)\n",
      "Requirement already satisfied, skipping upgrade: jupyter-client in /Users/cody/miniconda3/envs/pycaret/lib/python3.8/site-packages (from ipykernel>=4.5.1->ipywidgets->pycaret) (6.1.7)\n",
      "Requirement already satisfied, skipping upgrade: jupyter-core in /Users/cody/miniconda3/envs/pycaret/lib/python3.8/site-packages (from nbformat>=4.2.0->ipywidgets->pycaret) (4.7.0)\n",
      "Requirement already satisfied, skipping upgrade: jsonschema!=2.5.0,>=2.4 in /Users/cody/miniconda3/envs/pycaret/lib/python3.8/site-packages (from nbformat>=4.2.0->ipywidgets->pycaret) (3.2.0)\n",
      "Collecting zipp>=0.5\n",
      "  Using cached zipp-3.4.0-py3-none-any.whl (5.2 kB)\n",
      "Requirement already satisfied, skipping upgrade: pycparser in /Users/cody/miniconda3/envs/pycaret/lib/python3.8/site-packages (from cffi!=1.11.3,>=1.8->cryptography!=1.9,!=2.0.*,!=2.1.*,!=2.2.*->azureml-core) (2.20)\n",
      "Collecting oauthlib>=3.0.0\n",
      "  Using cached oauthlib-3.1.0-py2.py3-none-any.whl (147 kB)\n",
      "Collecting portalocker~=1.0; platform_system != \"Windows\"\n",
      "  Using cached portalocker-1.7.1-py2.py3-none-any.whl (10 kB)\n",
      "Collecting PyWavelets\n",
      "  Using cached PyWavelets-1.1.1-cp38-cp38-macosx_10_9_x86_64.whl (4.3 MB)\n",
      "Collecting smmap<4,>=3.0.1\n",
      "  Using cached smmap-3.0.4-py2.py3-none-any.whl (25 kB)\n",
      "Requirement already satisfied, skipping upgrade: pyzmq>=17 in /Users/cody/miniconda3/envs/pycaret/lib/python3.8/site-packages (from notebook>=4.4.1->widgetsnbextension~=3.5.0->ipywidgets->pycaret) (20.0.0)\n",
      "Requirement already satisfied, skipping upgrade: terminado>=0.8.3 in /Users/cody/miniconda3/envs/pycaret/lib/python3.8/site-packages (from notebook>=4.4.1->widgetsnbextension~=3.5.0->ipywidgets->pycaret) (0.9.1)\n",
      "Requirement already satisfied, skipping upgrade: Send2Trash in /Users/cody/miniconda3/envs/pycaret/lib/python3.8/site-packages (from notebook>=4.4.1->widgetsnbextension~=3.5.0->ipywidgets->pycaret) (1.5.0)\n",
      "Requirement already satisfied, skipping upgrade: argon2-cffi in /Users/cody/miniconda3/envs/pycaret/lib/python3.8/site-packages (from notebook>=4.4.1->widgetsnbextension~=3.5.0->ipywidgets->pycaret) (20.1.0)\n",
      "Requirement already satisfied, skipping upgrade: nbconvert in /Users/cody/miniconda3/envs/pycaret/lib/python3.8/site-packages (from notebook>=4.4.1->widgetsnbextension~=3.5.0->ipywidgets->pycaret) (6.0.7)\n",
      "Requirement already satisfied, skipping upgrade: pyrsistent>=0.14.0 in /Users/cody/miniconda3/envs/pycaret/lib/python3.8/site-packages (from jsonschema!=2.5.0,>=2.4->nbformat>=4.2.0->ipywidgets->pycaret) (0.17.3)\n",
      "Requirement already satisfied, skipping upgrade: bleach in /Users/cody/miniconda3/envs/pycaret/lib/python3.8/site-packages (from nbconvert->notebook>=4.4.1->widgetsnbextension~=3.5.0->ipywidgets->pycaret) (3.2.1)\n",
      "Requirement already satisfied, skipping upgrade: testpath in /Users/cody/miniconda3/envs/pycaret/lib/python3.8/site-packages (from nbconvert->notebook>=4.4.1->widgetsnbextension~=3.5.0->ipywidgets->pycaret) (0.4.4)\n",
      "Requirement already satisfied, skipping upgrade: pandocfilters>=1.4.1 in /Users/cody/miniconda3/envs/pycaret/lib/python3.8/site-packages (from nbconvert->notebook>=4.4.1->widgetsnbextension~=3.5.0->ipywidgets->pycaret) (1.4.3)\n",
      "Requirement already satisfied, skipping upgrade: jupyterlab-pygments in /Users/cody/miniconda3/envs/pycaret/lib/python3.8/site-packages (from nbconvert->notebook>=4.4.1->widgetsnbextension~=3.5.0->ipywidgets->pycaret) (0.1.2)\n",
      "Requirement already satisfied, skipping upgrade: mistune<2,>=0.8.1 in /Users/cody/miniconda3/envs/pycaret/lib/python3.8/site-packages (from nbconvert->notebook>=4.4.1->widgetsnbextension~=3.5.0->ipywidgets->pycaret) (0.8.4)\n",
      "Requirement already satisfied, skipping upgrade: defusedxml in /Users/cody/miniconda3/envs/pycaret/lib/python3.8/site-packages (from nbconvert->notebook>=4.4.1->widgetsnbextension~=3.5.0->ipywidgets->pycaret) (0.6.0)\n",
      "Requirement already satisfied, skipping upgrade: nbclient<0.6.0,>=0.5.0 in /Users/cody/miniconda3/envs/pycaret/lib/python3.8/site-packages (from nbconvert->notebook>=4.4.1->widgetsnbextension~=3.5.0->ipywidgets->pycaret) (0.5.1)\n",
      "Requirement already satisfied, skipping upgrade: webencodings in /Users/cody/miniconda3/envs/pycaret/lib/python3.8/site-packages (from bleach->nbconvert->notebook>=4.4.1->widgetsnbextension~=3.5.0->ipywidgets->pycaret) (0.5.1)\n",
      "Requirement already satisfied, skipping upgrade: async-generator in /Users/cody/miniconda3/envs/pycaret/lib/python3.8/site-packages (from nbclient<0.6.0,>=0.5.0->nbconvert->notebook>=4.4.1->widgetsnbextension~=3.5.0->ipywidgets->pycaret) (1.10)\n",
      "Requirement already satisfied, skipping upgrade: nest-asyncio in /Users/cody/miniconda3/envs/pycaret/lib/python3.8/site-packages (from nbclient<0.6.0,>=0.5.0->nbconvert->notebook>=4.4.1->widgetsnbextension~=3.5.0->ipywidgets->pycaret) (1.4.3)\n",
      "Building wheels for collected packages: wordcloud, pyod\n",
      "  Building wheel for wordcloud (setup.py) ... \u001b[?25ldone\n",
      "\u001b[?25h  Created wheel for wordcloud: filename=wordcloud-1.8.1-cp38-cp38-macosx_10_9_x86_64.whl size=159737 sha256=10c9caa0e2ce4c70fb089a031e6f19ad62d0f696b51fbc7d0da35741aa7ce01d\n",
      "  Stored in directory: /Users/cody/Library/Caches/pip/wheels/4d/3f/0d/a2ba9b7895c9f1be89018b3141c3df3d4f9c786c882ccfbc3b\n",
      "  Building wheel for pyod (setup.py) ... \u001b[?25ldone\n",
      "\u001b[?25h  Created wheel for pyod: filename=pyod-0.8.4-py3-none-any.whl size=112080 sha256=8068a36ed5904d36638ceca4d8fd87d481df212eb06f9ebb65266d9447ea2915\n",
      "  Stored in directory: /Users/cody/Library/Caches/pip/wheels/4d/c9/2a/8c640af5672226224fc484203103e95aa7c319b55f3a1503da\n",
      "Successfully built wordcloud pyod\n",
      "Installing collected packages: numpy, joblib, threadpoolctl, scipy, scikit-learn, lightgbm, cycler, pillow, kiwisolver, matplotlib, pytz, pandas, seaborn, retrying, plotly, wordcloud, xgboost, imbalanced-learn, scikit-plot, plac, murmurhash, cymem, preshed, catalogue, wasabi, tqdm, blis, srsly, thinc, urllib3, chardet, idna, requests, spacy, mlxtend, kmodes, htmlmin, tangled-up-in-unicode, networkx, PyWavelets, imagehash, visions, llvmlite, numba, phik, missingno, pyyaml, confuse, pandas-profiling, combo, patsy, statsmodels, suod, pyod, smmap, gitdb, gitpython, tabulate, click, databricks-cli, sqlalchemy, itsdangerous, Werkzeug, Flask, prometheus-flask-exporter, sqlparse, cloudpickle, websocket-client, docker, oauthlib, requests-oauthlib, isodate, msrest, cryptography, azure-core, azure-storage-blob, protobuf, querystring-parser, Mako, python-editor, alembic, gunicorn, mlflow, pluggy, iniconfig, toml, py, pytest, future, numexpr, funcy, pyLDAvis, yellowbrick, umap-learn, colorlover, cufflinks, smart-open, gensim, graphviz, catboost, regex, nltk, textblob, pycaret, zipp, importlib-metadata, jsonpickle, PyJWT, adal, contextlib2, azure-common, msrestazure, azure-mgmt-resource, jmespath, azure-mgmt-authorization, azure-mgmt-storage, pathspec, azure-mgmt-keyvault, pyopenssl, pyasn1, ndg-httpsclient, jeepney, SecretStorage, azure-mgmt-containerregistry, azure-graphrbac, azureml-core, azureml-mlflow, azureml-dataprep-native, azureml-dataprep-rslex, distro, dotnetcore2, msal, portalocker, msal-extensions, azure-identity, azureml-dataprep, applicationinsights, azureml-telemetry, azureml-widgets\n",
      "\u001b[31mERROR: After October 2020 you may experience errors when installing or updating packages. This is because pip will change the way that it resolves dependency conflicts.\n",
      "\n",
      "We recommend you use --use-feature=2020-resolver to test your packages with the new resolver before it becomes the default.\n",
      "\n",
      "nteract-scrapbook 0.4.1 requires papermill, which is not installed.\n",
      "nteract-scrapbook 0.4.1 requires pyarrow, which is not installed.\n",
      "azureml-pipeline-wrapper 0.1.0.24737064 requires psutil, which is not installed.\n",
      "azure-ml-component 0.1.0.24737064 requires psutil, which is not installed.\n",
      "azureml-pipeline-wrapper 0.1.0.24737064 requires azureml-core~=0.1.0.24737064, but you'll have azureml-core 1.18.0.post2 which is incompatible.\n",
      "azureml-pipeline-wrapper 0.1.0.24737064 requires azureml-telemetry~=0.1.0.24737064, but you'll have azureml-telemetry 1.18.0 which is incompatible.\u001b[0m\n",
      "Successfully installed Flask-1.1.2 Mako-1.1.3 PyJWT-1.7.1 PyWavelets-1.1.1 SecretStorage-3.2.0 Werkzeug-1.0.1 adal-1.2.5 alembic-1.4.1 applicationinsights-0.11.9 azure-common-1.1.26 azure-core-1.9.0 azure-graphrbac-0.61.1 azure-identity-1.4.1 azure-mgmt-authorization-0.61.0 azure-mgmt-containerregistry-2.8.0 azure-mgmt-keyvault-2.2.0 azure-mgmt-resource-10.3.0 azure-mgmt-storage-11.2.0 azure-storage-blob-12.6.0 azureml-core-1.18.0.post2 azureml-dataprep-2.6.0 azureml-dataprep-native-26.0.0 azureml-dataprep-rslex-1.4.0 azureml-mlflow-1.18.0.post1 azureml-telemetry-1.18.0 azureml-widgets-1.18.0 blis-0.4.1 catalogue-1.0.0 catboost-0.24.3 chardet-3.0.4 click-7.1.2 cloudpickle-1.6.0 colorlover-0.3.0 combo-0.1.1 confuse-1.3.0 contextlib2-0.6.0.post1 cryptography-3.2.1 cufflinks-0.17.3 cycler-0.10.0 cymem-2.0.4 databricks-cli-0.14.0 distro-1.5.0 docker-4.3.1 dotnetcore2-2.1.19 funcy-1.15 future-0.18.2 gensim-3.8.3 gitdb-4.0.5 gitpython-3.1.11 graphviz-0.15 gunicorn-20.0.4 htmlmin-0.1.12 idna-2.10 imagehash-4.2.0 imbalanced-learn-0.7.0 importlib-metadata-2.0.0 iniconfig-1.1.1 isodate-0.6.0 itsdangerous-1.1.0 jeepney-0.6.0 jmespath-0.10.0 joblib-0.17.0 jsonpickle-1.4.1 kiwisolver-1.3.1 kmodes-0.10.2 lightgbm-3.1.0 llvmlite-0.34.0 matplotlib-3.3.3 missingno-0.4.2 mlflow-1.12.1 mlxtend-0.17.3 msal-1.6.0 msal-extensions-0.2.2 msrest-0.6.19 msrestazure-0.6.4 murmurhash-1.0.4 ndg-httpsclient-0.5.1 networkx-2.5 nltk-3.5 numba-0.51.2 numexpr-2.7.1 numpy-1.19.4 oauthlib-3.1.0 pandas-1.1.4 pandas-profiling-2.9.0 pathspec-0.8.1 patsy-0.5.1 phik-0.10.0 pillow-8.0.1 plac-1.1.3 plotly-4.12.0 pluggy-0.13.1 portalocker-1.7.1 preshed-3.0.4 prometheus-flask-exporter-0.18.1 protobuf-3.14.0 py-1.9.0 pyLDAvis-2.1.2 pyasn1-0.4.8 pycaret-2.2.1 pyod-0.8.4 pyopenssl-19.1.0 pytest-6.1.2 python-editor-1.0.4 pytz-2020.4 pyyaml-5.3.1 querystring-parser-1.2.4 regex-2020.11.13 requests-2.25.0 requests-oauthlib-1.3.0 retrying-1.3.3 scikit-learn-0.23.2 scikit-plot-0.3.7 scipy-1.5.4 seaborn-0.11.0 smart-open-3.0.0 smmap-3.0.4 spacy-2.3.2 sqlalchemy-1.3.20 sqlparse-0.4.1 srsly-1.0.4 statsmodels-0.12.1 suod-0.0.4 tabulate-0.8.7 tangled-up-in-unicode-0.0.6 textblob-0.15.3 thinc-7.4.1 threadpoolctl-2.1.0 toml-0.10.2 tqdm-4.52.0 umap-learn-0.4.6 urllib3-1.26.2 visions-0.5.0 wasabi-0.8.0 websocket-client-0.57.0 wordcloud-1.8.1 xgboost-1.2.1 yellowbrick-1.2 zipp-3.4.0\n"
     ]
    }
   ],
   "source": [
    "!pip install --upgrade pycaret scikit-plot azureml-mlflow azureml-core azureml-dataprep azureml-widgets"
   ]
  },
  {
   "source": [
    "## PyCaret local"
   ],
   "cell_type": "markdown",
   "metadata": {}
  },
  {
   "cell_type": "code",
   "execution_count": 2,
   "metadata": {},
   "outputs": [
    {
     "output_type": "stream",
     "name": "stderr",
     "text": [
      "/Users/cody/miniconda3/envs/pycaret/lib/python3.8/site-packages/urllib3/util/retry.py:436: DeprecationWarning: Using 'method_whitelist' with Retry is deprecated and will be removed in v2.0. Use 'allowed_methods' instead\n  warnings.warn(\n"
     ]
    }
   ],
   "source": [
    "import mlflow\n",
    "from azureml.core import Workspace\n",
    "\n",
    "ws = Workspace.from_config()\n",
    "mlflow.set_tracking_uri(ws.get_mlflow_tracking_uri())"
   ]
  },
  {
   "cell_type": "code",
   "execution_count": 3,
   "metadata": {},
   "outputs": [
    {
     "output_type": "stream",
     "name": "stderr",
     "text": [
      "/Users/cody/miniconda3/envs/pycaret/lib/python3.8/site-packages/ipykernel/ipkernel.py:287: DeprecationWarning: `should_run_async` will not call `transform_cell` automatically in the future. Please pass the result to `transformed_cell` argument and any exception that happen during thetransform in `preprocessing_exc_tuple` in IPython 7.17 and above.\n  and should_run_async(code)\n"
     ]
    },
    {
     "output_type": "execute_result",
     "data": {
      "text/plain": [
       "   sepal_length  sepal_width  petal_length  petal_width      species\n",
       "0           5.1          3.5           1.4          0.2  Iris-setosa\n",
       "1           4.9          3.0           1.4          0.2  Iris-setosa\n",
       "2           4.7          3.2           1.3          0.2  Iris-setosa\n",
       "3           4.6          3.1           1.5          0.2  Iris-setosa\n",
       "4           5.0          3.6           1.4          0.2  Iris-setosa"
      ],
      "text/html": "<div>\n<style scoped>\n    .dataframe tbody tr th:only-of-type {\n        vertical-align: middle;\n    }\n\n    .dataframe tbody tr th {\n        vertical-align: top;\n    }\n\n    .dataframe thead th {\n        text-align: right;\n    }\n</style>\n<table border=\"1\" class=\"dataframe\">\n  <thead>\n    <tr style=\"text-align: right;\">\n      <th></th>\n      <th>sepal_length</th>\n      <th>sepal_width</th>\n      <th>petal_length</th>\n      <th>petal_width</th>\n      <th>species</th>\n    </tr>\n  </thead>\n  <tbody>\n    <tr>\n      <th>0</th>\n      <td>5.1</td>\n      <td>3.5</td>\n      <td>1.4</td>\n      <td>0.2</td>\n      <td>Iris-setosa</td>\n    </tr>\n    <tr>\n      <th>1</th>\n      <td>4.9</td>\n      <td>3.0</td>\n      <td>1.4</td>\n      <td>0.2</td>\n      <td>Iris-setosa</td>\n    </tr>\n    <tr>\n      <th>2</th>\n      <td>4.7</td>\n      <td>3.2</td>\n      <td>1.3</td>\n      <td>0.2</td>\n      <td>Iris-setosa</td>\n    </tr>\n    <tr>\n      <th>3</th>\n      <td>4.6</td>\n      <td>3.1</td>\n      <td>1.5</td>\n      <td>0.2</td>\n      <td>Iris-setosa</td>\n    </tr>\n    <tr>\n      <th>4</th>\n      <td>5.0</td>\n      <td>3.6</td>\n      <td>1.4</td>\n      <td>0.2</td>\n      <td>Iris-setosa</td>\n    </tr>\n  </tbody>\n</table>\n</div>"
     },
     "metadata": {},
     "execution_count": 3
    }
   ],
   "source": [
    "import pandas as pd \n",
    "\n",
    "df = pd.read_csv(\"https://azuremlexamples.blob.core.windows.net/datasets/iris.csv\")\n",
    "df.head()"
   ]
  },
  {
   "cell_type": "code",
   "execution_count": 4,
   "metadata": {},
   "outputs": [
    {
     "output_type": "stream",
     "name": "stderr",
     "text": [
      "/Users/cody/miniconda3/envs/pycaret/lib/python3.8/site-packages/ipykernel/ipkernel.py:287: DeprecationWarning: `should_run_async` will not call `transform_cell` automatically in the future. Please pass the result to `transformed_cell` argument and any exception that happen during thetransform in `preprocessing_exc_tuple` in IPython 7.17 and above.\n  and should_run_async(code)\n"
     ]
    },
    {
     "output_type": "execute_result",
     "data": {
      "text/plain": [
       "(150, 5)"
      ]
     },
     "metadata": {},
     "execution_count": 4
    }
   ],
   "source": [
    "df.shape"
   ]
  },
  {
   "cell_type": "code",
   "execution_count": 5,
   "metadata": {},
   "outputs": [
    {
     "output_type": "stream",
     "name": "stdout",
     "text": [
      "Data for modeling: (142, 5)\nUnseen data for predictions: (8, 5)\n"
     ]
    }
   ],
   "source": [
    "data = df.sample(frac=0.95, random_state=42)\n",
    "data_unseen = df.drop(data.index)\n",
    "data.reset_index(inplace=True, drop=True)\n",
    "data_unseen.reset_index(inplace=True, drop=True)\n",
    "print(\"Data for modeling: \" + str(data.shape))\n",
    "print(\"Unseen data for predictions: \" + str(data_unseen.shape))"
   ]
  },
  {
   "cell_type": "code",
   "execution_count": 6,
   "metadata": {},
   "outputs": [
    {
     "output_type": "stream",
     "name": "stderr",
     "text": [
      "/Users/cody/miniconda3/envs/pycaret/lib/python3.8/site-packages/scikitplot/plotters.py:33: DeprecationWarning: This module was deprecated in version 0.3.0 and its functions are spread throughout different modules. Please check the documentation and update your function calls as soon as possible. This module will be removed in 0.4.0\n  warnings.warn(\"This module was deprecated in version 0.3.0 and its functions \"\n"
     ]
    },
    {
     "output_type": "display_data",
     "data": {
      "text/plain": "IntProgress(value=0, description='Processing: ', max=3)",
      "application/vnd.jupyter.widget-view+json": {
       "version_major": 2,
       "version_minor": 0,
       "model_id": "c3d5f23f0bc04d5eab21814e173597bd"
      }
     },
     "metadata": {}
    },
    {
     "output_type": "display_data",
     "data": {
      "text/plain": "                                                                  \n                                                                  \nInitiated  . . . . . . . . . . . . . . . . . .            12:16:02\nStatus     . . . . . . . . . . . . . . . . . .  Preprocessing Data",
      "text/html": "<div>\n<style scoped>\n    .dataframe tbody tr th:only-of-type {\n        vertical-align: middle;\n    }\n\n    .dataframe tbody tr th {\n        vertical-align: top;\n    }\n\n    .dataframe thead th {\n        text-align: right;\n    }\n</style>\n<table border=\"1\" class=\"dataframe\">\n  <thead>\n    <tr style=\"text-align: right;\">\n      <th></th>\n      <th></th>\n      <th></th>\n    </tr>\n    <tr>\n      <th></th>\n      <th></th>\n      <th></th>\n    </tr>\n  </thead>\n  <tbody>\n    <tr>\n      <th>Initiated</th>\n      <td>. . . . . . . . . . . . . . . . . .</td>\n      <td>12:16:02</td>\n    </tr>\n    <tr>\n      <th>Status</th>\n      <td>. . . . . . . . . . . . . . . . . .</td>\n      <td>Preprocessing Data</td>\n    </tr>\n  </tbody>\n</table>\n</div>"
     },
     "metadata": {}
    }
   ],
   "source": [
    "from pycaret.classification import *\n",
    "\n",
    "exp = setup(\n",
    "    data=data,\n",
    "    target=\"species\",\n",
    "    log_experiment=True,\n",
    "    experiment_name=\"pycaret-untitled\",\n",
    "    log_plots=True,\n",
    "    log_profile=True,\n",
    "    silent=False,  # set to False for interactively setting data types\n",
    ")"
   ]
  },
  {
   "cell_type": "code",
   "execution_count": null,
   "metadata": {},
   "outputs": [],
   "source": [
    "models()"
   ]
  },
  {
   "cell_type": "code",
   "execution_count": null,
   "metadata": {},
   "outputs": [],
   "source": [
    "%%time\n",
    "best_model = compare_models()"
   ]
  },
  {
   "cell_type": "code",
   "execution_count": null,
   "metadata": {},
   "outputs": [],
   "source": [
    "print(best_model)"
   ]
  },
  {
   "cell_type": "code",
   "execution_count": null,
   "metadata": {},
   "outputs": [],
   "source": [
    "evaluate_model(best_model)"
   ]
  },
  {
   "cell_type": "code",
   "execution_count": null,
   "metadata": {},
   "outputs": [],
   "source": [
    "unseen_predictions = predict_model(best_model, data=data_unseen)\n",
    "unseen_predictions.head()"
   ]
  },
  {
   "cell_type": "code",
   "execution_count": null,
   "metadata": {},
   "outputs": [],
   "source": [
    "from pycaret.utils import check_metric\n",
    "\n",
    "check_metric(\n",
    "    unseen_predictions.species,\n",
    "    unseen_predictions.Label.astype(str),\n",
    "    \"Accuracy\",\n",
    ")"
   ]
  }
 ],
 "metadata": {
  "kernelspec": {
   "name": "python3",
   "display_name": "Python 3.8.5 64-bit ('pycaret': conda)",
   "metadata": {
    "interpreter": {
     "hash": "fe99ee1374c0f4bc424e9e48dfb09848b26435a6adaa1a0a393676ef02c755f0"
    }
   }
  },
  "language_info": {
   "codemirror_mode": {
    "name": "ipython",
    "version": 3
   },
   "file_extension": ".py",
   "mimetype": "text/x-python",
   "name": "python",
   "nbconvert_exporter": "python",
   "pygments_lexer": "ipython3",
   "version": "3.8.5-final"
  }
 },
 "nbformat": 4,
 "nbformat_minor": 2
}