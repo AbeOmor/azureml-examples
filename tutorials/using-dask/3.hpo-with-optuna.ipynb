{
 "cells": [
  {
   "cell_type": "markdown",
   "metadata": {},
   "source": [
    "# Introduction to HPO with Optuna"
   ]
  },
  {
   "cell_type": "code",
   "execution_count": null,
   "metadata": {
    "tags": [
     "outputPrepend"
    ]
   },
   "outputs": [],
   "source": [
    "!pip install --upgrade \"dask-cloudprovider[azure]\" lightgbm optuna dask_optuna"
   ]
  },
  {
   "cell_type": "code",
   "execution_count": 1,
   "metadata": {},
   "outputs": [
    {
     "data": {
      "text/plain": [
       "Workspace.create(name='AzureML', subscription_id='6560575d-fa06-4e7d-95fb-f962e74efd7a', resource_group='cody-eastus-rg')"
      ]
     },
     "execution_count": 1,
     "metadata": {},
     "output_type": "execute_result"
    }
   ],
   "source": [
    "from azureml.core import Workspace\n",
    "\n",
    "ws = Workspace.from_config()\n",
    "ws"
   ]
  },
  {
   "cell_type": "code",
   "execution_count": 2,
   "metadata": {},
   "outputs": [],
   "source": [
    "import git\n",
    "from pathlib import Path\n",
    "\n",
    "# get root of git repo\n",
    "prefix = Path(git.Repo(\".\", search_parent_directories=True).working_tree_dir)\n",
    "\n",
    "# setup data path\n",
    "data_path = prefix.joinpath(\"data\", \"raw\", \"iris\", \"iris.csv\")"
   ]
  },
  {
   "cell_type": "code",
   "execution_count": 3,
   "metadata": {},
   "outputs": [
    {
     "name": "stdout",
     "output_type": "stream",
     "text": [
      "Uploading an estimated of 1 files\n",
      "Uploading /Users/cody/code/azureml-examples/data/raw/iris/iris.csv\n",
      "Uploaded /Users/cody/code/azureml-examples/data/raw/iris/iris.csv, 1 files out of an estimated total of 1\n",
      "Uploaded 1 files\n"
     ]
    },
    {
     "data": {
      "text/plain": [
       "$AZUREML_DATAREFERENCE_c6c3d0982e134df2a236151e8d9f8d4c"
      ]
     },
     "execution_count": 3,
     "metadata": {},
     "output_type": "execute_result"
    }
   ],
   "source": [
    "ds = ws.get_default_datastore()\n",
    "ds.upload_files([str(data_path)], target_path=\"datasets/iris\", overwrite=True)"
   ]
  },
  {
   "cell_type": "code",
   "execution_count": 4,
   "metadata": {},
   "outputs": [],
   "source": [
    "container_name = ds.container_name\n",
    "\n",
    "storage_options = {\n",
    "    \"account_name\": ds.account_name,\n",
    "    \"account_key\": ds.account_key,\n",
    "}"
   ]
  },
  {
   "cell_type": "code",
   "execution_count": 5,
   "metadata": {},
   "outputs": [
    {
     "data": {
      "text/plain": [
       "'az://azureml-blobstore-b0304e68-b406-492f-90b6-ae4897ecdb33/datasets/iris/iris.csv'"
      ]
     },
     "execution_count": 5,
     "metadata": {},
     "output_type": "execute_result"
    }
   ],
   "source": [
    "# adjust data path\n",
    "data_path = f\"az://{container_name}/datasets/iris/iris.csv\"\n",
    "data_path"
   ]
  },
  {
   "cell_type": "code",
   "execution_count": 6,
   "metadata": {},
   "outputs": [],
   "source": [
    "import dask.dataframe as dd\n",
    "\n",
    "df = dd.read_csv(data_path, storage_options=storage_options).compute()"
   ]
  },
  {
   "cell_type": "code",
   "execution_count": 7,
   "metadata": {},
   "outputs": [
    {
     "name": "stderr",
     "output_type": "stream",
     "text": [
      "WARNING - If 'script' has been provided here and a script file name has been specified in 'run_config', 'script' provided in ScriptRunConfig initialization will take precedence.\n",
      "WARNING - If 'arguments' has been provided here and arguments have been specified in 'run_config', 'arguments' provided in ScriptRunConfig initialization will take precedence.\n",
      "....................................................\n",
      "\n",
      "WARNING - If 'script' has been provided here and a script file name has been specified in 'run_config', 'script' provided in ScriptRunConfig initialization will take precedence.\n"
     ]
    },
    {
     "data": {
      "text/html": [
       "<table style=\"border: 2px solid white;\">\n",
       "<tr>\n",
       "<td style=\"vertical-align: top; border: 0px solid white\">\n",
       "<h3 style=\"text-align: left;\">Client</h3>\n",
       "<ul style=\"text-align: left; list-style: none; margin: 0; padding: 0;\">\n",
       "  <li><b>Scheduler: </b>tcp://localhost:9002</li>\n",
       "  <li><b>Dashboard: </b><a href='http://localhost:9001' target='_blank'>http://localhost:9001</a></li>\n",
       "</ul>\n",
       "</td>\n",
       "<td style=\"vertical-align: top; border: 0px solid white\">\n",
       "<h3 style=\"text-align: left;\">Cluster</h3>\n",
       "<ul style=\"text-align: left; list-style:none; margin: 0; padding: 0;\">\n",
       "  <li><b>Workers: </b>1</li>\n",
       "  <li><b>Cores: </b>16</li>\n",
       "  <li><b>Memory: </b>59.10 GB</li>\n",
       "</ul>\n",
       "</td>\n",
       "</tr>\n",
       "</table>"
      ],
      "text/plain": [
       "<Client: 'tcp://10.0.0.4:8786' processes=1 threads=16, memory=59.10 GB>"
      ]
     },
     "execution_count": 7,
     "metadata": {},
     "output_type": "execute_result"
    }
   ],
   "source": [
    "from azureml.core import Environment\n",
    "from dask.distributed import Client\n",
    "from dask_cloudprovider import AzureMLCluster\n",
    "\n",
    "env = Environment.from_conda_specification(\n",
    "    \"dask-tutorial\", prefix.joinpath(\"environments\", \"dask.yml\")\n",
    ")\n",
    "cluster = AzureMLCluster(\n",
    "    ws,\n",
    "    vm_size=\"STANDARD_DS5_V2\",\n",
    "    environment_definition=env,\n",
    "    initial_node_count=10,\n",
    "    scheduler_idle_timeout=1200,\n",
    ")\n",
    "\n",
    "c = Client(cluster)\n",
    "c"
   ]
  },
  {
   "cell_type": "code",
   "execution_count": 8,
   "metadata": {},
   "outputs": [],
   "source": [
    "# imports\n",
    "import os\n",
    "import time\n",
    "import mlflow\n",
    "import argparse\n",
    "\n",
    "import pandas as pd\n",
    "import lightgbm as lgb\n",
    "import matplotlib.pyplot as plt\n",
    "\n",
    "from sklearn.metrics import log_loss, accuracy_score\n",
    "from sklearn.preprocessing import LabelEncoder\n",
    "from sklearn.model_selection import train_test_split"
   ]
  },
  {
   "cell_type": "code",
   "execution_count": 9,
   "metadata": {},
   "outputs": [
    {
     "name": "stderr",
     "output_type": "stream",
     "text": [
      "/Users/cody/miniconda3/envs/dkdc/lib/python3.8/site-packages/ipykernel/ipkernel.py:287: DeprecationWarning: `should_run_async` will not call `transform_cell` automatically in the future. Please pass the result to `transformed_cell` argument and any exception that happen during thetransform in `preprocessing_exc_tuple` in IPython 7.17 and above.\n",
      "  and should_run_async(code)\n"
     ]
    }
   ],
   "source": [
    "# define functions\n",
    "def preprocess_data(df):\n",
    "    X = df.drop([\"species\"], axis=1)\n",
    "    y = df[\"species\"]\n",
    "\n",
    "    enc = LabelEncoder()\n",
    "    y = enc.fit_transform(y)\n",
    "\n",
    "    X_train, X_test, y_train, y_test = train_test_split(\n",
    "        X, y, test_size=0.2, random_state=42\n",
    "    )\n",
    "\n",
    "    return X_train, X_test, y_train, y_test, enc\n",
    "\n",
    "\n",
    "def train_model(params, num_boost_round, X_train, X_test, y_train, y_test):\n",
    "    t1 = time.time()\n",
    "    train_data = lgb.Dataset(X_train, label=y_train)\n",
    "    test_data = lgb.Dataset(X_test, label=y_test)\n",
    "    model = lgb.train(\n",
    "        params,\n",
    "        train_data,\n",
    "        num_boost_round=num_boost_round,\n",
    "        valid_sets=[test_data],\n",
    "        valid_names=[\"test\"],\n",
    "    )\n",
    "    t2 = time.time()\n",
    "\n",
    "    return model, t2 - t1\n",
    "\n",
    "\n",
    "def evaluate_model(model, X_test, y_test):\n",
    "    y_proba = model.predict(X_test)\n",
    "    y_pred = y_proba.argmax(axis=1)\n",
    "    loss = log_loss(y_test, y_proba)\n",
    "    acc = accuracy_score(y_test, y_pred)\n",
    "\n",
    "    return loss, acc"
   ]
  },
  {
   "cell_type": "code",
   "execution_count": 10,
   "metadata": {},
   "outputs": [],
   "source": [
    "# define an objective for optuna to optimize\n",
    "def objective(trial):\n",
    "    try:\n",
    "        mlflow.set_tracking_uri(ws.get_mlflow_tracking_uri())\n",
    "        mlflow.set_experiment(\"hpo-with-optuna-tutorial\")\n",
    "        # start mlflow run\n",
    "        with mlflow.start_run():\n",
    "            # enable autologging\n",
    "            mlflow.lightgbm.autolog()\n",
    "\n",
    "            # generate parameters\n",
    "            num_boost_round = trial.suggest_int(\"num_boost_round\", 1, 100)\n",
    "            params = {\n",
    "                \"objective\": \"multiclass\",\n",
    "                \"num_class\": 3,\n",
    "                \"boosting\": trial.suggest_categorical(\n",
    "                    \"boosting\", [\"gbdt\", \"dart\", \"goss\"]\n",
    "                ),\n",
    "                \"num_iterations\": trial.suggest_int(\"num_iterations\", 10, 100),\n",
    "                \"num_leaves\": trial.suggest_int(\"num_leaves\", 15, 63),\n",
    "                # \"num_threads\": trial.suggest_categorical(\"num_threads\", [1, 2, 4]),\n",
    "                \"learning_rate\": trial.suggest_loguniform(\n",
    "                    \"learning_rate\", 10e-5, 0.1\n",
    "                ),\n",
    "                \"metric\": \"multi_logloss\",\n",
    "                # \"seed\": trial.suggest_categorical(\"seed\", [1, 3, 5, 7, 11, 13, 42]),\n",
    "                \"verbose\": 0,\n",
    "            }\n",
    "\n",
    "            # read in dataset\n",
    "            df = dd.read_csv(\n",
    "                data_path, storage_options=storage_options\n",
    "            ).compute()\n",
    "\n",
    "            # preprocess data\n",
    "            X_train, X_test, y_train, y_test, enc = preprocess_data(df)\n",
    "\n",
    "            # train model\n",
    "            model, train_time = train_model(\n",
    "                params, num_boost_round, X_train, X_test, y_train, y_test\n",
    "            )\n",
    "            mlflow.log_metric(\"training_time\", train_time)\n",
    "\n",
    "            # evaluate model\n",
    "            loss, acc = evaluate_model(model, X_test, y_test)\n",
    "            mlflow.log_metrics({\"loss\": loss, \"accuracy\": acc})\n",
    "\n",
    "            return loss\n",
    "    except:\n",
    "        return None"
   ]
  },
  {
   "cell_type": "code",
   "execution_count": 13,
   "metadata": {
    "tags": [
     "outputPrepend"
    ]
   },
   "outputs": [
    {
     "name": "stderr",
     "output_type": "stream",
     "text": [
      "26b4407a28e4cfc174cc1dc'], 'restrictions': {}, 'loose_restrictions': [], 'priority': {'batch_of__reseed_and_optimize_sequential_1_calls-78a93d1c726b4407a28e4cfc174cc1dc': 0}, 'user_priority': 0, 'resources': None, 'submitting_task': None, 'retries': None, 'fifo_timeout': '100 ms', 'actors': False}]\n",
      "distributed.comm.utils - ERROR - ('Could not serialize object of type tuple.', \"(<function apply at 0x7fab70a99ca0>, batch_of__reseed_and_optimize_sequential_1_calls, [], {'tasks': [(<bound method Study._reseed_and_optimize_sequential of <optuna.study.Study object at 0x7fab1d1d7370>>, [<function objective at 0x7fab1cd29430>, 1, None, (), None, False, datetime.datetime(2020, 10, 11, 10, 57, 15, 148619)], {})]})\")\n",
      "Traceback (most recent call last):\n",
      "  File \"/Users/cody/miniconda3/envs/dkdc/lib/python3.8/site-packages/distributed/comm/utils.py\", line 34, in _to_frames\n",
      "    protocol.dumps(\n",
      "  File \"/Users/cody/miniconda3/envs/dkdc/lib/python3.8/site-packages/distributed/protocol/core.py\", line 50, in dumps\n",
      "    data = {\n",
      "  File \"/Users/cody/miniconda3/envs/dkdc/lib/python3.8/site-packages/distributed/protocol/core.py\", line 51, in <dictcomp>\n",
      "    key: serialize(\n",
      "  File \"/Users/cody/miniconda3/envs/dkdc/lib/python3.8/site-packages/distributed/protocol/serialize.py\", line 277, in serialize\n",
      "    raise TypeError(msg, str(x)[:10000])\n",
      "TypeError: ('Could not serialize object of type tuple.', \"(<function apply at 0x7fab70a99ca0>, batch_of__reseed_and_optimize_sequential_1_calls, [], {'tasks': [(<bound method Study._reseed_and_optimize_sequential of <optuna.study.Study object at 0x7fab1d1d7370>>, [<function objective at 0x7fab1cd29430>, 1, None, (), None, False, datetime.datetime(2020, 10, 11, 10, 57, 15, 148619)], {})]})\")\n",
      "distributed.batched - WARNING - Error in batched write, retrying\n",
      "distributed.protocol.pickle - INFO - Failed to serialize (<function apply at 0x7fab70a99ca0>, batch_of__reseed_and_optimize_sequential_1_calls, [], {'tasks': [(<bound method Study._reseed_and_optimize_sequential of <optuna.study.Study object at 0x7fab1d1d7370>>, [<function objective at 0x7fab1cd29430>, 1, None, (), None, False, datetime.datetime(2020, 10, 11, 10, 57, 15, 148619)], {})]}). Exception: cannot pickle '_thread._local' object\n",
      "distributed.protocol.core - CRITICAL - Failed to Serialize\n",
      "Traceback (most recent call last):\n",
      "  File \"/Users/cody/miniconda3/envs/dkdc/lib/python3.8/site-packages/distributed/protocol/core.py\", line 50, in dumps\n",
      "    data = {\n",
      "  File \"/Users/cody/miniconda3/envs/dkdc/lib/python3.8/site-packages/distributed/protocol/core.py\", line 51, in <dictcomp>\n",
      "    key: serialize(\n",
      "  File \"/Users/cody/miniconda3/envs/dkdc/lib/python3.8/site-packages/distributed/protocol/serialize.py\", line 277, in serialize\n",
      "    raise TypeError(msg, str(x)[:10000])\n",
      "TypeError: ('Could not serialize object of type tuple.', \"(<function apply at 0x7fab70a99ca0>, batch_of__reseed_and_optimize_sequential_1_calls, [], {'tasks': [(<bound method Study._reseed_and_optimize_sequential of <optuna.study.Study object at 0x7fab1d1d7370>>, [<function objective at 0x7fab1cd29430>, 1, None, (), None, False, datetime.datetime(2020, 10, 11, 10, 57, 15, 148619)], {})]})\")\n",
      "distributed.comm.utils - INFO - Unserializable Message: [{'op': 'update-graph', 'tasks': {'batch_of__reseed_and_optimize_sequential_1_calls-20a6774859a248cb9c70a4b21854dc05': <Serialize: (<function apply at 0x7fab70a99ca0>, batch_of__reseed_and_optimize_sequential_1_calls, [], {'tasks': [(<bound method Study._reseed_and_optimize_sequential of <optuna.study.Study object at 0x7fab1d1d7370>>, [<function objective at 0x7fab1cd29430>, 1, None, (), None, False, datetime.datetime(2020, 10, 11, 10, 57, 15, 148619)], {})]})>}, 'dependencies': {}, 'keys': ['batch_of__reseed_and_optimize_sequential_1_calls-20a6774859a248cb9c70a4b21854dc05'], 'restrictions': {}, 'loose_restrictions': [], 'priority': {'batch_of__reseed_and_optimize_sequential_1_calls-20a6774859a248cb9c70a4b21854dc05': 0}, 'user_priority': 0, 'resources': None, 'submitting_task': None, 'retries': None, 'fifo_timeout': '100 ms', 'actors': False}, {'op': 'update-graph', 'tasks': {'batch_of__reseed_and_optimize_sequential_1_calls-0330e90492c7472b9de6f85a26cb270b': <Serialize: (<function apply at 0x7fab70a99ca0>, batch_of__reseed_and_optimize_sequential_1_calls, [], {'tasks': [(<bound method Study._reseed_and_optimize_sequential of <optuna.study.Study object at 0x7fab1d1d7370>>, [<function objective at 0x7fab1cd29430>, 1, None, (), None, False, datetime.datetime(2020, 10, 11, 10, 57, 15, 148619)], {})]})>}, 'dependencies': {}, 'keys': ['batch_of__reseed_and_optimize_sequential_1_calls-0330e90492c7472b9de6f85a26cb270b'], 'restrictions': {}, 'loose_restrictions': [], 'priority': {'batch_of__reseed_and_optimize_sequential_1_calls-0330e90492c7472b9de6f85a26cb270b': 0}, 'user_priority': 0, 'resources': None, 'submitting_task': None, 'retries': None, 'fifo_timeout': '100 ms', 'actors': False}, {'op': 'update-graph', 'tasks': {'batch_of__reseed_and_optimize_sequential_1_calls-c4e6936fcbf84f08bb559bf94fa938a8': <Serialize: (<function apply at 0x7fab70a99ca0>, batch_of__reseed_and_optimize_sequential_1_calls, [], {'tasks': [(<bound method Study._reseed_and_optimize_sequential of <optuna.study.Study object at 0x7fab1d1d7370>>, [<function objective at 0x7fab1cd29430>, 1, None, (), None, False, datetime.datetime(2020, 10, 11, 10, 57, 15, 148619)], {})]})>}, 'dependencies': {}, 'keys': ['batch_of__reseed_and_optimize_sequential_1_calls-c4e6936fcbf84f08bb559bf94fa938a8'], 'restrictions': {}, 'loose_restrictions': [], 'priority': {'batch_of__reseed_and_optimize_sequential_1_calls-c4e6936fcbf84f08bb559bf94fa938a8': 0}, 'user_priority': 0, 'resources': None, 'submitting_task': None, 'retries': None, 'fifo_timeout': '100 ms', 'actors': False}, {'op': 'update-graph', 'tasks': {'batch_of__reseed_and_optimize_sequential_1_calls-e793b4822b0a42a692c549c72dbe1f71': <Serialize: (<function apply at 0x7fab70a99ca0>, batch_of__reseed_and_optimize_sequential_1_calls, [], {'tasks': [(<bound method Study._reseed_and_optimize_sequential of <optuna.study.Study object at 0x7fab1d1d7370>>, [<function objective at 0x7fab1cd29430>, 1, None, (), None, False, datetime.datetime(2020, 10, 11, 10, 57, 15, 148619)], {})]})>}, 'dependencies': {}, 'keys': ['batch_of__reseed_and_optimize_sequential_1_calls-e793b4822b0a42a692c549c72dbe1f71'], 'restrictions': {}, 'loose_restrictions': [], 'priority': {'batch_of__reseed_and_optimize_sequential_1_calls-e793b4822b0a42a692c549c72dbe1f71': 0}, 'user_priority': 0, 'resources': None, 'submitting_task': None, 'retries': None, 'fifo_timeout': '100 ms', 'actors': False}, {'op': 'update-graph', 'tasks': {'batch_of__reseed_and_optimize_sequential_1_calls-153d26e6df3746a68b483c45be99169c': <Serialize: (<function apply at 0x7fab70a99ca0>, batch_of__reseed_and_optimize_sequential_1_calls, [], {'tasks': [(<bound method Study._reseed_and_optimize_sequential of <optuna.study.Study object at 0x7fab1d1d7370>>, [<function objective at 0x7fab1cd29430>, 1, None, (), None, False, datetime.datetime(2020, 10, 11, 10, 57, 15, 148619)], {})]})>}, 'dependencies': {}, 'keys': ['batch_of__reseed_and_optimize_sequential_1_calls-153d26e6df3746a68b483c45be99169c'], 'restrictions': {}, 'loose_restrictions': [], 'priority': {'batch_of__reseed_and_optimize_sequential_1_calls-153d26e6df3746a68b483c45be99169c': 0}, 'user_priority': 0, 'resources': None, 'submitting_task': None, 'retries': None, 'fifo_timeout': '100 ms', 'actors': False}, {'op': 'update-graph', 'tasks': {'batch_of__reseed_and_optimize_sequential_1_calls-66ead3365c5f468bb30820d70aa30ed3': <Serialize: (<function apply at 0x7fab70a99ca0>, batch_of__reseed_and_optimize_sequential_1_calls, [], {'tasks': [(<bound method Study._reseed_and_optimize_sequential of <optuna.study.Study object at 0x7fab1d1d7370>>, [<function objective at 0x7fab1cd29430>, 1, None, (), None, False, datetime.datetime(2020, 10, 11, 10, 57, 15, 148619)], {})]})>}, 'dependencies': {}, 'keys': ['batch_of__reseed_and_optimize_sequential_1_calls-66ead3365c5f468bb30820d70aa30ed3'], 'restrictions': {}, 'loose_restrictions': [], 'priority': {'batch_of__reseed_and_optimize_sequential_1_calls-66ead3365c5f468bb30820d70aa30ed3': 0}, 'user_priority': 0, 'resources': None, 'submitting_task': None, 'retries': None, 'fifo_timeout': '100 ms', 'actors': False}, {'op': 'update-graph', 'tasks': {'batch_of__reseed_and_optimize_sequential_1_calls-7de8ddb9652f4947bf8c59163af9005d': <Serialize: (<function apply at 0x7fab70a99ca0>, batch_of__reseed_and_optimize_sequential_1_calls, [], {'tasks': [(<bound method Study._reseed_and_optimize_sequential of <optuna.study.Study object at 0x7fab1d1d7370>>, [<function objective at 0x7fab1cd29430>, 1, None, (), None, False, datetime.datetime(2020, 10, 11, 10, 57, 15, 148619)], {})]})>}, 'dependencies': {}, 'keys': ['batch_of__reseed_and_optimize_sequential_1_calls-7de8ddb9652f4947bf8c59163af9005d'], 'restrictions': {}, 'loose_restrictions': [], 'priority': {'batch_of__reseed_and_optimize_sequential_1_calls-7de8ddb9652f4947bf8c59163af9005d': 0}, 'user_priority': 0, 'resources': None, 'submitting_task': None, 'retries': None, 'fifo_timeout': '100 ms', 'actors': False}, {'op': 'update-graph', 'tasks': {'batch_of__reseed_and_optimize_sequential_1_calls-4f32a06717374fbeb144e5503f678210': <Serialize: (<function apply at 0x7fab70a99ca0>, batch_of__reseed_and_optimize_sequential_1_calls, [], {'tasks': [(<bound method Study._reseed_and_optimize_sequential of <optuna.study.Study object at 0x7fab1d1d7370>>, [<function objective at 0x7fab1cd29430>, 1, None, (), None, False, datetime.datetime(2020, 10, 11, 10, 57, 15, 148619)], {})]})>}, 'dependencies': {}, 'keys': ['batch_of__reseed_and_optimize_sequential_1_calls-4f32a06717374fbeb144e5503f678210'], 'restrictions': {}, 'loose_restrictions': [], 'priority': {'batch_of__reseed_and_optimize_sequential_1_calls-4f32a06717374fbeb144e5503f678210': 0}, 'user_priority': 0, 'resources': None, 'submitting_task': None, 'retries': None, 'fifo_timeout': '100 ms', 'actors': False}, {'op': 'update-graph', 'tasks': {'batch_of__reseed_and_optimize_sequential_1_calls-4c8fe393a632436c90eaeac27cc38dc3': <Serialize: (<function apply at 0x7fab70a99ca0>, batch_of__reseed_and_optimize_sequential_1_calls, [], {'tasks': [(<bound method Study._reseed_and_optimize_sequential of <optuna.study.Study object at 0x7fab1d1d7370>>, [<function objective at 0x7fab1cd29430>, 1, None, (), None, False, datetime.datetime(2020, 10, 11, 10, 57, 15, 148619)], {})]})>}, 'dependencies': {}, 'keys': ['batch_of__reseed_and_optimize_sequential_1_calls-4c8fe393a632436c90eaeac27cc38dc3'], 'restrictions': {}, 'loose_restrictions': [], 'priority': {'batch_of__reseed_and_optimize_sequential_1_calls-4c8fe393a632436c90eaeac27cc38dc3': 0}, 'user_priority': 0, 'resources': None, 'submitting_task': None, 'retries': None, 'fifo_timeout': '100 ms', 'actors': False}, {'op': 'update-graph', 'tasks': {'batch_of__reseed_and_optimize_sequential_1_calls-ceba0f8a0cf94183831684a6d3ef0f90': <Serialize: (<function apply at 0x7fab70a99ca0>, batch_of__reseed_and_optimize_sequential_1_calls, [], {'tasks': [(<bound method Study._reseed_and_optimize_sequential of <optuna.study.Study object at 0x7fab1d1d7370>>, [<function objective at 0x7fab1cd29430>, 1, None, (), None, False, datetime.datetime(2020, 10, 11, 10, 57, 15, 148619)], {})]})>}, 'dependencies': {}, 'keys': ['batch_of__reseed_and_optimize_sequential_1_calls-ceba0f8a0cf94183831684a6d3ef0f90'], 'restrictions': {}, 'loose_restrictions': [], 'priority': {'batch_of__reseed_and_optimize_sequential_1_calls-ceba0f8a0cf94183831684a6d3ef0f90': 0}, 'user_priority': 0, 'resources': None, 'submitting_task': None, 'retries': None, 'fifo_timeout': '100 ms', 'actors': False}, {'op': 'update-graph', 'tasks': {'batch_of__reseed_and_optimize_sequential_1_calls-971b1974f1a04b1982287c454b273618': <Serialize: (<function apply at 0x7fab70a99ca0>, batch_of__reseed_and_optimize_sequential_1_calls, [], {'tasks': [(<bound method Study._reseed_and_optimize_sequential of <optuna.study.Study object at 0x7fab1d1d7370>>, [<function objective at 0x7fab1cd29430>, 1, None, (), None, False, datetime.datetime(2020, 10, 11, 10, 57, 15, 148619)], {})]})>}, 'dependencies': {}, 'keys': ['batch_of__reseed_and_optimize_sequential_1_calls-971b1974f1a04b1982287c454b273618'], 'restrictions': {}, 'loose_restrictions': [], 'priority': {'batch_of__reseed_and_optimize_sequential_1_calls-971b1974f1a04b1982287c454b273618': 0}, 'user_priority': 0, 'resources': None, 'submitting_task': None, 'retries': None, 'fifo_timeout': '100 ms', 'actors': False}, {'op': 'update-graph', 'tasks': {'batch_of__reseed_and_optimize_sequential_1_calls-cb8acf6a21ab4288a23ca03b7e156e07': <Serialize: (<function apply at 0x7fab70a99ca0>, batch_of__reseed_and_optimize_sequential_1_calls, [], {'tasks': [(<bound method Study._reseed_and_optimize_sequential of <optuna.study.Study object at 0x7fab1d1d7370>>, [<function objective at 0x7fab1cd29430>, 1, None, (), None, False, datetime.datetime(2020, 10, 11, 10, 57, 15, 148619)], {})]})>}, 'dependencies': {}, 'keys': ['batch_of__reseed_and_optimize_sequential_1_calls-cb8acf6a21ab4288a23ca03b7e156e07'], 'restrictions': {}, 'loose_restrictions': [], 'priority': {'batch_of__reseed_and_optimize_sequential_1_calls-cb8acf6a21ab4288a23ca03b7e156e07': 0}, 'user_priority': 0, 'resources': None, 'submitting_task': None, 'retries': None, 'fifo_timeout': '100 ms', 'actors': False}, {'op': 'update-graph', 'tasks': {'batch_of__reseed_and_optimize_sequential_1_calls-37a819f27c694c76bf9ed215af13c116': <Serialize: (<function apply at 0x7fab70a99ca0>, batch_of__reseed_and_optimize_sequential_1_calls, [], {'tasks': [(<bound method Study._reseed_and_optimize_sequential of <optuna.study.Study object at 0x7fab1d1d7370>>, [<function objective at 0x7fab1cd29430>, 1, None, (), None, False, datetime.datetime(2020, 10, 11, 10, 57, 15, 148619)], {})]})>}, 'dependencies': {}, 'keys': ['batch_of__reseed_and_optimize_sequential_1_calls-37a819f27c694c76bf9ed215af13c116'], 'restrictions': {}, 'loose_restrictions': [], 'priority': {'batch_of__reseed_and_optimize_sequential_1_calls-37a819f27c694c76bf9ed215af13c116': 0}, 'user_priority': 0, 'resources': None, 'submitting_task': None, 'retries': None, 'fifo_timeout': '100 ms', 'actors': False}, {'op': 'update-graph', 'tasks': {'batch_of__reseed_and_optimize_sequential_1_calls-0262e834a4434a8d94d1b1e3fa7d0eef': <Serialize: (<function apply at 0x7fab70a99ca0>, batch_of__reseed_and_optimize_sequential_1_calls, [], {'tasks': [(<bound method Study._reseed_and_optimize_sequential of <optuna.study.Study object at 0x7fab1d1d7370>>, [<function objective at 0x7fab1cd29430>, 1, None, (), None, False, datetime.datetime(2020, 10, 11, 10, 57, 15, 148619)], {})]})>}, 'dependencies': {}, 'keys': ['batch_of__reseed_and_optimize_sequential_1_calls-0262e834a4434a8d94d1b1e3fa7d0eef'], 'restrictions': {}, 'loose_restrictions': [], 'priority': {'batch_of__reseed_and_optimize_sequential_1_calls-0262e834a4434a8d94d1b1e3fa7d0eef': 0}, 'user_priority': 0, 'resources': None, 'submitting_task': None, 'retries': None, 'fifo_timeout': '100 ms', 'actors': False}, {'op': 'update-graph', 'tasks': {'batch_of__reseed_and_optimize_sequential_1_calls-c53f34553c1d43968de28bd06fb508c4': <Serialize: (<function apply at 0x7fab70a99ca0>, batch_of__reseed_and_optimize_sequential_1_calls, [], {'tasks': [(<bound method Study._reseed_and_optimize_sequential of <optuna.study.Study object at 0x7fab1d1d7370>>, [<function objective at 0x7fab1cd29430>, 1, None, (), None, False, datetime.datetime(2020, 10, 11, 10, 57, 15, 148619)], {})]})>}, 'dependencies': {}, 'keys': ['batch_of__reseed_and_optimize_sequential_1_calls-c53f34553c1d43968de28bd06fb508c4'], 'restrictions': {}, 'loose_restrictions': [], 'priority': {'batch_of__reseed_and_optimize_sequential_1_calls-c53f34553c1d43968de28bd06fb508c4': 0}, 'user_priority': 0, 'resources': None, 'submitting_task': None, 'retries': None, 'fifo_timeout': '100 ms', 'actors': False}, {'op': 'update-graph', 'tasks': {'batch_of__reseed_and_optimize_sequential_1_calls-78a93d1c726b4407a28e4cfc174cc1dc': <Serialize: (<function apply at 0x7fab70a99ca0>, batch_of__reseed_and_optimize_sequential_1_calls, [], {'tasks': [(<bound method Study._reseed_and_optimize_sequential of <optuna.study.Study object at 0x7fab1d1d7370>>, [<function objective at 0x7fab1cd29430>, 1, None, (), None, False, datetime.datetime(2020, 10, 11, 10, 57, 15, 148619)], {})]})>}, 'dependencies': {}, 'keys': ['batch_of__reseed_and_optimize_sequential_1_calls-78a93d1c726b4407a28e4cfc174cc1dc'], 'restrictions': {}, 'loose_restrictions': [], 'priority': {'batch_of__reseed_and_optimize_sequential_1_calls-78a93d1c726b4407a28e4cfc174cc1dc': 0}, 'user_priority': 0, 'resources': None, 'submitting_task': None, 'retries': None, 'fifo_timeout': '100 ms', 'actors': False}, {'op': 'heartbeat-client'}]\n",
      "distributed.comm.utils - ERROR - ('Could not serialize object of type tuple.', \"(<function apply at 0x7fab70a99ca0>, batch_of__reseed_and_optimize_sequential_1_calls, [], {'tasks': [(<bound method Study._reseed_and_optimize_sequential of <optuna.study.Study object at 0x7fab1d1d7370>>, [<function objective at 0x7fab1cd29430>, 1, None, (), None, False, datetime.datetime(2020, 10, 11, 10, 57, 15, 148619)], {})]})\")\n",
      "Traceback (most recent call last):\n",
      "  File \"/Users/cody/miniconda3/envs/dkdc/lib/python3.8/site-packages/distributed/comm/utils.py\", line 34, in _to_frames\n",
      "    protocol.dumps(\n",
      "  File \"/Users/cody/miniconda3/envs/dkdc/lib/python3.8/site-packages/distributed/protocol/core.py\", line 50, in dumps\n",
      "    data = {\n",
      "  File \"/Users/cody/miniconda3/envs/dkdc/lib/python3.8/site-packages/distributed/protocol/core.py\", line 51, in <dictcomp>\n",
      "    key: serialize(\n",
      "  File \"/Users/cody/miniconda3/envs/dkdc/lib/python3.8/site-packages/distributed/protocol/serialize.py\", line 277, in serialize\n",
      "    raise TypeError(msg, str(x)[:10000])\n",
      "TypeError: ('Could not serialize object of type tuple.', \"(<function apply at 0x7fab70a99ca0>, batch_of__reseed_and_optimize_sequential_1_calls, [], {'tasks': [(<bound method Study._reseed_and_optimize_sequential of <optuna.study.Study object at 0x7fab1d1d7370>>, [<function objective at 0x7fab1cd29430>, 1, None, (), None, False, datetime.datetime(2020, 10, 11, 10, 57, 15, 148619)], {})]})\")\n",
      "distributed.batched - ERROR - Error in batched write\n",
      "Traceback (most recent call last):\n",
      "  File \"/Users/cody/miniconda3/envs/dkdc/lib/python3.8/site-packages/distributed/batched.py\", line 93, in _background_send\n",
      "    nbytes = yield self.comm.write(\n",
      "  File \"/Users/cody/miniconda3/envs/dkdc/lib/python3.8/site-packages/tornado/gen.py\", line 735, in run\n",
      "    value = future.result()\n",
      "  File \"/Users/cody/miniconda3/envs/dkdc/lib/python3.8/site-packages/distributed/comm/tcp.py\", line 222, in write\n",
      "    frames = await to_frames(\n",
      "  File \"/Users/cody/miniconda3/envs/dkdc/lib/python3.8/site-packages/distributed/comm/utils.py\", line 54, in to_frames\n",
      "    return _to_frames()\n",
      "  File \"/Users/cody/miniconda3/envs/dkdc/lib/python3.8/site-packages/distributed/comm/utils.py\", line 34, in _to_frames\n",
      "    protocol.dumps(\n",
      "  File \"/Users/cody/miniconda3/envs/dkdc/lib/python3.8/site-packages/distributed/protocol/core.py\", line 50, in dumps\n",
      "    data = {\n",
      "  File \"/Users/cody/miniconda3/envs/dkdc/lib/python3.8/site-packages/distributed/protocol/core.py\", line 51, in <dictcomp>\n",
      "    key: serialize(\n",
      "  File \"/Users/cody/miniconda3/envs/dkdc/lib/python3.8/site-packages/distributed/protocol/serialize.py\", line 277, in serialize\n",
      "    raise TypeError(msg, str(x)[:10000])\n",
      "TypeError: ('Could not serialize object of type tuple.', \"(<function apply at 0x7fab70a99ca0>, batch_of__reseed_and_optimize_sequential_1_calls, [], {'tasks': [(<bound method Study._reseed_and_optimize_sequential of <optuna.study.Study object at 0x7fab1d1d7370>>, [<function objective at 0x7fab1cd29430>, 1, None, (), None, False, datetime.datetime(2020, 10, 11, 10, 57, 15, 148619)], {})]})\")\n"
     ]
    },
    {
     "ename": "TypeError",
     "evalue": "'CancelledError' object is not iterable",
     "output_type": "error",
     "traceback": [
      "\u001b[0;31m---------------------------------------------------------------------------\u001b[0m",
      "\u001b[0;31mTypeError\u001b[0m                                 Traceback (most recent call last)",
      "\u001b[0;32m<timed exec>\u001b[0m in \u001b[0;36m<module>\u001b[0;34m\u001b[0m\n",
      "\u001b[0;32m~/miniconda3/envs/dkdc/lib/python3.8/site-packages/optuna/study.py\u001b[0m in \u001b[0;36moptimize\u001b[0;34m(self, func, n_trials, timeout, n_jobs, catch, callbacks, gc_after_trial, show_progress_bar)\u001b[0m\n\u001b[1;32m    374\u001b[0m                         \u001b[0mwarnings\u001b[0m\u001b[0;34m.\u001b[0m\u001b[0mwarn\u001b[0m\u001b[0;34m(\u001b[0m\u001b[0mmsg\u001b[0m\u001b[0;34m,\u001b[0m \u001b[0mUserWarning\u001b[0m\u001b[0;34m)\u001b[0m\u001b[0;34m\u001b[0m\u001b[0;34m\u001b[0m\u001b[0m\n\u001b[1;32m    375\u001b[0m \u001b[0;34m\u001b[0m\u001b[0m\n\u001b[0;32m--> 376\u001b[0;31m                     parallel(\n\u001b[0m\u001b[1;32m    377\u001b[0m                         delayed(self._reseed_and_optimize_sequential)(\n\u001b[1;32m    378\u001b[0m                             \u001b[0mfunc\u001b[0m\u001b[0;34m,\u001b[0m \u001b[0;36m1\u001b[0m\u001b[0;34m,\u001b[0m \u001b[0mtimeout\u001b[0m\u001b[0;34m,\u001b[0m \u001b[0mcatch\u001b[0m\u001b[0;34m,\u001b[0m \u001b[0mcallbacks\u001b[0m\u001b[0;34m,\u001b[0m \u001b[0mgc_after_trial\u001b[0m\u001b[0;34m,\u001b[0m \u001b[0mtime_start\u001b[0m\u001b[0;34m\u001b[0m\u001b[0;34m\u001b[0m\u001b[0m\n",
      "\u001b[0;32m~/miniconda3/envs/dkdc/lib/python3.8/site-packages/joblib/parallel.py\u001b[0m in \u001b[0;36m__call__\u001b[0;34m(self, iterable)\u001b[0m\n\u001b[1;32m   1040\u001b[0m \u001b[0;34m\u001b[0m\u001b[0m\n\u001b[1;32m   1041\u001b[0m             \u001b[0;32mwith\u001b[0m \u001b[0mself\u001b[0m\u001b[0;34m.\u001b[0m\u001b[0m_backend\u001b[0m\u001b[0;34m.\u001b[0m\u001b[0mretrieval_context\u001b[0m\u001b[0;34m(\u001b[0m\u001b[0;34m)\u001b[0m\u001b[0;34m:\u001b[0m\u001b[0;34m\u001b[0m\u001b[0;34m\u001b[0m\u001b[0m\n\u001b[0;32m-> 1042\u001b[0;31m                 \u001b[0mself\u001b[0m\u001b[0;34m.\u001b[0m\u001b[0mretrieve\u001b[0m\u001b[0;34m(\u001b[0m\u001b[0;34m)\u001b[0m\u001b[0;34m\u001b[0m\u001b[0;34m\u001b[0m\u001b[0m\n\u001b[0m\u001b[1;32m   1043\u001b[0m             \u001b[0;31m# Make sure that we get a last message telling us we are done\u001b[0m\u001b[0;34m\u001b[0m\u001b[0;34m\u001b[0m\u001b[0;34m\u001b[0m\u001b[0m\n\u001b[1;32m   1044\u001b[0m             \u001b[0melapsed_time\u001b[0m \u001b[0;34m=\u001b[0m \u001b[0mtime\u001b[0m\u001b[0;34m.\u001b[0m\u001b[0mtime\u001b[0m\u001b[0;34m(\u001b[0m\u001b[0;34m)\u001b[0m \u001b[0;34m-\u001b[0m \u001b[0mself\u001b[0m\u001b[0;34m.\u001b[0m\u001b[0m_start_time\u001b[0m\u001b[0;34m\u001b[0m\u001b[0;34m\u001b[0m\u001b[0m\n",
      "\u001b[0;32m~/miniconda3/envs/dkdc/lib/python3.8/site-packages/joblib/parallel.py\u001b[0m in \u001b[0;36mretrieve\u001b[0;34m(self)\u001b[0m\n\u001b[1;32m    919\u001b[0m             \u001b[0;32mtry\u001b[0m\u001b[0;34m:\u001b[0m\u001b[0;34m\u001b[0m\u001b[0;34m\u001b[0m\u001b[0m\n\u001b[1;32m    920\u001b[0m                 \u001b[0;32mif\u001b[0m \u001b[0mgetattr\u001b[0m\u001b[0;34m(\u001b[0m\u001b[0mself\u001b[0m\u001b[0;34m.\u001b[0m\u001b[0m_backend\u001b[0m\u001b[0;34m,\u001b[0m \u001b[0;34m'supports_timeout'\u001b[0m\u001b[0;34m,\u001b[0m \u001b[0;32mFalse\u001b[0m\u001b[0;34m)\u001b[0m\u001b[0;34m:\u001b[0m\u001b[0;34m\u001b[0m\u001b[0;34m\u001b[0m\u001b[0m\n\u001b[0;32m--> 921\u001b[0;31m                     \u001b[0mself\u001b[0m\u001b[0;34m.\u001b[0m\u001b[0m_output\u001b[0m\u001b[0;34m.\u001b[0m\u001b[0mextend\u001b[0m\u001b[0;34m(\u001b[0m\u001b[0mjob\u001b[0m\u001b[0;34m.\u001b[0m\u001b[0mget\u001b[0m\u001b[0;34m(\u001b[0m\u001b[0mtimeout\u001b[0m\u001b[0;34m=\u001b[0m\u001b[0mself\u001b[0m\u001b[0;34m.\u001b[0m\u001b[0mtimeout\u001b[0m\u001b[0;34m)\u001b[0m\u001b[0;34m)\u001b[0m\u001b[0;34m\u001b[0m\u001b[0;34m\u001b[0m\u001b[0m\n\u001b[0m\u001b[1;32m    922\u001b[0m                 \u001b[0;32melse\u001b[0m\u001b[0;34m:\u001b[0m\u001b[0;34m\u001b[0m\u001b[0;34m\u001b[0m\u001b[0m\n\u001b[1;32m    923\u001b[0m                     \u001b[0mself\u001b[0m\u001b[0;34m.\u001b[0m\u001b[0m_output\u001b[0m\u001b[0;34m.\u001b[0m\u001b[0mextend\u001b[0m\u001b[0;34m(\u001b[0m\u001b[0mjob\u001b[0m\u001b[0;34m.\u001b[0m\u001b[0mget\u001b[0m\u001b[0;34m(\u001b[0m\u001b[0;34m)\u001b[0m\u001b[0;34m)\u001b[0m\u001b[0;34m\u001b[0m\u001b[0;34m\u001b[0m\u001b[0m\n",
      "\u001b[0;31mTypeError\u001b[0m: 'CancelledError' object is not iterable"
     ]
    }
   ],
   "source": [
    "%%time\n",
    "import joblib\n",
    "import optuna\n",
    "import dask_optuna\n",
    "\n",
    "sampler = optuna.samplers.TPESampler()\n",
    "storage = dask_optuna.DaskStorage()\n",
    "study = optuna.create_study(\n",
    "    direction=\"minimize\",\n",
    "    study_name=\"aml-tutorial\",\n",
    "    sampler=sampler,\n",
    "    storage=storage,\n",
    ")\n",
    "with joblib.parallel_backend(\"dask\"):\n",
    "    study.optimize(objective, n_trials=16, n_jobs=-1)"
   ]
  },
  {
   "cell_type": "code",
   "execution_count": null,
   "metadata": {},
   "outputs": [],
   "source": []
  }
 ],
 "metadata": {
  "kernelspec": {
   "display_name": "Python 3.8.5 64-bit ('dkdc': conda)",
   "metadata": {
    "interpreter": {
     "hash": "6813bb6deec483ed15ac37ef074baa52622250b2b65156cf2f3313d85d7e0391"
    }
   },
   "name": "Python 3.8.5 64-bit ('dkdc': conda)"
  },
  "language_info": {
   "codemirror_mode": {
    "name": "ipython",
    "version": 3
   },
   "file_extension": ".py",
   "mimetype": "text/x-python",
   "name": "python",
   "nbconvert_exporter": "python",
   "pygments_lexer": "ipython3",
   "version": "3.8.5-final"
  }
 },
 "nbformat": 4,
 "nbformat_minor": 2
}
