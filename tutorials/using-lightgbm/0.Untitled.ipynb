{
 "cells": [
  {
   "cell_type": "markdown",
   "metadata": {},
   "source": [
    "# LightGBM Locally\n",
    "\n",
    "To get started, we will prototype the workflow locally.\n",
    "\n",
    "**Warning:** this notebook may fail if your local machine does not have sufficient resources. "
   ]
  },
  {
   "cell_type": "markdown",
   "metadata": {},
   "source": [
    "## Install requirements\n",
    "\n",
    "Install required packages."
   ]
  },
  {
   "cell_type": "code",
   "execution_count": 1,
   "metadata": {},
   "outputs": [
    {
     "name": "stdout",
     "output_type": "stream",
     "text": [
      "Requirement already satisfied: dask==2.30.0 in /Users/cody/miniconda3/envs/dkdc/lib/python3.8/site-packages (2.30.0)\n",
      "Requirement already satisfied: distributed==2.30.0 in /Users/cody/miniconda3/envs/dkdc/lib/python3.8/site-packages (2.30.0)\n",
      "Requirement already satisfied: fastparquet in /Users/cody/miniconda3/envs/dkdc/lib/python3.8/site-packages (0.5.0)\n",
      "Requirement already satisfied: adlfs in /Users/cody/miniconda3/envs/dkdc/lib/python3.8/site-packages (0.5.9)\n",
      "Requirement already satisfied: lightgbm in /Users/cody/miniconda3/envs/dkdc/lib/python3.8/site-packages (3.1.0)\n",
      "Requirement already satisfied: pandas in /Users/cody/miniconda3/envs/dkdc/lib/python3.8/site-packages (1.2.0)\n",
      "Requirement already satisfied: azure-datalake-store<0.1,>=0.0.46 in /Users/cody/miniconda3/envs/dkdc/lib/python3.8/site-packages (from adlfs) (0.0.51)\n",
      "Requirement already satisfied: azure-identity in /Users/cody/miniconda3/envs/dkdc/lib/python3.8/site-packages (from adlfs) (1.4.1)\n",
      "Requirement already satisfied: fsspec>=0.8.0 in /Users/cody/miniconda3/envs/dkdc/lib/python3.8/site-packages (from adlfs) (0.8.4)\n",
      "Requirement already satisfied: requests<3.0,>=2.22.0 in /Users/cody/miniconda3/envs/dkdc/lib/python3.8/site-packages (from adlfs) (2.25.0)\n",
      "Requirement already satisfied: azure-storage-blob>=12.5.0 in /Users/cody/miniconda3/envs/dkdc/lib/python3.8/site-packages (from adlfs) (12.6.0)\n",
      "Requirement already satisfied: msrestazure in /Users/cody/miniconda3/envs/dkdc/lib/python3.8/site-packages (from adlfs) (0.6.4)\n",
      "Requirement already satisfied: aiohttp in /Users/cody/miniconda3/envs/dkdc/lib/python3.8/site-packages (from adlfs) (3.7.3)\n",
      "Requirement already satisfied: azure-core>=1.5.0 in /Users/cody/miniconda3/envs/dkdc/lib/python3.8/site-packages (from adlfs) (1.9.0)\n",
      "Requirement already satisfied: pyyaml in /Users/cody/miniconda3/envs/dkdc/lib/python3.8/site-packages (from dask==2.30.0) (5.3.1)\n",
      "Collecting dask-lightgbm\n",
      "  Using cached dask_lightgbm-0.1.0-py3-none-any.whl (5.6 kB)\n",
      "Requirement already satisfied: numpy<2.0.0,>=1.17.3 in /Users/cody/miniconda3/envs/dkdc/lib/python3.8/site-packages (from dask-lightgbm) (1.19.5)\n",
      "Requirement already satisfied: distributed==2.30.0 in /Users/cody/miniconda3/envs/dkdc/lib/python3.8/site-packages (2.30.0)\n",
      "Requirement already satisfied: dask==2.30.0 in /Users/cody/miniconda3/envs/dkdc/lib/python3.8/site-packages (2.30.0)\n",
      "Requirement already satisfied: pyyaml in /Users/cody/miniconda3/envs/dkdc/lib/python3.8/site-packages (from dask==2.30.0) (5.3.1)\n",
      "Requirement already satisfied: cloudpickle>=1.5.0 in /Users/cody/miniconda3/envs/dkdc/lib/python3.8/site-packages (from distributed==2.30.0) (1.6.0)\n",
      "Requirement already satisfied: dask==2.30.0 in /Users/cody/miniconda3/envs/dkdc/lib/python3.8/site-packages (2.30.0)\n",
      "Requirement already satisfied: tblib>=1.6.0 in /Users/cody/miniconda3/envs/dkdc/lib/python3.8/site-packages (from distributed==2.30.0) (1.7.0)\n",
      "Requirement already satisfied: psutil>=5.0 in /Users/cody/miniconda3/envs/dkdc/lib/python3.8/site-packages (from distributed==2.30.0) (5.7.3)\n",
      "Requirement already satisfied: tornado>=6.0.3 in /Users/cody/miniconda3/envs/dkdc/lib/python3.8/site-packages (from distributed==2.30.0) (6.1)\n",
      "Requirement already satisfied: zict>=0.1.3 in /Users/cody/miniconda3/envs/dkdc/lib/python3.8/site-packages (from distributed==2.30.0) (2.0.0)\n",
      "Requirement already satisfied: msgpack>=0.6.0 in /Users/cody/miniconda3/envs/dkdc/lib/python3.8/site-packages (from distributed==2.30.0) (1.0.0)\n",
      "Requirement already satisfied: sortedcontainers!=2.0.0,!=2.0.1 in /Users/cody/miniconda3/envs/dkdc/lib/python3.8/site-packages (from distributed==2.30.0) (2.3.0)\n",
      "Requirement already satisfied: setuptools in /Users/cody/miniconda3/envs/dkdc/lib/python3.8/site-packages (from distributed==2.30.0) (50.3.1.post20201107)\n",
      "Requirement already satisfied: click>=6.6 in /Users/cody/miniconda3/envs/dkdc/lib/python3.8/site-packages (from distributed==2.30.0) (7.1.2)\n",
      "Requirement already satisfied: pandas in /Users/cody/miniconda3/envs/dkdc/lib/python3.8/site-packages (1.2.0)\n",
      "Requirement already satisfied: thrift>=0.11.0 in /Users/cody/miniconda3/envs/dkdc/lib/python3.8/site-packages (from fastparquet) (0.13.0)\n",
      "Requirement already satisfied: numpy<2.0.0,>=1.17.3 in /Users/cody/miniconda3/envs/dkdc/lib/python3.8/site-packages (from dask-lightgbm) (1.19.5)\n",
      "Requirement already satisfied: numba>=0.49 in /Users/cody/miniconda3/envs/dkdc/lib/python3.8/site-packages (from fastparquet) (0.51.2)\n",
      "Collecting lightgbm\n",
      "  Using cached lightgbm-2.3.1-py2.py3-none-macosx_10_9_x86_64.macosx_10_10_x86_64.macosx_10_11_x86_64.macosx_10_12_x86_64.macosx_10_13_x86_64.macosx_10_14_x86_64.macosx_10_15_x86_64.whl (679 kB)\n",
      "Requirement already satisfied: numpy<2.0.0,>=1.17.3 in /Users/cody/miniconda3/envs/dkdc/lib/python3.8/site-packages (from dask-lightgbm) (1.19.5)\n",
      "Requirement already satisfied: scipy in /Users/cody/miniconda3/envs/dkdc/lib/python3.8/site-packages (from lightgbm) (1.5.4)\n",
      "Requirement already satisfied: scikit-learn in /Users/cody/miniconda3/envs/dkdc/lib/python3.8/site-packages (from lightgbm) (0.23.2)\n",
      "Requirement already satisfied: numpy<2.0.0,>=1.17.3 in /Users/cody/miniconda3/envs/dkdc/lib/python3.8/site-packages (from dask-lightgbm) (1.19.5)\n",
      "Requirement already satisfied: pytz>=2017.3 in /Users/cody/miniconda3/envs/dkdc/lib/python3.8/site-packages (from pandas) (2019.1)\n",
      "Requirement already satisfied: python-dateutil>=2.7.3 in /Users/cody/miniconda3/envs/dkdc/lib/python3.8/site-packages (from pandas) (2.8.1)\n",
      "Requirement already satisfied: async-timeout<4.0,>=3.0 in /Users/cody/miniconda3/envs/dkdc/lib/python3.8/site-packages (from aiohttp->adlfs) (3.0.1)\n",
      "Requirement already satisfied: yarl<2.0,>=1.0 in /Users/cody/miniconda3/envs/dkdc/lib/python3.8/site-packages (from aiohttp->adlfs) (1.6.3)\n",
      "Requirement already satisfied: typing-extensions>=3.6.5 in /Users/cody/miniconda3/envs/dkdc/lib/python3.8/site-packages (from aiohttp->adlfs) (3.7.4.3)\n",
      "Requirement already satisfied: multidict<7.0,>=4.5 in /Users/cody/miniconda3/envs/dkdc/lib/python3.8/site-packages (from aiohttp->adlfs) (5.0.2)\n",
      "Requirement already satisfied: attrs>=17.3.0 in /Users/cody/miniconda3/envs/dkdc/lib/python3.8/site-packages (from aiohttp->adlfs) (20.3.0)\n",
      "Requirement already satisfied: chardet<4.0,>=2.0 in /Users/cody/miniconda3/envs/dkdc/lib/python3.8/site-packages (from aiohttp->adlfs) (3.0.4)\n",
      "Requirement already satisfied: requests<3.0,>=2.22.0 in /Users/cody/miniconda3/envs/dkdc/lib/python3.8/site-packages (from adlfs) (2.25.0)\n",
      "Requirement already satisfied: six>=1.6 in /Users/cody/miniconda3/envs/dkdc/lib/python3.8/site-packages (from azure-core>=1.5.0->adlfs) (1.15.0)\n",
      "Requirement already satisfied: adal>=0.4.2 in /Users/cody/miniconda3/envs/dkdc/lib/python3.8/site-packages (from azure-datalake-store<0.1,>=0.0.46->adlfs) (1.2.5)\n",
      "Requirement already satisfied: requests<3.0,>=2.22.0 in /Users/cody/miniconda3/envs/dkdc/lib/python3.8/site-packages (from adlfs) (2.25.0)\n",
      "Requirement already satisfied: cffi in /Users/cody/miniconda3/envs/dkdc/lib/python3.8/site-packages (from azure-datalake-store<0.1,>=0.0.46->adlfs) (1.14.3)\n",
      "Requirement already satisfied: requests<3.0,>=2.22.0 in /Users/cody/miniconda3/envs/dkdc/lib/python3.8/site-packages (from adlfs) (2.25.0)\n",
      "Requirement already satisfied: python-dateutil>=2.7.3 in /Users/cody/miniconda3/envs/dkdc/lib/python3.8/site-packages (from pandas) (2.8.1)\n",
      "Requirement already satisfied: PyJWT>=1.0.0 in /Users/cody/miniconda3/envs/dkdc/lib/python3.8/site-packages (from adal>=0.4.2->azure-datalake-store<0.1,>=0.0.46->adlfs) (1.7.1)\n",
      "Requirement already satisfied: cryptography>=1.1.0 in /Users/cody/miniconda3/envs/dkdc/lib/python3.8/site-packages (from adal>=0.4.2->azure-datalake-store<0.1,>=0.0.46->adlfs) (2.9.2)\n",
      "Requirement already satisfied: msal<2.0.0,>=1.3.0 in /Users/cody/miniconda3/envs/dkdc/lib/python3.8/site-packages (from azure-identity->adlfs) (1.6.0)\n",
      "Requirement already satisfied: azure-core>=1.5.0 in /Users/cody/miniconda3/envs/dkdc/lib/python3.8/site-packages (from adlfs) (1.9.0)\n",
      "Requirement already satisfied: six>=1.6 in /Users/cody/miniconda3/envs/dkdc/lib/python3.8/site-packages (from azure-core>=1.5.0->adlfs) (1.15.0)\n",
      "Requirement already satisfied: cryptography>=1.1.0 in /Users/cody/miniconda3/envs/dkdc/lib/python3.8/site-packages (from adal>=0.4.2->azure-datalake-store<0.1,>=0.0.46->adlfs) (2.9.2)\n",
      "Requirement already satisfied: msal-extensions~=0.2.2 in /Users/cody/miniconda3/envs/dkdc/lib/python3.8/site-packages (from azure-identity->adlfs) (0.2.2)\n",
      "Requirement already satisfied: cryptography>=1.1.0 in /Users/cody/miniconda3/envs/dkdc/lib/python3.8/site-packages (from adal>=0.4.2->azure-datalake-store<0.1,>=0.0.46->adlfs) (2.9.2)\n",
      "Requirement already satisfied: msrest>=0.6.10 in /Users/cody/miniconda3/envs/dkdc/lib/python3.8/site-packages (from azure-storage-blob>=12.5.0->adlfs) (0.6.19)\n",
      "Requirement already satisfied: azure-core>=1.5.0 in /Users/cody/miniconda3/envs/dkdc/lib/python3.8/site-packages (from adlfs) (1.9.0)\n",
      "Requirement already satisfied: pycparser in /Users/cody/miniconda3/envs/dkdc/lib/python3.8/site-packages (from cffi->azure-datalake-store<0.1,>=0.0.46->adlfs) (2.20)\n",
      "Requirement already satisfied: six>=1.6 in /Users/cody/miniconda3/envs/dkdc/lib/python3.8/site-packages (from azure-core>=1.5.0->adlfs) (1.15.0)\n",
      "Requirement already satisfied: cffi in /Users/cody/miniconda3/envs/dkdc/lib/python3.8/site-packages (from azure-datalake-store<0.1,>=0.0.46->adlfs) (1.14.3)\n",
      "Requirement already satisfied: requests<3.0,>=2.22.0 in /Users/cody/miniconda3/envs/dkdc/lib/python3.8/site-packages (from adlfs) (2.25.0)\n",
      "Requirement already satisfied: cryptography>=1.1.0 in /Users/cody/miniconda3/envs/dkdc/lib/python3.8/site-packages (from adal>=0.4.2->azure-datalake-store<0.1,>=0.0.46->adlfs) (2.9.2)\n",
      "Requirement already satisfied: PyJWT[crypto]<2,>=1.0.0 in /Users/cody/miniconda3/envs/dkdc/lib/python3.8/site-packages (from msal<2.0.0,>=1.3.0->azure-identity->adlfs) (1.7.1)\n",
      "Requirement already satisfied: msal<2.0.0,>=1.3.0 in /Users/cody/miniconda3/envs/dkdc/lib/python3.8/site-packages (from azure-identity->adlfs) (1.6.0)\n",
      "Requirement already satisfied: portalocker~=1.0 in /Users/cody/miniconda3/envs/dkdc/lib/python3.8/site-packages (from msal-extensions~=0.2.2->azure-identity->adlfs) (1.7.1)\n",
      "Requirement already satisfied: isodate>=0.6.0 in /Users/cody/miniconda3/envs/dkdc/lib/python3.8/site-packages (from msrest>=0.6.10->azure-storage-blob>=12.5.0->adlfs) (0.6.0)\n",
      "Requirement already satisfied: requests<3.0,>=2.22.0 in /Users/cody/miniconda3/envs/dkdc/lib/python3.8/site-packages (from adlfs) (2.25.0)\n",
      "Requirement already satisfied: certifi>=2017.4.17 in /Users/cody/miniconda3/envs/dkdc/lib/python3.8/site-packages (from msrest>=0.6.10->azure-storage-blob>=12.5.0->adlfs) (2020.11.8)\n",
      "Requirement already satisfied: requests-oauthlib>=0.5.0 in /Users/cody/miniconda3/envs/dkdc/lib/python3.8/site-packages (from msrest>=0.6.10->azure-storage-blob>=12.5.0->adlfs) (1.3.0)\n",
      "Requirement already satisfied: six>=1.6 in /Users/cody/miniconda3/envs/dkdc/lib/python3.8/site-packages (from azure-core>=1.5.0->adlfs) (1.15.0)\n",
      "Requirement already satisfied: six>=1.6 in /Users/cody/miniconda3/envs/dkdc/lib/python3.8/site-packages (from azure-core>=1.5.0->adlfs) (1.15.0)\n",
      "Requirement already satisfied: adal>=0.4.2 in /Users/cody/miniconda3/envs/dkdc/lib/python3.8/site-packages (from azure-datalake-store<0.1,>=0.0.46->adlfs) (1.2.5)\n",
      "Requirement already satisfied: msrest>=0.6.10 in /Users/cody/miniconda3/envs/dkdc/lib/python3.8/site-packages (from azure-storage-blob>=12.5.0->adlfs) (0.6.19)\n",
      "Requirement already satisfied: llvmlite<0.35,>=0.34.0.dev0 in /Users/cody/miniconda3/envs/dkdc/lib/python3.8/site-packages (from numba>=0.49->fastparquet) (0.34.0)\n",
      "Requirement already satisfied: setuptools in /Users/cody/miniconda3/envs/dkdc/lib/python3.8/site-packages (from distributed==2.30.0) (50.3.1.post20201107)\n",
      "Requirement already satisfied: numpy<2.0.0,>=1.17.3 in /Users/cody/miniconda3/envs/dkdc/lib/python3.8/site-packages (from dask-lightgbm) (1.19.5)\n",
      "Requirement already satisfied: cryptography>=1.1.0 in /Users/cody/miniconda3/envs/dkdc/lib/python3.8/site-packages (from adal>=0.4.2->azure-datalake-store<0.1,>=0.0.46->adlfs) (2.9.2)\n",
      "Requirement already satisfied: six>=1.6 in /Users/cody/miniconda3/envs/dkdc/lib/python3.8/site-packages (from azure-core>=1.5.0->adlfs) (1.15.0)\n",
      "Requirement already satisfied: chardet<4.0,>=2.0 in /Users/cody/miniconda3/envs/dkdc/lib/python3.8/site-packages (from aiohttp->adlfs) (3.0.4)\n",
      "Requirement already satisfied: urllib3<1.27,>=1.21.1 in /Users/cody/miniconda3/envs/dkdc/lib/python3.8/site-packages (from requests<3.0,>=2.22.0->adlfs) (1.26.2)\n",
      "Requirement already satisfied: idna<3,>=2.5 in /Users/cody/miniconda3/envs/dkdc/lib/python3.8/site-packages (from requests<3.0,>=2.22.0->adlfs) (2.10)\n",
      "Requirement already satisfied: certifi>=2017.4.17 in /Users/cody/miniconda3/envs/dkdc/lib/python3.8/site-packages (from msrest>=0.6.10->azure-storage-blob>=12.5.0->adlfs) (2020.11.8)\n",
      "Requirement already satisfied: requests<3.0,>=2.22.0 in /Users/cody/miniconda3/envs/dkdc/lib/python3.8/site-packages (from adlfs) (2.25.0)\n",
      "Requirement already satisfied: oauthlib>=3.0.0 in /Users/cody/miniconda3/envs/dkdc/lib/python3.8/site-packages (from requests-oauthlib>=0.5.0->msrest>=0.6.10->azure-storage-blob>=12.5.0->adlfs) (3.1.0)\n",
      "Requirement already satisfied: numpy<2.0.0,>=1.17.3 in /Users/cody/miniconda3/envs/dkdc/lib/python3.8/site-packages (from dask-lightgbm) (1.19.5)\n",
      "Requirement already satisfied: scipy in /Users/cody/miniconda3/envs/dkdc/lib/python3.8/site-packages (from lightgbm) (1.5.4)\n",
      "Requirement already satisfied: joblib>=0.11 in /Users/cody/miniconda3/envs/dkdc/lib/python3.8/site-packages (from scikit-learn->lightgbm) (0.17.0)\n",
      "Requirement already satisfied: threadpoolctl>=2.0.0 in /Users/cody/miniconda3/envs/dkdc/lib/python3.8/site-packages (from scikit-learn->lightgbm) (2.1.0)\n",
      "Requirement already satisfied: numpy<2.0.0,>=1.17.3 in /Users/cody/miniconda3/envs/dkdc/lib/python3.8/site-packages (from dask-lightgbm) (1.19.5)\n",
      "Requirement already satisfied: six>=1.6 in /Users/cody/miniconda3/envs/dkdc/lib/python3.8/site-packages (from azure-core>=1.5.0->adlfs) (1.15.0)\n",
      "Collecting toolz<0.11.0,>=0.10.0\n",
      "  Using cached toolz-0.10.0-py3-none-any.whl\n",
      "Requirement already satisfied: idna<3,>=2.5 in /Users/cody/miniconda3/envs/dkdc/lib/python3.8/site-packages (from requests<3.0,>=2.22.0->adlfs) (2.10)\n",
      "Requirement already satisfied: multidict<7.0,>=4.5 in /Users/cody/miniconda3/envs/dkdc/lib/python3.8/site-packages (from aiohttp->adlfs) (5.0.2)\n",
      "Requirement already satisfied: heapdict in /Users/cody/miniconda3/envs/dkdc/lib/python3.8/site-packages (from zict>=0.1.3->distributed==2.30.0) (1.0.1)\n",
      "Installing collected packages: toolz, lightgbm, dask-lightgbm\n",
      "  Attempting uninstall: toolz\n",
      "    Found existing installation: toolz 0.11.1\n",
      "    Uninstalling toolz-0.11.1:\n",
      "      Successfully uninstalled toolz-0.11.1\n",
      "  Attempting uninstall: lightgbm\n",
      "    Found existing installation: lightgbm 3.1.0\n",
      "    Uninstalling lightgbm-3.1.0:\n",
      "      Successfully uninstalled lightgbm-3.1.0\n",
      "Successfully installed dask-lightgbm-0.1.0 lightgbm-2.3.1 toolz-0.10.0\n",
      "\u001b[33mWARNING: You are using pip version 20.3.1; however, version 20.3.3 is available.\n",
      "You should consider upgrading via the '/Users/cody/miniconda3/envs/dkdc/bin/python -m pip install --upgrade pip' command.\u001b[0m\n"
     ]
    }
   ],
   "source": [
    "!pip install --upgrade dask==2.30.0 distributed==2.30.0 fastparquet adlfs lightgbm dask-lightgbm pandas"
   ]
  },
  {
   "cell_type": "markdown",
   "metadata": {},
   "source": [
    "## Get Data\n",
    "\n",
    "The data is modified from a kaggle competition and hosted publicly."
   ]
  },
  {
   "cell_type": "markdown",
   "metadata": {},
   "source": [
    "start a distributed Client"
   ]
  },
  {
   "cell_type": "code",
   "execution_count": 2,
   "metadata": {},
   "outputs": [
    {
     "data": {
      "text/html": "<table style=\"border: 2px solid white;\">\n<tr>\n<td style=\"vertical-align: top; border: 0px solid white\">\n<h3 style=\"text-align: left;\">Client</h3>\n<ul style=\"text-align: left; list-style: none; margin: 0; padding: 0;\">\n  <li><b>Scheduler: </b>tcp://127.0.0.1:64437</li>\n  <li><b>Dashboard: </b><a href='http://127.0.0.1:8787/status' target='_blank'>http://127.0.0.1:8787/status</a></li>\n</ul>\n</td>\n<td style=\"vertical-align: top; border: 0px solid white\">\n<h3 style=\"text-align: left;\">Cluster</h3>\n<ul style=\"text-align: left; list-style:none; margin: 0; padding: 0;\">\n  <li><b>Workers: </b>3</li>\n  <li><b>Cores: </b>6</li>\n  <li><b>Memory: </b>68.72 GB</li>\n</ul>\n</td>\n</tr>\n</table>",
      "text/plain": "<Client: 'tcp://127.0.0.1:64437' processes=3 threads=6, memory=68.72 GB>"
     },
     "execution_count": 2,
     "metadata": {},
     "output_type": "execute_result"
    }
   ],
   "source": [
    "from distributed import Client\n",
    "\n",
    "c = Client()\n",
    "c"
   ]
  },
  {
   "cell_type": "markdown",
   "metadata": {},
   "source": [
    "initialize the Pythonic filesystem\n",
    "\n",
    "**Tip:** if you're not using public data, you need to provide data credentials. These can be retrieved through Azure ML Datastores, e.g.:\n",
    "\n",
    "```python\n",
    "from azureml.core import Workspace\n",
    "\n",
    "ws = Workspace.from_config()\n",
    "ds = ws.get_default_datastore() # ws.datastores[\"my-datastore-name\"]\n",
    "\n",
    "storage_options = {\n",
    "    \"account_name\": ds.account_name,\n",
    "    \"account_key\": ds.account_key\n",
    "}\n",
    "```"
   ]
  },
  {
   "cell_type": "code",
   "execution_count": 3,
   "metadata": {},
   "outputs": [
    {
     "data": {
      "text/plain": "<adlfs.spec.AzureBlobFileSystem at 0x7ff4e8c483d0>"
     },
     "execution_count": 3,
     "metadata": {},
     "output_type": "execute_result"
    }
   ],
   "source": [
    "from adlfs import AzureBlobFileSystem\n",
    "\n",
    "container_name = \"malware\"\n",
    "storage_options = {\"account_name\": \"azuremlexamples\"}\n",
    "\n",
    "fs = AzureBlobFileSystem(**storage_options)\n",
    "fs"
   ]
  },
  {
   "cell_type": "markdown",
   "metadata": {},
   "source": [
    "list the processed (partitioned) files"
   ]
  },
  {
   "cell_type": "code",
   "execution_count": 4,
   "metadata": {},
   "outputs": [
    {
     "data": {
      "text/plain": "['malware/processed/test.parquet/', 'malware/processed/train.parquet/']"
     },
     "execution_count": 4,
     "metadata": {},
     "output_type": "execute_result"
    }
   ],
   "source": [
    "files = fs.ls(f\"{container_name}/processed\")\n",
    "files"
   ]
  },
  {
   "cell_type": "markdown",
   "metadata": {},
   "source": [
    "read data into a (dask) dataframe"
   ]
  },
  {
   "cell_type": "code",
   "execution_count": 5,
   "metadata": {},
   "outputs": [
    {
     "data": {
      "text/html": "<div><strong>Dask DataFrame Structure:</strong></div>\n<div>\n<style scoped>\n    .dataframe tbody tr th:only-of-type {\n        vertical-align: middle;\n    }\n\n    .dataframe tbody tr th {\n        vertical-align: top;\n    }\n\n    .dataframe thead th {\n        text-align: right;\n    }\n</style>\n<table border=\"1\" class=\"dataframe\">\n  <thead>\n    <tr style=\"text-align: right;\">\n      <th></th>\n      <th>ProductName</th>\n      <th>EngineVersion</th>\n      <th>AppVersion</th>\n      <th>AvSigVersion</th>\n      <th>IsBeta</th>\n      <th>RtpStateBitfield</th>\n      <th>IsSxsPassiveMode</th>\n      <th>DefaultBrowsersIdentifier</th>\n      <th>AVProductStatesIdentifier</th>\n      <th>AVProductsInstalled</th>\n      <th>AVProductsEnabled</th>\n      <th>HasTpm</th>\n      <th>CountryIdentifier</th>\n      <th>CityIdentifier</th>\n      <th>OrganizationIdentifier</th>\n      <th>GeoNameIdentifier</th>\n      <th>LocaleEnglishNameIdentifier</th>\n      <th>Platform</th>\n      <th>Processor</th>\n      <th>OsVer</th>\n      <th>OsBuild</th>\n      <th>OsSuite</th>\n      <th>OsPlatformSubRelease</th>\n      <th>OsBuildLab</th>\n      <th>SkuEdition</th>\n      <th>IsProtected</th>\n      <th>AutoSampleOptIn</th>\n      <th>PuaMode</th>\n      <th>SMode</th>\n      <th>IeVerIdentifier</th>\n      <th>SmartScreen</th>\n      <th>Firewall</th>\n      <th>UacLuaenable</th>\n      <th>Census_MDC2FormFactor</th>\n      <th>Census_DeviceFamily</th>\n      <th>Census_OEMNameIdentifier</th>\n      <th>Census_OEMModelIdentifier</th>\n      <th>Census_ProcessorCoreCount</th>\n      <th>Census_ProcessorManufacturerIdentifier</th>\n      <th>Census_ProcessorModelIdentifier</th>\n      <th>Census_ProcessorClass</th>\n      <th>Census_PrimaryDiskTotalCapacity</th>\n      <th>Census_PrimaryDiskTypeName</th>\n      <th>Census_SystemVolumeTotalCapacity</th>\n      <th>Census_HasOpticalDiskDrive</th>\n      <th>Census_TotalPhysicalRAM</th>\n      <th>Census_ChassisTypeName</th>\n      <th>Census_InternalPrimaryDiagonalDisplaySizeInInches</th>\n      <th>Census_InternalPrimaryDisplayResolutionHorizontal</th>\n      <th>Census_InternalPrimaryDisplayResolutionVertical</th>\n      <th>Census_PowerPlatformRoleName</th>\n      <th>Census_InternalBatteryType</th>\n      <th>Census_InternalBatteryNumberOfCharges</th>\n      <th>Census_OSVersion</th>\n      <th>Census_OSArchitecture</th>\n      <th>Census_OSBranch</th>\n      <th>Census_OSBuildNumber</th>\n      <th>Census_OSBuildRevision</th>\n      <th>Census_OSEdition</th>\n      <th>Census_OSSkuName</th>\n      <th>Census_OSInstallTypeName</th>\n      <th>Census_OSInstallLanguageIdentifier</th>\n      <th>Census_OSUILocaleIdentifier</th>\n      <th>Census_OSWUAutoUpdateOptionsName</th>\n      <th>Census_IsPortableOperatingSystem</th>\n      <th>Census_GenuineStateName</th>\n      <th>Census_ActivationChannel</th>\n      <th>Census_IsFlightingInternal</th>\n      <th>Census_IsFlightsDisabled</th>\n      <th>Census_FlightRing</th>\n      <th>Census_ThresholdOptIn</th>\n      <th>Census_FirmwareManufacturerIdentifier</th>\n      <th>Census_FirmwareVersionIdentifier</th>\n      <th>Census_IsSecureBootEnabled</th>\n      <th>Census_IsWIMBootEnabled</th>\n      <th>Census_IsVirtualDevice</th>\n      <th>Census_IsTouchEnabled</th>\n      <th>Census_IsPenCapable</th>\n      <th>Census_IsAlwaysOnAlwaysConnectedCapable</th>\n      <th>Wdft_IsGamer</th>\n      <th>Wdft_RegionIdentifier</th>\n      <th>HasDetections</th>\n    </tr>\n    <tr>\n      <th>npartitions=256</th>\n      <th></th>\n      <th></th>\n      <th></th>\n      <th></th>\n      <th></th>\n      <th></th>\n      <th></th>\n      <th></th>\n      <th></th>\n      <th></th>\n      <th></th>\n      <th></th>\n      <th></th>\n      <th></th>\n      <th></th>\n      <th></th>\n      <th></th>\n      <th></th>\n      <th></th>\n      <th></th>\n      <th></th>\n      <th></th>\n      <th></th>\n      <th></th>\n      <th></th>\n      <th></th>\n      <th></th>\n      <th></th>\n      <th></th>\n      <th></th>\n      <th></th>\n      <th></th>\n      <th></th>\n      <th></th>\n      <th></th>\n      <th></th>\n      <th></th>\n      <th></th>\n      <th></th>\n      <th></th>\n      <th></th>\n      <th></th>\n      <th></th>\n      <th></th>\n      <th></th>\n      <th></th>\n      <th></th>\n      <th></th>\n      <th></th>\n      <th></th>\n      <th></th>\n      <th></th>\n      <th></th>\n      <th></th>\n      <th></th>\n      <th></th>\n      <th></th>\n      <th></th>\n      <th></th>\n      <th></th>\n      <th></th>\n      <th></th>\n      <th></th>\n      <th></th>\n      <th></th>\n      <th></th>\n      <th></th>\n      <th></th>\n      <th></th>\n      <th></th>\n      <th></th>\n      <th></th>\n      <th></th>\n      <th></th>\n      <th></th>\n      <th></th>\n      <th></th>\n      <th></th>\n      <th></th>\n      <th></th>\n      <th></th>\n      <th></th>\n    </tr>\n  </thead>\n  <tbody>\n    <tr>\n      <th>0000028988387b115f69f31a3bf04f09</th>\n      <td>object</td>\n      <td>object</td>\n      <td>object</td>\n      <td>object</td>\n      <td>int64</td>\n      <td>float64</td>\n      <td>int64</td>\n      <td>float64</td>\n      <td>float64</td>\n      <td>float64</td>\n      <td>float64</td>\n      <td>int64</td>\n      <td>int64</td>\n      <td>float64</td>\n      <td>float64</td>\n      <td>float64</td>\n      <td>int64</td>\n      <td>object</td>\n      <td>object</td>\n      <td>object</td>\n      <td>int64</td>\n      <td>int64</td>\n      <td>object</td>\n      <td>object</td>\n      <td>object</td>\n      <td>float64</td>\n      <td>int64</td>\n      <td>object</td>\n      <td>float64</td>\n      <td>float64</td>\n      <td>object</td>\n      <td>float64</td>\n      <td>float64</td>\n      <td>object</td>\n      <td>object</td>\n      <td>float64</td>\n      <td>float64</td>\n      <td>float64</td>\n      <td>float64</td>\n      <td>float64</td>\n      <td>object</td>\n      <td>float64</td>\n      <td>object</td>\n      <td>float64</td>\n      <td>int64</td>\n      <td>float64</td>\n      <td>object</td>\n      <td>float64</td>\n      <td>float64</td>\n      <td>float64</td>\n      <td>object</td>\n      <td>object</td>\n      <td>float64</td>\n      <td>object</td>\n      <td>object</td>\n      <td>object</td>\n      <td>int64</td>\n      <td>int64</td>\n      <td>object</td>\n      <td>object</td>\n      <td>object</td>\n      <td>float64</td>\n      <td>int64</td>\n      <td>object</td>\n      <td>int64</td>\n      <td>object</td>\n      <td>object</td>\n      <td>float64</td>\n      <td>float64</td>\n      <td>object</td>\n      <td>float64</td>\n      <td>float64</td>\n      <td>float64</td>\n      <td>int64</td>\n      <td>float64</td>\n      <td>float64</td>\n      <td>int64</td>\n      <td>int64</td>\n      <td>float64</td>\n      <td>float64</td>\n      <td>float64</td>\n      <td>int64</td>\n    </tr>\n    <tr>\n      <th>0101cfc3cc3970c26713608ee57e62e1</th>\n      <td>...</td>\n      <td>...</td>\n      <td>...</td>\n      <td>...</td>\n      <td>...</td>\n      <td>...</td>\n      <td>...</td>\n      <td>...</td>\n      <td>...</td>\n      <td>...</td>\n      <td>...</td>\n      <td>...</td>\n      <td>...</td>\n      <td>...</td>\n      <td>...</td>\n      <td>...</td>\n      <td>...</td>\n      <td>...</td>\n      <td>...</td>\n      <td>...</td>\n      <td>...</td>\n      <td>...</td>\n      <td>...</td>\n      <td>...</td>\n      <td>...</td>\n      <td>...</td>\n      <td>...</td>\n      <td>...</td>\n      <td>...</td>\n      <td>...</td>\n      <td>...</td>\n      <td>...</td>\n      <td>...</td>\n      <td>...</td>\n      <td>...</td>\n      <td>...</td>\n      <td>...</td>\n      <td>...</td>\n      <td>...</td>\n      <td>...</td>\n      <td>...</td>\n      <td>...</td>\n      <td>...</td>\n      <td>...</td>\n      <td>...</td>\n      <td>...</td>\n      <td>...</td>\n      <td>...</td>\n      <td>...</td>\n      <td>...</td>\n      <td>...</td>\n      <td>...</td>\n      <td>...</td>\n      <td>...</td>\n      <td>...</td>\n      <td>...</td>\n      <td>...</td>\n      <td>...</td>\n      <td>...</td>\n      <td>...</td>\n      <td>...</td>\n      <td>...</td>\n      <td>...</td>\n      <td>...</td>\n      <td>...</td>\n      <td>...</td>\n      <td>...</td>\n      <td>...</td>\n      <td>...</td>\n      <td>...</td>\n      <td>...</td>\n      <td>...</td>\n      <td>...</td>\n      <td>...</td>\n      <td>...</td>\n      <td>...</td>\n      <td>...</td>\n      <td>...</td>\n      <td>...</td>\n      <td>...</td>\n      <td>...</td>\n      <td>...</td>\n    </tr>\n    <tr>\n      <th>...</th>\n      <td>...</td>\n      <td>...</td>\n      <td>...</td>\n      <td>...</td>\n      <td>...</td>\n      <td>...</td>\n      <td>...</td>\n      <td>...</td>\n      <td>...</td>\n      <td>...</td>\n      <td>...</td>\n      <td>...</td>\n      <td>...</td>\n      <td>...</td>\n      <td>...</td>\n      <td>...</td>\n      <td>...</td>\n      <td>...</td>\n      <td>...</td>\n      <td>...</td>\n      <td>...</td>\n      <td>...</td>\n      <td>...</td>\n      <td>...</td>\n      <td>...</td>\n      <td>...</td>\n      <td>...</td>\n      <td>...</td>\n      <td>...</td>\n      <td>...</td>\n      <td>...</td>\n      <td>...</td>\n      <td>...</td>\n      <td>...</td>\n      <td>...</td>\n      <td>...</td>\n      <td>...</td>\n      <td>...</td>\n      <td>...</td>\n      <td>...</td>\n      <td>...</td>\n      <td>...</td>\n      <td>...</td>\n      <td>...</td>\n      <td>...</td>\n      <td>...</td>\n      <td>...</td>\n      <td>...</td>\n      <td>...</td>\n      <td>...</td>\n      <td>...</td>\n      <td>...</td>\n      <td>...</td>\n      <td>...</td>\n      <td>...</td>\n      <td>...</td>\n      <td>...</td>\n      <td>...</td>\n      <td>...</td>\n      <td>...</td>\n      <td>...</td>\n      <td>...</td>\n      <td>...</td>\n      <td>...</td>\n      <td>...</td>\n      <td>...</td>\n      <td>...</td>\n      <td>...</td>\n      <td>...</td>\n      <td>...</td>\n      <td>...</td>\n      <td>...</td>\n      <td>...</td>\n      <td>...</td>\n      <td>...</td>\n      <td>...</td>\n      <td>...</td>\n      <td>...</td>\n      <td>...</td>\n      <td>...</td>\n      <td>...</td>\n      <td>...</td>\n    </tr>\n    <tr>\n      <th>ff004763ecb08ea8d52833ae10e475da</th>\n      <td>...</td>\n      <td>...</td>\n      <td>...</td>\n      <td>...</td>\n      <td>...</td>\n      <td>...</td>\n      <td>...</td>\n      <td>...</td>\n      <td>...</td>\n      <td>...</td>\n      <td>...</td>\n      <td>...</td>\n      <td>...</td>\n      <td>...</td>\n      <td>...</td>\n      <td>...</td>\n      <td>...</td>\n      <td>...</td>\n      <td>...</td>\n      <td>...</td>\n      <td>...</td>\n      <td>...</td>\n      <td>...</td>\n      <td>...</td>\n      <td>...</td>\n      <td>...</td>\n      <td>...</td>\n      <td>...</td>\n      <td>...</td>\n      <td>...</td>\n      <td>...</td>\n      <td>...</td>\n      <td>...</td>\n      <td>...</td>\n      <td>...</td>\n      <td>...</td>\n      <td>...</td>\n      <td>...</td>\n      <td>...</td>\n      <td>...</td>\n      <td>...</td>\n      <td>...</td>\n      <td>...</td>\n      <td>...</td>\n      <td>...</td>\n      <td>...</td>\n      <td>...</td>\n      <td>...</td>\n      <td>...</td>\n      <td>...</td>\n      <td>...</td>\n      <td>...</td>\n      <td>...</td>\n      <td>...</td>\n      <td>...</td>\n      <td>...</td>\n      <td>...</td>\n      <td>...</td>\n      <td>...</td>\n      <td>...</td>\n      <td>...</td>\n      <td>...</td>\n      <td>...</td>\n      <td>...</td>\n      <td>...</td>\n      <td>...</td>\n      <td>...</td>\n      <td>...</td>\n      <td>...</td>\n      <td>...</td>\n      <td>...</td>\n      <td>...</td>\n      <td>...</td>\n      <td>...</td>\n      <td>...</td>\n      <td>...</td>\n      <td>...</td>\n      <td>...</td>\n      <td>...</td>\n      <td>...</td>\n      <td>...</td>\n      <td>...</td>\n    </tr>\n    <tr>\n      <th>ffffff75ba4f33d938ccfdb148b8ea16</th>\n      <td>...</td>\n      <td>...</td>\n      <td>...</td>\n      <td>...</td>\n      <td>...</td>\n      <td>...</td>\n      <td>...</td>\n      <td>...</td>\n      <td>...</td>\n      <td>...</td>\n      <td>...</td>\n      <td>...</td>\n      <td>...</td>\n      <td>...</td>\n      <td>...</td>\n      <td>...</td>\n      <td>...</td>\n      <td>...</td>\n      <td>...</td>\n      <td>...</td>\n      <td>...</td>\n      <td>...</td>\n      <td>...</td>\n      <td>...</td>\n      <td>...</td>\n      <td>...</td>\n      <td>...</td>\n      <td>...</td>\n      <td>...</td>\n      <td>...</td>\n      <td>...</td>\n      <td>...</td>\n      <td>...</td>\n      <td>...</td>\n      <td>...</td>\n      <td>...</td>\n      <td>...</td>\n      <td>...</td>\n      <td>...</td>\n      <td>...</td>\n      <td>...</td>\n      <td>...</td>\n      <td>...</td>\n      <td>...</td>\n      <td>...</td>\n      <td>...</td>\n      <td>...</td>\n      <td>...</td>\n      <td>...</td>\n      <td>...</td>\n      <td>...</td>\n      <td>...</td>\n      <td>...</td>\n      <td>...</td>\n      <td>...</td>\n      <td>...</td>\n      <td>...</td>\n      <td>...</td>\n      <td>...</td>\n      <td>...</td>\n      <td>...</td>\n      <td>...</td>\n      <td>...</td>\n      <td>...</td>\n      <td>...</td>\n      <td>...</td>\n      <td>...</td>\n      <td>...</td>\n      <td>...</td>\n      <td>...</td>\n      <td>...</td>\n      <td>...</td>\n      <td>...</td>\n      <td>...</td>\n      <td>...</td>\n      <td>...</td>\n      <td>...</td>\n      <td>...</td>\n      <td>...</td>\n      <td>...</td>\n      <td>...</td>\n      <td>...</td>\n    </tr>\n  </tbody>\n</table>\n</div>\n<div>Dask Name: read-parquet, 256 tasks</div>",
      "text/plain": "Dask DataFrame Structure:\n                                 ProductName EngineVersion AppVersion AvSigVersion IsBeta RtpStateBitfield IsSxsPassiveMode DefaultBrowsersIdentifier AVProductStatesIdentifier AVProductsInstalled AVProductsEnabled HasTpm CountryIdentifier CityIdentifier OrganizationIdentifier GeoNameIdentifier LocaleEnglishNameIdentifier Platform Processor   OsVer OsBuild OsSuite OsPlatformSubRelease OsBuildLab SkuEdition IsProtected AutoSampleOptIn PuaMode    SMode IeVerIdentifier SmartScreen Firewall UacLuaenable Census_MDC2FormFactor Census_DeviceFamily Census_OEMNameIdentifier Census_OEMModelIdentifier Census_ProcessorCoreCount Census_ProcessorManufacturerIdentifier Census_ProcessorModelIdentifier Census_ProcessorClass Census_PrimaryDiskTotalCapacity Census_PrimaryDiskTypeName Census_SystemVolumeTotalCapacity Census_HasOpticalDiskDrive Census_TotalPhysicalRAM Census_ChassisTypeName Census_InternalPrimaryDiagonalDisplaySizeInInches Census_InternalPrimaryDisplayResolutionHorizontal Census_InternalPrimaryDisplayResolutionVertical Census_PowerPlatformRoleName Census_InternalBatteryType Census_InternalBatteryNumberOfCharges Census_OSVersion Census_OSArchitecture Census_OSBranch Census_OSBuildNumber Census_OSBuildRevision Census_OSEdition Census_OSSkuName Census_OSInstallTypeName Census_OSInstallLanguageIdentifier Census_OSUILocaleIdentifier Census_OSWUAutoUpdateOptionsName Census_IsPortableOperatingSystem Census_GenuineStateName Census_ActivationChannel Census_IsFlightingInternal Census_IsFlightsDisabled Census_FlightRing Census_ThresholdOptIn Census_FirmwareManufacturerIdentifier Census_FirmwareVersionIdentifier Census_IsSecureBootEnabled Census_IsWIMBootEnabled Census_IsVirtualDevice Census_IsTouchEnabled Census_IsPenCapable Census_IsAlwaysOnAlwaysConnectedCapable Wdft_IsGamer Wdft_RegionIdentifier HasDetections\nnpartitions=256                                                                                                                                                                                                                                                                                                                                                                                                                                                                                                                                                                                                                                                                                                                                                                                                                                                                                                                                                                                                                                                                                                                                                                                                                                                                                                                                                                                                                                                                                                                                                                                                                                                                                                                                                                                                                                                                                    \n0000028988387b115f69f31a3bf04f09      object        object     object       object  int64          float64            int64                   float64                   float64             float64           float64  int64             int64        float64                float64           float64                       int64   object    object  object   int64   int64               object     object     object     float64           int64  object  float64         float64      object  float64      float64                object              object                  float64                   float64                   float64                                float64                         float64                object                         float64                     object                          float64                      int64                 float64                 object                                           float64                                           float64                                         float64                       object                     object                               float64           object                object          object                int64                  int64           object           object                   object                            float64                       int64                           object                            int64                  object                   object                    float64                  float64            object               float64                               float64                          float64                      int64                 float64                float64                 int64               int64                                 float64      float64               float64         int64\n0101cfc3cc3970c26713608ee57e62e1         ...           ...        ...          ...    ...              ...              ...                       ...                       ...                 ...               ...    ...               ...            ...                    ...               ...                         ...      ...       ...     ...     ...     ...                  ...        ...        ...         ...             ...     ...      ...             ...         ...      ...          ...                   ...                 ...                      ...                       ...                       ...                                    ...                             ...                   ...                             ...                        ...                              ...                        ...                     ...                    ...                                               ...                                               ...                                             ...                          ...                        ...                                   ...              ...                   ...             ...                  ...                    ...              ...              ...                      ...                                ...                         ...                              ...                              ...                     ...                      ...                        ...                      ...               ...                   ...                                   ...                              ...                        ...                     ...                    ...                   ...                 ...                                     ...          ...                   ...           ...\n...                                      ...           ...        ...          ...    ...              ...              ...                       ...                       ...                 ...               ...    ...               ...            ...                    ...               ...                         ...      ...       ...     ...     ...     ...                  ...        ...        ...         ...             ...     ...      ...             ...         ...      ...          ...                   ...                 ...                      ...                       ...                       ...                                    ...                             ...                   ...                             ...                        ...                              ...                        ...                     ...                    ...                                               ...                                               ...                                             ...                          ...                        ...                                   ...              ...                   ...             ...                  ...                    ...              ...              ...                      ...                                ...                         ...                              ...                              ...                     ...                      ...                        ...                      ...               ...                   ...                                   ...                              ...                        ...                     ...                    ...                   ...                 ...                                     ...          ...                   ...           ...\nff004763ecb08ea8d52833ae10e475da         ...           ...        ...          ...    ...              ...              ...                       ...                       ...                 ...               ...    ...               ...            ...                    ...               ...                         ...      ...       ...     ...     ...     ...                  ...        ...        ...         ...             ...     ...      ...             ...         ...      ...          ...                   ...                 ...                      ...                       ...                       ...                                    ...                             ...                   ...                             ...                        ...                              ...                        ...                     ...                    ...                                               ...                                               ...                                             ...                          ...                        ...                                   ...              ...                   ...             ...                  ...                    ...              ...              ...                      ...                                ...                         ...                              ...                              ...                     ...                      ...                        ...                      ...               ...                   ...                                   ...                              ...                        ...                     ...                    ...                   ...                 ...                                     ...          ...                   ...           ...\nffffff75ba4f33d938ccfdb148b8ea16         ...           ...        ...          ...    ...              ...              ...                       ...                       ...                 ...               ...    ...               ...            ...                    ...               ...                         ...      ...       ...     ...     ...     ...                  ...        ...        ...         ...             ...     ...      ...             ...         ...      ...          ...                   ...                 ...                      ...                       ...                       ...                                    ...                             ...                   ...                             ...                        ...                              ...                        ...                     ...                    ...                                               ...                                               ...                                             ...                          ...                        ...                                   ...              ...                   ...             ...                  ...                    ...              ...              ...                      ...                                ...                         ...                              ...                              ...                     ...                      ...                        ...                      ...               ...                   ...                                   ...                              ...                        ...                     ...                    ...                   ...                 ...                                     ...          ...                   ...           ...\nDask Name: read-parquet, 256 tasks"
     },
     "execution_count": 5,
     "metadata": {},
     "output_type": "execute_result"
    }
   ],
   "source": [
    "import pandas as pd\n",
    "import dask.dataframe as dd\n",
    "\n",
    "for f in files:\n",
    "    if \"train\" in f:\n",
    "        df_train = dd.read_parquet(f\"az://{f}\", storage_options=storage_options)\n",
    "    elif \"test\" in f:\n",
    "        df_test = dd.read_parquet(f\"az://{f}\", storage_options=storage_options)\n",
    "\n",
    "df_train"
   ]
  },
  {
   "cell_type": "markdown",
   "metadata": {},
   "source": [
    "## Exploratory Data Analysis (EDA)\n",
    "\n",
    "Explore the data - for the purpose of this tutorial, we will simply print out a sample of the train and test dataframes and compute other basic descriptions."
   ]
  },
  {
   "cell_type": "code",
   "execution_count": 6,
   "metadata": {},
   "outputs": [
    {
     "data": {
      "text/html": "<div>\n<style scoped>\n    .dataframe tbody tr th:only-of-type {\n        vertical-align: middle;\n    }\n\n    .dataframe tbody tr th {\n        vertical-align: top;\n    }\n\n    .dataframe thead th {\n        text-align: right;\n    }\n</style>\n<table border=\"1\" class=\"dataframe\">\n  <thead>\n    <tr style=\"text-align: right;\">\n      <th></th>\n      <th>ProductName</th>\n      <th>EngineVersion</th>\n      <th>AppVersion</th>\n      <th>AvSigVersion</th>\n      <th>IsBeta</th>\n      <th>RtpStateBitfield</th>\n      <th>IsSxsPassiveMode</th>\n      <th>DefaultBrowsersIdentifier</th>\n      <th>AVProductStatesIdentifier</th>\n      <th>AVProductsInstalled</th>\n      <th>...</th>\n      <th>Census_FirmwareVersionIdentifier</th>\n      <th>Census_IsSecureBootEnabled</th>\n      <th>Census_IsWIMBootEnabled</th>\n      <th>Census_IsVirtualDevice</th>\n      <th>Census_IsTouchEnabled</th>\n      <th>Census_IsPenCapable</th>\n      <th>Census_IsAlwaysOnAlwaysConnectedCapable</th>\n      <th>Wdft_IsGamer</th>\n      <th>Wdft_RegionIdentifier</th>\n      <th>HasDetections</th>\n    </tr>\n    <tr>\n      <th>MachineIdentifier</th>\n      <th></th>\n      <th></th>\n      <th></th>\n      <th></th>\n      <th></th>\n      <th></th>\n      <th></th>\n      <th></th>\n      <th></th>\n      <th></th>\n      <th></th>\n      <th></th>\n      <th></th>\n      <th></th>\n      <th></th>\n      <th></th>\n      <th></th>\n      <th></th>\n      <th></th>\n      <th></th>\n      <th></th>\n    </tr>\n  </thead>\n  <tbody>\n    <tr>\n      <th>0000028988387b115f69f31a3bf04f09</th>\n      <td>win8defender</td>\n      <td>1.1.15100.1</td>\n      <td>4.18.1807.18075</td>\n      <td>1.273.1735.0</td>\n      <td>0</td>\n      <td>7.0</td>\n      <td>0</td>\n      <td>NaN</td>\n      <td>53447.0</td>\n      <td>1.0</td>\n      <td>...</td>\n      <td>36144.0</td>\n      <td>0</td>\n      <td>NaN</td>\n      <td>0.0</td>\n      <td>0</td>\n      <td>0</td>\n      <td>0.0</td>\n      <td>0.0</td>\n      <td>10.0</td>\n      <td>0</td>\n    </tr>\n    <tr>\n      <th>000007535c3f730efa9ea0b7ef1bd645</th>\n      <td>win8defender</td>\n      <td>1.1.14600.4</td>\n      <td>4.13.17134.1</td>\n      <td>1.263.48.0</td>\n      <td>0</td>\n      <td>7.0</td>\n      <td>0</td>\n      <td>NaN</td>\n      <td>53447.0</td>\n      <td>1.0</td>\n      <td>...</td>\n      <td>57858.0</td>\n      <td>0</td>\n      <td>NaN</td>\n      <td>0.0</td>\n      <td>0</td>\n      <td>0</td>\n      <td>0.0</td>\n      <td>0.0</td>\n      <td>8.0</td>\n      <td>0</td>\n    </tr>\n    <tr>\n      <th>000007905a28d863f6d0d597892cd692</th>\n      <td>win8defender</td>\n      <td>1.1.15100.1</td>\n      <td>4.18.1807.18075</td>\n      <td>1.273.1341.0</td>\n      <td>0</td>\n      <td>7.0</td>\n      <td>0</td>\n      <td>NaN</td>\n      <td>53447.0</td>\n      <td>1.0</td>\n      <td>...</td>\n      <td>52682.0</td>\n      <td>0</td>\n      <td>NaN</td>\n      <td>0.0</td>\n      <td>0</td>\n      <td>0</td>\n      <td>0.0</td>\n      <td>0.0</td>\n      <td>3.0</td>\n      <td>0</td>\n    </tr>\n    <tr>\n      <th>00000b11598a75ea8ba1beea8459149f</th>\n      <td>win8defender</td>\n      <td>1.1.15100.1</td>\n      <td>4.18.1807.18075</td>\n      <td>1.273.1527.0</td>\n      <td>0</td>\n      <td>7.0</td>\n      <td>0</td>\n      <td>NaN</td>\n      <td>53447.0</td>\n      <td>1.0</td>\n      <td>...</td>\n      <td>20050.0</td>\n      <td>0</td>\n      <td>NaN</td>\n      <td>0.0</td>\n      <td>0</td>\n      <td>0</td>\n      <td>0.0</td>\n      <td>0.0</td>\n      <td>3.0</td>\n      <td>1</td>\n    </tr>\n    <tr>\n      <th>000014a5f00daa18e76b81417eeb99fc</th>\n      <td>win8defender</td>\n      <td>1.1.15100.1</td>\n      <td>4.18.1807.18075</td>\n      <td>1.273.1379.0</td>\n      <td>0</td>\n      <td>7.0</td>\n      <td>0</td>\n      <td>NaN</td>\n      <td>53447.0</td>\n      <td>1.0</td>\n      <td>...</td>\n      <td>19844.0</td>\n      <td>0</td>\n      <td>0.0</td>\n      <td>0.0</td>\n      <td>0</td>\n      <td>0</td>\n      <td>0.0</td>\n      <td>0.0</td>\n      <td>1.0</td>\n      <td>1</td>\n    </tr>\n  </tbody>\n</table>\n<p>5 rows × 82 columns</p>\n</div>",
      "text/plain": "                                   ProductName EngineVersion       AppVersion  \\\nMachineIdentifier                                                               \n0000028988387b115f69f31a3bf04f09  win8defender   1.1.15100.1  4.18.1807.18075   \n000007535c3f730efa9ea0b7ef1bd645  win8defender   1.1.14600.4     4.13.17134.1   \n000007905a28d863f6d0d597892cd692  win8defender   1.1.15100.1  4.18.1807.18075   \n00000b11598a75ea8ba1beea8459149f  win8defender   1.1.15100.1  4.18.1807.18075   \n000014a5f00daa18e76b81417eeb99fc  win8defender   1.1.15100.1  4.18.1807.18075   \n\n                                  AvSigVersion  IsBeta  RtpStateBitfield  \\\nMachineIdentifier                                                          \n0000028988387b115f69f31a3bf04f09  1.273.1735.0       0               7.0   \n000007535c3f730efa9ea0b7ef1bd645    1.263.48.0       0               7.0   \n000007905a28d863f6d0d597892cd692  1.273.1341.0       0               7.0   \n00000b11598a75ea8ba1beea8459149f  1.273.1527.0       0               7.0   \n000014a5f00daa18e76b81417eeb99fc  1.273.1379.0       0               7.0   \n\n                                  IsSxsPassiveMode  DefaultBrowsersIdentifier  \\\nMachineIdentifier                                                               \n0000028988387b115f69f31a3bf04f09                 0                        NaN   \n000007535c3f730efa9ea0b7ef1bd645                 0                        NaN   \n000007905a28d863f6d0d597892cd692                 0                        NaN   \n00000b11598a75ea8ba1beea8459149f                 0                        NaN   \n000014a5f00daa18e76b81417eeb99fc                 0                        NaN   \n\n                                  AVProductStatesIdentifier  \\\nMachineIdentifier                                             \n0000028988387b115f69f31a3bf04f09                    53447.0   \n000007535c3f730efa9ea0b7ef1bd645                    53447.0   \n000007905a28d863f6d0d597892cd692                    53447.0   \n00000b11598a75ea8ba1beea8459149f                    53447.0   \n000014a5f00daa18e76b81417eeb99fc                    53447.0   \n\n                                  AVProductsInstalled  ...  \\\nMachineIdentifier                                      ...   \n0000028988387b115f69f31a3bf04f09                  1.0  ...   \n000007535c3f730efa9ea0b7ef1bd645                  1.0  ...   \n000007905a28d863f6d0d597892cd692                  1.0  ...   \n00000b11598a75ea8ba1beea8459149f                  1.0  ...   \n000014a5f00daa18e76b81417eeb99fc                  1.0  ...   \n\n                                  Census_FirmwareVersionIdentifier  \\\nMachineIdentifier                                                    \n0000028988387b115f69f31a3bf04f09                           36144.0   \n000007535c3f730efa9ea0b7ef1bd645                           57858.0   \n000007905a28d863f6d0d597892cd692                           52682.0   \n00000b11598a75ea8ba1beea8459149f                           20050.0   \n000014a5f00daa18e76b81417eeb99fc                           19844.0   \n\n                                  Census_IsSecureBootEnabled  \\\nMachineIdentifier                                              \n0000028988387b115f69f31a3bf04f09                           0   \n000007535c3f730efa9ea0b7ef1bd645                           0   \n000007905a28d863f6d0d597892cd692                           0   \n00000b11598a75ea8ba1beea8459149f                           0   \n000014a5f00daa18e76b81417eeb99fc                           0   \n\n                                  Census_IsWIMBootEnabled  \\\nMachineIdentifier                                           \n0000028988387b115f69f31a3bf04f09                      NaN   \n000007535c3f730efa9ea0b7ef1bd645                      NaN   \n000007905a28d863f6d0d597892cd692                      NaN   \n00000b11598a75ea8ba1beea8459149f                      NaN   \n000014a5f00daa18e76b81417eeb99fc                      0.0   \n\n                                  Census_IsVirtualDevice  \\\nMachineIdentifier                                          \n0000028988387b115f69f31a3bf04f09                     0.0   \n000007535c3f730efa9ea0b7ef1bd645                     0.0   \n000007905a28d863f6d0d597892cd692                     0.0   \n00000b11598a75ea8ba1beea8459149f                     0.0   \n000014a5f00daa18e76b81417eeb99fc                     0.0   \n\n                                  Census_IsTouchEnabled  Census_IsPenCapable  \\\nMachineIdentifier                                                              \n0000028988387b115f69f31a3bf04f09                      0                    0   \n000007535c3f730efa9ea0b7ef1bd645                      0                    0   \n000007905a28d863f6d0d597892cd692                      0                    0   \n00000b11598a75ea8ba1beea8459149f                      0                    0   \n000014a5f00daa18e76b81417eeb99fc                      0                    0   \n\n                                  Census_IsAlwaysOnAlwaysConnectedCapable  \\\nMachineIdentifier                                                           \n0000028988387b115f69f31a3bf04f09                                      0.0   \n000007535c3f730efa9ea0b7ef1bd645                                      0.0   \n000007905a28d863f6d0d597892cd692                                      0.0   \n00000b11598a75ea8ba1beea8459149f                                      0.0   \n000014a5f00daa18e76b81417eeb99fc                                      0.0   \n\n                                 Wdft_IsGamer Wdft_RegionIdentifier  \\\nMachineIdentifier                                                     \n0000028988387b115f69f31a3bf04f09          0.0                  10.0   \n000007535c3f730efa9ea0b7ef1bd645          0.0                   8.0   \n000007905a28d863f6d0d597892cd692          0.0                   3.0   \n00000b11598a75ea8ba1beea8459149f          0.0                   3.0   \n000014a5f00daa18e76b81417eeb99fc          0.0                   1.0   \n\n                                 HasDetections  \nMachineIdentifier                               \n0000028988387b115f69f31a3bf04f09             0  \n000007535c3f730efa9ea0b7ef1bd645             0  \n000007905a28d863f6d0d597892cd692             0  \n00000b11598a75ea8ba1beea8459149f             1  \n000014a5f00daa18e76b81417eeb99fc             1  \n\n[5 rows x 82 columns]"
     },
     "execution_count": 6,
     "metadata": {},
     "output_type": "execute_result"
    }
   ],
   "source": [
    "df_train.head()"
   ]
  },
  {
   "cell_type": "code",
   "execution_count": 7,
   "metadata": {},
   "outputs": [
    {
     "data": {
      "text/html": "<div>\n<style scoped>\n    .dataframe tbody tr th:only-of-type {\n        vertical-align: middle;\n    }\n\n    .dataframe tbody tr th {\n        vertical-align: top;\n    }\n\n    .dataframe thead th {\n        text-align: right;\n    }\n</style>\n<table border=\"1\" class=\"dataframe\">\n  <thead>\n    <tr style=\"text-align: right;\">\n      <th></th>\n      <th>ProductName</th>\n      <th>EngineVersion</th>\n      <th>AppVersion</th>\n      <th>AvSigVersion</th>\n      <th>IsBeta</th>\n      <th>RtpStateBitfield</th>\n      <th>IsSxsPassiveMode</th>\n      <th>DefaultBrowsersIdentifier</th>\n      <th>AVProductStatesIdentifier</th>\n      <th>AVProductsInstalled</th>\n      <th>...</th>\n      <th>Census_FirmwareManufacturerIdentifier</th>\n      <th>Census_FirmwareVersionIdentifier</th>\n      <th>Census_IsSecureBootEnabled</th>\n      <th>Census_IsWIMBootEnabled</th>\n      <th>Census_IsVirtualDevice</th>\n      <th>Census_IsTouchEnabled</th>\n      <th>Census_IsPenCapable</th>\n      <th>Census_IsAlwaysOnAlwaysConnectedCapable</th>\n      <th>Wdft_IsGamer</th>\n      <th>Wdft_RegionIdentifier</th>\n    </tr>\n    <tr>\n      <th>MachineIdentifier</th>\n      <th></th>\n      <th></th>\n      <th></th>\n      <th></th>\n      <th></th>\n      <th></th>\n      <th></th>\n      <th></th>\n      <th></th>\n      <th></th>\n      <th></th>\n      <th></th>\n      <th></th>\n      <th></th>\n      <th></th>\n      <th></th>\n      <th></th>\n      <th></th>\n      <th></th>\n      <th></th>\n      <th></th>\n    </tr>\n  </thead>\n  <tbody>\n    <tr>\n      <th>0000010489e3af074adeac69c53e555e</th>\n      <td>win8defender</td>\n      <td>1.1.15400.5</td>\n      <td>4.18.1810.5</td>\n      <td>1.281.501.0</td>\n      <td>0</td>\n      <td>7.0</td>\n      <td>0</td>\n      <td>NaN</td>\n      <td>53447.0</td>\n      <td>1.0</td>\n      <td>...</td>\n      <td>807.0</td>\n      <td>8554.0</td>\n      <td>1</td>\n      <td>NaN</td>\n      <td>0.0</td>\n      <td>0</td>\n      <td>0</td>\n      <td>0.0</td>\n      <td>0.0</td>\n      <td>7.0</td>\n    </tr>\n    <tr>\n      <th>00000176ac758d54827acd545b6315a5</th>\n      <td>win8defender</td>\n      <td>1.1.15400.4</td>\n      <td>4.18.1809.2</td>\n      <td>1.279.301.0</td>\n      <td>0</td>\n      <td>7.0</td>\n      <td>0</td>\n      <td>NaN</td>\n      <td>53447.0</td>\n      <td>1.0</td>\n      <td>...</td>\n      <td>554.0</td>\n      <td>33105.0</td>\n      <td>1</td>\n      <td>NaN</td>\n      <td>0.0</td>\n      <td>0</td>\n      <td>0</td>\n      <td>0.0</td>\n      <td>1.0</td>\n      <td>12.0</td>\n    </tr>\n    <tr>\n      <th>0000019dcefc128c2d4387c1273dae1d</th>\n      <td>win8defender</td>\n      <td>1.1.15300.6</td>\n      <td>4.18.1809.2</td>\n      <td>1.277.230.0</td>\n      <td>0</td>\n      <td>7.0</td>\n      <td>0</td>\n      <td>NaN</td>\n      <td>49480.0</td>\n      <td>2.0</td>\n      <td>...</td>\n      <td>556.0</td>\n      <td>63396.0</td>\n      <td>1</td>\n      <td>NaN</td>\n      <td>0.0</td>\n      <td>0</td>\n      <td>0</td>\n      <td>0.0</td>\n      <td>1.0</td>\n      <td>11.0</td>\n    </tr>\n    <tr>\n      <th>0000055553dc51b1295785415f1a224d</th>\n      <td>win8defender</td>\n      <td>1.1.15400.5</td>\n      <td>4.18.1810.5</td>\n      <td>1.281.664.0</td>\n      <td>0</td>\n      <td>7.0</td>\n      <td>0</td>\n      <td>NaN</td>\n      <td>42160.0</td>\n      <td>2.0</td>\n      <td>...</td>\n      <td>628.0</td>\n      <td>26320.0</td>\n      <td>1</td>\n      <td>0.0</td>\n      <td>0.0</td>\n      <td>0</td>\n      <td>0</td>\n      <td>0.0</td>\n      <td>0.0</td>\n      <td>10.0</td>\n    </tr>\n    <tr>\n      <th>00000574cefffeca83ec8adf9285b2bf</th>\n      <td>win8defender</td>\n      <td>1.1.15400.4</td>\n      <td>4.18.1809.2</td>\n      <td>1.279.236.0</td>\n      <td>0</td>\n      <td>7.0</td>\n      <td>0</td>\n      <td>NaN</td>\n      <td>53447.0</td>\n      <td>1.0</td>\n      <td>...</td>\n      <td>556.0</td>\n      <td>63269.0</td>\n      <td>1</td>\n      <td>NaN</td>\n      <td>0.0</td>\n      <td>0</td>\n      <td>0</td>\n      <td>0.0</td>\n      <td>1.0</td>\n      <td>3.0</td>\n    </tr>\n  </tbody>\n</table>\n<p>5 rows × 81 columns</p>\n</div>",
      "text/plain": "                                   ProductName EngineVersion   AppVersion  \\\nMachineIdentifier                                                           \n0000010489e3af074adeac69c53e555e  win8defender   1.1.15400.5  4.18.1810.5   \n00000176ac758d54827acd545b6315a5  win8defender   1.1.15400.4  4.18.1809.2   \n0000019dcefc128c2d4387c1273dae1d  win8defender   1.1.15300.6  4.18.1809.2   \n0000055553dc51b1295785415f1a224d  win8defender   1.1.15400.5  4.18.1810.5   \n00000574cefffeca83ec8adf9285b2bf  win8defender   1.1.15400.4  4.18.1809.2   \n\n                                 AvSigVersion  IsBeta  RtpStateBitfield  \\\nMachineIdentifier                                                         \n0000010489e3af074adeac69c53e555e  1.281.501.0       0               7.0   \n00000176ac758d54827acd545b6315a5  1.279.301.0       0               7.0   \n0000019dcefc128c2d4387c1273dae1d  1.277.230.0       0               7.0   \n0000055553dc51b1295785415f1a224d  1.281.664.0       0               7.0   \n00000574cefffeca83ec8adf9285b2bf  1.279.236.0       0               7.0   \n\n                                  IsSxsPassiveMode  DefaultBrowsersIdentifier  \\\nMachineIdentifier                                                               \n0000010489e3af074adeac69c53e555e                 0                        NaN   \n00000176ac758d54827acd545b6315a5                 0                        NaN   \n0000019dcefc128c2d4387c1273dae1d                 0                        NaN   \n0000055553dc51b1295785415f1a224d                 0                        NaN   \n00000574cefffeca83ec8adf9285b2bf                 0                        NaN   \n\n                                  AVProductStatesIdentifier  \\\nMachineIdentifier                                             \n0000010489e3af074adeac69c53e555e                    53447.0   \n00000176ac758d54827acd545b6315a5                    53447.0   \n0000019dcefc128c2d4387c1273dae1d                    49480.0   \n0000055553dc51b1295785415f1a224d                    42160.0   \n00000574cefffeca83ec8adf9285b2bf                    53447.0   \n\n                                  AVProductsInstalled  ...  \\\nMachineIdentifier                                      ...   \n0000010489e3af074adeac69c53e555e                  1.0  ...   \n00000176ac758d54827acd545b6315a5                  1.0  ...   \n0000019dcefc128c2d4387c1273dae1d                  2.0  ...   \n0000055553dc51b1295785415f1a224d                  2.0  ...   \n00000574cefffeca83ec8adf9285b2bf                  1.0  ...   \n\n                                  Census_FirmwareManufacturerIdentifier  \\\nMachineIdentifier                                                         \n0000010489e3af074adeac69c53e555e                                  807.0   \n00000176ac758d54827acd545b6315a5                                  554.0   \n0000019dcefc128c2d4387c1273dae1d                                  556.0   \n0000055553dc51b1295785415f1a224d                                  628.0   \n00000574cefffeca83ec8adf9285b2bf                                  556.0   \n\n                                  Census_FirmwareVersionIdentifier  \\\nMachineIdentifier                                                    \n0000010489e3af074adeac69c53e555e                            8554.0   \n00000176ac758d54827acd545b6315a5                           33105.0   \n0000019dcefc128c2d4387c1273dae1d                           63396.0   \n0000055553dc51b1295785415f1a224d                           26320.0   \n00000574cefffeca83ec8adf9285b2bf                           63269.0   \n\n                                  Census_IsSecureBootEnabled  \\\nMachineIdentifier                                              \n0000010489e3af074adeac69c53e555e                           1   \n00000176ac758d54827acd545b6315a5                           1   \n0000019dcefc128c2d4387c1273dae1d                           1   \n0000055553dc51b1295785415f1a224d                           1   \n00000574cefffeca83ec8adf9285b2bf                           1   \n\n                                  Census_IsWIMBootEnabled  \\\nMachineIdentifier                                           \n0000010489e3af074adeac69c53e555e                      NaN   \n00000176ac758d54827acd545b6315a5                      NaN   \n0000019dcefc128c2d4387c1273dae1d                      NaN   \n0000055553dc51b1295785415f1a224d                      0.0   \n00000574cefffeca83ec8adf9285b2bf                      NaN   \n\n                                  Census_IsVirtualDevice  \\\nMachineIdentifier                                          \n0000010489e3af074adeac69c53e555e                     0.0   \n00000176ac758d54827acd545b6315a5                     0.0   \n0000019dcefc128c2d4387c1273dae1d                     0.0   \n0000055553dc51b1295785415f1a224d                     0.0   \n00000574cefffeca83ec8adf9285b2bf                     0.0   \n\n                                  Census_IsTouchEnabled  Census_IsPenCapable  \\\nMachineIdentifier                                                              \n0000010489e3af074adeac69c53e555e                      0                    0   \n00000176ac758d54827acd545b6315a5                      0                    0   \n0000019dcefc128c2d4387c1273dae1d                      0                    0   \n0000055553dc51b1295785415f1a224d                      0                    0   \n00000574cefffeca83ec8adf9285b2bf                      0                    0   \n\n                                 Census_IsAlwaysOnAlwaysConnectedCapable  \\\nMachineIdentifier                                                          \n0000010489e3af074adeac69c53e555e                                     0.0   \n00000176ac758d54827acd545b6315a5                                     0.0   \n0000019dcefc128c2d4387c1273dae1d                                     0.0   \n0000055553dc51b1295785415f1a224d                                     0.0   \n00000574cefffeca83ec8adf9285b2bf                                     0.0   \n\n                                 Wdft_IsGamer Wdft_RegionIdentifier  \nMachineIdentifier                                                    \n0000010489e3af074adeac69c53e555e          0.0                   7.0  \n00000176ac758d54827acd545b6315a5          1.0                  12.0  \n0000019dcefc128c2d4387c1273dae1d          1.0                  11.0  \n0000055553dc51b1295785415f1a224d          0.0                  10.0  \n00000574cefffeca83ec8adf9285b2bf          1.0                   3.0  \n\n[5 rows x 81 columns]"
     },
     "execution_count": 7,
     "metadata": {},
     "output_type": "execute_result"
    }
   ],
   "source": [
    "df_test.head()"
   ]
  },
  {
   "cell_type": "code",
   "execution_count": 8,
   "metadata": {},
   "outputs": [
    {
     "name": "stdout",
     "output_type": "stream",
     "text": [
      "CPU times: user 1min 4s, sys: 3.29 s, total: 1min 8s\n",
      "Wall time: 2min 55s\n"
     ]
    },
    {
     "data": {
      "text/html": "<div>\n<style scoped>\n    .dataframe tbody tr th:only-of-type {\n        vertical-align: middle;\n    }\n\n    .dataframe tbody tr th {\n        vertical-align: top;\n    }\n\n    .dataframe thead th {\n        text-align: right;\n    }\n</style>\n<table border=\"1\" class=\"dataframe\">\n  <thead>\n    <tr style=\"text-align: right;\">\n      <th></th>\n      <th>IsBeta</th>\n      <th>RtpStateBitfield</th>\n      <th>IsSxsPassiveMode</th>\n      <th>DefaultBrowsersIdentifier</th>\n      <th>AVProductStatesIdentifier</th>\n      <th>AVProductsInstalled</th>\n      <th>AVProductsEnabled</th>\n      <th>HasTpm</th>\n      <th>CountryIdentifier</th>\n      <th>CityIdentifier</th>\n      <th>...</th>\n      <th>Census_FirmwareVersionIdentifier</th>\n      <th>Census_IsSecureBootEnabled</th>\n      <th>Census_IsWIMBootEnabled</th>\n      <th>Census_IsVirtualDevice</th>\n      <th>Census_IsTouchEnabled</th>\n      <th>Census_IsPenCapable</th>\n      <th>Census_IsAlwaysOnAlwaysConnectedCapable</th>\n      <th>Wdft_IsGamer</th>\n      <th>Wdft_RegionIdentifier</th>\n      <th>HasDetections</th>\n    </tr>\n  </thead>\n  <tbody>\n    <tr>\n      <th>count</th>\n      <td>8.921483e+06</td>\n      <td>8.889165e+06</td>\n      <td>8.921483e+06</td>\n      <td>433438.000000</td>\n      <td>8.885262e+06</td>\n      <td>8.885262e+06</td>\n      <td>8.885262e+06</td>\n      <td>8.921483e+06</td>\n      <td>8.921483e+06</td>\n      <td>8.596074e+06</td>\n      <td>...</td>\n      <td>8.761350e+06</td>\n      <td>8.921483e+06</td>\n      <td>3.261780e+06</td>\n      <td>8.905530e+06</td>\n      <td>8.921483e+06</td>\n      <td>8.921483e+06</td>\n      <td>8.850140e+06</td>\n      <td>8.618032e+06</td>\n      <td>8.618032e+06</td>\n      <td>8.921483e+06</td>\n    </tr>\n    <tr>\n      <th>mean</th>\n      <td>7.509962e-06</td>\n      <td>6.845332e+00</td>\n      <td>1.733378e-02</td>\n      <td>1658.355421</td>\n      <td>4.784001e+04</td>\n      <td>1.326779e+00</td>\n      <td>1.020967e+00</td>\n      <td>9.879711e-01</td>\n      <td>1.080490e+02</td>\n      <td>8.126653e+04</td>\n      <td>...</td>\n      <td>3.302792e+04</td>\n      <td>4.860229e-01</td>\n      <td>3.065811e-07</td>\n      <td>7.039446e-03</td>\n      <td>1.255431e-01</td>\n      <td>3.807091e-02</td>\n      <td>5.741920e-02</td>\n      <td>2.835785e-01</td>\n      <td>7.883565e+00</td>\n      <td>4.997927e-01</td>\n    </tr>\n    <tr>\n      <th>std</th>\n      <td>2.740421e-03</td>\n      <td>1.026055e+00</td>\n      <td>1.305118e-01</td>\n      <td>998.960373</td>\n      <td>1.403237e+04</td>\n      <td>5.229272e-01</td>\n      <td>1.675544e-01</td>\n      <td>1.090149e-01</td>\n      <td>6.304706e+01</td>\n      <td>4.892339e+04</td>\n      <td>...</td>\n      <td>2.120691e+04</td>\n      <td>4.998046e-01</td>\n      <td>5.536976e-04</td>\n      <td>8.360558e-02</td>\n      <td>3.313338e-01</td>\n      <td>1.913675e-01</td>\n      <td>2.326419e-01</td>\n      <td>4.507347e-01</td>\n      <td>4.550121e+00</td>\n      <td>5.000000e-01</td>\n    </tr>\n    <tr>\n      <th>min</th>\n      <td>0.000000e+00</td>\n      <td>0.000000e+00</td>\n      <td>0.000000e+00</td>\n      <td>1.000000</td>\n      <td>3.000000e+00</td>\n      <td>0.000000e+00</td>\n      <td>0.000000e+00</td>\n      <td>0.000000e+00</td>\n      <td>1.000000e+00</td>\n      <td>5.000000e+00</td>\n      <td>...</td>\n      <td>3.000000e+00</td>\n      <td>0.000000e+00</td>\n      <td>0.000000e+00</td>\n      <td>0.000000e+00</td>\n      <td>0.000000e+00</td>\n      <td>0.000000e+00</td>\n      <td>0.000000e+00</td>\n      <td>0.000000e+00</td>\n      <td>1.000000e+00</td>\n      <td>0.000000e+00</td>\n    </tr>\n    <tr>\n      <th>25%</th>\n      <td>0.000000e+00</td>\n      <td>7.000000e+00</td>\n      <td>0.000000e+00</td>\n      <td>1078.000000</td>\n      <td>4.948000e+04</td>\n      <td>1.000000e+00</td>\n      <td>1.000000e+00</td>\n      <td>1.000000e+00</td>\n      <td>5.100000e+01</td>\n      <td>3.737600e+04</td>\n      <td>...</td>\n      <td>1.329900e+04</td>\n      <td>0.000000e+00</td>\n      <td>0.000000e+00</td>\n      <td>0.000000e+00</td>\n      <td>0.000000e+00</td>\n      <td>0.000000e+00</td>\n      <td>0.000000e+00</td>\n      <td>0.000000e+00</td>\n      <td>3.000000e+00</td>\n      <td>0.000000e+00</td>\n    </tr>\n    <tr>\n      <th>50%</th>\n      <td>0.000000e+00</td>\n      <td>7.000000e+00</td>\n      <td>0.000000e+00</td>\n      <td>1727.000000</td>\n      <td>5.344700e+04</td>\n      <td>1.000000e+00</td>\n      <td>1.000000e+00</td>\n      <td>1.000000e+00</td>\n      <td>9.700000e+01</td>\n      <td>8.290400e+04</td>\n      <td>...</td>\n      <td>3.307500e+04</td>\n      <td>0.000000e+00</td>\n      <td>0.000000e+00</td>\n      <td>0.000000e+00</td>\n      <td>0.000000e+00</td>\n      <td>0.000000e+00</td>\n      <td>0.000000e+00</td>\n      <td>0.000000e+00</td>\n      <td>1.000000e+01</td>\n      <td>1.000000e+00</td>\n    </tr>\n    <tr>\n      <th>75%</th>\n      <td>0.000000e+00</td>\n      <td>7.000000e+00</td>\n      <td>0.000000e+00</td>\n      <td>2434.000000</td>\n      <td>5.344700e+04</td>\n      <td>2.000000e+00</td>\n      <td>1.000000e+00</td>\n      <td>1.000000e+00</td>\n      <td>1.640000e+02</td>\n      <td>1.247360e+05</td>\n      <td>...</td>\n      <td>5.259800e+04</td>\n      <td>1.000000e+00</td>\n      <td>0.000000e+00</td>\n      <td>0.000000e+00</td>\n      <td>0.000000e+00</td>\n      <td>0.000000e+00</td>\n      <td>0.000000e+00</td>\n      <td>1.000000e+00</td>\n      <td>1.100000e+01</td>\n      <td>1.000000e+00</td>\n    </tr>\n    <tr>\n      <th>max</th>\n      <td>1.000000e+00</td>\n      <td>3.500000e+01</td>\n      <td>1.000000e+00</td>\n      <td>3213.000000</td>\n      <td>7.050700e+04</td>\n      <td>7.000000e+00</td>\n      <td>5.000000e+00</td>\n      <td>1.000000e+00</td>\n      <td>2.220000e+02</td>\n      <td>1.679620e+05</td>\n      <td>...</td>\n      <td>7.210500e+04</td>\n      <td>1.000000e+00</td>\n      <td>1.000000e+00</td>\n      <td>1.000000e+00</td>\n      <td>1.000000e+00</td>\n      <td>1.000000e+00</td>\n      <td>1.000000e+00</td>\n      <td>1.000000e+00</td>\n      <td>1.500000e+01</td>\n      <td>1.000000e+00</td>\n    </tr>\n  </tbody>\n</table>\n<p>8 rows × 53 columns</p>\n</div>",
      "text/plain": "             IsBeta  RtpStateBitfield  IsSxsPassiveMode  \\\ncount  8.921483e+06      8.889165e+06      8.921483e+06   \nmean   7.509962e-06      6.845332e+00      1.733378e-02   \nstd    2.740421e-03      1.026055e+00      1.305118e-01   \nmin    0.000000e+00      0.000000e+00      0.000000e+00   \n25%    0.000000e+00      7.000000e+00      0.000000e+00   \n50%    0.000000e+00      7.000000e+00      0.000000e+00   \n75%    0.000000e+00      7.000000e+00      0.000000e+00   \nmax    1.000000e+00      3.500000e+01      1.000000e+00   \n\n       DefaultBrowsersIdentifier  AVProductStatesIdentifier  \\\ncount              433438.000000               8.885262e+06   \nmean                 1658.355421               4.784001e+04   \nstd                   998.960373               1.403237e+04   \nmin                     1.000000               3.000000e+00   \n25%                  1078.000000               4.948000e+04   \n50%                  1727.000000               5.344700e+04   \n75%                  2434.000000               5.344700e+04   \nmax                  3213.000000               7.050700e+04   \n\n       AVProductsInstalled  AVProductsEnabled        HasTpm  \\\ncount         8.885262e+06       8.885262e+06  8.921483e+06   \nmean          1.326779e+00       1.020967e+00  9.879711e-01   \nstd           5.229272e-01       1.675544e-01  1.090149e-01   \nmin           0.000000e+00       0.000000e+00  0.000000e+00   \n25%           1.000000e+00       1.000000e+00  1.000000e+00   \n50%           1.000000e+00       1.000000e+00  1.000000e+00   \n75%           2.000000e+00       1.000000e+00  1.000000e+00   \nmax           7.000000e+00       5.000000e+00  1.000000e+00   \n\n       CountryIdentifier  CityIdentifier  ...  \\\ncount       8.921483e+06    8.596074e+06  ...   \nmean        1.080490e+02    8.126653e+04  ...   \nstd         6.304706e+01    4.892339e+04  ...   \nmin         1.000000e+00    5.000000e+00  ...   \n25%         5.100000e+01    3.737600e+04  ...   \n50%         9.700000e+01    8.290400e+04  ...   \n75%         1.640000e+02    1.247360e+05  ...   \nmax         2.220000e+02    1.679620e+05  ...   \n\n       Census_FirmwareVersionIdentifier  Census_IsSecureBootEnabled  \\\ncount                      8.761350e+06                8.921483e+06   \nmean                       3.302792e+04                4.860229e-01   \nstd                        2.120691e+04                4.998046e-01   \nmin                        3.000000e+00                0.000000e+00   \n25%                        1.329900e+04                0.000000e+00   \n50%                        3.307500e+04                0.000000e+00   \n75%                        5.259800e+04                1.000000e+00   \nmax                        7.210500e+04                1.000000e+00   \n\n       Census_IsWIMBootEnabled  Census_IsVirtualDevice  Census_IsTouchEnabled  \\\ncount             3.261780e+06            8.905530e+06           8.921483e+06   \nmean              3.065811e-07            7.039446e-03           1.255431e-01   \nstd               5.536976e-04            8.360558e-02           3.313338e-01   \nmin               0.000000e+00            0.000000e+00           0.000000e+00   \n25%               0.000000e+00            0.000000e+00           0.000000e+00   \n50%               0.000000e+00            0.000000e+00           0.000000e+00   \n75%               0.000000e+00            0.000000e+00           0.000000e+00   \nmax               1.000000e+00            1.000000e+00           1.000000e+00   \n\n       Census_IsPenCapable  Census_IsAlwaysOnAlwaysConnectedCapable  \\\ncount         8.921483e+06                             8.850140e+06   \nmean          3.807091e-02                             5.741920e-02   \nstd           1.913675e-01                             2.326419e-01   \nmin           0.000000e+00                             0.000000e+00   \n25%           0.000000e+00                             0.000000e+00   \n50%           0.000000e+00                             0.000000e+00   \n75%           0.000000e+00                             0.000000e+00   \nmax           1.000000e+00                             1.000000e+00   \n\n       Wdft_IsGamer  Wdft_RegionIdentifier  HasDetections  \ncount  8.618032e+06           8.618032e+06   8.921483e+06  \nmean   2.835785e-01           7.883565e+00   4.997927e-01  \nstd    4.507347e-01           4.550121e+00   5.000000e-01  \nmin    0.000000e+00           1.000000e+00   0.000000e+00  \n25%    0.000000e+00           3.000000e+00   0.000000e+00  \n50%    0.000000e+00           1.000000e+01   1.000000e+00  \n75%    1.000000e+00           1.100000e+01   1.000000e+00  \nmax    1.000000e+00           1.500000e+01   1.000000e+00  \n\n[8 rows x 53 columns]"
     },
     "execution_count": 8,
     "metadata": {},
     "output_type": "execute_result"
    }
   ],
   "source": [
    "%%time\n",
    "df_train.describe().compute()"
   ]
  },
  {
   "cell_type": "code",
   "execution_count": 9,
   "metadata": {},
   "outputs": [
    {
     "name": "stdout",
     "output_type": "stream",
     "text": [
      "CPU times: user 9.21 s, sys: 1.42 s, total: 10.6 s\n",
      "Wall time: 1min 50s\n"
     ]
    },
    {
     "data": {
      "text/plain": "<AxesSubplot:>"
     },
     "execution_count": 9,
     "metadata": {},
     "output_type": "execute_result"
    },
    {
     "data": {
      "image/png": "[encoded data removed]",
      "image/svg+xml": "<?xml version=\"1.0\" encoding=\"utf-8\" standalone=\"no\"?>\n<!DOCTYPE svg PUBLIC \"-//W3C//DTD SVG 1.1//EN\"\n  \"http://www.w3.org/Graphics/SVG/1.1/DTD/svg11.dtd\">\n<!-- Created with matplotlib (https://matplotlib.org/) -->\n<svg height=\"259.116562pt\" version=\"1.1\" viewBox=\"0 0 362.5625 259.116562\" width=\"362.5625pt\" xmlns=\"http://www.w3.org/2000/svg\" xmlns:xlink=\"http://www.w3.org/1999/xlink\">\n <metadata>\n  <rdf:RDF xmlns:cc=\"http://creativecommons.org/ns#\" xmlns:dc=\"http://purl.org/dc/elements/1.1/\" xmlns:rdf=\"http://www.w3.org/1999/02/22-rdf-syntax-ns#\">\n   <cc:Work>\n    <dc:type rdf:resource=\"http://purl.org/dc/dcmitype/StillImage\"/>\n    <dc:date>2021-01-08T13:11:50.538055</dc:date>\n    <dc:format>image/svg+xml</dc:format>\n    <dc:creator>\n     <cc:Agent>\n      <dc:title>Matplotlib v3.3.3, https://matplotlib.org/</dc:title>\n     </cc:Agent>\n    </dc:creator>\n   </cc:Work>\n  </rdf:RDF>\n </metadata>\n <defs>\n  <style type=\"text/css\">*{stroke-linecap:butt;stroke-linejoin:round;}</style>\n </defs>\n <g id=\"figure_1\">\n  <g id=\"patch_1\">\n   <path d=\"M 0 259.116562 \nL 362.5625 259.116562 \nL 362.5625 0 \nL 0 0 \nz\n\" style=\"fill:none;\"/>\n  </g>\n  <g id=\"axes_1\">\n   <g id=\"patch_2\">\n    <path d=\"M 20.5625 235.238437 \nL 355.3625 235.238437 \nL 355.3625 17.798437 \nL 20.5625 17.798437 \nz\n\" style=\"fill:#ffffff;\"/>\n   </g>\n   <g id=\"patch_3\">\n    <path clip-path=\"url(#pdecc362f08)\" d=\"M 35.780682 235.238437 \nL 66.217045 235.238437 \nL 66.217045 28.152723 \nL 35.780682 28.152723 \nz\n\" style=\"fill:#1f77b4;\"/>\n   </g>\n   <g id=\"patch_4\">\n    <path clip-path=\"url(#pdecc362f08)\" d=\"M 66.217045 235.238437 \nL 96.653409 235.238437 \nL 96.653409 235.238437 \nL 66.217045 235.238437 \nz\n\" style=\"fill:#1f77b4;\"/>\n   </g>\n   <g id=\"patch_5\">\n    <path clip-path=\"url(#pdecc362f08)\" d=\"M 96.653409 235.238437 \nL 127.089773 235.238437 \nL 127.089773 235.238437 \nL 96.653409 235.238437 \nz\n\" style=\"fill:#1f77b4;\"/>\n   </g>\n   <g id=\"patch_6\">\n    <path clip-path=\"url(#pdecc362f08)\" d=\"M 127.089773 235.238437 \nL 157.526136 235.238437 \nL 157.526136 235.238437 \nL 127.089773 235.238437 \nz\n\" style=\"fill:#1f77b4;\"/>\n   </g>\n   <g id=\"patch_7\">\n    <path clip-path=\"url(#pdecc362f08)\" d=\"M 157.526136 235.238437 \nL 187.9625 235.238437 \nL 187.9625 235.238437 \nL 157.526136 235.238437 \nz\n\" style=\"fill:#1f77b4;\"/>\n   </g>\n   <g id=\"patch_8\">\n    <path clip-path=\"url(#pdecc362f08)\" d=\"M 187.9625 235.238437 \nL 218.398864 235.238437 \nL 218.398864 235.238437 \nL 187.9625 235.238437 \nz\n\" style=\"fill:#1f77b4;\"/>\n   </g>\n   <g id=\"patch_9\">\n    <path clip-path=\"url(#pdecc362f08)\" d=\"M 218.398864 235.238437 \nL 248.835227 235.238437 \nL 248.835227 235.238437 \nL 218.398864 235.238437 \nz\n\" style=\"fill:#1f77b4;\"/>\n   </g>\n   <g id=\"patch_10\">\n    <path clip-path=\"url(#pdecc362f08)\" d=\"M 248.835227 235.238437 \nL 279.271591 235.238437 \nL 279.271591 235.238437 \nL 248.835227 235.238437 \nz\n\" style=\"fill:#1f77b4;\"/>\n   </g>\n   <g id=\"patch_11\">\n    <path clip-path=\"url(#pdecc362f08)\" d=\"M 279.271591 235.238437 \nL 309.707955 235.238437 \nL 309.707955 235.238437 \nL 279.271591 235.238437 \nz\n\" style=\"fill:#1f77b4;\"/>\n   </g>\n   <g id=\"patch_12\">\n    <path clip-path=\"url(#pdecc362f08)\" d=\"M 309.707955 235.238437 \nL 340.144318 235.238437 \nL 340.144318 28.324375 \nL 309.707955 28.324375 \nz\n\" style=\"fill:#1f77b4;\"/>\n   </g>\n   <g id=\"matplotlib.axis_1\">\n    <g id=\"xtick_1\">\n     <g id=\"line2d_1\">\n      <path clip-path=\"url(#pdecc362f08)\" d=\"M 35.780682 235.238437 \nL 35.780682 17.798437 \n\" style=\"fill:none;stroke:#b0b0b0;stroke-linecap:square;stroke-width:0.8;\"/>\n     </g>\n     <g id=\"line2d_2\">\n      <defs>\n       <path d=\"M 0 0 \nL 0 3.5 \n\" id=\"m573b98938e\" style=\"stroke:#000000;stroke-width:0.8;\"/>\n      </defs>\n      <g>\n       <use style=\"stroke:#000000;stroke-width:0.8;\" x=\"35.780682\" xlink:href=\"#m573b98938e\" y=\"235.238437\"/>\n      </g>\n     </g>\n     <g id=\"text_1\">\n      <!-- 0.0 -->\n      <g transform=\"translate(27.829119 249.836875)scale(0.1 -0.1)\">\n       <defs>\n        <path d=\"M 31.78125 66.40625 \nQ 24.171875 66.40625 20.328125 58.90625 \nQ 16.5 51.421875 16.5 36.375 \nQ 16.5 21.390625 20.328125 13.890625 \nQ 24.171875 6.390625 31.78125 6.390625 \nQ 39.453125 6.390625 43.28125 13.890625 \nQ 47.125 21.390625 47.125 36.375 \nQ 47.125 51.421875 43.28125 58.90625 \nQ 39.453125 66.40625 31.78125 66.40625 \nz\nM 31.78125 74.21875 \nQ 44.046875 74.21875 50.515625 64.515625 \nQ 56.984375 54.828125 56.984375 36.375 \nQ 56.984375 17.96875 50.515625 8.265625 \nQ 44.046875 -1.421875 31.78125 -1.421875 \nQ 19.53125 -1.421875 13.0625 8.265625 \nQ 6.59375 17.96875 6.59375 36.375 \nQ 6.59375 54.828125 13.0625 64.515625 \nQ 19.53125 74.21875 31.78125 74.21875 \nz\n\" id=\"DejaVuSans-48\"/>\n        <path d=\"M 10.6875 12.40625 \nL 21 12.40625 \nL 21 0 \nL 10.6875 0 \nz\n\" id=\"DejaVuSans-46\"/>\n       </defs>\n       <use xlink:href=\"#DejaVuSans-48\"/>\n       <use x=\"63.623047\" xlink:href=\"#DejaVuSans-46\"/>\n       <use x=\"95.410156\" xlink:href=\"#DejaVuSans-48\"/>\n      </g>\n     </g>\n    </g>\n    <g id=\"xtick_2\">\n     <g id=\"line2d_3\">\n      <path clip-path=\"url(#pdecc362f08)\" d=\"M 96.653409 235.238437 \nL 96.653409 17.798437 \n\" style=\"fill:none;stroke:#b0b0b0;stroke-linecap:square;stroke-width:0.8;\"/>\n     </g>\n     <g id=\"line2d_4\">\n      <g>\n       <use style=\"stroke:#000000;stroke-width:0.8;\" x=\"96.653409\" xlink:href=\"#m573b98938e\" y=\"235.238437\"/>\n      </g>\n     </g>\n     <g id=\"text_2\">\n      <!-- 0.2 -->\n      <g transform=\"translate(88.701847 249.836875)scale(0.1 -0.1)\">\n       <defs>\n        <path d=\"M 19.1875 8.296875 \nL 53.609375 8.296875 \nL 53.609375 0 \nL 7.328125 0 \nL 7.328125 8.296875 \nQ 12.9375 14.109375 22.625 23.890625 \nQ 32.328125 33.6875 34.8125 36.53125 \nQ 39.546875 41.84375 41.421875 45.53125 \nQ 43.3125 49.21875 43.3125 52.78125 \nQ 43.3125 58.59375 39.234375 62.25 \nQ 35.15625 65.921875 28.609375 65.921875 \nQ 23.96875 65.921875 18.8125 64.3125 \nQ 13.671875 62.703125 7.8125 59.421875 \nL 7.8125 69.390625 \nQ 13.765625 71.78125 18.9375 73 \nQ 24.125 74.21875 28.421875 74.21875 \nQ 39.75 74.21875 46.484375 68.546875 \nQ 53.21875 62.890625 53.21875 53.421875 \nQ 53.21875 48.921875 51.53125 44.890625 \nQ 49.859375 40.875 45.40625 35.40625 \nQ 44.1875 33.984375 37.640625 27.21875 \nQ 31.109375 20.453125 19.1875 8.296875 \nz\n\" id=\"DejaVuSans-50\"/>\n       </defs>\n       <use xlink:href=\"#DejaVuSans-48\"/>\n       <use x=\"63.623047\" xlink:href=\"#DejaVuSans-46\"/>\n       <use x=\"95.410156\" xlink:href=\"#DejaVuSans-50\"/>\n      </g>\n     </g>\n    </g>\n    <g id=\"xtick_3\">\n     <g id=\"line2d_5\">\n      <path clip-path=\"url(#pdecc362f08)\" d=\"M 157.526136 235.238437 \nL 157.526136 17.798437 \n\" style=\"fill:none;stroke:#b0b0b0;stroke-linecap:square;stroke-width:0.8;\"/>\n     </g>\n     <g id=\"line2d_6\">\n      <g>\n       <use style=\"stroke:#000000;stroke-width:0.8;\" x=\"157.526136\" xlink:href=\"#m573b98938e\" y=\"235.238437\"/>\n      </g>\n     </g>\n     <g id=\"text_3\">\n      <!-- 0.4 -->\n      <g transform=\"translate(149.574574 249.836875)scale(0.1 -0.1)\">\n       <defs>\n        <path d=\"M 37.796875 64.3125 \nL 12.890625 25.390625 \nL 37.796875 25.390625 \nz\nM 35.203125 72.90625 \nL 47.609375 72.90625 \nL 47.609375 25.390625 \nL 58.015625 25.390625 \nL 58.015625 17.1875 \nL 47.609375 17.1875 \nL 47.609375 0 \nL 37.796875 0 \nL 37.796875 17.1875 \nL 4.890625 17.1875 \nL 4.890625 26.703125 \nz\n\" id=\"DejaVuSans-52\"/>\n       </defs>\n       <use xlink:href=\"#DejaVuSans-48\"/>\n       <use x=\"63.623047\" xlink:href=\"#DejaVuSans-46\"/>\n       <use x=\"95.410156\" xlink:href=\"#DejaVuSans-52\"/>\n      </g>\n     </g>\n    </g>\n    <g id=\"xtick_4\">\n     <g id=\"line2d_7\">\n      <path clip-path=\"url(#pdecc362f08)\" d=\"M 218.398864 235.238437 \nL 218.398864 17.798437 \n\" style=\"fill:none;stroke:#b0b0b0;stroke-linecap:square;stroke-width:0.8;\"/>\n     </g>\n     <g id=\"line2d_8\">\n      <g>\n       <use style=\"stroke:#000000;stroke-width:0.8;\" x=\"218.398864\" xlink:href=\"#m573b98938e\" y=\"235.238437\"/>\n      </g>\n     </g>\n     <g id=\"text_4\">\n      <!-- 0.6 -->\n      <g transform=\"translate(210.447301 249.836875)scale(0.1 -0.1)\">\n       <defs>\n        <path d=\"M 33.015625 40.375 \nQ 26.375 40.375 22.484375 35.828125 \nQ 18.609375 31.296875 18.609375 23.390625 \nQ 18.609375 15.53125 22.484375 10.953125 \nQ 26.375 6.390625 33.015625 6.390625 \nQ 39.65625 6.390625 43.53125 10.953125 \nQ 47.40625 15.53125 47.40625 23.390625 \nQ 47.40625 31.296875 43.53125 35.828125 \nQ 39.65625 40.375 33.015625 40.375 \nz\nM 52.59375 71.296875 \nL 52.59375 62.3125 \nQ 48.875 64.0625 45.09375 64.984375 \nQ 41.3125 65.921875 37.59375 65.921875 \nQ 27.828125 65.921875 22.671875 59.328125 \nQ 17.53125 52.734375 16.796875 39.40625 \nQ 19.671875 43.65625 24.015625 45.921875 \nQ 28.375 48.1875 33.59375 48.1875 \nQ 44.578125 48.1875 50.953125 41.515625 \nQ 57.328125 34.859375 57.328125 23.390625 \nQ 57.328125 12.15625 50.6875 5.359375 \nQ 44.046875 -1.421875 33.015625 -1.421875 \nQ 20.359375 -1.421875 13.671875 8.265625 \nQ 6.984375 17.96875 6.984375 36.375 \nQ 6.984375 53.65625 15.1875 63.9375 \nQ 23.390625 74.21875 37.203125 74.21875 \nQ 40.921875 74.21875 44.703125 73.484375 \nQ 48.484375 72.75 52.59375 71.296875 \nz\n\" id=\"DejaVuSans-54\"/>\n       </defs>\n       <use xlink:href=\"#DejaVuSans-48\"/>\n       <use x=\"63.623047\" xlink:href=\"#DejaVuSans-46\"/>\n       <use x=\"95.410156\" xlink:href=\"#DejaVuSans-54\"/>\n      </g>\n     </g>\n    </g>\n    <g id=\"xtick_5\">\n     <g id=\"line2d_9\">\n      <path clip-path=\"url(#pdecc362f08)\" d=\"M 279.271591 235.238437 \nL 279.271591 17.798437 \n\" style=\"fill:none;stroke:#b0b0b0;stroke-linecap:square;stroke-width:0.8;\"/>\n     </g>\n     <g id=\"line2d_10\">\n      <g>\n       <use style=\"stroke:#000000;stroke-width:0.8;\" x=\"279.271591\" xlink:href=\"#m573b98938e\" y=\"235.238437\"/>\n      </g>\n     </g>\n     <g id=\"text_5\">\n      <!-- 0.8 -->\n      <g transform=\"translate(271.320028 249.836875)scale(0.1 -0.1)\">\n       <defs>\n        <path d=\"M 31.78125 34.625 \nQ 24.75 34.625 20.71875 30.859375 \nQ 16.703125 27.09375 16.703125 20.515625 \nQ 16.703125 13.921875 20.71875 10.15625 \nQ 24.75 6.390625 31.78125 6.390625 \nQ 38.8125 6.390625 42.859375 10.171875 \nQ 46.921875 13.96875 46.921875 20.515625 \nQ 46.921875 27.09375 42.890625 30.859375 \nQ 38.875 34.625 31.78125 34.625 \nz\nM 21.921875 38.8125 \nQ 15.578125 40.375 12.03125 44.71875 \nQ 8.5 49.078125 8.5 55.328125 \nQ 8.5 64.0625 14.71875 69.140625 \nQ 20.953125 74.21875 31.78125 74.21875 \nQ 42.671875 74.21875 48.875 69.140625 \nQ 55.078125 64.0625 55.078125 55.328125 \nQ 55.078125 49.078125 51.53125 44.71875 \nQ 48 40.375 41.703125 38.8125 \nQ 48.828125 37.15625 52.796875 32.3125 \nQ 56.78125 27.484375 56.78125 20.515625 \nQ 56.78125 9.90625 50.3125 4.234375 \nQ 43.84375 -1.421875 31.78125 -1.421875 \nQ 19.734375 -1.421875 13.25 4.234375 \nQ 6.78125 9.90625 6.78125 20.515625 \nQ 6.78125 27.484375 10.78125 32.3125 \nQ 14.796875 37.15625 21.921875 38.8125 \nz\nM 18.3125 54.390625 \nQ 18.3125 48.734375 21.84375 45.5625 \nQ 25.390625 42.390625 31.78125 42.390625 \nQ 38.140625 42.390625 41.71875 45.5625 \nQ 45.3125 48.734375 45.3125 54.390625 \nQ 45.3125 60.0625 41.71875 63.234375 \nQ 38.140625 66.40625 31.78125 66.40625 \nQ 25.390625 66.40625 21.84375 63.234375 \nQ 18.3125 60.0625 18.3125 54.390625 \nz\n\" id=\"DejaVuSans-56\"/>\n       </defs>\n       <use xlink:href=\"#DejaVuSans-48\"/>\n       <use x=\"63.623047\" xlink:href=\"#DejaVuSans-46\"/>\n       <use x=\"95.410156\" xlink:href=\"#DejaVuSans-56\"/>\n      </g>\n     </g>\n    </g>\n    <g id=\"xtick_6\">\n     <g id=\"line2d_11\">\n      <path clip-path=\"url(#pdecc362f08)\" d=\"M 340.144318 235.238437 \nL 340.144318 17.798437 \n\" style=\"fill:none;stroke:#b0b0b0;stroke-linecap:square;stroke-width:0.8;\"/>\n     </g>\n     <g id=\"line2d_12\">\n      <g>\n       <use style=\"stroke:#000000;stroke-width:0.8;\" x=\"340.144318\" xlink:href=\"#m573b98938e\" y=\"235.238437\"/>\n      </g>\n     </g>\n     <g id=\"text_6\">\n      <!-- 1.0 -->\n      <g transform=\"translate(332.192756 249.836875)scale(0.1 -0.1)\">\n       <defs>\n        <path d=\"M 12.40625 8.296875 \nL 28.515625 8.296875 \nL 28.515625 63.921875 \nL 10.984375 60.40625 \nL 10.984375 69.390625 \nL 28.421875 72.90625 \nL 38.28125 72.90625 \nL 38.28125 8.296875 \nL 54.390625 8.296875 \nL 54.390625 0 \nL 12.40625 0 \nz\n\" id=\"DejaVuSans-49\"/>\n       </defs>\n       <use xlink:href=\"#DejaVuSans-49\"/>\n       <use x=\"63.623047\" xlink:href=\"#DejaVuSans-46\"/>\n       <use x=\"95.410156\" xlink:href=\"#DejaVuSans-48\"/>\n      </g>\n     </g>\n    </g>\n   </g>\n   <g id=\"matplotlib.axis_2\">\n    <g id=\"ytick_1\">\n     <g id=\"line2d_13\">\n      <path clip-path=\"url(#pdecc362f08)\" d=\"M 20.5625 235.238437 \nL 355.3625 235.238437 \n\" style=\"fill:none;stroke:#b0b0b0;stroke-linecap:square;stroke-width:0.8;\"/>\n     </g>\n     <g id=\"line2d_14\">\n      <defs>\n       <path d=\"M 0 0 \nL -3.5 0 \n\" id=\"me0d5ba7f49\" style=\"stroke:#000000;stroke-width:0.8;\"/>\n      </defs>\n      <g>\n       <use style=\"stroke:#000000;stroke-width:0.8;\" x=\"20.5625\" xlink:href=\"#me0d5ba7f49\" y=\"235.238437\"/>\n      </g>\n     </g>\n     <g id=\"text_7\">\n      <!-- 0 -->\n      <g transform=\"translate(7.2 239.037656)scale(0.1 -0.1)\">\n       <use xlink:href=\"#DejaVuSans-48\"/>\n      </g>\n     </g>\n    </g>\n    <g id=\"ytick_2\">\n     <g id=\"line2d_15\">\n      <path clip-path=\"url(#pdecc362f08)\" d=\"M 20.5625 188.833621 \nL 355.3625 188.833621 \n\" style=\"fill:none;stroke:#b0b0b0;stroke-linecap:square;stroke-width:0.8;\"/>\n     </g>\n     <g id=\"line2d_16\">\n      <g>\n       <use style=\"stroke:#000000;stroke-width:0.8;\" x=\"20.5625\" xlink:href=\"#me0d5ba7f49\" y=\"188.833621\"/>\n      </g>\n     </g>\n     <g id=\"text_8\">\n      <!-- 1 -->\n      <g transform=\"translate(7.2 192.63284)scale(0.1 -0.1)\">\n       <use xlink:href=\"#DejaVuSans-49\"/>\n      </g>\n     </g>\n    </g>\n    <g id=\"ytick_3\">\n     <g id=\"line2d_17\">\n      <path clip-path=\"url(#pdecc362f08)\" d=\"M 20.5625 142.428805 \nL 355.3625 142.428805 \n\" style=\"fill:none;stroke:#b0b0b0;stroke-linecap:square;stroke-width:0.8;\"/>\n     </g>\n     <g id=\"line2d_18\">\n      <g>\n       <use style=\"stroke:#000000;stroke-width:0.8;\" x=\"20.5625\" xlink:href=\"#me0d5ba7f49\" y=\"142.428805\"/>\n      </g>\n     </g>\n     <g id=\"text_9\">\n      <!-- 2 -->\n      <g transform=\"translate(7.2 146.228024)scale(0.1 -0.1)\">\n       <use xlink:href=\"#DejaVuSans-50\"/>\n      </g>\n     </g>\n    </g>\n    <g id=\"ytick_4\">\n     <g id=\"line2d_19\">\n      <path clip-path=\"url(#pdecc362f08)\" d=\"M 20.5625 96.023989 \nL 355.3625 96.023989 \n\" style=\"fill:none;stroke:#b0b0b0;stroke-linecap:square;stroke-width:0.8;\"/>\n     </g>\n     <g id=\"line2d_20\">\n      <g>\n       <use style=\"stroke:#000000;stroke-width:0.8;\" x=\"20.5625\" xlink:href=\"#me0d5ba7f49\" y=\"96.023989\"/>\n      </g>\n     </g>\n     <g id=\"text_10\">\n      <!-- 3 -->\n      <g transform=\"translate(7.2 99.823208)scale(0.1 -0.1)\">\n       <defs>\n        <path d=\"M 40.578125 39.3125 \nQ 47.65625 37.796875 51.625 33 \nQ 55.609375 28.21875 55.609375 21.1875 \nQ 55.609375 10.40625 48.1875 4.484375 \nQ 40.765625 -1.421875 27.09375 -1.421875 \nQ 22.515625 -1.421875 17.65625 -0.515625 \nQ 12.796875 0.390625 7.625 2.203125 \nL 7.625 11.71875 \nQ 11.71875 9.328125 16.59375 8.109375 \nQ 21.484375 6.890625 26.8125 6.890625 \nQ 36.078125 6.890625 40.9375 10.546875 \nQ 45.796875 14.203125 45.796875 21.1875 \nQ 45.796875 27.640625 41.28125 31.265625 \nQ 36.765625 34.90625 28.71875 34.90625 \nL 20.21875 34.90625 \nL 20.21875 43.015625 \nL 29.109375 43.015625 \nQ 36.375 43.015625 40.234375 45.921875 \nQ 44.09375 48.828125 44.09375 54.296875 \nQ 44.09375 59.90625 40.109375 62.90625 \nQ 36.140625 65.921875 28.71875 65.921875 \nQ 24.65625 65.921875 20.015625 65.03125 \nQ 15.375 64.15625 9.8125 62.3125 \nL 9.8125 71.09375 \nQ 15.4375 72.65625 20.34375 73.4375 \nQ 25.25 74.21875 29.59375 74.21875 \nQ 40.828125 74.21875 47.359375 69.109375 \nQ 53.90625 64.015625 53.90625 55.328125 \nQ 53.90625 49.265625 50.4375 45.09375 \nQ 46.96875 40.921875 40.578125 39.3125 \nz\n\" id=\"DejaVuSans-51\"/>\n       </defs>\n       <use xlink:href=\"#DejaVuSans-51\"/>\n      </g>\n     </g>\n    </g>\n    <g id=\"ytick_5\">\n     <g id=\"line2d_21\">\n      <path clip-path=\"url(#pdecc362f08)\" d=\"M 20.5625 49.619173 \nL 355.3625 49.619173 \n\" style=\"fill:none;stroke:#b0b0b0;stroke-linecap:square;stroke-width:0.8;\"/>\n     </g>\n     <g id=\"line2d_22\">\n      <g>\n       <use style=\"stroke:#000000;stroke-width:0.8;\" x=\"20.5625\" xlink:href=\"#me0d5ba7f49\" y=\"49.619173\"/>\n      </g>\n     </g>\n     <g id=\"text_11\">\n      <!-- 4 -->\n      <g transform=\"translate(7.2 53.418392)scale(0.1 -0.1)\">\n       <use xlink:href=\"#DejaVuSans-52\"/>\n      </g>\n     </g>\n    </g>\n    <g id=\"text_12\">\n     <!-- 1e6 -->\n     <g transform=\"translate(20.5625 14.798437)scale(0.1 -0.1)\">\n      <defs>\n       <path d=\"M 56.203125 29.59375 \nL 56.203125 25.203125 \nL 14.890625 25.203125 \nQ 15.484375 15.921875 20.484375 11.0625 \nQ 25.484375 6.203125 34.421875 6.203125 \nQ 39.59375 6.203125 44.453125 7.46875 \nQ 49.3125 8.734375 54.109375 11.28125 \nL 54.109375 2.78125 \nQ 49.265625 0.734375 44.1875 -0.34375 \nQ 39.109375 -1.421875 33.890625 -1.421875 \nQ 20.796875 -1.421875 13.15625 6.1875 \nQ 5.515625 13.8125 5.515625 26.8125 \nQ 5.515625 40.234375 12.765625 48.109375 \nQ 20.015625 56 32.328125 56 \nQ 43.359375 56 49.78125 48.890625 \nQ 56.203125 41.796875 56.203125 29.59375 \nz\nM 47.21875 32.234375 \nQ 47.125 39.59375 43.09375 43.984375 \nQ 39.0625 48.390625 32.421875 48.390625 \nQ 24.90625 48.390625 20.390625 44.140625 \nQ 15.875 39.890625 15.1875 32.171875 \nz\n\" id=\"DejaVuSans-101\"/>\n      </defs>\n      <use xlink:href=\"#DejaVuSans-49\"/>\n      <use x=\"63.623047\" xlink:href=\"#DejaVuSans-101\"/>\n      <use x=\"125.146484\" xlink:href=\"#DejaVuSans-54\"/>\n     </g>\n    </g>\n   </g>\n   <g id=\"patch_13\">\n    <path d=\"M 20.5625 235.238437 \nL 20.5625 17.798437 \n\" style=\"fill:none;stroke:#000000;stroke-linecap:square;stroke-linejoin:miter;stroke-width:0.8;\"/>\n   </g>\n   <g id=\"patch_14\">\n    <path d=\"M 355.3625 235.238437 \nL 355.3625 17.798437 \n\" style=\"fill:none;stroke:#000000;stroke-linecap:square;stroke-linejoin:miter;stroke-width:0.8;\"/>\n   </g>\n   <g id=\"patch_15\">\n    <path d=\"M 20.5625 235.238437 \nL 355.3625 235.238437 \n\" style=\"fill:none;stroke:#000000;stroke-linecap:square;stroke-linejoin:miter;stroke-width:0.8;\"/>\n   </g>\n   <g id=\"patch_16\">\n    <path d=\"M 20.5625 17.798437 \nL 355.3625 17.798437 \n\" style=\"fill:none;stroke:#000000;stroke-linecap:square;stroke-linejoin:miter;stroke-width:0.8;\"/>\n   </g>\n  </g>\n </g>\n <defs>\n  <clipPath id=\"pdecc362f08\">\n   <rect height=\"217.44\" width=\"334.8\" x=\"20.5625\" y=\"17.798437\"/>\n  </clipPath>\n </defs>\n</svg>\n",
      "text/plain": "<Figure size 432x288 with 1 Axes>"
     },
     "metadata": {
      "needs_background": "light",
      "transient": {}
     },
     "output_type": "display_data"
    }
   ],
   "source": [
    "%%time\n",
    "df_train[\"HasDetections\"].compute().hist()"
   ]
  },
  {
   "cell_type": "markdown",
   "metadata": {},
   "source": [
    "## Data Preparation\n",
    "\n",
    "Prepare data for ML - for the purpose of this tutorial, we will simply ignore non-numeric columns."
   ]
  },
  {
   "cell_type": "code",
   "execution_count": 10,
   "metadata": {},
   "outputs": [
    {
     "data": {
      "text/plain": "['IsBeta',\n 'RtpStateBitfield',\n 'IsSxsPassiveMode',\n 'DefaultBrowsersIdentifier',\n 'AVProductStatesIdentifier',\n 'AVProductsInstalled',\n 'AVProductsEnabled',\n 'HasTpm',\n 'CountryIdentifier',\n 'CityIdentifier',\n 'OrganizationIdentifier',\n 'GeoNameIdentifier',\n 'LocaleEnglishNameIdentifier',\n 'OsBuild',\n 'OsSuite',\n 'IsProtected',\n 'AutoSampleOptIn',\n 'SMode',\n 'IeVerIdentifier',\n 'Firewall',\n 'UacLuaenable',\n 'Census_OEMNameIdentifier',\n 'Census_OEMModelIdentifier',\n 'Census_ProcessorCoreCount',\n 'Census_ProcessorManufacturerIdentifier',\n 'Census_ProcessorModelIdentifier',\n 'Census_PrimaryDiskTotalCapacity',\n 'Census_SystemVolumeTotalCapacity',\n 'Census_HasOpticalDiskDrive',\n 'Census_TotalPhysicalRAM',\n 'Census_InternalPrimaryDiagonalDisplaySizeInInches',\n 'Census_InternalPrimaryDisplayResolutionHorizontal',\n 'Census_InternalPrimaryDisplayResolutionVertical',\n 'Census_InternalBatteryNumberOfCharges',\n 'Census_OSBuildNumber',\n 'Census_OSBuildRevision',\n 'Census_OSInstallLanguageIdentifier',\n 'Census_OSUILocaleIdentifier',\n 'Census_IsPortableOperatingSystem',\n 'Census_IsFlightingInternal',\n 'Census_IsFlightsDisabled',\n 'Census_ThresholdOptIn',\n 'Census_FirmwareManufacturerIdentifier',\n 'Census_FirmwareVersionIdentifier',\n 'Census_IsSecureBootEnabled',\n 'Census_IsWIMBootEnabled',\n 'Census_IsVirtualDevice',\n 'Census_IsTouchEnabled',\n 'Census_IsPenCapable',\n 'Census_IsAlwaysOnAlwaysConnectedCapable',\n 'Wdft_IsGamer',\n 'Wdft_RegionIdentifier',\n 'HasDetections']"
     },
     "execution_count": 10,
     "metadata": {},
     "output_type": "execute_result"
    }
   ],
   "source": [
    "cols = [col for col in df_train.columns if df_train.dtypes[col] != \"object\"]\n",
    "cols"
   ]
  },
  {
   "cell_type": "code",
   "execution_count": 11,
   "metadata": {},
   "outputs": [
    {
     "data": {
      "text/html": "<table>\n<tr>\n<td>\n<table>\n  <thead>\n    <tr><td> </td><th> Array </th><th> Chunk </th></tr>\n  </thead>\n  <tbody>\n    <tr><th> Bytes </th><td> unknown </td> <td> unknown </td></tr>\n    <tr><th> Shape </th><td> (nan, 52) </td> <td> (nan, 52) </td></tr>\n    <tr><th> Count </th><td> 256 Tasks </td><td> 256 Chunks </td></tr>\n    <tr><th> Type </th><td> float64 </td><td> numpy.ndarray </td></tr>\n  </tbody>\n</table>\n</td>\n<td>\n\n</td>\n</tr>\n</table>",
      "text/plain": "dask.array<values, shape=(nan, 52), dtype=float64, chunksize=(nan, 52), chunktype=numpy.ndarray>"
     },
     "execution_count": 11,
     "metadata": {},
     "output_type": "execute_result"
    }
   ],
   "source": [
    "X = df_train[cols].drop(\"HasDetections\", axis=1).values.persist()\n",
    "X"
   ]
  },
  {
   "cell_type": "code",
   "execution_count": 12,
   "metadata": {},
   "outputs": [
    {
     "data": {
      "text/plain": "Dask Series Structure:\nnpartitions=256\n0000028988387b115f69f31a3bf04f09    int64\n0101cfc3cc3970c26713608ee57e62e1      ...\n                                    ...  \nff004763ecb08ea8d52833ae10e475da      ...\nffffff75ba4f33d938ccfdb148b8ea16      ...\nName: HasDetections, dtype: int64\nDask Name: getitem, 256 tasks"
     },
     "execution_count": 12,
     "metadata": {},
     "output_type": "execute_result"
    }
   ],
   "source": [
    "y = df_train[\"HasDetections\"].persist()\n",
    "y"
   ]
  },
  {
   "cell_type": "markdown",
   "metadata": {},
   "source": [
    "## Train LightGBM\n",
    "\n",
    "Now, we can use the ``lightgbm.dask`` module for distributed XGBoost training through Python."
   ]
  },
  {
   "cell_type": "code",
   "execution_count": 23,
   "metadata": {},
   "outputs": [],
   "source": [
    "from dask_lightgbm import LGBMRegressor"
   ]
  },
  {
   "cell_type": "code",
   "execution_count": 24,
   "metadata": {},
   "outputs": [],
   "source": [
    "params = {\n",
    "    \"objective\": \"binary\",\n",
    "    \"boosting\": \"gbdt\",\n",
    "    \"num_iterations\": 2,\n",
    "    \"learning_rate\": 0.1,\n",
    "    \"num_leaves\": 31,\n",
    "}"
   ]
  },
  {
   "cell_type": "code",
   "execution_count": 25,
   "metadata": {},
   "outputs": [
    {
     "name": "stdout",
     "output_type": "stream",
     "text": [
      "\u001b[0;31mInit signature:\u001b[0m\n",
      "\u001b[0mLGBMRegressor\u001b[0m\u001b[0;34m(\u001b[0m\u001b[0;34m\u001b[0m\n",
      "\u001b[0;34m\u001b[0m    \u001b[0mboosting_type\u001b[0m\u001b[0;34m=\u001b[0m\u001b[0;34m'gbdt'\u001b[0m\u001b[0;34m,\u001b[0m\u001b[0;34m\u001b[0m\n",
      "\u001b[0;34m\u001b[0m    \u001b[0mnum_leaves\u001b[0m\u001b[0;34m=\u001b[0m\u001b[0;36m31\u001b[0m\u001b[0;34m,\u001b[0m\u001b[0;34m\u001b[0m\n",
      "\u001b[0;34m\u001b[0m    \u001b[0mmax_depth\u001b[0m\u001b[0;34m=\u001b[0m\u001b[0;34m-\u001b[0m\u001b[0;36m1\u001b[0m\u001b[0;34m,\u001b[0m\u001b[0;34m\u001b[0m\n",
      "\u001b[0;34m\u001b[0m    \u001b[0mlearning_rate\u001b[0m\u001b[0;34m=\u001b[0m\u001b[0;36m0.1\u001b[0m\u001b[0;34m,\u001b[0m\u001b[0;34m\u001b[0m\n",
      "\u001b[0;34m\u001b[0m    \u001b[0mn_estimators\u001b[0m\u001b[0;34m=\u001b[0m\u001b[0;36m100\u001b[0m\u001b[0;34m,\u001b[0m\u001b[0;34m\u001b[0m\n",
      "\u001b[0;34m\u001b[0m    \u001b[0msubsample_for_bin\u001b[0m\u001b[0;34m=\u001b[0m\u001b[0;36m200000\u001b[0m\u001b[0;34m,\u001b[0m\u001b[0;34m\u001b[0m\n",
      "\u001b[0;34m\u001b[0m    \u001b[0mobjective\u001b[0m\u001b[0;34m=\u001b[0m\u001b[0;32mNone\u001b[0m\u001b[0;34m,\u001b[0m\u001b[0;34m\u001b[0m\n",
      "\u001b[0;34m\u001b[0m    \u001b[0mclass_weight\u001b[0m\u001b[0;34m=\u001b[0m\u001b[0;32mNone\u001b[0m\u001b[0;34m,\u001b[0m\u001b[0;34m\u001b[0m\n",
      "\u001b[0;34m\u001b[0m    \u001b[0mmin_split_gain\u001b[0m\u001b[0;34m=\u001b[0m\u001b[0;36m0.0\u001b[0m\u001b[0;34m,\u001b[0m\u001b[0;34m\u001b[0m\n",
      "\u001b[0;34m\u001b[0m    \u001b[0mmin_child_weight\u001b[0m\u001b[0;34m=\u001b[0m\u001b[0;36m0.001\u001b[0m\u001b[0;34m,\u001b[0m\u001b[0;34m\u001b[0m\n",
      "\u001b[0;34m\u001b[0m    \u001b[0mmin_child_samples\u001b[0m\u001b[0;34m=\u001b[0m\u001b[0;36m20\u001b[0m\u001b[0;34m,\u001b[0m\u001b[0;34m\u001b[0m\n",
      "\u001b[0;34m\u001b[0m    \u001b[0msubsample\u001b[0m\u001b[0;34m=\u001b[0m\u001b[0;36m1.0\u001b[0m\u001b[0;34m,\u001b[0m\u001b[0;34m\u001b[0m\n",
      "\u001b[0;34m\u001b[0m    \u001b[0msubsample_freq\u001b[0m\u001b[0;34m=\u001b[0m\u001b[0;36m0\u001b[0m\u001b[0;34m,\u001b[0m\u001b[0;34m\u001b[0m\n",
      "\u001b[0;34m\u001b[0m    \u001b[0mcolsample_bytree\u001b[0m\u001b[0;34m=\u001b[0m\u001b[0;36m1.0\u001b[0m\u001b[0;34m,\u001b[0m\u001b[0;34m\u001b[0m\n",
      "\u001b[0;34m\u001b[0m    \u001b[0mreg_alpha\u001b[0m\u001b[0;34m=\u001b[0m\u001b[0;36m0.0\u001b[0m\u001b[0;34m,\u001b[0m\u001b[0;34m\u001b[0m\n",
      "\u001b[0;34m\u001b[0m    \u001b[0mreg_lambda\u001b[0m\u001b[0;34m=\u001b[0m\u001b[0;36m0.0\u001b[0m\u001b[0;34m,\u001b[0m\u001b[0;34m\u001b[0m\n",
      "\u001b[0;34m\u001b[0m    \u001b[0mrandom_state\u001b[0m\u001b[0;34m=\u001b[0m\u001b[0;32mNone\u001b[0m\u001b[0;34m,\u001b[0m\u001b[0;34m\u001b[0m\n",
      "\u001b[0;34m\u001b[0m    \u001b[0mn_jobs\u001b[0m\u001b[0;34m=\u001b[0m\u001b[0;34m-\u001b[0m\u001b[0;36m1\u001b[0m\u001b[0;34m,\u001b[0m\u001b[0;34m\u001b[0m\n",
      "\u001b[0;34m\u001b[0m    \u001b[0msilent\u001b[0m\u001b[0;34m=\u001b[0m\u001b[0;32mTrue\u001b[0m\u001b[0;34m,\u001b[0m\u001b[0;34m\u001b[0m\n",
      "\u001b[0;34m\u001b[0m    \u001b[0mimportance_type\u001b[0m\u001b[0;34m=\u001b[0m\u001b[0;34m'split'\u001b[0m\u001b[0;34m,\u001b[0m\u001b[0;34m\u001b[0m\n",
      "\u001b[0;34m\u001b[0m    \u001b[0;34m**\u001b[0m\u001b[0mkwargs\u001b[0m\u001b[0;34m,\u001b[0m\u001b[0;34m\u001b[0m\n",
      "\u001b[0;34m\u001b[0m\u001b[0;34m)\u001b[0m\u001b[0;34m\u001b[0m\u001b[0;34m\u001b[0m\u001b[0m\n",
      "\u001b[0;31mDocstring:\u001b[0m      LightGBM regressor.\n",
      "\u001b[0;31mInit docstring:\u001b[0m\n",
      "Construct a gradient boosting model.\n",
      "\n",
      "Parameters\n",
      "----------\n",
      "boosting_type : string, optional (default='gbdt')\n",
      "    'gbdt', traditional Gradient Boosting Decision Tree.\n",
      "    'dart', Dropouts meet Multiple Additive Regression Trees.\n",
      "    'goss', Gradient-based One-Side Sampling.\n",
      "    'rf', Random Forest.\n",
      "num_leaves : int, optional (default=31)\n",
      "    Maximum tree leaves for base learners.\n",
      "max_depth : int, optional (default=-1)\n",
      "    Maximum tree depth for base learners, <=0 means no limit.\n",
      "learning_rate : float, optional (default=0.1)\n",
      "    Boosting learning rate.\n",
      "    You can use ``callbacks`` parameter of ``fit`` method to shrink/adapt learning rate\n",
      "    in training using ``reset_parameter`` callback.\n",
      "    Note, that this will ignore the ``learning_rate`` argument in training.\n",
      "n_estimators : int, optional (default=100)\n",
      "    Number of boosted trees to fit.\n",
      "subsample_for_bin : int, optional (default=200000)\n",
      "    Number of samples for constructing bins.\n",
      "objective : string, callable or None, optional (default=None)\n",
      "    Specify the learning task and the corresponding learning objective or\n",
      "    a custom objective function to be used (see note below).\n",
      "    Default: 'regression' for LGBMRegressor, 'binary' or 'multiclass' for LGBMClassifier, 'lambdarank' for LGBMRanker.\n",
      "class_weight : dict, 'balanced' or None, optional (default=None)\n",
      "    Weights associated with classes in the form ``{class_label: weight}``.\n",
      "    Use this parameter only for multi-class classification task;\n",
      "    for binary classification task you may use ``is_unbalance`` or ``scale_pos_weight`` parameters.\n",
      "    Note, that the usage of all these parameters will result in poor estimates of the individual class probabilities.\n",
      "    You may want to consider performing probability calibration\n",
      "    (https://scikit-learn.org/stable/modules/calibration.html) of your model.\n",
      "    The 'balanced' mode uses the values of y to automatically adjust weights\n",
      "    inversely proportional to class frequencies in the input data as ``n_samples / (n_classes * np.bincount(y))``.\n",
      "    If None, all classes are supposed to have weight one.\n",
      "    Note, that these weights will be multiplied with ``sample_weight`` (passed through the ``fit`` method)\n",
      "    if ``sample_weight`` is specified.\n",
      "min_split_gain : float, optional (default=0.)\n",
      "    Minimum loss reduction required to make a further partition on a leaf node of the tree.\n",
      "min_child_weight : float, optional (default=1e-3)\n",
      "    Minimum sum of instance weight (hessian) needed in a child (leaf).\n",
      "min_child_samples : int, optional (default=20)\n",
      "    Minimum number of data needed in a child (leaf).\n",
      "subsample : float, optional (default=1.)\n",
      "    Subsample ratio of the training instance.\n",
      "subsample_freq : int, optional (default=0)\n",
      "    Frequence of subsample, <=0 means no enable.\n",
      "colsample_bytree : float, optional (default=1.)\n",
      "    Subsample ratio of columns when constructing each tree.\n",
      "reg_alpha : float, optional (default=0.)\n",
      "    L1 regularization term on weights.\n",
      "reg_lambda : float, optional (default=0.)\n",
      "    L2 regularization term on weights.\n",
      "random_state : int or None, optional (default=None)\n",
      "    Random number seed.\n",
      "    If None, default seeds in C++ code will be used.\n",
      "n_jobs : int, optional (default=-1)\n",
      "    Number of parallel threads.\n",
      "silent : bool, optional (default=True)\n",
      "    Whether to print messages while running boosting.\n",
      "importance_type : string, optional (default='split')\n",
      "    The type of feature importance to be filled into ``feature_importances_``.\n",
      "    If 'split', result contains numbers of times the feature is used in a model.\n",
      "    If 'gain', result contains total gains of splits which use the feature.\n",
      "**kwargs\n",
      "    Other parameters for the model.\n",
      "    Check http://lightgbm.readthedocs.io/en/latest/Parameters.html for more parameters.\n",
      "\n",
      "    .. warning::\n",
      "\n",
      "        \\*\\*kwargs is not supported in sklearn, it may cause unexpected issues.\n",
      "\n",
      "Attributes\n",
      "----------\n",
      "n_features_ : int\n",
      "    The number of features of fitted model.\n",
      "classes_ : array of shape = [n_classes]\n",
      "    The class label array (only for classification problem).\n",
      "n_classes_ : int\n",
      "    The number of classes (only for classification problem).\n",
      "best_score_ : dict or None\n",
      "    The best score of fitted model.\n",
      "best_iteration_ : int or None\n",
      "    The best iteration of fitted model if ``early_stopping_rounds`` has been specified.\n",
      "objective_ : string or callable\n",
      "    The concrete objective used while fitting this model.\n",
      "booster_ : Booster\n",
      "    The underlying Booster of this model.\n",
      "evals_result_ : dict or None\n",
      "    The evaluation results if ``early_stopping_rounds`` has been specified.\n",
      "feature_importances_ : array of shape = [n_features]\n",
      "    The feature importances (the higher, the more important the feature).\n",
      "\n",
      "Note\n",
      "----\n",
      "A custom objective function can be provided for the ``objective`` parameter.\n",
      "In this case, it should have the signature\n",
      "``objective(y_true, y_pred) -> grad, hess`` or\n",
      "``objective(y_true, y_pred, group) -> grad, hess``:\n",
      "\n",
      "    y_true : array-like of shape = [n_samples]\n",
      "        The target values.\n",
      "    y_pred : array-like of shape = [n_samples] or shape = [n_samples * n_classes] (for multi-class task)\n",
      "        The predicted values.\n",
      "    group : array-like\n",
      "        Group/query data, used for ranking task.\n",
      "    grad : array-like of shape = [n_samples] or shape = [n_samples * n_classes] (for multi-class task)\n",
      "        The value of the first order derivative (gradient) for each sample point.\n",
      "    hess : array-like of shape = [n_samples] or shape = [n_samples * n_classes] (for multi-class task)\n",
      "        The value of the second order derivative (Hessian) for each sample point.\n",
      "\n",
      "For multi-class task, the y_pred is group by class_id first, then group by row_id.\n",
      "If you want to get i-th row y_pred in j-th class, the access way is y_pred[j * num_data + i]\n",
      "and you should group grad and hess in this way as well.\n",
      "\u001b[0;31mFile:\u001b[0m           ~/miniconda3/envs/dkdc/lib/python3.8/site-packages/dask_lightgbm/core.py\n",
      "\u001b[0;31mType:\u001b[0m           type\n",
      "\u001b[0;31mSubclasses:\u001b[0m     \n"
     ]
    }
   ],
   "source": [
    "LGBMRegressor?"
   ]
  },
  {
   "cell_type": "code",
   "execution_count": 26,
   "metadata": {},
   "outputs": [
    {
     "name": "stderr",
     "output_type": "stream",
     "text": [
      "Parameter tree_learner not set or set to incorrect value (None), using \"data\" as default\n",
      "distributed.nanny - WARNING - Restarting worker\n"
     ]
    },
    {
     "ename": "KeyError",
     "evalue": "'tcp://127.0.0.1:50552'",
     "output_type": "error",
     "traceback": [
      "\u001b[0;31m---------------------------------------------------------------------------\u001b[0m",
      "\u001b[0;31mKeyError\u001b[0m                                  Traceback (most recent call last)",
      "\u001b[0;32m<timed exec>\u001b[0m in \u001b[0;36m<module>\u001b[0;34m\u001b[0m\n",
      "\u001b[0;32m~/miniconda3/envs/dkdc/lib/python3.8/site-packages/dask_lightgbm/core.py\u001b[0m in \u001b[0;36mfit\u001b[0;34m(self, X, y, sample_weight, client, **kwargs)\u001b[0m\n\u001b[1;32m    219\u001b[0m         \u001b[0mmodel_factory\u001b[0m \u001b[0;34m=\u001b[0m \u001b[0mlightgbm\u001b[0m\u001b[0;34m.\u001b[0m\u001b[0mLGBMRegressor\u001b[0m\u001b[0;34m\u001b[0m\u001b[0;34m\u001b[0m\u001b[0m\n\u001b[1;32m    220\u001b[0m         \u001b[0mparams\u001b[0m \u001b[0;34m=\u001b[0m \u001b[0mself\u001b[0m\u001b[0;34m.\u001b[0m\u001b[0mget_params\u001b[0m\u001b[0;34m(\u001b[0m\u001b[0;32mTrue\u001b[0m\u001b[0;34m)\u001b[0m\u001b[0;34m\u001b[0m\u001b[0;34m\u001b[0m\u001b[0m\n\u001b[0;32m--> 221\u001b[0;31m         \u001b[0mmodel\u001b[0m \u001b[0;34m=\u001b[0m \u001b[0mtrain\u001b[0m\u001b[0;34m(\u001b[0m\u001b[0mclient\u001b[0m\u001b[0;34m,\u001b[0m \u001b[0mX\u001b[0m\u001b[0;34m,\u001b[0m \u001b[0my\u001b[0m\u001b[0;34m,\u001b[0m \u001b[0mparams\u001b[0m\u001b[0;34m,\u001b[0m \u001b[0mmodel_factory\u001b[0m\u001b[0;34m,\u001b[0m \u001b[0msample_weight\u001b[0m\u001b[0;34m,\u001b[0m \u001b[0;34m**\u001b[0m\u001b[0mkwargs\u001b[0m\u001b[0;34m)\u001b[0m\u001b[0;34m\u001b[0m\u001b[0;34m\u001b[0m\u001b[0m\n\u001b[0m\u001b[1;32m    222\u001b[0m \u001b[0;34m\u001b[0m\u001b[0m\n\u001b[1;32m    223\u001b[0m         \u001b[0mself\u001b[0m\u001b[0;34m.\u001b[0m\u001b[0mset_params\u001b[0m\u001b[0;34m(\u001b[0m\u001b[0;34m**\u001b[0m\u001b[0mmodel\u001b[0m\u001b[0;34m.\u001b[0m\u001b[0mget_params\u001b[0m\u001b[0;34m(\u001b[0m\u001b[0;34m)\u001b[0m\u001b[0;34m)\u001b[0m\u001b[0;34m\u001b[0m\u001b[0;34m\u001b[0m\u001b[0m\n",
      "\u001b[0;32m~/miniconda3/envs/dkdc/lib/python3.8/site-packages/dask_lightgbm/core.py\u001b[0m in \u001b[0;36mtrain\u001b[0;34m(client, data, label, params, model_factory, weight, **kwargs)\u001b[0m\n\u001b[1;32m    129\u001b[0m                            for worker, list_of_parts in worker_map.items()]\n\u001b[1;32m    130\u001b[0m \u001b[0;34m\u001b[0m\u001b[0m\n\u001b[0;32m--> 131\u001b[0;31m     \u001b[0mresults\u001b[0m \u001b[0;34m=\u001b[0m \u001b[0mclient\u001b[0m\u001b[0;34m.\u001b[0m\u001b[0mgather\u001b[0m\u001b[0;34m(\u001b[0m\u001b[0mfutures_classifiers\u001b[0m\u001b[0;34m)\u001b[0m\u001b[0;34m\u001b[0m\u001b[0;34m\u001b[0m\u001b[0m\n\u001b[0m\u001b[1;32m    132\u001b[0m     \u001b[0mresults\u001b[0m \u001b[0;34m=\u001b[0m \u001b[0;34m[\u001b[0m\u001b[0mv\u001b[0m \u001b[0;32mfor\u001b[0m \u001b[0mv\u001b[0m \u001b[0;32min\u001b[0m \u001b[0mresults\u001b[0m \u001b[0;32mif\u001b[0m \u001b[0mv\u001b[0m\u001b[0;34m]\u001b[0m\u001b[0;34m\u001b[0m\u001b[0;34m\u001b[0m\u001b[0m\n\u001b[1;32m    133\u001b[0m     \u001b[0;32mreturn\u001b[0m \u001b[0mresults\u001b[0m\u001b[0;34m[\u001b[0m\u001b[0;36m0\u001b[0m\u001b[0;34m]\u001b[0m\u001b[0;34m\u001b[0m\u001b[0;34m\u001b[0m\u001b[0m\n",
      "\u001b[0;32m~/miniconda3/envs/dkdc/lib/python3.8/site-packages/distributed/client.py\u001b[0m in \u001b[0;36mgather\u001b[0;34m(self, futures, errors, direct, asynchronous)\u001b[0m\n\u001b[1;32m   1984\u001b[0m             \u001b[0;32melse\u001b[0m\u001b[0;34m:\u001b[0m\u001b[0;34m\u001b[0m\u001b[0;34m\u001b[0m\u001b[0m\n\u001b[1;32m   1985\u001b[0m                 \u001b[0mlocal_worker\u001b[0m \u001b[0;34m=\u001b[0m \u001b[0;32mNone\u001b[0m\u001b[0;34m\u001b[0m\u001b[0;34m\u001b[0m\u001b[0m\n\u001b[0;32m-> 1986\u001b[0;31m             return self.sync(\n\u001b[0m\u001b[1;32m   1987\u001b[0m                 \u001b[0mself\u001b[0m\u001b[0;34m.\u001b[0m\u001b[0m_gather\u001b[0m\u001b[0;34m,\u001b[0m\u001b[0;34m\u001b[0m\u001b[0;34m\u001b[0m\u001b[0m\n\u001b[1;32m   1988\u001b[0m                 \u001b[0mfutures\u001b[0m\u001b[0;34m,\u001b[0m\u001b[0;34m\u001b[0m\u001b[0;34m\u001b[0m\u001b[0m\n",
      "\u001b[0;32m~/miniconda3/envs/dkdc/lib/python3.8/site-packages/distributed/client.py\u001b[0m in \u001b[0;36msync\u001b[0;34m(self, func, asynchronous, callback_timeout, *args, **kwargs)\u001b[0m\n\u001b[1;32m    830\u001b[0m             \u001b[0;32mreturn\u001b[0m \u001b[0mfuture\u001b[0m\u001b[0;34m\u001b[0m\u001b[0;34m\u001b[0m\u001b[0m\n\u001b[1;32m    831\u001b[0m         \u001b[0;32melse\u001b[0m\u001b[0;34m:\u001b[0m\u001b[0;34m\u001b[0m\u001b[0;34m\u001b[0m\u001b[0m\n\u001b[0;32m--> 832\u001b[0;31m             return sync(\n\u001b[0m\u001b[1;32m    833\u001b[0m                 \u001b[0mself\u001b[0m\u001b[0;34m.\u001b[0m\u001b[0mloop\u001b[0m\u001b[0;34m,\u001b[0m \u001b[0mfunc\u001b[0m\u001b[0;34m,\u001b[0m \u001b[0;34m*\u001b[0m\u001b[0margs\u001b[0m\u001b[0;34m,\u001b[0m \u001b[0mcallback_timeout\u001b[0m\u001b[0;34m=\u001b[0m\u001b[0mcallback_timeout\u001b[0m\u001b[0;34m,\u001b[0m \u001b[0;34m**\u001b[0m\u001b[0mkwargs\u001b[0m\u001b[0;34m\u001b[0m\u001b[0;34m\u001b[0m\u001b[0m\n\u001b[1;32m    834\u001b[0m             )\n",
      "\u001b[0;32m~/miniconda3/envs/dkdc/lib/python3.8/site-packages/distributed/utils.py\u001b[0m in \u001b[0;36msync\u001b[0;34m(loop, func, callback_timeout, *args, **kwargs)\u001b[0m\n\u001b[1;32m    338\u001b[0m     \u001b[0;32mif\u001b[0m \u001b[0merror\u001b[0m\u001b[0;34m[\u001b[0m\u001b[0;36m0\u001b[0m\u001b[0;34m]\u001b[0m\u001b[0;34m:\u001b[0m\u001b[0;34m\u001b[0m\u001b[0;34m\u001b[0m\u001b[0m\n\u001b[1;32m    339\u001b[0m         \u001b[0mtyp\u001b[0m\u001b[0;34m,\u001b[0m \u001b[0mexc\u001b[0m\u001b[0;34m,\u001b[0m \u001b[0mtb\u001b[0m \u001b[0;34m=\u001b[0m \u001b[0merror\u001b[0m\u001b[0;34m[\u001b[0m\u001b[0;36m0\u001b[0m\u001b[0;34m]\u001b[0m\u001b[0;34m\u001b[0m\u001b[0;34m\u001b[0m\u001b[0m\n\u001b[0;32m--> 340\u001b[0;31m         \u001b[0;32mraise\u001b[0m \u001b[0mexc\u001b[0m\u001b[0;34m.\u001b[0m\u001b[0mwith_traceback\u001b[0m\u001b[0;34m(\u001b[0m\u001b[0mtb\u001b[0m\u001b[0;34m)\u001b[0m\u001b[0;34m\u001b[0m\u001b[0;34m\u001b[0m\u001b[0m\n\u001b[0m\u001b[1;32m    341\u001b[0m     \u001b[0;32melse\u001b[0m\u001b[0;34m:\u001b[0m\u001b[0;34m\u001b[0m\u001b[0;34m\u001b[0m\u001b[0m\n\u001b[1;32m    342\u001b[0m         \u001b[0;32mreturn\u001b[0m \u001b[0mresult\u001b[0m\u001b[0;34m[\u001b[0m\u001b[0;36m0\u001b[0m\u001b[0;34m]\u001b[0m\u001b[0;34m\u001b[0m\u001b[0;34m\u001b[0m\u001b[0m\n",
      "\u001b[0;32m~/miniconda3/envs/dkdc/lib/python3.8/site-packages/distributed/utils.py\u001b[0m in \u001b[0;36mf\u001b[0;34m()\u001b[0m\n\u001b[1;32m    322\u001b[0m             \u001b[0;32mif\u001b[0m \u001b[0mcallback_timeout\u001b[0m \u001b[0;32mis\u001b[0m \u001b[0;32mnot\u001b[0m \u001b[0;32mNone\u001b[0m\u001b[0;34m:\u001b[0m\u001b[0;34m\u001b[0m\u001b[0;34m\u001b[0m\u001b[0m\n\u001b[1;32m    323\u001b[0m                 \u001b[0mfuture\u001b[0m \u001b[0;34m=\u001b[0m \u001b[0masyncio\u001b[0m\u001b[0;34m.\u001b[0m\u001b[0mwait_for\u001b[0m\u001b[0;34m(\u001b[0m\u001b[0mfuture\u001b[0m\u001b[0;34m,\u001b[0m \u001b[0mcallback_timeout\u001b[0m\u001b[0;34m)\u001b[0m\u001b[0;34m\u001b[0m\u001b[0;34m\u001b[0m\u001b[0m\n\u001b[0;32m--> 324\u001b[0;31m             \u001b[0mresult\u001b[0m\u001b[0;34m[\u001b[0m\u001b[0;36m0\u001b[0m\u001b[0;34m]\u001b[0m \u001b[0;34m=\u001b[0m \u001b[0;32myield\u001b[0m \u001b[0mfuture\u001b[0m\u001b[0;34m\u001b[0m\u001b[0;34m\u001b[0m\u001b[0m\n\u001b[0m\u001b[1;32m    325\u001b[0m         \u001b[0;32mexcept\u001b[0m \u001b[0mException\u001b[0m \u001b[0;32mas\u001b[0m \u001b[0mexc\u001b[0m\u001b[0;34m:\u001b[0m\u001b[0;34m\u001b[0m\u001b[0;34m\u001b[0m\u001b[0m\n\u001b[1;32m    326\u001b[0m             \u001b[0merror\u001b[0m\u001b[0;34m[\u001b[0m\u001b[0;36m0\u001b[0m\u001b[0;34m]\u001b[0m \u001b[0;34m=\u001b[0m \u001b[0msys\u001b[0m\u001b[0;34m.\u001b[0m\u001b[0mexc_info\u001b[0m\u001b[0;34m(\u001b[0m\u001b[0;34m)\u001b[0m\u001b[0;34m\u001b[0m\u001b[0;34m\u001b[0m\u001b[0m\n",
      "\u001b[0;32m~/miniconda3/envs/dkdc/lib/python3.8/site-packages/tornado/gen.py\u001b[0m in \u001b[0;36mrun\u001b[0;34m(self)\u001b[0m\n\u001b[1;32m    760\u001b[0m \u001b[0;34m\u001b[0m\u001b[0m\n\u001b[1;32m    761\u001b[0m                     \u001b[0;32mtry\u001b[0m\u001b[0;34m:\u001b[0m\u001b[0;34m\u001b[0m\u001b[0;34m\u001b[0m\u001b[0m\n\u001b[0;32m--> 762\u001b[0;31m                         \u001b[0mvalue\u001b[0m \u001b[0;34m=\u001b[0m \u001b[0mfuture\u001b[0m\u001b[0;34m.\u001b[0m\u001b[0mresult\u001b[0m\u001b[0;34m(\u001b[0m\u001b[0;34m)\u001b[0m\u001b[0;34m\u001b[0m\u001b[0;34m\u001b[0m\u001b[0m\n\u001b[0m\u001b[1;32m    763\u001b[0m                     \u001b[0;32mexcept\u001b[0m \u001b[0mException\u001b[0m\u001b[0;34m:\u001b[0m\u001b[0;34m\u001b[0m\u001b[0;34m\u001b[0m\u001b[0m\n\u001b[1;32m    764\u001b[0m                         \u001b[0mexc_info\u001b[0m \u001b[0;34m=\u001b[0m \u001b[0msys\u001b[0m\u001b[0;34m.\u001b[0m\u001b[0mexc_info\u001b[0m\u001b[0;34m(\u001b[0m\u001b[0;34m)\u001b[0m\u001b[0;34m\u001b[0m\u001b[0;34m\u001b[0m\u001b[0m\n",
      "\u001b[0;32m~/miniconda3/envs/dkdc/lib/python3.8/site-packages/distributed/client.py\u001b[0m in \u001b[0;36m_gather\u001b[0;34m(self, futures, errors, direct, local_worker)\u001b[0m\n\u001b[1;32m   1849\u001b[0m                             \u001b[0mexc\u001b[0m \u001b[0;34m=\u001b[0m \u001b[0mCancelledError\u001b[0m\u001b[0;34m(\u001b[0m\u001b[0mkey\u001b[0m\u001b[0;34m)\u001b[0m\u001b[0;34m\u001b[0m\u001b[0;34m\u001b[0m\u001b[0m\n\u001b[1;32m   1850\u001b[0m                         \u001b[0;32melse\u001b[0m\u001b[0;34m:\u001b[0m\u001b[0;34m\u001b[0m\u001b[0;34m\u001b[0m\u001b[0m\n\u001b[0;32m-> 1851\u001b[0;31m                             \u001b[0;32mraise\u001b[0m \u001b[0mexception\u001b[0m\u001b[0;34m.\u001b[0m\u001b[0mwith_traceback\u001b[0m\u001b[0;34m(\u001b[0m\u001b[0mtraceback\u001b[0m\u001b[0;34m)\u001b[0m\u001b[0;34m\u001b[0m\u001b[0;34m\u001b[0m\u001b[0m\n\u001b[0m\u001b[1;32m   1852\u001b[0m                         \u001b[0;32mraise\u001b[0m \u001b[0mexc\u001b[0m\u001b[0;34m\u001b[0m\u001b[0;34m\u001b[0m\u001b[0m\n\u001b[1;32m   1853\u001b[0m                     \u001b[0;32mif\u001b[0m \u001b[0merrors\u001b[0m \u001b[0;34m==\u001b[0m \u001b[0;34m\"skip\"\u001b[0m\u001b[0;34m:\u001b[0m\u001b[0;34m\u001b[0m\u001b[0;34m\u001b[0m\u001b[0m\n",
      "\u001b[0;32m~/miniconda3/envs/dkdc/lib/python3.8/site-packages/dask_lightgbm/core.py\u001b[0m in \u001b[0;36m_train_part\u001b[0;34m()\u001b[0m\n\u001b[1;32m     58\u001b[0m                 time_out=120, **kwargs):\n\u001b[1;32m     59\u001b[0m \u001b[0;34m\u001b[0m\u001b[0m\n\u001b[0;32m---> 60\u001b[0;31m     \u001b[0mnetwork_params\u001b[0m \u001b[0;34m=\u001b[0m \u001b[0mbuild_network_params\u001b[0m\u001b[0;34m(\u001b[0m\u001b[0mworker_addresses\u001b[0m\u001b[0;34m,\u001b[0m \u001b[0mget_worker\u001b[0m\u001b[0;34m(\u001b[0m\u001b[0;34m)\u001b[0m\u001b[0;34m.\u001b[0m\u001b[0maddress\u001b[0m\u001b[0;34m,\u001b[0m \u001b[0mlocal_listen_port\u001b[0m\u001b[0;34m,\u001b[0m \u001b[0mtime_out\u001b[0m\u001b[0;34m)\u001b[0m\u001b[0;34m\u001b[0m\u001b[0;34m\u001b[0m\u001b[0m\n\u001b[0m\u001b[1;32m     61\u001b[0m     \u001b[0mparams\u001b[0m\u001b[0;34m.\u001b[0m\u001b[0mupdate\u001b[0m\u001b[0;34m(\u001b[0m\u001b[0mnetwork_params\u001b[0m\u001b[0;34m)\u001b[0m\u001b[0;34m\u001b[0m\u001b[0;34m\u001b[0m\u001b[0m\n\u001b[1;32m     62\u001b[0m \u001b[0;34m\u001b[0m\u001b[0m\n",
      "\u001b[0;32m~/miniconda3/envs/dkdc/lib/python3.8/site-packages/dask_lightgbm/core.py\u001b[0m in \u001b[0;36mbuild_network_params\u001b[0;34m()\u001b[0m\n\u001b[1;32m     34\u001b[0m     params = {\n\u001b[1;32m     35\u001b[0m         \u001b[0;34m'machines'\u001b[0m\u001b[0;34m:\u001b[0m \u001b[0;34m','\u001b[0m\u001b[0;34m.\u001b[0m\u001b[0mjoin\u001b[0m\u001b[0;34m(\u001b[0m\u001b[0;34mf'{parse_host_port(addr)[0]}:{port}'\u001b[0m \u001b[0;32mfor\u001b[0m \u001b[0maddr\u001b[0m\u001b[0;34m,\u001b[0m \u001b[0mport\u001b[0m \u001b[0;32min\u001b[0m \u001b[0maddr_port_map\u001b[0m\u001b[0;34m.\u001b[0m\u001b[0mitems\u001b[0m\u001b[0;34m(\u001b[0m\u001b[0;34m)\u001b[0m\u001b[0;34m)\u001b[0m\u001b[0;34m,\u001b[0m\u001b[0;34m\u001b[0m\u001b[0;34m\u001b[0m\u001b[0m\n\u001b[0;32m---> 36\u001b[0;31m         \u001b[0;34m'local_listen_port'\u001b[0m\u001b[0;34m:\u001b[0m \u001b[0maddr_port_map\u001b[0m\u001b[0;34m[\u001b[0m\u001b[0mlocal_worker_ip\u001b[0m\u001b[0;34m]\u001b[0m\u001b[0;34m,\u001b[0m\u001b[0;34m\u001b[0m\u001b[0;34m\u001b[0m\u001b[0m\n\u001b[0m\u001b[1;32m     37\u001b[0m         \u001b[0;34m'time_out'\u001b[0m\u001b[0;34m:\u001b[0m \u001b[0mtime_out\u001b[0m\u001b[0;34m,\u001b[0m\u001b[0;34m\u001b[0m\u001b[0;34m\u001b[0m\u001b[0m\n\u001b[1;32m     38\u001b[0m         \u001b[0;34m'num_machines'\u001b[0m\u001b[0;34m:\u001b[0m \u001b[0mlen\u001b[0m\u001b[0;34m(\u001b[0m\u001b[0maddr_port_map\u001b[0m\u001b[0;34m)\u001b[0m\u001b[0;34m\u001b[0m\u001b[0;34m\u001b[0m\u001b[0m\n",
      "\u001b[0;31mKeyError\u001b[0m: 'tcp://127.0.0.1:50552'"
     ]
    }
   ],
   "source": [
    "%%time\n",
    "model = LGBMRegressor(**params)\n",
    "model.fit(X, y)"
   ]
  },
  {
   "cell_type": "markdown",
   "metadata": {},
   "source": [
    "## Save model\n",
    "\n",
    "Optionally, save the model."
   ]
  },
  {
   "cell_type": "code",
   "execution_count": null,
   "metadata": {},
   "outputs": [],
   "source": [
    "model"
   ]
  },
  {
   "cell_type": "code",
   "execution_count": null,
   "metadata": {},
   "outputs": [],
   "source": [
    "model[\"booster\"].save_model(\"xgboost.model\")"
   ]
  }
 ],
 "metadata": {
  "kernelspec": {
   "display_name": "Python 3.8",
   "language": "python",
   "name": "python3.8"
  },
  "language_info": {
   "codemirror_mode": {
    "name": "ipython",
    "version": 3
   },
   "file_extension": ".py",
   "mimetype": "text/x-python",
   "name": "python",
   "nbconvert_exporter": "python",
   "pygments_lexer": "ipython3",
   "version": "3.8.6-final"
  }
 },
 "nbformat": 4,
 "nbformat_minor": 4
}