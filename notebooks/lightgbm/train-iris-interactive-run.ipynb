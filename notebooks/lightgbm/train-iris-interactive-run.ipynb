{
 "cells": [
  {
   "cell_type": "markdown",
   "metadata": {},
   "source": [
    "# Train with LightGBM in an Interactive Run\n",
    "description: train a lightgbm model on iris data in an interactive run"
   ]
  },
  {
   "cell_type": "markdown",
   "metadata": {},
   "source": [
    "This notebook is created to demonstrate how to run an experiment with all codes in a single Jupyter notebook instead of separatly creating and calling `train.py`. Although it is recommended to maintain `train.py` separatly, the way of running an experiment presented in this notebook would be useful in a very early stage of development. "
   ]
  },
  {
   "cell_type": "code",
   "execution_count": null,
   "metadata": {},
   "outputs": [],
   "source": [
    "%pip install -U lightgbm scikit-learn"
   ]
  },
  {
   "cell_type": "code",
   "execution_count": null,
   "metadata": {},
   "outputs": [],
   "source": [
    "from azureml.core import Workspace\n",
    "\n",
    "ws = Workspace.from_config()\n",
    "ws"
   ]
  },
  {
   "cell_type": "code",
   "execution_count": null,
   "metadata": {},
   "outputs": [],
   "source": [
    "from sklearn import datasets\n",
    "from sklearn.model_selection import train_test_split\n",
    "import lightgbm as lgb\n",
    "\n",
    "# prepare train and test data\n",
    "iris = datasets.load_iris()\n",
    "X = iris.data\n",
    "y = iris.target\n",
    "X_train, X_test, y_train, y_test = train_test_split(\n",
    "    X, y, test_size=0.2, random_state=42\n",
    ")\n",
    "train_set = lgb.Dataset(X_train, label=y_train)"
   ]
  },
  {
   "cell_type": "code",
   "execution_count": null,
   "metadata": {},
   "outputs": [],
   "source": [
    "from sklearn.metrics import accuracy_score, log_loss\n",
    "from azureml.core import Experiment\n",
    "from azureml.widgets import RunDetails\n",
    "\n",
    "# create an experiment\n",
    "exp = Experiment(ws, \"lightgbm-iris-interactive-example\")\n",
    "\n",
    "# start an interactive run in the experiment\n",
    "run = exp.start_logging()\n",
    "RunDetails(run).show()"
   ]
  },
  {
   "cell_type": "code",
   "execution_count": null,
   "metadata": {},
   "outputs": [],
   "source": [
    "# train model\n",
    "metric_name, train_set_name = \"multi_logloss\", \"train\"\n",
    "metric_values = {}\n",
    "\n",
    "params = {\n",
    "    \"objective\": \"multiclass\",\n",
    "    \"num_class\": 3,\n",
    "    \"learning_rate\": 0.1,\n",
    "    \"metric\": metric_name,\n",
    "    \"colsample_bytree\": 1.0,\n",
    "    \"subsample\": 1.0,\n",
    "    \"seed\": 42,\n",
    "}\n",
    "model = lgb.train(\n",
    "    params,\n",
    "    train_set,\n",
    "    num_boost_round=10,\n",
    "    valid_sets=[train_set],\n",
    "    valid_names=[train_set_name],\n",
    "    evals_result=metric_values,\n",
    ")\n",
    "\n",
    "# log metrics from training\n",
    "run.log_list(metric_name, metric_values[train_set_name][metric_name])\n",
    "\n",
    "# evaluate model\n",
    "y_proba = model.predict(X_test)\n",
    "y_pred = y_proba.argmax(axis=1)\n",
    "loss = log_loss(y_test, y_proba)\n",
    "acc = accuracy_score(y_test, y_pred)\n",
    "\n",
    "# log metrics from evaluation\n",
    "run.log(\"log_loss\", loss)\n",
    "run.log(\"accuracy\", acc)\n",
    "\n",
    "# complete the interactive run\n",
    "run.complete()"
   ]
  }
 ],
 "metadata": {
  "kernelspec": {
   "display_name": "Python 3.8",
   "language": "python",
   "name": "python3.8"
  },
  "language_info": {
   "codemirror_mode": {
    "name": "ipython",
    "version": 3
   },
   "file_extension": ".py",
   "mimetype": "text/x-python",
   "name": "python",
   "nbconvert_exporter": "python",
   "pygments_lexer": "ipython3",
   "version": "3.8.5"
  }
 },
 "nbformat": 4,
 "nbformat_minor": 2
}
